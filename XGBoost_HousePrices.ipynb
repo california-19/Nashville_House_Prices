{
 "cells": [
  {
   "cell_type": "markdown",
   "metadata": {
    "slideshow": {
     "slide_type": "slide"
    }
   },
   "source": [
    "# Nashville Home Price Prediction"
   ]
  },
  {
   "cell_type": "markdown",
   "metadata": {},
   "source": [
    "## Don't be like Zillow!!\n",
    "- 2,000 employees losing their jobs, \n",
    "- $304 million third quarter write-down\n",
    "- A spiraling stock price"
   ]
  },
  {
   "cell_type": "markdown",
   "metadata": {},
   "source": [
    " It is a warning sign to other businesses  \n",
    " Zillow blamed the failure on “Black Swan events” — the pandemic or unprecedented labor."
   ]
  },
  {
   "cell_type": "markdown",
   "metadata": {},
   "source": [
    "__Business Problem__  \n",
    "- Predicting house prices in Nashville area will help real estate agents navigate under uncertain conditions.  \n",
    "- There is a need and demand for a predictive model.  \n",
    "- This will be a supervised machine learning model, which means that prior data will be utilized in building the model.  \n",
    "\n",
    "__Business Objective__  \n",
    "- Build a model to accurately predict house prices with the available dataset."
   ]
  },
  {
   "cell_type": "markdown",
   "metadata": {
    "slideshow": {
     "slide_type": "fragment"
    }
   },
   "source": [
    "This is a dataset from Kaggle. House sale prices from 2013 to 2016. Although I will leave a time for questions at the end, feel free to interrupt for questions."
   ]
  },
  {
   "cell_type": "code",
   "execution_count": 2,
   "metadata": {
    "slideshow": {
     "slide_type": "slide"
    }
   },
   "outputs": [],
   "source": [
    "# We start with importing the basics packages\n",
    "import pandas as pd\n",
    "import numpy as np\n",
    "import math\n",
    "import matplotlib.pyplot as plt\n",
    "import seaborn as sns"
   ]
  },
  {
   "cell_type": "code",
   "execution_count": 3,
   "metadata": {
    "slideshow": {
     "slide_type": "slide"
    }
   },
   "outputs": [],
   "source": [
    "# From scikit learn, more stuff to import\n",
    "from sklearn.model_selection import GridSearchCV"
   ]
  },
  {
   "cell_type": "code",
   "execution_count": 4,
   "metadata": {
    "slideshow": {
     "slide_type": "slide"
    }
   },
   "outputs": [
    {
     "data": {
      "text/html": [
       "<div>\n",
       "<style scoped>\n",
       "    .dataframe tbody tr th:only-of-type {\n",
       "        vertical-align: middle;\n",
       "    }\n",
       "\n",
       "    .dataframe tbody tr th {\n",
       "        vertical-align: top;\n",
       "    }\n",
       "\n",
       "    .dataframe thead th {\n",
       "        text-align: right;\n",
       "    }\n",
       "</style>\n",
       "<table border=\"1\" class=\"dataframe\">\n",
       "  <thead>\n",
       "    <tr style=\"text-align: right;\">\n",
       "      <th></th>\n",
       "      <th>Unnamed: 0</th>\n",
       "      <th>Unnamed: 0.1</th>\n",
       "      <th>Parcel ID</th>\n",
       "      <th>Land Use</th>\n",
       "      <th>Property Address</th>\n",
       "      <th>Suite/ Condo   #</th>\n",
       "      <th>Property City</th>\n",
       "      <th>Sale Date</th>\n",
       "      <th>Sale Price</th>\n",
       "      <th>Legal Reference</th>\n",
       "      <th>...</th>\n",
       "      <th>Building Value</th>\n",
       "      <th>Total Value</th>\n",
       "      <th>Finished Area</th>\n",
       "      <th>Foundation Type</th>\n",
       "      <th>Year Built</th>\n",
       "      <th>Exterior Wall</th>\n",
       "      <th>Grade</th>\n",
       "      <th>Bedrooms</th>\n",
       "      <th>Full Bath</th>\n",
       "      <th>Half Bath</th>\n",
       "    </tr>\n",
       "  </thead>\n",
       "  <tbody>\n",
       "    <tr>\n",
       "      <th>0</th>\n",
       "      <td>0</td>\n",
       "      <td>0</td>\n",
       "      <td>105 03 0D 008.00</td>\n",
       "      <td>RESIDENTIAL CONDO</td>\n",
       "      <td>1208  3RD AVE S</td>\n",
       "      <td>8</td>\n",
       "      <td>NASHVILLE</td>\n",
       "      <td>1/24/13</td>\n",
       "      <td>132000</td>\n",
       "      <td>20130128-0008725</td>\n",
       "      <td>...</td>\n",
       "      <td>NaN</td>\n",
       "      <td>NaN</td>\n",
       "      <td>NaN</td>\n",
       "      <td>NaN</td>\n",
       "      <td>NaN</td>\n",
       "      <td>NaN</td>\n",
       "      <td>NaN</td>\n",
       "      <td>NaN</td>\n",
       "      <td>NaN</td>\n",
       "      <td>NaN</td>\n",
       "    </tr>\n",
       "    <tr>\n",
       "      <th>1</th>\n",
       "      <td>1</td>\n",
       "      <td>1</td>\n",
       "      <td>105 11 0 080.00</td>\n",
       "      <td>SINGLE FAMILY</td>\n",
       "      <td>1802  STEWART PL</td>\n",
       "      <td>NaN</td>\n",
       "      <td>NASHVILLE</td>\n",
       "      <td>1/11/13</td>\n",
       "      <td>191500</td>\n",
       "      <td>20130118-0006337</td>\n",
       "      <td>...</td>\n",
       "      <td>134400.0</td>\n",
       "      <td>168300.0</td>\n",
       "      <td>1149.00000</td>\n",
       "      <td>PT BSMT</td>\n",
       "      <td>1941.0</td>\n",
       "      <td>BRICK</td>\n",
       "      <td>C</td>\n",
       "      <td>2.0</td>\n",
       "      <td>1.0</td>\n",
       "      <td>0.0</td>\n",
       "    </tr>\n",
       "    <tr>\n",
       "      <th>2</th>\n",
       "      <td>2</td>\n",
       "      <td>2</td>\n",
       "      <td>118 03 0 130.00</td>\n",
       "      <td>SINGLE FAMILY</td>\n",
       "      <td>2761  ROSEDALE PL</td>\n",
       "      <td>NaN</td>\n",
       "      <td>NASHVILLE</td>\n",
       "      <td>1/18/13</td>\n",
       "      <td>202000</td>\n",
       "      <td>20130124-0008033</td>\n",
       "      <td>...</td>\n",
       "      <td>157800.0</td>\n",
       "      <td>191800.0</td>\n",
       "      <td>2090.82495</td>\n",
       "      <td>SLAB</td>\n",
       "      <td>2000.0</td>\n",
       "      <td>BRICK/FRAME</td>\n",
       "      <td>C</td>\n",
       "      <td>3.0</td>\n",
       "      <td>2.0</td>\n",
       "      <td>1.0</td>\n",
       "    </tr>\n",
       "    <tr>\n",
       "      <th>3</th>\n",
       "      <td>3</td>\n",
       "      <td>3</td>\n",
       "      <td>119 01 0 479.00</td>\n",
       "      <td>SINGLE FAMILY</td>\n",
       "      <td>224  PEACHTREE ST</td>\n",
       "      <td>NaN</td>\n",
       "      <td>NASHVILLE</td>\n",
       "      <td>1/18/13</td>\n",
       "      <td>32000</td>\n",
       "      <td>20130128-0008863</td>\n",
       "      <td>...</td>\n",
       "      <td>243700.0</td>\n",
       "      <td>268700.0</td>\n",
       "      <td>2145.60001</td>\n",
       "      <td>FULL BSMT</td>\n",
       "      <td>1948.0</td>\n",
       "      <td>BRICK/FRAME</td>\n",
       "      <td>B</td>\n",
       "      <td>4.0</td>\n",
       "      <td>2.0</td>\n",
       "      <td>0.0</td>\n",
       "    </tr>\n",
       "    <tr>\n",
       "      <th>4</th>\n",
       "      <td>4</td>\n",
       "      <td>4</td>\n",
       "      <td>119 05 0 186.00</td>\n",
       "      <td>SINGLE FAMILY</td>\n",
       "      <td>316  LUTIE ST</td>\n",
       "      <td>NaN</td>\n",
       "      <td>NASHVILLE</td>\n",
       "      <td>1/23/13</td>\n",
       "      <td>102000</td>\n",
       "      <td>20130131-0009929</td>\n",
       "      <td>...</td>\n",
       "      <td>138100.0</td>\n",
       "      <td>164800.0</td>\n",
       "      <td>1969.00000</td>\n",
       "      <td>CRAWL</td>\n",
       "      <td>1910.0</td>\n",
       "      <td>FRAME</td>\n",
       "      <td>C</td>\n",
       "      <td>2.0</td>\n",
       "      <td>1.0</td>\n",
       "      <td>0.0</td>\n",
       "    </tr>\n",
       "  </tbody>\n",
       "</table>\n",
       "<p>5 rows × 31 columns</p>\n",
       "</div>"
      ],
      "text/plain": [
       "   Unnamed: 0  Unnamed: 0.1         Parcel ID           Land Use  \\\n",
       "0           0             0  105 03 0D 008.00  RESIDENTIAL CONDO   \n",
       "1           1             1   105 11 0 080.00      SINGLE FAMILY   \n",
       "2           2             2   118 03 0 130.00      SINGLE FAMILY   \n",
       "3           3             3   119 01 0 479.00      SINGLE FAMILY   \n",
       "4           4             4   119 05 0 186.00      SINGLE FAMILY   \n",
       "\n",
       "    Property Address Suite/ Condo   # Property City Sale Date  Sale Price  \\\n",
       "0    1208  3RD AVE S                8     NASHVILLE   1/24/13      132000   \n",
       "1   1802  STEWART PL              NaN     NASHVILLE   1/11/13      191500   \n",
       "2  2761  ROSEDALE PL              NaN     NASHVILLE   1/18/13      202000   \n",
       "3  224  PEACHTREE ST              NaN     NASHVILLE   1/18/13       32000   \n",
       "4      316  LUTIE ST              NaN     NASHVILLE   1/23/13      102000   \n",
       "\n",
       "    Legal Reference  ... Building Value Total Value Finished Area  \\\n",
       "0  20130128-0008725  ...            NaN         NaN           NaN   \n",
       "1  20130118-0006337  ...       134400.0    168300.0    1149.00000   \n",
       "2  20130124-0008033  ...       157800.0    191800.0    2090.82495   \n",
       "3  20130128-0008863  ...       243700.0    268700.0    2145.60001   \n",
       "4  20130131-0009929  ...       138100.0    164800.0    1969.00000   \n",
       "\n",
       "  Foundation Type Year Built Exterior Wall  Grade Bedrooms  Full Bath  \\\n",
       "0             NaN        NaN           NaN    NaN      NaN        NaN   \n",
       "1         PT BSMT     1941.0         BRICK   C         2.0        1.0   \n",
       "2            SLAB     2000.0   BRICK/FRAME   C         3.0        2.0   \n",
       "3       FULL BSMT     1948.0   BRICK/FRAME   B         4.0        2.0   \n",
       "4           CRAWL     1910.0         FRAME   C         2.0        1.0   \n",
       "\n",
       "  Half Bath  \n",
       "0       NaN  \n",
       "1       0.0  \n",
       "2       1.0  \n",
       "3       0.0  \n",
       "4       0.0  \n",
       "\n",
       "[5 rows x 31 columns]"
      ]
     },
     "execution_count": 4,
     "metadata": {},
     "output_type": "execute_result"
    }
   ],
   "source": [
    "# Let's load and see the data\n",
    "df = pd.read_csv('Nashville.csv')\n",
    "df.head()"
   ]
  },
  {
   "cell_type": "markdown",
   "metadata": {
    "slideshow": {
     "slide_type": "slide"
    }
   },
   "source": [
    "## Understanding the Data"
   ]
  },
  {
   "cell_type": "code",
   "execution_count": 5,
   "metadata": {
    "slideshow": {
     "slide_type": "fragment"
    }
   },
   "outputs": [
    {
     "data": {
      "text/plain": [
       "(56636, 31)"
      ]
     },
     "execution_count": 5,
     "metadata": {},
     "output_type": "execute_result"
    }
   ],
   "source": [
    "df.shape"
   ]
  },
  {
   "cell_type": "markdown",
   "metadata": {
    "slideshow": {
     "slide_type": "fragment"
    }
   },
   "source": [
    "We have a good number of entries but we will have the missing value problem, which is coming up soon. The missing value problem was given in the source of the dataset."
   ]
  },
  {
   "cell_type": "code",
   "execution_count": 6,
   "metadata": {
    "slideshow": {
     "slide_type": "slide"
    }
   },
   "outputs": [
    {
     "data": {
      "text/plain": [
       "Unnamed: 0                             int64\n",
       "Unnamed: 0.1                           int64\n",
       "Parcel ID                             object\n",
       "Land Use                              object\n",
       "Property Address                      object\n",
       "Suite/ Condo   #                      object\n",
       "Property City                         object\n",
       "Sale Date                             object\n",
       "Sale Price                             int64\n",
       "Legal Reference                       object\n",
       "Sold As Vacant                        object\n",
       "Multiple Parcels Involved in Sale     object\n",
       "Owner Name                            object\n",
       "Address                               object\n",
       "City                                  object\n",
       "State                                 object\n",
       "Acreage                              float64\n",
       "Tax District                          object\n",
       "Neighborhood                         float64\n",
       "image                                 object\n",
       "Land Value                           float64\n",
       "Building Value                       float64\n",
       "Total Value                          float64\n",
       "Finished Area                        float64\n",
       "Foundation Type                       object\n",
       "Year Built                           float64\n",
       "Exterior Wall                         object\n",
       "Grade                                 object\n",
       "Bedrooms                             float64\n",
       "Full Bath                            float64\n",
       "Half Bath                            float64\n",
       "dtype: object"
      ]
     },
     "execution_count": 6,
     "metadata": {},
     "output_type": "execute_result"
    }
   ],
   "source": [
    "# Let's start with data types\n",
    "df.dtypes"
   ]
  },
  {
   "cell_type": "markdown",
   "metadata": {
    "slideshow": {
     "slide_type": "slide"
    }
   },
   "source": [
    "Objects are strings or a mix of numbers and strings. We have to check each one of them one by one."
   ]
  },
  {
   "cell_type": "markdown",
   "metadata": {
    "slideshow": {
     "slide_type": "slide"
    }
   },
   "source": [
    "### Missing Values"
   ]
  },
  {
   "cell_type": "code",
   "execution_count": 7,
   "metadata": {
    "slideshow": {
     "slide_type": "slide"
    }
   },
   "outputs": [
    {
     "data": {
      "text/plain": [
       "Unnamed: 0                               0\n",
       "Unnamed: 0.1                             0\n",
       "Parcel ID                                0\n",
       "Land Use                                 0\n",
       "Property Address                       159\n",
       "Suite/ Condo   #                     50527\n",
       "Property City                          159\n",
       "Sale Date                                0\n",
       "Sale Price                               0\n",
       "Legal Reference                          0\n",
       "Sold As Vacant                           0\n",
       "Multiple Parcels Involved in Sale        0\n",
       "Owner Name                           31375\n",
       "Address                              30619\n",
       "City                                 30619\n",
       "State                                30619\n",
       "Acreage                              30619\n",
       "Tax District                         30619\n",
       "Neighborhood                         30619\n",
       "image                                31301\n",
       "Land Value                           30619\n",
       "Building Value                       30619\n",
       "Total Value                          30619\n",
       "Finished Area                        32470\n",
       "Foundation Type                      32472\n",
       "Year Built                           32471\n",
       "Exterior Wall                        32471\n",
       "Grade                                32471\n",
       "Bedrooms                             32477\n",
       "Full Bath                            32359\n",
       "Half Bath                            32490\n",
       "dtype: int64"
      ]
     },
     "execution_count": 7,
     "metadata": {},
     "output_type": "execute_result"
    }
   ],
   "source": [
    "df.isna().sum()"
   ]
  },
  {
   "cell_type": "markdown",
   "metadata": {
    "slideshow": {
     "slide_type": "slide"
    }
   },
   "source": [
    "The number of missing values in multiple columns is the same. Probably those entries are missing the same features."
   ]
  },
  {
   "cell_type": "code",
   "execution_count": 8,
   "metadata": {
    "slideshow": {
     "slide_type": "slide"
    }
   },
   "outputs": [
    {
     "name": "stdout",
     "output_type": "stream",
     "text": [
      "30619\n"
     ]
    }
   ],
   "source": [
    "# Some features have 30619 missing values. Let me check when Address is missing, if City is missing too. \n",
    "# This is probably true, but better check it.\n",
    "total = 0\n",
    "for i in df.index:\n",
    "    if pd.isna(df['Address'][i]):\n",
    "        if pd.isna(df['City'][i]):\n",
    "            total += 1\n",
    "print(total)"
   ]
  },
  {
   "cell_type": "markdown",
   "metadata": {
    "slideshow": {
     "slide_type": "fragment"
    }
   },
   "source": [
    "Let's get rid of these 30619 entries first. The missing values are in columns that determine the value of a house. Therefore, there is no point of keeping them."
   ]
  },
  {
   "cell_type": "code",
   "execution_count": 9,
   "metadata": {
    "slideshow": {
     "slide_type": "fragment"
    }
   },
   "outputs": [
    {
     "data": {
      "text/plain": [
       "Unnamed: 0                               0\n",
       "Unnamed: 0.1                             0\n",
       "Parcel ID                                0\n",
       "Land Use                                 0\n",
       "Property Address                         2\n",
       "Suite/ Condo   #                     26015\n",
       "Property City                            2\n",
       "Sale Date                                0\n",
       "Sale Price                               0\n",
       "Legal Reference                          0\n",
       "Sold As Vacant                           0\n",
       "Multiple Parcels Involved in Sale        0\n",
       "Owner Name                             756\n",
       "Address                                  0\n",
       "City                                     0\n",
       "State                                    0\n",
       "Acreage                                  0\n",
       "Tax District                             0\n",
       "Neighborhood                             0\n",
       "image                                  682\n",
       "Land Value                               0\n",
       "Building Value                           0\n",
       "Total Value                              0\n",
       "Finished Area                         1851\n",
       "Foundation Type                       1853\n",
       "Year Built                            1852\n",
       "Exterior Wall                         1852\n",
       "Grade                                 1852\n",
       "Bedrooms                              1858\n",
       "Full Bath                             1740\n",
       "Half Bath                             1871\n",
       "dtype: int64"
      ]
     },
     "execution_count": 9,
     "metadata": {},
     "output_type": "execute_result"
    }
   ],
   "source": [
    "df.dropna(subset = ['Address'], inplace = True)\n",
    "df.isna().sum()"
   ]
  },
  {
   "cell_type": "code",
   "execution_count": 10,
   "metadata": {
    "slideshow": {
     "slide_type": "slide"
    }
   },
   "outputs": [
    {
     "data": {
      "text/plain": [
       "(26017, 31)"
      ]
     },
     "execution_count": 10,
     "metadata": {},
     "output_type": "execute_result"
    }
   ],
   "source": [
    "df.shape"
   ]
  },
  {
   "cell_type": "markdown",
   "metadata": {
    "slideshow": {
     "slide_type": "fragment"
    }
   },
   "source": [
    "We lost a lot of data but this was expected. We still have more than 26000 which is still plenty. Let's analyze that one now."
   ]
  },
  {
   "cell_type": "markdown",
   "metadata": {
    "slideshow": {
     "slide_type": "slide"
    }
   },
   "source": [
    "### Features"
   ]
  },
  {
   "cell_type": "markdown",
   "metadata": {
    "slideshow": {
     "slide_type": "fragment"
    }
   },
   "source": [
    "Address and state are not be important, address is unique to every house and state is the same for entry. But city, acreage, tax district are all important. The only state is Tennessee. Let's look at these variables more closely."
   ]
  },
  {
   "cell_type": "code",
   "execution_count": 11,
   "metadata": {
    "slideshow": {
     "slide_type": "fragment"
    }
   },
   "outputs": [
    {
     "name": "stdout",
     "output_type": "stream",
     "text": [
      "TN    26017\n",
      "Name: State, dtype: int64\n",
      "26017\n"
     ]
    }
   ],
   "source": [
    "print(df['State'].value_counts())\n",
    "print(df.shape[0])"
   ]
  },
  {
   "cell_type": "code",
   "execution_count": 12,
   "metadata": {
    "slideshow": {
     "slide_type": "fragment"
    }
   },
   "outputs": [],
   "source": [
    "df.drop(columns = 'State', axis = 1, inplace = True)"
   ]
  },
  {
   "cell_type": "code",
   "execution_count": 13,
   "metadata": {
    "slideshow": {
     "slide_type": "slide"
    }
   },
   "outputs": [
    {
     "data": {
      "text/plain": [
       "URBAN SERVICES DISTRICT      20026\n",
       "GENERAL SERVICES DISTRICT     4556\n",
       "CITY OF FOREST HILLS           407\n",
       "CITY OF OAK HILL               393\n",
       "CITY OF GOODLETTSVILLE         379\n",
       "CITY OF BELLE MEADE            235\n",
       "CITY OF BERRY HILL              21\n",
       "Name: Tax District, dtype: int64"
      ]
     },
     "execution_count": 13,
     "metadata": {},
     "output_type": "execute_result"
    }
   ],
   "source": [
    "df['Tax District'].value_counts()"
   ]
  },
  {
   "cell_type": "code",
   "execution_count": 14,
   "metadata": {
    "slideshow": {
     "slide_type": "skip"
    }
   },
   "outputs": [
    {
     "data": {
      "text/plain": [
       "Index(['Unnamed: 0', 'Unnamed: 0.1', 'Parcel ID', 'Land Use',\n",
       "       'Property Address', 'Suite/ Condo   #', 'Property City', 'Sale Date',\n",
       "       'Sale Price', 'Legal Reference', 'Sold As Vacant',\n",
       "       'Multiple Parcels Involved in Sale', 'Owner Name', 'Address', 'City',\n",
       "       'Acreage', 'Tax District', 'Neighborhood', 'image', 'Land Value',\n",
       "       'Building Value', 'Total Value', 'Finished Area', 'Foundation Type',\n",
       "       'Year Built', 'Exterior Wall', 'Grade', 'Bedrooms', 'Full Bath',\n",
       "       'Half Bath'],\n",
       "      dtype='object')"
      ]
     },
     "execution_count": 14,
     "metadata": {},
     "output_type": "execute_result"
    }
   ],
   "source": [
    "df.columns"
   ]
  },
  {
   "cell_type": "code",
   "execution_count": 15,
   "metadata": {
    "slideshow": {
     "slide_type": "slide"
    }
   },
   "outputs": [
    {
     "data": {
      "text/plain": [
       "SINGLE FAMILY                                 21877\n",
       "DUPLEX                                         1253\n",
       "VACANT RESIDENTIAL LAND                        1245\n",
       "ZERO LOT LINE                                   845\n",
       "VACANT RES LAND                                 445\n",
       "TRIPLEX                                          84\n",
       "RESIDENTIAL COMBO/MISC                           76\n",
       "QUADPLEX                                         36\n",
       "CHURCH                                           32\n",
       "MOBILE HOME                                      20\n",
       "DORMITORY/BOARDING HOUSE                         16\n",
       "SPLIT CLASS                                      15\n",
       "PARKING LOT                                      11\n",
       "GREENBELT                                        10\n",
       "FOREST                                           10\n",
       "VACANT COMMERCIAL LAND                            9\n",
       "PARSONAGE                                         5\n",
       "VACANT RESIENTIAL LAND                            3\n",
       "GREENBELT/RES\\r\\nGRRENBELT/RES                    3\n",
       "VACANT ZONED MULTI FAMILY                         2\n",
       "OFFICE BLDG (ONE OR TWO STORIES)                  2\n",
       "NON-PROFIT CHARITABLE SERVICE                     2\n",
       "VACANT RURAL LAND                                 2\n",
       "TERMINAL/DISTRIBUTION WAREHOUSE                   2\n",
       "DAY CARE CENTER                                   2\n",
       "APARTMENT: LOW RISE (BUILT SINCE 1960)            2\n",
       "NIGHTCLUB/LOUNGE                                  1\n",
       "METRO OTHER THAN OFC, SCHOOL,HOSP, OR PARK        1\n",
       "LIGHT MANUFACTURING                               1\n",
       "ONE STORY GENERAL RETAIL STORE                    1\n",
       "CLUB/UNION HALL/LODGE                             1\n",
       "CONVENIENCE MARKET WITHOUT GAS                    1\n",
       "STRIP SHOPPING CENTER                             1\n",
       "MORTUARY/CEMETERY                                 1\n",
       "Name: Land Use, dtype: int64"
      ]
     },
     "execution_count": 15,
     "metadata": {},
     "output_type": "execute_result"
    }
   ],
   "source": [
    "df['Land Use'].value_counts()"
   ]
  },
  {
   "cell_type": "code",
   "execution_count": 16,
   "metadata": {
    "slideshow": {
     "slide_type": "skip"
    }
   },
   "outputs": [
    {
     "data": {
      "text/plain": [
       "Index(['Unnamed: 0', 'Unnamed: 0.1', 'Parcel ID', 'Land Use',\n",
       "       'Property Address', 'Suite/ Condo   #', 'Property City', 'Sale Date',\n",
       "       'Sale Price', 'Legal Reference', 'Sold As Vacant',\n",
       "       'Multiple Parcels Involved in Sale', 'Owner Name', 'Address', 'City',\n",
       "       'Acreage', 'Tax District', 'Neighborhood', 'image', 'Land Value',\n",
       "       'Building Value', 'Total Value', 'Finished Area', 'Foundation Type',\n",
       "       'Year Built', 'Exterior Wall', 'Grade', 'Bedrooms', 'Full Bath',\n",
       "       'Half Bath'],\n",
       "      dtype='object')"
      ]
     },
     "execution_count": 16,
     "metadata": {},
     "output_type": "execute_result"
    }
   ],
   "source": [
    "df.columns"
   ]
  },
  {
   "cell_type": "code",
   "execution_count": 17,
   "metadata": {
    "slideshow": {
     "slide_type": "slide"
    }
   },
   "outputs": [
    {
     "data": {
      "text/html": [
       "<div>\n",
       "<style scoped>\n",
       "    .dataframe tbody tr th:only-of-type {\n",
       "        vertical-align: middle;\n",
       "    }\n",
       "\n",
       "    .dataframe tbody tr th {\n",
       "        vertical-align: top;\n",
       "    }\n",
       "\n",
       "    .dataframe thead th {\n",
       "        text-align: right;\n",
       "    }\n",
       "</style>\n",
       "<table border=\"1\" class=\"dataframe\">\n",
       "  <thead>\n",
       "    <tr style=\"text-align: right;\">\n",
       "      <th></th>\n",
       "      <th>Unnamed: 0</th>\n",
       "      <th>Unnamed: 0.1</th>\n",
       "      <th>Parcel ID</th>\n",
       "      <th>Land Use</th>\n",
       "      <th>Property Address</th>\n",
       "      <th>Suite/ Condo   #</th>\n",
       "      <th>Property City</th>\n",
       "      <th>Sale Date</th>\n",
       "      <th>Sale Price</th>\n",
       "      <th>Legal Reference</th>\n",
       "      <th>...</th>\n",
       "      <th>Building Value</th>\n",
       "      <th>Total Value</th>\n",
       "      <th>Finished Area</th>\n",
       "      <th>Foundation Type</th>\n",
       "      <th>Year Built</th>\n",
       "      <th>Exterior Wall</th>\n",
       "      <th>Grade</th>\n",
       "      <th>Bedrooms</th>\n",
       "      <th>Full Bath</th>\n",
       "      <th>Half Bath</th>\n",
       "    </tr>\n",
       "  </thead>\n",
       "  <tbody>\n",
       "    <tr>\n",
       "      <th>7822</th>\n",
       "      <td>7822</td>\n",
       "      <td>7822</td>\n",
       "      <td>118 09 0 252.00</td>\n",
       "      <td>ZERO LOT LINE</td>\n",
       "      <td>1129  CLIFTON LN</td>\n",
       "      <td>3-B</td>\n",
       "      <td>NASHVILLE</td>\n",
       "      <td>9/4/13</td>\n",
       "      <td>201000</td>\n",
       "      <td>20130909-0094904</td>\n",
       "      <td>...</td>\n",
       "      <td>113700.0</td>\n",
       "      <td>209700.0</td>\n",
       "      <td>1332.0</td>\n",
       "      <td>CRAWL</td>\n",
       "      <td>1984.0</td>\n",
       "      <td>BRICK</td>\n",
       "      <td>C</td>\n",
       "      <td>2.0</td>\n",
       "      <td>3.0</td>\n",
       "      <td>0.0</td>\n",
       "    </tr>\n",
       "    <tr>\n",
       "      <th>24933</th>\n",
       "      <td>24933</td>\n",
       "      <td>24933</td>\n",
       "      <td>159 00 0 205.00</td>\n",
       "      <td>ZERO LOT LINE</td>\n",
       "      <td>1245  OLD HICKORY BLVD</td>\n",
       "      <td>2-A</td>\n",
       "      <td>BRENTWOOD</td>\n",
       "      <td>12/12/14</td>\n",
       "      <td>275000</td>\n",
       "      <td>20141217-0115474</td>\n",
       "      <td>...</td>\n",
       "      <td>145100.0</td>\n",
       "      <td>292000.0</td>\n",
       "      <td>2333.0</td>\n",
       "      <td>CRAWL</td>\n",
       "      <td>1985.0</td>\n",
       "      <td>FRAME</td>\n",
       "      <td>B</td>\n",
       "      <td>2.0</td>\n",
       "      <td>2.0</td>\n",
       "      <td>0.0</td>\n",
       "    </tr>\n",
       "  </tbody>\n",
       "</table>\n",
       "<p>2 rows × 30 columns</p>\n",
       "</div>"
      ],
      "text/plain": [
       "       Unnamed: 0  Unnamed: 0.1        Parcel ID       Land Use  \\\n",
       "7822         7822          7822  118 09 0 252.00  ZERO LOT LINE   \n",
       "24933       24933         24933  159 00 0 205.00  ZERO LOT LINE   \n",
       "\n",
       "             Property Address Suite/ Condo   # Property City Sale Date  \\\n",
       "7822         1129  CLIFTON LN              3-B     NASHVILLE    9/4/13   \n",
       "24933  1245  OLD HICKORY BLVD              2-A     BRENTWOOD  12/12/14   \n",
       "\n",
       "       Sale Price   Legal Reference  ... Building Value Total Value  \\\n",
       "7822       201000  20130909-0094904  ...       113700.0    209700.0   \n",
       "24933      275000  20141217-0115474  ...       145100.0    292000.0   \n",
       "\n",
       "      Finished Area Foundation Type Year Built  Exterior Wall Grade  Bedrooms  \\\n",
       "7822         1332.0           CRAWL     1984.0          BRICK  C          2.0   \n",
       "24933        2333.0           CRAWL     1985.0          FRAME  B          2.0   \n",
       "\n",
       "      Full Bath  Half Bath  \n",
       "7822        3.0        0.0  \n",
       "24933       2.0        0.0  \n",
       "\n",
       "[2 rows x 30 columns]"
      ]
     },
     "execution_count": 17,
     "metadata": {},
     "output_type": "execute_result"
    }
   ],
   "source": [
    "# 'Suite/ Condo   #' has 26015 blanks\n",
    "filt = pd.isna(df['Suite/ Condo   #'])\n",
    "df[~filt].head(30)"
   ]
  },
  {
   "cell_type": "markdown",
   "metadata": {
    "slideshow": {
     "slide_type": "fragment"
    }
   },
   "source": [
    "There are only two entries with no blanks. We can get rid of this column with no worries."
   ]
  },
  {
   "cell_type": "code",
   "execution_count": 18,
   "metadata": {
    "slideshow": {
     "slide_type": "fragment"
    }
   },
   "outputs": [],
   "source": [
    "df.drop(columns = ['Suite/ Condo   #'], axis = 1, inplace = True)"
   ]
  },
  {
   "cell_type": "code",
   "execution_count": 19,
   "metadata": {
    "slideshow": {
     "slide_type": "slide"
    }
   },
   "outputs": [
    {
     "data": {
      "text/plain": [
       "1                STINSON, LAURA M.\n",
       "2                  NUNES, JARED R.\n",
       "3                  WHITFORD, KAREN\n",
       "4    HENDERSON, JAMES P. & LYNN P.\n",
       "5                   MILLER, JORDAN\n",
       "Name: Owner Name, dtype: object"
      ]
     },
     "execution_count": 19,
     "metadata": {},
     "output_type": "execute_result"
    }
   ],
   "source": [
    "df['Owner Name'].head()"
   ]
  },
  {
   "cell_type": "markdown",
   "metadata": {
    "slideshow": {
     "slide_type": "fragment"
    }
   },
   "source": [
    "Owner name is also something we cannot use. Price is not dependent on who owns it, unless it is a celebrity."
   ]
  },
  {
   "cell_type": "code",
   "execution_count": 20,
   "metadata": {
    "slideshow": {
     "slide_type": "fragment"
    }
   },
   "outputs": [
    {
     "data": {
      "text/plain": [
       "5547"
      ]
     },
     "execution_count": 20,
     "metadata": {},
     "output_type": "execute_result"
    }
   ],
   "source": [
    "# This is the number of duplicate entries\n",
    "df.shape[0] - len(pd.unique(df['Owner Name'])) - df['Owner Name'].isna().sum()"
   ]
  },
  {
   "cell_type": "code",
   "execution_count": 21,
   "metadata": {
    "slideshow": {
     "slide_type": "skip"
    }
   },
   "outputs": [
    {
     "name": "stdout",
     "output_type": "stream",
     "text": [
      "[]\n"
     ]
    }
   ],
   "source": [
    "#This cell is to determine duplicate owners, but it is not needed. Skip it.\n",
    "xx = pd.unique(df['Owner Name'])\n",
    "yy = []\n",
    "for i in df.index:\n",
    "    if df['Owner Name'][i] not in xx:\n",
    "        if not pd.isna(df['Owner Name'][i]):\n",
    "            yy.append(df['Owner Name'][i])\n",
    "print(yy[0:5])\n"
   ]
  },
  {
   "cell_type": "code",
   "execution_count": 22,
   "metadata": {
    "slideshow": {
     "slide_type": "fragment"
    }
   },
   "outputs": [],
   "source": [
    "df.drop(columns = ['Owner Name'], axis = 1, inplace = True)"
   ]
  },
  {
   "cell_type": "code",
   "execution_count": 23,
   "metadata": {
    "slideshow": {
     "slide_type": "slide"
    }
   },
   "outputs": [
    {
     "data": {
      "text/plain": [
       "Unnamed: 0                              0\n",
       "Unnamed: 0.1                            0\n",
       "Parcel ID                               0\n",
       "Land Use                                0\n",
       "Property Address                        2\n",
       "Property City                           2\n",
       "Sale Date                               0\n",
       "Sale Price                              0\n",
       "Legal Reference                         0\n",
       "Sold As Vacant                          0\n",
       "Multiple Parcels Involved in Sale       0\n",
       "Address                                 0\n",
       "City                                    0\n",
       "Acreage                                 0\n",
       "Tax District                            0\n",
       "Neighborhood                            0\n",
       "image                                 682\n",
       "Land Value                              0\n",
       "Building Value                          0\n",
       "Total Value                             0\n",
       "Finished Area                        1851\n",
       "Foundation Type                      1853\n",
       "Year Built                           1852\n",
       "Exterior Wall                        1852\n",
       "Grade                                1852\n",
       "Bedrooms                             1858\n",
       "Full Bath                            1740\n",
       "Half Bath                            1871\n",
       "dtype: int64"
      ]
     },
     "execution_count": 23,
     "metadata": {},
     "output_type": "execute_result"
    }
   ],
   "source": [
    "df.isna().sum()"
   ]
  },
  {
   "cell_type": "code",
   "execution_count": 24,
   "metadata": {
    "slideshow": {
     "slide_type": "slide"
    }
   },
   "outputs": [
    {
     "data": {
      "text/plain": [
       "1     \\114000\\910001.JPG\n",
       "2     \\131000\\191001.JPG\n",
       "3     \\133000\\721001.JPG\n",
       "4     \\134000\\474001.JPG\n",
       "5     \\134000\\656001.JPG\n",
       "7     \\136000\\266001.JPG\n",
       "8     \\136000\\266001.JPG\n",
       "9      \\137000\\81001.JPG\n",
       "10    \\150000\\856001.JPG\n",
       "11    \\151000\\699001.JPG\n",
       "12    \\151000\\814001.JPG\n",
       "13    \\152000\\116001.JPG\n",
       "14    \\153000\\678001.JPG\n",
       "15    \\153000\\751001.JPG\n",
       "16    \\166000\\545001.JPG\n",
       "19    \\170000\\605001.JPG\n",
       "20    \\171000\\988001.JPG\n",
       "21    \\172000\\613001.JPG\n",
       "22    \\172000\\671001.JPG\n",
       "23    \\173000\\171001.JPG\n",
       "24    \\184000\\836001.JPG\n",
       "27    \\186000\\642001.JPG\n",
       "33    \\190000\\687001.JPG\n",
       "84     \\84000\\757001.JPG\n",
       "85     \\85000\\126001.JPG\n",
       "86     \\85000\\617001.JPG\n",
       "87                   NaN\n",
       "88                   NaN\n",
       "89                   NaN\n",
       "90                   NaN\n",
       "Name: image, dtype: object"
      ]
     },
     "execution_count": 24,
     "metadata": {},
     "output_type": "execute_result"
    }
   ],
   "source": [
    "# Let's look at images\n",
    "df['image'].head(30)"
   ]
  },
  {
   "cell_type": "markdown",
   "metadata": {
    "slideshow": {
     "slide_type": "fragment"
    }
   },
   "source": [
    "Image cannot be an explaining factor for any feature. Therefore, we get rid of it."
   ]
  },
  {
   "cell_type": "code",
   "execution_count": 25,
   "metadata": {
    "slideshow": {
     "slide_type": "fragment"
    }
   },
   "outputs": [
    {
     "data": {
      "text/html": [
       "<div>\n",
       "<style scoped>\n",
       "    .dataframe tbody tr th:only-of-type {\n",
       "        vertical-align: middle;\n",
       "    }\n",
       "\n",
       "    .dataframe tbody tr th {\n",
       "        vertical-align: top;\n",
       "    }\n",
       "\n",
       "    .dataframe thead th {\n",
       "        text-align: right;\n",
       "    }\n",
       "</style>\n",
       "<table border=\"1\" class=\"dataframe\">\n",
       "  <thead>\n",
       "    <tr style=\"text-align: right;\">\n",
       "      <th></th>\n",
       "      <th>Unnamed: 0</th>\n",
       "      <th>Unnamed: 0.1</th>\n",
       "      <th>Parcel ID</th>\n",
       "      <th>Land Use</th>\n",
       "      <th>Property Address</th>\n",
       "      <th>Property City</th>\n",
       "      <th>Sale Date</th>\n",
       "      <th>Sale Price</th>\n",
       "      <th>Legal Reference</th>\n",
       "      <th>Sold As Vacant</th>\n",
       "      <th>...</th>\n",
       "      <th>Building Value</th>\n",
       "      <th>Total Value</th>\n",
       "      <th>Finished Area</th>\n",
       "      <th>Foundation Type</th>\n",
       "      <th>Year Built</th>\n",
       "      <th>Exterior Wall</th>\n",
       "      <th>Grade</th>\n",
       "      <th>Bedrooms</th>\n",
       "      <th>Full Bath</th>\n",
       "      <th>Half Bath</th>\n",
       "    </tr>\n",
       "  </thead>\n",
       "  <tbody>\n",
       "    <tr>\n",
       "      <th>1</th>\n",
       "      <td>1</td>\n",
       "      <td>1</td>\n",
       "      <td>105 11 0 080.00</td>\n",
       "      <td>SINGLE FAMILY</td>\n",
       "      <td>1802  STEWART PL</td>\n",
       "      <td>NASHVILLE</td>\n",
       "      <td>1/11/13</td>\n",
       "      <td>191500</td>\n",
       "      <td>20130118-0006337</td>\n",
       "      <td>No</td>\n",
       "      <td>...</td>\n",
       "      <td>134400.0</td>\n",
       "      <td>168300.0</td>\n",
       "      <td>1149.00000</td>\n",
       "      <td>PT BSMT</td>\n",
       "      <td>1941.0</td>\n",
       "      <td>BRICK</td>\n",
       "      <td>C</td>\n",
       "      <td>2.0</td>\n",
       "      <td>1.0</td>\n",
       "      <td>0.0</td>\n",
       "    </tr>\n",
       "    <tr>\n",
       "      <th>2</th>\n",
       "      <td>2</td>\n",
       "      <td>2</td>\n",
       "      <td>118 03 0 130.00</td>\n",
       "      <td>SINGLE FAMILY</td>\n",
       "      <td>2761  ROSEDALE PL</td>\n",
       "      <td>NASHVILLE</td>\n",
       "      <td>1/18/13</td>\n",
       "      <td>202000</td>\n",
       "      <td>20130124-0008033</td>\n",
       "      <td>No</td>\n",
       "      <td>...</td>\n",
       "      <td>157800.0</td>\n",
       "      <td>191800.0</td>\n",
       "      <td>2090.82495</td>\n",
       "      <td>SLAB</td>\n",
       "      <td>2000.0</td>\n",
       "      <td>BRICK/FRAME</td>\n",
       "      <td>C</td>\n",
       "      <td>3.0</td>\n",
       "      <td>2.0</td>\n",
       "      <td>1.0</td>\n",
       "    </tr>\n",
       "    <tr>\n",
       "      <th>3</th>\n",
       "      <td>3</td>\n",
       "      <td>3</td>\n",
       "      <td>119 01 0 479.00</td>\n",
       "      <td>SINGLE FAMILY</td>\n",
       "      <td>224  PEACHTREE ST</td>\n",
       "      <td>NASHVILLE</td>\n",
       "      <td>1/18/13</td>\n",
       "      <td>32000</td>\n",
       "      <td>20130128-0008863</td>\n",
       "      <td>No</td>\n",
       "      <td>...</td>\n",
       "      <td>243700.0</td>\n",
       "      <td>268700.0</td>\n",
       "      <td>2145.60001</td>\n",
       "      <td>FULL BSMT</td>\n",
       "      <td>1948.0</td>\n",
       "      <td>BRICK/FRAME</td>\n",
       "      <td>B</td>\n",
       "      <td>4.0</td>\n",
       "      <td>2.0</td>\n",
       "      <td>0.0</td>\n",
       "    </tr>\n",
       "    <tr>\n",
       "      <th>4</th>\n",
       "      <td>4</td>\n",
       "      <td>4</td>\n",
       "      <td>119 05 0 186.00</td>\n",
       "      <td>SINGLE FAMILY</td>\n",
       "      <td>316  LUTIE ST</td>\n",
       "      <td>NASHVILLE</td>\n",
       "      <td>1/23/13</td>\n",
       "      <td>102000</td>\n",
       "      <td>20130131-0009929</td>\n",
       "      <td>No</td>\n",
       "      <td>...</td>\n",
       "      <td>138100.0</td>\n",
       "      <td>164800.0</td>\n",
       "      <td>1969.00000</td>\n",
       "      <td>CRAWL</td>\n",
       "      <td>1910.0</td>\n",
       "      <td>FRAME</td>\n",
       "      <td>C</td>\n",
       "      <td>2.0</td>\n",
       "      <td>1.0</td>\n",
       "      <td>0.0</td>\n",
       "    </tr>\n",
       "    <tr>\n",
       "      <th>5</th>\n",
       "      <td>5</td>\n",
       "      <td>5</td>\n",
       "      <td>119 05 0 387.00</td>\n",
       "      <td>SINGLE FAMILY</td>\n",
       "      <td>2626  FOSTER AVE</td>\n",
       "      <td>NASHVILLE</td>\n",
       "      <td>1/4/13</td>\n",
       "      <td>93736</td>\n",
       "      <td>20130118-0006110</td>\n",
       "      <td>No</td>\n",
       "      <td>...</td>\n",
       "      <td>86100.0</td>\n",
       "      <td>113300.0</td>\n",
       "      <td>1037.00000</td>\n",
       "      <td>CRAWL</td>\n",
       "      <td>1945.0</td>\n",
       "      <td>FRAME</td>\n",
       "      <td>C</td>\n",
       "      <td>2.0</td>\n",
       "      <td>1.0</td>\n",
       "      <td>0.0</td>\n",
       "    </tr>\n",
       "  </tbody>\n",
       "</table>\n",
       "<p>5 rows × 27 columns</p>\n",
       "</div>"
      ],
      "text/plain": [
       "   Unnamed: 0  Unnamed: 0.1        Parcel ID       Land Use  \\\n",
       "1           1             1  105 11 0 080.00  SINGLE FAMILY   \n",
       "2           2             2  118 03 0 130.00  SINGLE FAMILY   \n",
       "3           3             3  119 01 0 479.00  SINGLE FAMILY   \n",
       "4           4             4  119 05 0 186.00  SINGLE FAMILY   \n",
       "5           5             5  119 05 0 387.00  SINGLE FAMILY   \n",
       "\n",
       "    Property Address Property City Sale Date  Sale Price   Legal Reference  \\\n",
       "1   1802  STEWART PL     NASHVILLE   1/11/13      191500  20130118-0006337   \n",
       "2  2761  ROSEDALE PL     NASHVILLE   1/18/13      202000  20130124-0008033   \n",
       "3  224  PEACHTREE ST     NASHVILLE   1/18/13       32000  20130128-0008863   \n",
       "4      316  LUTIE ST     NASHVILLE   1/23/13      102000  20130131-0009929   \n",
       "5   2626  FOSTER AVE     NASHVILLE    1/4/13       93736  20130118-0006110   \n",
       "\n",
       "  Sold As Vacant  ... Building Value Total Value Finished Area  \\\n",
       "1             No  ...       134400.0    168300.0    1149.00000   \n",
       "2             No  ...       157800.0    191800.0    2090.82495   \n",
       "3             No  ...       243700.0    268700.0    2145.60001   \n",
       "4             No  ...       138100.0    164800.0    1969.00000   \n",
       "5             No  ...        86100.0    113300.0    1037.00000   \n",
       "\n",
       "   Foundation Type Year Built  Exterior Wall  Grade  Bedrooms  Full Bath  \\\n",
       "1          PT BSMT     1941.0          BRICK   C          2.0        1.0   \n",
       "2             SLAB     2000.0    BRICK/FRAME   C          3.0        2.0   \n",
       "3        FULL BSMT     1948.0    BRICK/FRAME   B          4.0        2.0   \n",
       "4            CRAWL     1910.0          FRAME   C          2.0        1.0   \n",
       "5            CRAWL     1945.0          FRAME   C          2.0        1.0   \n",
       "\n",
       "   Half Bath  \n",
       "1        0.0  \n",
       "2        1.0  \n",
       "3        0.0  \n",
       "4        0.0  \n",
       "5        0.0  \n",
       "\n",
       "[5 rows x 27 columns]"
      ]
     },
     "execution_count": 25,
     "metadata": {},
     "output_type": "execute_result"
    }
   ],
   "source": [
    "df.drop(columns='image', axis = 1, inplace = True)\n",
    "df.head()"
   ]
  },
  {
   "cell_type": "code",
   "execution_count": 26,
   "metadata": {
    "slideshow": {
     "slide_type": "skip"
    }
   },
   "outputs": [
    {
     "data": {
      "text/plain": [
       "Finished Area      float64\n",
       "Foundation Type     object\n",
       "Year Built         float64\n",
       "Exterior Wall       object\n",
       "Grade               object\n",
       "Bedrooms           float64\n",
       "Full Bath          float64\n",
       "Half Bath          float64\n",
       "dtype: object"
      ]
     },
     "execution_count": 26,
     "metadata": {},
     "output_type": "execute_result"
    }
   ],
   "source": [
    "# Let's check the data types of some features\n",
    "df[['Finished Area', 'Foundation Type', 'Year Built', 'Exterior Wall', 'Grade', 'Bedrooms', 'Full Bath', 'Half Bath']].dtypes"
   ]
  },
  {
   "cell_type": "markdown",
   "metadata": {
    "slideshow": {
     "slide_type": "slide"
    }
   },
   "source": [
    "The features like 'Finished Area', 'Foundation Type' etc. have very similar missing values. I wonder if these missing values belong to the same data points. If the missing values all belong to the same group, we can just eliminate them. I consider this as a safer choice than filling the missing values with the averages, modes etc."
   ]
  },
  {
   "cell_type": "code",
   "execution_count": 27,
   "metadata": {
    "slideshow": {
     "slide_type": "fragment"
    }
   },
   "outputs": [
    {
     "name": "stdout",
     "output_type": "stream",
     "text": [
      "1735\n"
     ]
    }
   ],
   "source": [
    "# I will try different combinations of the features above and see if they \n",
    "total = 0\n",
    "for i in df.index:\n",
    "    if pd.isna(df['Finished Area'][i]):\n",
    "        if pd.isna(df['Half Bath'][i]):\n",
    "            total += 1\n",
    "print(total)"
   ]
  },
  {
   "cell_type": "markdown",
   "metadata": {
    "slideshow": {
     "slide_type": "fragment"
    }
   },
   "source": [
    "After checking every feature against 'Finished Area', the features with missing values belong to the same data points. I will remove with 'Finished Area' and see the numbers."
   ]
  },
  {
   "cell_type": "code",
   "execution_count": 28,
   "metadata": {
    "slideshow": {
     "slide_type": "fragment"
    }
   },
   "outputs": [
    {
     "data": {
      "text/plain": [
       "Unnamed: 0                             0\n",
       "Unnamed: 0.1                           0\n",
       "Parcel ID                              0\n",
       "Land Use                               0\n",
       "Property Address                       2\n",
       "Property City                          2\n",
       "Sale Date                              0\n",
       "Sale Price                             0\n",
       "Legal Reference                        0\n",
       "Sold As Vacant                         0\n",
       "Multiple Parcels Involved in Sale      0\n",
       "Address                                0\n",
       "City                                   0\n",
       "Acreage                                0\n",
       "Tax District                           0\n",
       "Neighborhood                           0\n",
       "Land Value                             0\n",
       "Building Value                         0\n",
       "Total Value                            0\n",
       "Finished Area                          0\n",
       "Foundation Type                        3\n",
       "Year Built                             2\n",
       "Exterior Wall                          2\n",
       "Grade                                  2\n",
       "Bedrooms                              20\n",
       "Full Bath                              5\n",
       "Half Bath                            136\n",
       "dtype: int64"
      ]
     },
     "execution_count": 28,
     "metadata": {},
     "output_type": "execute_result"
    }
   ],
   "source": [
    "df.dropna(subset = ['Finished Area'], inplace = True)\n",
    "df.isna().sum()"
   ]
  },
  {
   "cell_type": "code",
   "execution_count": 29,
   "metadata": {
    "slideshow": {
     "slide_type": "slide"
    }
   },
   "outputs": [
    {
     "data": {
      "text/html": [
       "<div>\n",
       "<style scoped>\n",
       "    .dataframe tbody tr th:only-of-type {\n",
       "        vertical-align: middle;\n",
       "    }\n",
       "\n",
       "    .dataframe tbody tr th {\n",
       "        vertical-align: top;\n",
       "    }\n",
       "\n",
       "    .dataframe thead th {\n",
       "        text-align: right;\n",
       "    }\n",
       "</style>\n",
       "<table border=\"1\" class=\"dataframe\">\n",
       "  <thead>\n",
       "    <tr style=\"text-align: right;\">\n",
       "      <th></th>\n",
       "      <th>Unnamed: 0</th>\n",
       "      <th>Unnamed: 0.1</th>\n",
       "      <th>Parcel ID</th>\n",
       "      <th>Land Use</th>\n",
       "      <th>Property Address</th>\n",
       "      <th>Property City</th>\n",
       "      <th>Sale Date</th>\n",
       "      <th>Sale Price</th>\n",
       "      <th>Legal Reference</th>\n",
       "      <th>Sold As Vacant</th>\n",
       "      <th>Multiple Parcels Involved in Sale</th>\n",
       "      <th>Address</th>\n",
       "      <th>City</th>\n",
       "      <th>Acreage</th>\n",
       "      <th>Tax District</th>\n",
       "      <th>Neighborhood</th>\n",
       "      <th>Land Value</th>\n",
       "      <th>Building Value</th>\n",
       "      <th>Total Value</th>\n",
       "      <th>Finished Area</th>\n",
       "      <th>Foundation Type</th>\n",
       "      <th>Year Built</th>\n",
       "      <th>Exterior Wall</th>\n",
       "      <th>Grade</th>\n",
       "      <th>Bedrooms</th>\n",
       "      <th>Full Bath</th>\n",
       "      <th>Half Bath</th>\n",
       "    </tr>\n",
       "  </thead>\n",
       "  <tbody>\n",
       "    <tr>\n",
       "      <th>1</th>\n",
       "      <td>1</td>\n",
       "      <td>1</td>\n",
       "      <td>105 11 0 080.00</td>\n",
       "      <td>SINGLE FAMILY</td>\n",
       "      <td>1802  STEWART PL</td>\n",
       "      <td>NASHVILLE</td>\n",
       "      <td>1/11/13</td>\n",
       "      <td>191500</td>\n",
       "      <td>20130118-0006337</td>\n",
       "      <td>No</td>\n",
       "      <td>No</td>\n",
       "      <td>1802  STEWART PL</td>\n",
       "      <td>NASHVILLE</td>\n",
       "      <td>0.17</td>\n",
       "      <td>URBAN SERVICES DISTRICT</td>\n",
       "      <td>3127.0</td>\n",
       "      <td>32000.0</td>\n",
       "      <td>134400.0</td>\n",
       "      <td>168300.0</td>\n",
       "      <td>1149.00000</td>\n",
       "      <td>PT BSMT</td>\n",
       "      <td>1941.0</td>\n",
       "      <td>BRICK</td>\n",
       "      <td>C</td>\n",
       "      <td>2.0</td>\n",
       "      <td>1.0</td>\n",
       "      <td>0.0</td>\n",
       "    </tr>\n",
       "    <tr>\n",
       "      <th>2</th>\n",
       "      <td>2</td>\n",
       "      <td>2</td>\n",
       "      <td>118 03 0 130.00</td>\n",
       "      <td>SINGLE FAMILY</td>\n",
       "      <td>2761  ROSEDALE PL</td>\n",
       "      <td>NASHVILLE</td>\n",
       "      <td>1/18/13</td>\n",
       "      <td>202000</td>\n",
       "      <td>20130124-0008033</td>\n",
       "      <td>No</td>\n",
       "      <td>No</td>\n",
       "      <td>2761  ROSEDALE PL</td>\n",
       "      <td>NASHVILLE</td>\n",
       "      <td>0.11</td>\n",
       "      <td>CITY OF BERRY HILL</td>\n",
       "      <td>9126.0</td>\n",
       "      <td>34000.0</td>\n",
       "      <td>157800.0</td>\n",
       "      <td>191800.0</td>\n",
       "      <td>2090.82495</td>\n",
       "      <td>SLAB</td>\n",
       "      <td>2000.0</td>\n",
       "      <td>BRICK/FRAME</td>\n",
       "      <td>C</td>\n",
       "      <td>3.0</td>\n",
       "      <td>2.0</td>\n",
       "      <td>1.0</td>\n",
       "    </tr>\n",
       "    <tr>\n",
       "      <th>3</th>\n",
       "      <td>3</td>\n",
       "      <td>3</td>\n",
       "      <td>119 01 0 479.00</td>\n",
       "      <td>SINGLE FAMILY</td>\n",
       "      <td>224  PEACHTREE ST</td>\n",
       "      <td>NASHVILLE</td>\n",
       "      <td>1/18/13</td>\n",
       "      <td>32000</td>\n",
       "      <td>20130128-0008863</td>\n",
       "      <td>No</td>\n",
       "      <td>No</td>\n",
       "      <td>224  PEACHTREE ST</td>\n",
       "      <td>NASHVILLE</td>\n",
       "      <td>0.17</td>\n",
       "      <td>URBAN SERVICES DISTRICT</td>\n",
       "      <td>3130.0</td>\n",
       "      <td>25000.0</td>\n",
       "      <td>243700.0</td>\n",
       "      <td>268700.0</td>\n",
       "      <td>2145.60001</td>\n",
       "      <td>FULL BSMT</td>\n",
       "      <td>1948.0</td>\n",
       "      <td>BRICK/FRAME</td>\n",
       "      <td>B</td>\n",
       "      <td>4.0</td>\n",
       "      <td>2.0</td>\n",
       "      <td>0.0</td>\n",
       "    </tr>\n",
       "    <tr>\n",
       "      <th>4</th>\n",
       "      <td>4</td>\n",
       "      <td>4</td>\n",
       "      <td>119 05 0 186.00</td>\n",
       "      <td>SINGLE FAMILY</td>\n",
       "      <td>316  LUTIE ST</td>\n",
       "      <td>NASHVILLE</td>\n",
       "      <td>1/23/13</td>\n",
       "      <td>102000</td>\n",
       "      <td>20130131-0009929</td>\n",
       "      <td>No</td>\n",
       "      <td>No</td>\n",
       "      <td>316  LUTIE ST</td>\n",
       "      <td>NASHVILLE</td>\n",
       "      <td>0.34</td>\n",
       "      <td>URBAN SERVICES DISTRICT</td>\n",
       "      <td>3130.0</td>\n",
       "      <td>25000.0</td>\n",
       "      <td>138100.0</td>\n",
       "      <td>164800.0</td>\n",
       "      <td>1969.00000</td>\n",
       "      <td>CRAWL</td>\n",
       "      <td>1910.0</td>\n",
       "      <td>FRAME</td>\n",
       "      <td>C</td>\n",
       "      <td>2.0</td>\n",
       "      <td>1.0</td>\n",
       "      <td>0.0</td>\n",
       "    </tr>\n",
       "    <tr>\n",
       "      <th>5</th>\n",
       "      <td>5</td>\n",
       "      <td>5</td>\n",
       "      <td>119 05 0 387.00</td>\n",
       "      <td>SINGLE FAMILY</td>\n",
       "      <td>2626  FOSTER AVE</td>\n",
       "      <td>NASHVILLE</td>\n",
       "      <td>1/4/13</td>\n",
       "      <td>93736</td>\n",
       "      <td>20130118-0006110</td>\n",
       "      <td>No</td>\n",
       "      <td>No</td>\n",
       "      <td>2626  FOSTER AVE</td>\n",
       "      <td>NASHVILLE</td>\n",
       "      <td>0.17</td>\n",
       "      <td>URBAN SERVICES DISTRICT</td>\n",
       "      <td>3130.0</td>\n",
       "      <td>25000.0</td>\n",
       "      <td>86100.0</td>\n",
       "      <td>113300.0</td>\n",
       "      <td>1037.00000</td>\n",
       "      <td>CRAWL</td>\n",
       "      <td>1945.0</td>\n",
       "      <td>FRAME</td>\n",
       "      <td>C</td>\n",
       "      <td>2.0</td>\n",
       "      <td>1.0</td>\n",
       "      <td>0.0</td>\n",
       "    </tr>\n",
       "  </tbody>\n",
       "</table>\n",
       "</div>"
      ],
      "text/plain": [
       "   Unnamed: 0  Unnamed: 0.1        Parcel ID       Land Use  \\\n",
       "1           1             1  105 11 0 080.00  SINGLE FAMILY   \n",
       "2           2             2  118 03 0 130.00  SINGLE FAMILY   \n",
       "3           3             3  119 01 0 479.00  SINGLE FAMILY   \n",
       "4           4             4  119 05 0 186.00  SINGLE FAMILY   \n",
       "5           5             5  119 05 0 387.00  SINGLE FAMILY   \n",
       "\n",
       "    Property Address Property City Sale Date  Sale Price   Legal Reference  \\\n",
       "1   1802  STEWART PL     NASHVILLE   1/11/13      191500  20130118-0006337   \n",
       "2  2761  ROSEDALE PL     NASHVILLE   1/18/13      202000  20130124-0008033   \n",
       "3  224  PEACHTREE ST     NASHVILLE   1/18/13       32000  20130128-0008863   \n",
       "4      316  LUTIE ST     NASHVILLE   1/23/13      102000  20130131-0009929   \n",
       "5   2626  FOSTER AVE     NASHVILLE    1/4/13       93736  20130118-0006110   \n",
       "\n",
       "  Sold As Vacant Multiple Parcels Involved in Sale            Address  \\\n",
       "1             No                                No   1802  STEWART PL   \n",
       "2             No                                No  2761  ROSEDALE PL   \n",
       "3             No                                No  224  PEACHTREE ST   \n",
       "4             No                                No      316  LUTIE ST   \n",
       "5             No                                No   2626  FOSTER AVE   \n",
       "\n",
       "        City  Acreage             Tax District  Neighborhood  Land Value  \\\n",
       "1  NASHVILLE     0.17  URBAN SERVICES DISTRICT        3127.0     32000.0   \n",
       "2  NASHVILLE     0.11       CITY OF BERRY HILL        9126.0     34000.0   \n",
       "3  NASHVILLE     0.17  URBAN SERVICES DISTRICT        3130.0     25000.0   \n",
       "4  NASHVILLE     0.34  URBAN SERVICES DISTRICT        3130.0     25000.0   \n",
       "5  NASHVILLE     0.17  URBAN SERVICES DISTRICT        3130.0     25000.0   \n",
       "\n",
       "   Building Value  Total Value  Finished Area Foundation Type  Year Built  \\\n",
       "1        134400.0     168300.0     1149.00000         PT BSMT      1941.0   \n",
       "2        157800.0     191800.0     2090.82495            SLAB      2000.0   \n",
       "3        243700.0     268700.0     2145.60001       FULL BSMT      1948.0   \n",
       "4        138100.0     164800.0     1969.00000           CRAWL      1910.0   \n",
       "5         86100.0     113300.0     1037.00000           CRAWL      1945.0   \n",
       "\n",
       "  Exterior Wall Grade  Bedrooms  Full Bath  Half Bath  \n",
       "1         BRICK  C          2.0        1.0        0.0  \n",
       "2   BRICK/FRAME  C          3.0        2.0        1.0  \n",
       "3   BRICK/FRAME  B          4.0        2.0        0.0  \n",
       "4         FRAME  C          2.0        1.0        0.0  \n",
       "5         FRAME  C          2.0        1.0        0.0  "
      ]
     },
     "execution_count": 29,
     "metadata": {},
     "output_type": "execute_result"
    }
   ],
   "source": [
    "# I want to see all the columns\n",
    "pd.set_option('display.max_columns', None)\n",
    "df.head()"
   ]
  },
  {
   "cell_type": "markdown",
   "metadata": {
    "slideshow": {
     "slide_type": "fragment"
    }
   },
   "source": [
    "Some of these features are totally useless, like 'Unnamed: 0', 'Unnamed: 0.1', 'Parcel ID', 'Legal Reference'\n",
    "'Property Address' cannot help too. Let's get rid of these features first. Later, I will check if 'Property City' and 'City' are the same or not."
   ]
  },
  {
   "cell_type": "code",
   "execution_count": 30,
   "metadata": {
    "slideshow": {
     "slide_type": "skip"
    }
   },
   "outputs": [
    {
     "data": {
      "text/plain": [
       "Index(['Unnamed: 0', 'Unnamed: 0.1', 'Parcel ID', 'Land Use',\n",
       "       'Property Address', 'Property City', 'Sale Date', 'Sale Price',\n",
       "       'Legal Reference', 'Sold As Vacant',\n",
       "       'Multiple Parcels Involved in Sale', 'Address', 'City', 'Acreage',\n",
       "       'Tax District', 'Neighborhood', 'Land Value', 'Building Value',\n",
       "       'Total Value', 'Finished Area', 'Foundation Type', 'Year Built',\n",
       "       'Exterior Wall', 'Grade', 'Bedrooms', 'Full Bath', 'Half Bath'],\n",
       "      dtype='object')"
      ]
     },
     "execution_count": 30,
     "metadata": {},
     "output_type": "execute_result"
    }
   ],
   "source": [
    "df.columns"
   ]
  },
  {
   "cell_type": "code",
   "execution_count": 31,
   "metadata": {
    "slideshow": {
     "slide_type": "fragment"
    }
   },
   "outputs": [
    {
     "data": {
      "text/html": [
       "<div>\n",
       "<style scoped>\n",
       "    .dataframe tbody tr th:only-of-type {\n",
       "        vertical-align: middle;\n",
       "    }\n",
       "\n",
       "    .dataframe tbody tr th {\n",
       "        vertical-align: top;\n",
       "    }\n",
       "\n",
       "    .dataframe thead th {\n",
       "        text-align: right;\n",
       "    }\n",
       "</style>\n",
       "<table border=\"1\" class=\"dataframe\">\n",
       "  <thead>\n",
       "    <tr style=\"text-align: right;\">\n",
       "      <th></th>\n",
       "      <th>Land Use</th>\n",
       "      <th>Property City</th>\n",
       "      <th>Sale Date</th>\n",
       "      <th>Sale Price</th>\n",
       "      <th>Sold As Vacant</th>\n",
       "      <th>Multiple Parcels Involved in Sale</th>\n",
       "      <th>Address</th>\n",
       "      <th>City</th>\n",
       "      <th>Acreage</th>\n",
       "      <th>Tax District</th>\n",
       "      <th>Neighborhood</th>\n",
       "      <th>Land Value</th>\n",
       "      <th>Building Value</th>\n",
       "      <th>Total Value</th>\n",
       "      <th>Finished Area</th>\n",
       "      <th>Foundation Type</th>\n",
       "      <th>Year Built</th>\n",
       "      <th>Exterior Wall</th>\n",
       "      <th>Grade</th>\n",
       "      <th>Bedrooms</th>\n",
       "      <th>Full Bath</th>\n",
       "      <th>Half Bath</th>\n",
       "    </tr>\n",
       "  </thead>\n",
       "  <tbody>\n",
       "    <tr>\n",
       "      <th>1</th>\n",
       "      <td>SINGLE FAMILY</td>\n",
       "      <td>NASHVILLE</td>\n",
       "      <td>1/11/13</td>\n",
       "      <td>191500</td>\n",
       "      <td>No</td>\n",
       "      <td>No</td>\n",
       "      <td>1802  STEWART PL</td>\n",
       "      <td>NASHVILLE</td>\n",
       "      <td>0.17</td>\n",
       "      <td>URBAN SERVICES DISTRICT</td>\n",
       "      <td>3127.0</td>\n",
       "      <td>32000.0</td>\n",
       "      <td>134400.0</td>\n",
       "      <td>168300.0</td>\n",
       "      <td>1149.00000</td>\n",
       "      <td>PT BSMT</td>\n",
       "      <td>1941.0</td>\n",
       "      <td>BRICK</td>\n",
       "      <td>C</td>\n",
       "      <td>2.0</td>\n",
       "      <td>1.0</td>\n",
       "      <td>0.0</td>\n",
       "    </tr>\n",
       "    <tr>\n",
       "      <th>2</th>\n",
       "      <td>SINGLE FAMILY</td>\n",
       "      <td>NASHVILLE</td>\n",
       "      <td>1/18/13</td>\n",
       "      <td>202000</td>\n",
       "      <td>No</td>\n",
       "      <td>No</td>\n",
       "      <td>2761  ROSEDALE PL</td>\n",
       "      <td>NASHVILLE</td>\n",
       "      <td>0.11</td>\n",
       "      <td>CITY OF BERRY HILL</td>\n",
       "      <td>9126.0</td>\n",
       "      <td>34000.0</td>\n",
       "      <td>157800.0</td>\n",
       "      <td>191800.0</td>\n",
       "      <td>2090.82495</td>\n",
       "      <td>SLAB</td>\n",
       "      <td>2000.0</td>\n",
       "      <td>BRICK/FRAME</td>\n",
       "      <td>C</td>\n",
       "      <td>3.0</td>\n",
       "      <td>2.0</td>\n",
       "      <td>1.0</td>\n",
       "    </tr>\n",
       "    <tr>\n",
       "      <th>3</th>\n",
       "      <td>SINGLE FAMILY</td>\n",
       "      <td>NASHVILLE</td>\n",
       "      <td>1/18/13</td>\n",
       "      <td>32000</td>\n",
       "      <td>No</td>\n",
       "      <td>No</td>\n",
       "      <td>224  PEACHTREE ST</td>\n",
       "      <td>NASHVILLE</td>\n",
       "      <td>0.17</td>\n",
       "      <td>URBAN SERVICES DISTRICT</td>\n",
       "      <td>3130.0</td>\n",
       "      <td>25000.0</td>\n",
       "      <td>243700.0</td>\n",
       "      <td>268700.0</td>\n",
       "      <td>2145.60001</td>\n",
       "      <td>FULL BSMT</td>\n",
       "      <td>1948.0</td>\n",
       "      <td>BRICK/FRAME</td>\n",
       "      <td>B</td>\n",
       "      <td>4.0</td>\n",
       "      <td>2.0</td>\n",
       "      <td>0.0</td>\n",
       "    </tr>\n",
       "    <tr>\n",
       "      <th>4</th>\n",
       "      <td>SINGLE FAMILY</td>\n",
       "      <td>NASHVILLE</td>\n",
       "      <td>1/23/13</td>\n",
       "      <td>102000</td>\n",
       "      <td>No</td>\n",
       "      <td>No</td>\n",
       "      <td>316  LUTIE ST</td>\n",
       "      <td>NASHVILLE</td>\n",
       "      <td>0.34</td>\n",
       "      <td>URBAN SERVICES DISTRICT</td>\n",
       "      <td>3130.0</td>\n",
       "      <td>25000.0</td>\n",
       "      <td>138100.0</td>\n",
       "      <td>164800.0</td>\n",
       "      <td>1969.00000</td>\n",
       "      <td>CRAWL</td>\n",
       "      <td>1910.0</td>\n",
       "      <td>FRAME</td>\n",
       "      <td>C</td>\n",
       "      <td>2.0</td>\n",
       "      <td>1.0</td>\n",
       "      <td>0.0</td>\n",
       "    </tr>\n",
       "    <tr>\n",
       "      <th>5</th>\n",
       "      <td>SINGLE FAMILY</td>\n",
       "      <td>NASHVILLE</td>\n",
       "      <td>1/4/13</td>\n",
       "      <td>93736</td>\n",
       "      <td>No</td>\n",
       "      <td>No</td>\n",
       "      <td>2626  FOSTER AVE</td>\n",
       "      <td>NASHVILLE</td>\n",
       "      <td>0.17</td>\n",
       "      <td>URBAN SERVICES DISTRICT</td>\n",
       "      <td>3130.0</td>\n",
       "      <td>25000.0</td>\n",
       "      <td>86100.0</td>\n",
       "      <td>113300.0</td>\n",
       "      <td>1037.00000</td>\n",
       "      <td>CRAWL</td>\n",
       "      <td>1945.0</td>\n",
       "      <td>FRAME</td>\n",
       "      <td>C</td>\n",
       "      <td>2.0</td>\n",
       "      <td>1.0</td>\n",
       "      <td>0.0</td>\n",
       "    </tr>\n",
       "  </tbody>\n",
       "</table>\n",
       "</div>"
      ],
      "text/plain": [
       "        Land Use Property City Sale Date  Sale Price Sold As Vacant  \\\n",
       "1  SINGLE FAMILY     NASHVILLE   1/11/13      191500             No   \n",
       "2  SINGLE FAMILY     NASHVILLE   1/18/13      202000             No   \n",
       "3  SINGLE FAMILY     NASHVILLE   1/18/13       32000             No   \n",
       "4  SINGLE FAMILY     NASHVILLE   1/23/13      102000             No   \n",
       "5  SINGLE FAMILY     NASHVILLE    1/4/13       93736             No   \n",
       "\n",
       "  Multiple Parcels Involved in Sale            Address       City  Acreage  \\\n",
       "1                                No   1802  STEWART PL  NASHVILLE     0.17   \n",
       "2                                No  2761  ROSEDALE PL  NASHVILLE     0.11   \n",
       "3                                No  224  PEACHTREE ST  NASHVILLE     0.17   \n",
       "4                                No      316  LUTIE ST  NASHVILLE     0.34   \n",
       "5                                No   2626  FOSTER AVE  NASHVILLE     0.17   \n",
       "\n",
       "              Tax District  Neighborhood  Land Value  Building Value  \\\n",
       "1  URBAN SERVICES DISTRICT        3127.0     32000.0        134400.0   \n",
       "2       CITY OF BERRY HILL        9126.0     34000.0        157800.0   \n",
       "3  URBAN SERVICES DISTRICT        3130.0     25000.0        243700.0   \n",
       "4  URBAN SERVICES DISTRICT        3130.0     25000.0        138100.0   \n",
       "5  URBAN SERVICES DISTRICT        3130.0     25000.0         86100.0   \n",
       "\n",
       "   Total Value  Finished Area Foundation Type  Year Built Exterior Wall Grade  \\\n",
       "1     168300.0     1149.00000         PT BSMT      1941.0         BRICK  C      \n",
       "2     191800.0     2090.82495            SLAB      2000.0   BRICK/FRAME  C      \n",
       "3     268700.0     2145.60001       FULL BSMT      1948.0   BRICK/FRAME  B      \n",
       "4     164800.0     1969.00000           CRAWL      1910.0         FRAME  C      \n",
       "5     113300.0     1037.00000           CRAWL      1945.0         FRAME  C      \n",
       "\n",
       "   Bedrooms  Full Bath  Half Bath  \n",
       "1       2.0        1.0        0.0  \n",
       "2       3.0        2.0        1.0  \n",
       "3       4.0        2.0        0.0  \n",
       "4       2.0        1.0        0.0  \n",
       "5       2.0        1.0        0.0  "
      ]
     },
     "execution_count": 31,
     "metadata": {},
     "output_type": "execute_result"
    }
   ],
   "source": [
    "df.drop(columns = ['Unnamed: 0', 'Unnamed: 0.1', 'Parcel ID', 'Legal Reference', 'Property Address'] , axis = 1, inplace = True)\n",
    "df.head()"
   ]
  },
  {
   "cell_type": "code",
   "execution_count": 32,
   "metadata": {
    "slideshow": {
     "slide_type": "slide"
    }
   },
   "outputs": [
    {
     "name": "stdout",
     "output_type": "stream",
     "text": [
      "Total entries is 24166 where entries with same value are 24163\n"
     ]
    }
   ],
   "source": [
    "# I want to check if 'Property City' and 'City' are the same or not.\n",
    "total = 0\n",
    "for i in df.index:\n",
    "    if df['Property City'][i] == df['City'][i]:\n",
    "        total += 1\n",
    "print(f'Total entries is {df.shape[0]} where entries with same value are {total}')"
   ]
  },
  {
   "cell_type": "code",
   "execution_count": 33,
   "metadata": {
    "scrolled": true,
    "slideshow": {
     "slide_type": "fragment"
    }
   },
   "outputs": [
    {
     "data": {
      "text/html": [
       "<div>\n",
       "<style scoped>\n",
       "    .dataframe tbody tr th:only-of-type {\n",
       "        vertical-align: middle;\n",
       "    }\n",
       "\n",
       "    .dataframe tbody tr th {\n",
       "        vertical-align: top;\n",
       "    }\n",
       "\n",
       "    .dataframe thead th {\n",
       "        text-align: right;\n",
       "    }\n",
       "</style>\n",
       "<table border=\"1\" class=\"dataframe\">\n",
       "  <thead>\n",
       "    <tr style=\"text-align: right;\">\n",
       "      <th></th>\n",
       "      <th>Land Use</th>\n",
       "      <th>Property City</th>\n",
       "      <th>Sale Date</th>\n",
       "      <th>Sale Price</th>\n",
       "      <th>Sold As Vacant</th>\n",
       "      <th>Multiple Parcels Involved in Sale</th>\n",
       "      <th>Address</th>\n",
       "      <th>City</th>\n",
       "      <th>Acreage</th>\n",
       "      <th>Tax District</th>\n",
       "      <th>Neighborhood</th>\n",
       "      <th>Land Value</th>\n",
       "      <th>Building Value</th>\n",
       "      <th>Total Value</th>\n",
       "      <th>Finished Area</th>\n",
       "      <th>Foundation Type</th>\n",
       "      <th>Year Built</th>\n",
       "      <th>Exterior Wall</th>\n",
       "      <th>Grade</th>\n",
       "      <th>Bedrooms</th>\n",
       "      <th>Full Bath</th>\n",
       "      <th>Half Bath</th>\n",
       "    </tr>\n",
       "  </thead>\n",
       "  <tbody>\n",
       "    <tr>\n",
       "      <th>32116</th>\n",
       "      <td>SINGLE FAMILY</td>\n",
       "      <td>BRENTWOOD</td>\n",
       "      <td>6/5/15</td>\n",
       "      <td>310275</td>\n",
       "      <td>No</td>\n",
       "      <td>No</td>\n",
       "      <td>5180  FRANKLIN PIKE CIR</td>\n",
       "      <td>NASHVILLE</td>\n",
       "      <td>0.61</td>\n",
       "      <td>URBAN SERVICES DISTRICT</td>\n",
       "      <td>4026.0</td>\n",
       "      <td>47000.0</td>\n",
       "      <td>234300.0</td>\n",
       "      <td>281300.0</td>\n",
       "      <td>1647.0</td>\n",
       "      <td>FULL BSMT</td>\n",
       "      <td>1963.0</td>\n",
       "      <td>BRICK</td>\n",
       "      <td>C</td>\n",
       "      <td>3.0</td>\n",
       "      <td>1.0</td>\n",
       "      <td>1.0</td>\n",
       "    </tr>\n",
       "    <tr>\n",
       "      <th>43848</th>\n",
       "      <td>SINGLE FAMILY</td>\n",
       "      <td>NaN</td>\n",
       "      <td>2/4/16</td>\n",
       "      <td>465000</td>\n",
       "      <td>No</td>\n",
       "      <td>No</td>\n",
       "      <td>704  CRESCENT RD</td>\n",
       "      <td>NASHVILLE</td>\n",
       "      <td>0.32</td>\n",
       "      <td>URBAN SERVICES DISTRICT</td>\n",
       "      <td>3227.0</td>\n",
       "      <td>220000.0</td>\n",
       "      <td>501100.0</td>\n",
       "      <td>721100.0</td>\n",
       "      <td>4420.0</td>\n",
       "      <td>CRAWL</td>\n",
       "      <td>2016.0</td>\n",
       "      <td>BRICK/FRAME</td>\n",
       "      <td>B</td>\n",
       "      <td>5.0</td>\n",
       "      <td>4.0</td>\n",
       "      <td>1.0</td>\n",
       "    </tr>\n",
       "    <tr>\n",
       "      <th>44211</th>\n",
       "      <td>SINGLE FAMILY</td>\n",
       "      <td>NaN</td>\n",
       "      <td>2/24/16</td>\n",
       "      <td>179900</td>\n",
       "      <td>No</td>\n",
       "      <td>No</td>\n",
       "      <td>1622  PORTER AVE</td>\n",
       "      <td>NASHVILLE</td>\n",
       "      <td>0.16</td>\n",
       "      <td>URBAN SERVICES DISTRICT</td>\n",
       "      <td>3627.0</td>\n",
       "      <td>25000.0</td>\n",
       "      <td>283100.0</td>\n",
       "      <td>308100.0</td>\n",
       "      <td>2414.0</td>\n",
       "      <td>CRAWL</td>\n",
       "      <td>2016.0</td>\n",
       "      <td>FRAME</td>\n",
       "      <td>B</td>\n",
       "      <td>4.0</td>\n",
       "      <td>2.0</td>\n",
       "      <td>1.0</td>\n",
       "    </tr>\n",
       "  </tbody>\n",
       "</table>\n",
       "</div>"
      ],
      "text/plain": [
       "            Land Use Property City Sale Date  Sale Price Sold As Vacant  \\\n",
       "32116  SINGLE FAMILY     BRENTWOOD    6/5/15      310275             No   \n",
       "43848  SINGLE FAMILY           NaN    2/4/16      465000             No   \n",
       "44211  SINGLE FAMILY           NaN   2/24/16      179900             No   \n",
       "\n",
       "      Multiple Parcels Involved in Sale                  Address       City  \\\n",
       "32116                                No  5180  FRANKLIN PIKE CIR  NASHVILLE   \n",
       "43848                                No         704  CRESCENT RD  NASHVILLE   \n",
       "44211                                No         1622  PORTER AVE  NASHVILLE   \n",
       "\n",
       "       Acreage             Tax District  Neighborhood  Land Value  \\\n",
       "32116     0.61  URBAN SERVICES DISTRICT        4026.0     47000.0   \n",
       "43848     0.32  URBAN SERVICES DISTRICT        3227.0    220000.0   \n",
       "44211     0.16  URBAN SERVICES DISTRICT        3627.0     25000.0   \n",
       "\n",
       "       Building Value  Total Value  Finished Area Foundation Type  Year Built  \\\n",
       "32116        234300.0     281300.0         1647.0       FULL BSMT      1963.0   \n",
       "43848        501100.0     721100.0         4420.0           CRAWL      2016.0   \n",
       "44211        283100.0     308100.0         2414.0           CRAWL      2016.0   \n",
       "\n",
       "      Exterior Wall Grade  Bedrooms  Full Bath  Half Bath  \n",
       "32116         BRICK  C          3.0        1.0        1.0  \n",
       "43848   BRICK/FRAME  B          5.0        4.0        1.0  \n",
       "44211         FRAME  B          4.0        2.0        1.0  "
      ]
     },
     "execution_count": 33,
     "metadata": {},
     "output_type": "execute_result"
    }
   ],
   "source": [
    "filt_sameCity = (df['Property City'] == df['City'])\n",
    "df[~filt_sameCity].head()"
   ]
  },
  {
   "cell_type": "markdown",
   "metadata": {
    "slideshow": {
     "slide_type": "fragment"
    }
   },
   "source": [
    "There are only 3 values with distinct Property City and City. I will get rid of the Property City column."
   ]
  },
  {
   "cell_type": "code",
   "execution_count": 34,
   "metadata": {
    "slideshow": {
     "slide_type": "skip"
    }
   },
   "outputs": [
    {
     "name": "stderr",
     "output_type": "stream",
     "text": [
      "/var/folders/nm/4q_z_8sn05lcj4pbs6qf6s7h0000gn/T/ipykernel_80401/1476490455.py:2: UserWarning: Boolean Series key will be reindexed to match DataFrame index.\n",
      "  df[~filt_sameCity].head()\n"
     ]
    },
    {
     "data": {
      "text/html": [
       "<div>\n",
       "<style scoped>\n",
       "    .dataframe tbody tr th:only-of-type {\n",
       "        vertical-align: middle;\n",
       "    }\n",
       "\n",
       "    .dataframe tbody tr th {\n",
       "        vertical-align: top;\n",
       "    }\n",
       "\n",
       "    .dataframe thead th {\n",
       "        text-align: right;\n",
       "    }\n",
       "</style>\n",
       "<table border=\"1\" class=\"dataframe\">\n",
       "  <thead>\n",
       "    <tr style=\"text-align: right;\">\n",
       "      <th></th>\n",
       "      <th>Land Use</th>\n",
       "      <th>Property City</th>\n",
       "      <th>Sale Date</th>\n",
       "      <th>Sale Price</th>\n",
       "      <th>Sold As Vacant</th>\n",
       "      <th>Multiple Parcels Involved in Sale</th>\n",
       "      <th>Address</th>\n",
       "      <th>City</th>\n",
       "      <th>Acreage</th>\n",
       "      <th>Tax District</th>\n",
       "      <th>Neighborhood</th>\n",
       "      <th>Land Value</th>\n",
       "      <th>Building Value</th>\n",
       "      <th>Total Value</th>\n",
       "      <th>Finished Area</th>\n",
       "      <th>Foundation Type</th>\n",
       "      <th>Year Built</th>\n",
       "      <th>Exterior Wall</th>\n",
       "      <th>Grade</th>\n",
       "      <th>Bedrooms</th>\n",
       "      <th>Full Bath</th>\n",
       "      <th>Half Bath</th>\n",
       "    </tr>\n",
       "  </thead>\n",
       "  <tbody>\n",
       "  </tbody>\n",
       "</table>\n",
       "</div>"
      ],
      "text/plain": [
       "Empty DataFrame\n",
       "Columns: [Land Use, Property City, Sale Date, Sale Price, Sold As Vacant, Multiple Parcels Involved in Sale, Address, City, Acreage, Tax District, Neighborhood, Land Value, Building Value, Total Value, Finished Area, Foundation Type, Year Built, Exterior Wall, Grade, Bedrooms, Full Bath, Half Bath]\n",
       "Index: []"
      ]
     },
     "execution_count": 34,
     "metadata": {},
     "output_type": "execute_result"
    }
   ],
   "source": [
    "df = df[filt_sameCity]\n",
    "df[~filt_sameCity].head()"
   ]
  },
  {
   "cell_type": "code",
   "execution_count": 35,
   "metadata": {
    "slideshow": {
     "slide_type": "fragment"
    }
   },
   "outputs": [],
   "source": [
    "df.drop(columns = 'Property City', axis = 1, inplace = True)"
   ]
  },
  {
   "cell_type": "code",
   "execution_count": 36,
   "metadata": {
    "slideshow": {
     "slide_type": "slide"
    }
   },
   "outputs": [
    {
     "data": {
      "text/plain": [
       "(24163, 21)"
      ]
     },
     "execution_count": 36,
     "metadata": {},
     "output_type": "execute_result"
    }
   ],
   "source": [
    "# Let's have a fresher look at the data\n",
    "df.shape"
   ]
  },
  {
   "cell_type": "code",
   "execution_count": 37,
   "metadata": {
    "slideshow": {
     "slide_type": "fragment"
    }
   },
   "outputs": [
    {
     "data": {
      "text/html": [
       "<div>\n",
       "<style scoped>\n",
       "    .dataframe tbody tr th:only-of-type {\n",
       "        vertical-align: middle;\n",
       "    }\n",
       "\n",
       "    .dataframe tbody tr th {\n",
       "        vertical-align: top;\n",
       "    }\n",
       "\n",
       "    .dataframe thead th {\n",
       "        text-align: right;\n",
       "    }\n",
       "</style>\n",
       "<table border=\"1\" class=\"dataframe\">\n",
       "  <thead>\n",
       "    <tr style=\"text-align: right;\">\n",
       "      <th></th>\n",
       "      <th>Land Use</th>\n",
       "      <th>Sale Date</th>\n",
       "      <th>Sale Price</th>\n",
       "      <th>Sold As Vacant</th>\n",
       "      <th>Multiple Parcels Involved in Sale</th>\n",
       "      <th>Address</th>\n",
       "      <th>City</th>\n",
       "      <th>Acreage</th>\n",
       "      <th>Tax District</th>\n",
       "      <th>Neighborhood</th>\n",
       "      <th>Land Value</th>\n",
       "      <th>Building Value</th>\n",
       "      <th>Total Value</th>\n",
       "      <th>Finished Area</th>\n",
       "      <th>Foundation Type</th>\n",
       "      <th>Year Built</th>\n",
       "      <th>Exterior Wall</th>\n",
       "      <th>Grade</th>\n",
       "      <th>Bedrooms</th>\n",
       "      <th>Full Bath</th>\n",
       "      <th>Half Bath</th>\n",
       "    </tr>\n",
       "  </thead>\n",
       "  <tbody>\n",
       "    <tr>\n",
       "      <th>1</th>\n",
       "      <td>SINGLE FAMILY</td>\n",
       "      <td>1/11/13</td>\n",
       "      <td>191500</td>\n",
       "      <td>No</td>\n",
       "      <td>No</td>\n",
       "      <td>1802  STEWART PL</td>\n",
       "      <td>NASHVILLE</td>\n",
       "      <td>0.17</td>\n",
       "      <td>URBAN SERVICES DISTRICT</td>\n",
       "      <td>3127.0</td>\n",
       "      <td>32000.0</td>\n",
       "      <td>134400.0</td>\n",
       "      <td>168300.0</td>\n",
       "      <td>1149.00000</td>\n",
       "      <td>PT BSMT</td>\n",
       "      <td>1941.0</td>\n",
       "      <td>BRICK</td>\n",
       "      <td>C</td>\n",
       "      <td>2.0</td>\n",
       "      <td>1.0</td>\n",
       "      <td>0.0</td>\n",
       "    </tr>\n",
       "    <tr>\n",
       "      <th>2</th>\n",
       "      <td>SINGLE FAMILY</td>\n",
       "      <td>1/18/13</td>\n",
       "      <td>202000</td>\n",
       "      <td>No</td>\n",
       "      <td>No</td>\n",
       "      <td>2761  ROSEDALE PL</td>\n",
       "      <td>NASHVILLE</td>\n",
       "      <td>0.11</td>\n",
       "      <td>CITY OF BERRY HILL</td>\n",
       "      <td>9126.0</td>\n",
       "      <td>34000.0</td>\n",
       "      <td>157800.0</td>\n",
       "      <td>191800.0</td>\n",
       "      <td>2090.82495</td>\n",
       "      <td>SLAB</td>\n",
       "      <td>2000.0</td>\n",
       "      <td>BRICK/FRAME</td>\n",
       "      <td>C</td>\n",
       "      <td>3.0</td>\n",
       "      <td>2.0</td>\n",
       "      <td>1.0</td>\n",
       "    </tr>\n",
       "    <tr>\n",
       "      <th>3</th>\n",
       "      <td>SINGLE FAMILY</td>\n",
       "      <td>1/18/13</td>\n",
       "      <td>32000</td>\n",
       "      <td>No</td>\n",
       "      <td>No</td>\n",
       "      <td>224  PEACHTREE ST</td>\n",
       "      <td>NASHVILLE</td>\n",
       "      <td>0.17</td>\n",
       "      <td>URBAN SERVICES DISTRICT</td>\n",
       "      <td>3130.0</td>\n",
       "      <td>25000.0</td>\n",
       "      <td>243700.0</td>\n",
       "      <td>268700.0</td>\n",
       "      <td>2145.60001</td>\n",
       "      <td>FULL BSMT</td>\n",
       "      <td>1948.0</td>\n",
       "      <td>BRICK/FRAME</td>\n",
       "      <td>B</td>\n",
       "      <td>4.0</td>\n",
       "      <td>2.0</td>\n",
       "      <td>0.0</td>\n",
       "    </tr>\n",
       "    <tr>\n",
       "      <th>4</th>\n",
       "      <td>SINGLE FAMILY</td>\n",
       "      <td>1/23/13</td>\n",
       "      <td>102000</td>\n",
       "      <td>No</td>\n",
       "      <td>No</td>\n",
       "      <td>316  LUTIE ST</td>\n",
       "      <td>NASHVILLE</td>\n",
       "      <td>0.34</td>\n",
       "      <td>URBAN SERVICES DISTRICT</td>\n",
       "      <td>3130.0</td>\n",
       "      <td>25000.0</td>\n",
       "      <td>138100.0</td>\n",
       "      <td>164800.0</td>\n",
       "      <td>1969.00000</td>\n",
       "      <td>CRAWL</td>\n",
       "      <td>1910.0</td>\n",
       "      <td>FRAME</td>\n",
       "      <td>C</td>\n",
       "      <td>2.0</td>\n",
       "      <td>1.0</td>\n",
       "      <td>0.0</td>\n",
       "    </tr>\n",
       "    <tr>\n",
       "      <th>5</th>\n",
       "      <td>SINGLE FAMILY</td>\n",
       "      <td>1/4/13</td>\n",
       "      <td>93736</td>\n",
       "      <td>No</td>\n",
       "      <td>No</td>\n",
       "      <td>2626  FOSTER AVE</td>\n",
       "      <td>NASHVILLE</td>\n",
       "      <td>0.17</td>\n",
       "      <td>URBAN SERVICES DISTRICT</td>\n",
       "      <td>3130.0</td>\n",
       "      <td>25000.0</td>\n",
       "      <td>86100.0</td>\n",
       "      <td>113300.0</td>\n",
       "      <td>1037.00000</td>\n",
       "      <td>CRAWL</td>\n",
       "      <td>1945.0</td>\n",
       "      <td>FRAME</td>\n",
       "      <td>C</td>\n",
       "      <td>2.0</td>\n",
       "      <td>1.0</td>\n",
       "      <td>0.0</td>\n",
       "    </tr>\n",
       "  </tbody>\n",
       "</table>\n",
       "</div>"
      ],
      "text/plain": [
       "        Land Use Sale Date  Sale Price Sold As Vacant  \\\n",
       "1  SINGLE FAMILY   1/11/13      191500             No   \n",
       "2  SINGLE FAMILY   1/18/13      202000             No   \n",
       "3  SINGLE FAMILY   1/18/13       32000             No   \n",
       "4  SINGLE FAMILY   1/23/13      102000             No   \n",
       "5  SINGLE FAMILY    1/4/13       93736             No   \n",
       "\n",
       "  Multiple Parcels Involved in Sale            Address       City  Acreage  \\\n",
       "1                                No   1802  STEWART PL  NASHVILLE     0.17   \n",
       "2                                No  2761  ROSEDALE PL  NASHVILLE     0.11   \n",
       "3                                No  224  PEACHTREE ST  NASHVILLE     0.17   \n",
       "4                                No      316  LUTIE ST  NASHVILLE     0.34   \n",
       "5                                No   2626  FOSTER AVE  NASHVILLE     0.17   \n",
       "\n",
       "              Tax District  Neighborhood  Land Value  Building Value  \\\n",
       "1  URBAN SERVICES DISTRICT        3127.0     32000.0        134400.0   \n",
       "2       CITY OF BERRY HILL        9126.0     34000.0        157800.0   \n",
       "3  URBAN SERVICES DISTRICT        3130.0     25000.0        243700.0   \n",
       "4  URBAN SERVICES DISTRICT        3130.0     25000.0        138100.0   \n",
       "5  URBAN SERVICES DISTRICT        3130.0     25000.0         86100.0   \n",
       "\n",
       "   Total Value  Finished Area Foundation Type  Year Built Exterior Wall Grade  \\\n",
       "1     168300.0     1149.00000         PT BSMT      1941.0         BRICK  C      \n",
       "2     191800.0     2090.82495            SLAB      2000.0   BRICK/FRAME  C      \n",
       "3     268700.0     2145.60001       FULL BSMT      1948.0   BRICK/FRAME  B      \n",
       "4     164800.0     1969.00000           CRAWL      1910.0         FRAME  C      \n",
       "5     113300.0     1037.00000           CRAWL      1945.0         FRAME  C      \n",
       "\n",
       "   Bedrooms  Full Bath  Half Bath  \n",
       "1       2.0        1.0        0.0  \n",
       "2       3.0        2.0        1.0  \n",
       "3       4.0        2.0        0.0  \n",
       "4       2.0        1.0        0.0  \n",
       "5       2.0        1.0        0.0  "
      ]
     },
     "execution_count": 37,
     "metadata": {},
     "output_type": "execute_result"
    }
   ],
   "source": [
    "df.head()"
   ]
  },
  {
   "cell_type": "markdown",
   "metadata": {
    "slideshow": {
     "slide_type": "fragment"
    }
   },
   "source": [
    "I think we have the features we want now. Let's go over the missing values one more time."
   ]
  },
  {
   "cell_type": "code",
   "execution_count": 38,
   "metadata": {
    "slideshow": {
     "slide_type": "slide"
    }
   },
   "outputs": [
    {
     "data": {
      "text/plain": [
       "Land Use                               0\n",
       "Sale Date                              0\n",
       "Sale Price                             0\n",
       "Sold As Vacant                         0\n",
       "Multiple Parcels Involved in Sale      0\n",
       "Address                                0\n",
       "City                                   0\n",
       "Acreage                                0\n",
       "Tax District                           0\n",
       "Neighborhood                           0\n",
       "Land Value                             0\n",
       "Building Value                         0\n",
       "Total Value                            0\n",
       "Finished Area                          0\n",
       "Foundation Type                        3\n",
       "Year Built                             2\n",
       "Exterior Wall                          2\n",
       "Grade                                  2\n",
       "Bedrooms                              20\n",
       "Full Bath                              5\n",
       "Half Bath                            136\n",
       "dtype: int64"
      ]
     },
     "execution_count": 38,
     "metadata": {},
     "output_type": "execute_result"
    }
   ],
   "source": [
    "df.isna().sum()"
   ]
  },
  {
   "cell_type": "code",
   "execution_count": 39,
   "metadata": {
    "slideshow": {
     "slide_type": "skip"
    }
   },
   "outputs": [
    {
     "data": {
      "text/plain": [
       "Index(['Land Use', 'Sale Date', 'Sale Price', 'Sold As Vacant',\n",
       "       'Multiple Parcels Involved in Sale', 'Address', 'City', 'Acreage',\n",
       "       'Tax District', 'Neighborhood', 'Land Value', 'Building Value',\n",
       "       'Total Value', 'Finished Area', 'Foundation Type', 'Year Built',\n",
       "       'Exterior Wall', 'Grade', 'Bedrooms', 'Full Bath', 'Half Bath'],\n",
       "      dtype='object')"
      ]
     },
     "execution_count": 39,
     "metadata": {},
     "output_type": "execute_result"
    }
   ],
   "source": [
    "df.columns"
   ]
  },
  {
   "cell_type": "code",
   "execution_count": 40,
   "metadata": {
    "slideshow": {
     "slide_type": "slide"
    }
   },
   "outputs": [
    {
     "data": {
      "text/plain": [
       "Foundation Type     object\n",
       "Year Built         float64\n",
       "Exterior Wall       object\n",
       "Grade               object\n",
       "Bedrooms           float64\n",
       "Full Bath          float64\n",
       "Half Bath          float64\n",
       "dtype: object"
      ]
     },
     "execution_count": 40,
     "metadata": {},
     "output_type": "execute_result"
    }
   ],
   "source": [
    "df[['Foundation Type', 'Year Built', 'Exterior Wall', 'Grade', 'Bedrooms', 'Full Bath', 'Half Bath']].dtypes"
   ]
  },
  {
   "cell_type": "markdown",
   "metadata": {
    "slideshow": {
     "slide_type": "slide"
    }
   },
   "source": [
    "### Full Bath\n",
    "We fill in the missing values with the mean."
   ]
  },
  {
   "cell_type": "code",
   "execution_count": 41,
   "metadata": {
    "slideshow": {
     "slide_type": "fragment"
    }
   },
   "outputs": [
    {
     "data": {
      "text/plain": [
       "<bound method IndexOpsMixin.value_counts of 1        1.0\n",
       "2        2.0\n",
       "3        2.0\n",
       "4        1.0\n",
       "5        1.0\n",
       "        ... \n",
       "56605    3.0\n",
       "56607    3.0\n",
       "56614    2.0\n",
       "56615    3.0\n",
       "56616    1.0\n",
       "Name: Full Bath, Length: 24163, dtype: float64>"
      ]
     },
     "execution_count": 41,
     "metadata": {},
     "output_type": "execute_result"
    }
   ],
   "source": [
    "df['Full Bath'].value_counts"
   ]
  },
  {
   "cell_type": "code",
   "execution_count": 42,
   "metadata": {
    "slideshow": {
     "slide_type": "fragment"
    }
   },
   "outputs": [
    {
     "data": {
      "text/plain": [
       "11"
      ]
     },
     "execution_count": 42,
     "metadata": {},
     "output_type": "execute_result"
    }
   ],
   "source": [
    "df['Full Bath'].nunique()"
   ]
  },
  {
   "cell_type": "code",
   "execution_count": 43,
   "metadata": {
    "slideshow": {
     "slide_type": "fragment"
    }
   },
   "outputs": [
    {
     "data": {
      "text/plain": [
       "array([ 1.,  2.,  4.,  3.,  5.,  6., 10.,  0.,  8.,  7.,  9., nan])"
      ]
     },
     "execution_count": 43,
     "metadata": {},
     "output_type": "execute_result"
    }
   ],
   "source": [
    "df['Full Bath'].unique()"
   ]
  },
  {
   "cell_type": "code",
   "execution_count": 44,
   "metadata": {
    "slideshow": {
     "slide_type": "fragment"
    }
   },
   "outputs": [
    {
     "name": "stdout",
     "output_type": "stream",
     "text": [
      "1.895065816706681\n",
      "2.0\n"
     ]
    }
   ],
   "source": [
    "print(df['Full Bath'].mean())\n",
    "print(round(df['Full Bath'].mean(), 0))\n",
    "df['Full Bath'] = df['Full Bath'].fillna(round(df['Full Bath'].mean(), 0))"
   ]
  },
  {
   "cell_type": "markdown",
   "metadata": {
    "slideshow": {
     "slide_type": "slide"
    }
   },
   "source": [
    "### Half Bath\n",
    "We assume that if half bath is missing, the house does not have it."
   ]
  },
  {
   "cell_type": "code",
   "execution_count": 45,
   "metadata": {
    "slideshow": {
     "slide_type": "fragment"
    }
   },
   "outputs": [
    {
     "data": {
      "text/plain": [
       "2263    NaN\n",
       "5487    NaN\n",
       "5846    NaN\n",
       "5959    NaN\n",
       "6025    NaN\n",
       "         ..\n",
       "53395   NaN\n",
       "54465   NaN\n",
       "54835   NaN\n",
       "56259   NaN\n",
       "56294   NaN\n",
       "Name: Half Bath, Length: 136, dtype: float64"
      ]
     },
     "execution_count": 45,
     "metadata": {},
     "output_type": "execute_result"
    }
   ],
   "source": [
    "df['Half Bath'][df['Half Bath'].isna()]"
   ]
  },
  {
   "cell_type": "markdown",
   "metadata": {
    "slideshow": {
     "slide_type": "fragment"
    }
   },
   "source": [
    "I am going to assume that if Half Bath is missing, it does not exist. Or, that unit does not have a half bathroom."
   ]
  },
  {
   "cell_type": "code",
   "execution_count": 46,
   "metadata": {
    "slideshow": {
     "slide_type": "fragment"
    }
   },
   "outputs": [],
   "source": [
    "df['Half Bath'] = df['Half Bath'].fillna(0.0)"
   ]
  },
  {
   "cell_type": "markdown",
   "metadata": {
    "slideshow": {
     "slide_type": "slide"
    }
   },
   "source": [
    "### Bedrooms\n",
    "We fill in the missing values with the mean."
   ]
  },
  {
   "cell_type": "code",
   "execution_count": 47,
   "metadata": {
    "slideshow": {
     "slide_type": "fragment"
    }
   },
   "outputs": [
    {
     "name": "stdout",
     "output_type": "stream",
     "text": [
      "3.09149650002071\n",
      "0    3.0\n",
      "dtype: float64\n",
      "3.0\n"
     ]
    }
   ],
   "source": [
    "print(df['Bedrooms'].mean())\n",
    "print(df['Bedrooms'].mode())\n",
    "print(round(df['Bedrooms'].mean(), 0))\n",
    "df['Bedrooms'] = df['Bedrooms'].fillna(round(df['Bedrooms'].mean(), 0))"
   ]
  },
  {
   "cell_type": "code",
   "execution_count": 48,
   "metadata": {
    "slideshow": {
     "slide_type": "fragment"
    }
   },
   "outputs": [
    {
     "name": "stdout",
     "output_type": "stream",
     "text": [
      "31\n",
      "12896\n"
     ]
    }
   ],
   "source": [
    "print(df['Bedrooms'][df['Bedrooms'] == 0].count())\n",
    "print(df['Bedrooms'][df['Bedrooms'] == 3].count())"
   ]
  },
  {
   "cell_type": "markdown",
   "metadata": {
    "slideshow": {
     "slide_type": "slide"
    }
   },
   "source": [
    "### Grade\n",
    "We fill in the grade with its mode."
   ]
  },
  {
   "cell_type": "code",
   "execution_count": 49,
   "metadata": {
    "slideshow": {
     "slide_type": "fragment"
    }
   },
   "outputs": [
    {
     "data": {
      "text/plain": [
       "C       17260\n",
       "B        3696\n",
       "D        1984\n",
       "A         598\n",
       "X         523\n",
       "E          60\n",
       "TCC        20\n",
       "IDC         3\n",
       "AAB         3\n",
       "AAC         3\n",
       "OFC         2\n",
       "SRC         1\n",
       "SSC         1\n",
       "SRD         1\n",
       "TFC         1\n",
       "TCB         1\n",
       "TAC         1\n",
       "OMB         1\n",
       "OFB         1\n",
       "TCD         1\n",
       "Name: Grade, dtype: int64"
      ]
     },
     "execution_count": 49,
     "metadata": {},
     "output_type": "execute_result"
    }
   ],
   "source": [
    "df['Grade'].value_counts()"
   ]
  },
  {
   "cell_type": "code",
   "execution_count": 50,
   "metadata": {
    "slideshow": {
     "slide_type": "fragment"
    }
   },
   "outputs": [
    {
     "name": "stdout",
     "output_type": "stream",
     "text": [
      "0    C   \n",
      "dtype: object\n"
     ]
    }
   ],
   "source": [
    "print(df['Grade'].mode())\n",
    "df['Grade'] = df['Grade'].fillna(df['Grade'].mode())"
   ]
  },
  {
   "cell_type": "markdown",
   "metadata": {
    "slideshow": {
     "slide_type": "slide"
    }
   },
   "source": [
    "### Foundation Type\n",
    "We  fill in the missing Foundation Type with its mode"
   ]
  },
  {
   "cell_type": "code",
   "execution_count": 51,
   "metadata": {
    "slideshow": {
     "slide_type": "fragment"
    }
   },
   "outputs": [
    {
     "data": {
      "text/plain": [
       "CRAWL        15386\n",
       "FULL BSMT     3916\n",
       "PT BSMT       3200\n",
       "SLAB          1581\n",
       "TYPICAL         40\n",
       "PIERS           37\n",
       "Name: Foundation Type, dtype: int64"
      ]
     },
     "execution_count": 51,
     "metadata": {},
     "output_type": "execute_result"
    }
   ],
   "source": [
    "df['Foundation Type'].value_counts()"
   ]
  },
  {
   "cell_type": "code",
   "execution_count": 52,
   "metadata": {
    "slideshow": {
     "slide_type": "fragment"
    }
   },
   "outputs": [
    {
     "name": "stdout",
     "output_type": "stream",
     "text": [
      "0    CRAWL\n",
      "dtype: object\n"
     ]
    }
   ],
   "source": [
    "print(df['Foundation Type'].mode())\n",
    "df['Foundation Type'] = df['Foundation Type'].fillna(df['Foundation Type'].mode())"
   ]
  },
  {
   "cell_type": "markdown",
   "metadata": {
    "slideshow": {
     "slide_type": "slide"
    }
   },
   "source": [
    "### Year Built\n",
    "I decided to drop the two  missing values, since replacing year built can be more misleading."
   ]
  },
  {
   "cell_type": "code",
   "execution_count": 53,
   "metadata": {
    "slideshow": {
     "slide_type": "fragment"
    }
   },
   "outputs": [
    {
     "data": {
      "text/plain": [
       "1950.0    1153\n",
       "1930.0    1008\n",
       "1955.0    1005\n",
       "1960.0     759\n",
       "1940.0     751\n",
       "          ... \n",
       "1901.0       1\n",
       "1799.0       1\n",
       "1914.0       1\n",
       "1890.0       1\n",
       "1832.0       1\n",
       "Name: Year Built, Length: 126, dtype: int64"
      ]
     },
     "execution_count": 53,
     "metadata": {},
     "output_type": "execute_result"
    }
   ],
   "source": [
    "df['Year Built'].value_counts()"
   ]
  },
  {
   "cell_type": "code",
   "execution_count": 54,
   "metadata": {
    "slideshow": {
     "slide_type": "fragment"
    }
   },
   "outputs": [],
   "source": [
    "df.dropna(subset = ['Year Built'], inplace = True)"
   ]
  },
  {
   "cell_type": "markdown",
   "metadata": {
    "slideshow": {
     "slide_type": "slide"
    }
   },
   "source": [
    "### Exterior Wall\n",
    "We fill in the missing Exterior Wall with its mode"
   ]
  },
  {
   "cell_type": "code",
   "execution_count": 55,
   "metadata": {
    "slideshow": {
     "slide_type": "fragment"
    }
   },
   "outputs": [
    {
     "data": {
      "text/plain": [
       "BRICK           11940\n",
       "FRAME            8869\n",
       "BRICK/FRAME      2601\n",
       "STONE             331\n",
       "STUCCO            168\n",
       "CONC BLK          113\n",
       "FRAME/STONE       108\n",
       "LOG                15\n",
       "METAL              15\n",
       "PRECAST CONC        1\n",
       "Name: Exterior Wall, dtype: int64"
      ]
     },
     "execution_count": 55,
     "metadata": {},
     "output_type": "execute_result"
    }
   ],
   "source": [
    "df['Exterior Wall'].value_counts()"
   ]
  },
  {
   "cell_type": "code",
   "execution_count": 56,
   "metadata": {
    "slideshow": {
     "slide_type": "fragment"
    }
   },
   "outputs": [
    {
     "name": "stdout",
     "output_type": "stream",
     "text": [
      "0    BRICK\n",
      "dtype: object\n"
     ]
    }
   ],
   "source": [
    "print(df['Exterior Wall'].mode())\n",
    "df['Exterior Wall'] = df['Exterior Wall'].fillna(df['Exterior Wall'].mode())"
   ]
  },
  {
   "cell_type": "code",
   "execution_count": 57,
   "metadata": {
    "slideshow": {
     "slide_type": "skip"
    }
   },
   "outputs": [],
   "source": [
    "df.dropna(subset = ['Foundation Type'], inplace = True)"
   ]
  },
  {
   "cell_type": "code",
   "execution_count": 58,
   "metadata": {
    "slideshow": {
     "slide_type": "slide"
    }
   },
   "outputs": [
    {
     "data": {
      "text/plain": [
       "Land Use                             0\n",
       "Sale Date                            0\n",
       "Sale Price                           0\n",
       "Sold As Vacant                       0\n",
       "Multiple Parcels Involved in Sale    0\n",
       "Address                              0\n",
       "City                                 0\n",
       "Acreage                              0\n",
       "Tax District                         0\n",
       "Neighborhood                         0\n",
       "Land Value                           0\n",
       "Building Value                       0\n",
       "Total Value                          0\n",
       "Finished Area                        0\n",
       "Foundation Type                      0\n",
       "Year Built                           0\n",
       "Exterior Wall                        0\n",
       "Grade                                0\n",
       "Bedrooms                             0\n",
       "Full Bath                            0\n",
       "Half Bath                            0\n",
       "dtype: int64"
      ]
     },
     "execution_count": 58,
     "metadata": {},
     "output_type": "execute_result"
    }
   ],
   "source": [
    "# We are done with missing values\n",
    "df.isna().sum()"
   ]
  },
  {
   "cell_type": "markdown",
   "metadata": {
    "slideshow": {
     "slide_type": "fragment"
    }
   },
   "source": [
    "Now we are done with filling in the missing values."
   ]
  },
  {
   "cell_type": "markdown",
   "metadata": {
    "slideshow": {
     "slide_type": "slide"
    }
   },
   "source": [
    "### Last look at data before training"
   ]
  },
  {
   "cell_type": "code",
   "execution_count": 59,
   "metadata": {
    "slideshow": {
     "slide_type": "fragment"
    }
   },
   "outputs": [
    {
     "data": {
      "text/html": [
       "<div>\n",
       "<style scoped>\n",
       "    .dataframe tbody tr th:only-of-type {\n",
       "        vertical-align: middle;\n",
       "    }\n",
       "\n",
       "    .dataframe tbody tr th {\n",
       "        vertical-align: top;\n",
       "    }\n",
       "\n",
       "    .dataframe thead th {\n",
       "        text-align: right;\n",
       "    }\n",
       "</style>\n",
       "<table border=\"1\" class=\"dataframe\">\n",
       "  <thead>\n",
       "    <tr style=\"text-align: right;\">\n",
       "      <th></th>\n",
       "      <th>Sale Price</th>\n",
       "      <th>Acreage</th>\n",
       "      <th>Neighborhood</th>\n",
       "      <th>Land Value</th>\n",
       "      <th>Building Value</th>\n",
       "      <th>Total Value</th>\n",
       "      <th>Finished Area</th>\n",
       "      <th>Year Built</th>\n",
       "      <th>Bedrooms</th>\n",
       "      <th>Full Bath</th>\n",
       "      <th>Half Bath</th>\n",
       "    </tr>\n",
       "  </thead>\n",
       "  <tbody>\n",
       "    <tr>\n",
       "      <th>count</th>\n",
       "      <td>2.416000e+04</td>\n",
       "      <td>24160.000000</td>\n",
       "      <td>24160.000000</td>\n",
       "      <td>2.416000e+04</td>\n",
       "      <td>2.416000e+04</td>\n",
       "      <td>2.416000e+04</td>\n",
       "      <td>24160.000000</td>\n",
       "      <td>24160.000000</td>\n",
       "      <td>24160.000000</td>\n",
       "      <td>24160.000000</td>\n",
       "      <td>24160.000000</td>\n",
       "    </tr>\n",
       "    <tr>\n",
       "      <th>mean</th>\n",
       "      <td>2.754375e+05</td>\n",
       "      <td>0.454973</td>\n",
       "      <td>4419.936755</td>\n",
       "      <td>6.889078e+04</td>\n",
       "      <td>1.730991e+05</td>\n",
       "      <td>2.446739e+05</td>\n",
       "      <td>1926.928961</td>\n",
       "      <td>1963.743212</td>\n",
       "      <td>3.091432</td>\n",
       "      <td>1.895033</td>\n",
       "      <td>0.283692</td>\n",
       "    </tr>\n",
       "    <tr>\n",
       "      <th>std</th>\n",
       "      <td>3.128183e+05</td>\n",
       "      <td>0.818273</td>\n",
       "      <td>2139.762710</td>\n",
       "      <td>1.017926e+05</td>\n",
       "      <td>2.095485e+05</td>\n",
       "      <td>2.849097e+05</td>\n",
       "      <td>1687.017271</td>\n",
       "      <td>26.542779</td>\n",
       "      <td>0.850004</td>\n",
       "      <td>0.954874</td>\n",
       "      <td>0.487756</td>\n",
       "    </tr>\n",
       "    <tr>\n",
       "      <th>min</th>\n",
       "      <td>1.000000e+02</td>\n",
       "      <td>0.040000</td>\n",
       "      <td>107.000000</td>\n",
       "      <td>1.000000e+02</td>\n",
       "      <td>1.400000e+03</td>\n",
       "      <td>1.260000e+04</td>\n",
       "      <td>450.000000</td>\n",
       "      <td>1799.000000</td>\n",
       "      <td>0.000000</td>\n",
       "      <td>0.000000</td>\n",
       "      <td>0.000000</td>\n",
       "    </tr>\n",
       "    <tr>\n",
       "      <th>25%</th>\n",
       "      <td>1.250000e+05</td>\n",
       "      <td>0.190000</td>\n",
       "      <td>3130.000000</td>\n",
       "      <td>2.160000e+04</td>\n",
       "      <td>8.360000e+04</td>\n",
       "      <td>1.096000e+05</td>\n",
       "      <td>1239.000000</td>\n",
       "      <td>1948.000000</td>\n",
       "      <td>3.000000</td>\n",
       "      <td>1.000000</td>\n",
       "      <td>0.000000</td>\n",
       "    </tr>\n",
       "    <tr>\n",
       "      <th>50%</th>\n",
       "      <td>1.850000e+05</td>\n",
       "      <td>0.270000</td>\n",
       "      <td>4026.000000</td>\n",
       "      <td>2.990000e+04</td>\n",
       "      <td>1.174000e+05</td>\n",
       "      <td>1.545500e+05</td>\n",
       "      <td>1632.000000</td>\n",
       "      <td>1960.000000</td>\n",
       "      <td>3.000000</td>\n",
       "      <td>2.000000</td>\n",
       "      <td>0.000000</td>\n",
       "    </tr>\n",
       "    <tr>\n",
       "      <th>75%</th>\n",
       "      <td>3.250000e+05</td>\n",
       "      <td>0.450000</td>\n",
       "      <td>6229.000000</td>\n",
       "      <td>6.030000e+04</td>\n",
       "      <td>1.892000e+05</td>\n",
       "      <td>2.780000e+05</td>\n",
       "      <td>2212.000000</td>\n",
       "      <td>1983.000000</td>\n",
       "      <td>3.000000</td>\n",
       "      <td>2.000000</td>\n",
       "      <td>1.000000</td>\n",
       "    </tr>\n",
       "    <tr>\n",
       "      <th>max</th>\n",
       "      <td>1.235000e+07</td>\n",
       "      <td>47.500000</td>\n",
       "      <td>9530.000000</td>\n",
       "      <td>1.869000e+06</td>\n",
       "      <td>1.297180e+07</td>\n",
       "      <td>1.394040e+07</td>\n",
       "      <td>197988.000000</td>\n",
       "      <td>2017.000000</td>\n",
       "      <td>11.000000</td>\n",
       "      <td>10.000000</td>\n",
       "      <td>3.000000</td>\n",
       "    </tr>\n",
       "  </tbody>\n",
       "</table>\n",
       "</div>"
      ],
      "text/plain": [
       "         Sale Price       Acreage  Neighborhood    Land Value  Building Value  \\\n",
       "count  2.416000e+04  24160.000000  24160.000000  2.416000e+04    2.416000e+04   \n",
       "mean   2.754375e+05      0.454973   4419.936755  6.889078e+04    1.730991e+05   \n",
       "std    3.128183e+05      0.818273   2139.762710  1.017926e+05    2.095485e+05   \n",
       "min    1.000000e+02      0.040000    107.000000  1.000000e+02    1.400000e+03   \n",
       "25%    1.250000e+05      0.190000   3130.000000  2.160000e+04    8.360000e+04   \n",
       "50%    1.850000e+05      0.270000   4026.000000  2.990000e+04    1.174000e+05   \n",
       "75%    3.250000e+05      0.450000   6229.000000  6.030000e+04    1.892000e+05   \n",
       "max    1.235000e+07     47.500000   9530.000000  1.869000e+06    1.297180e+07   \n",
       "\n",
       "        Total Value  Finished Area    Year Built      Bedrooms     Full Bath  \\\n",
       "count  2.416000e+04   24160.000000  24160.000000  24160.000000  24160.000000   \n",
       "mean   2.446739e+05    1926.928961   1963.743212      3.091432      1.895033   \n",
       "std    2.849097e+05    1687.017271     26.542779      0.850004      0.954874   \n",
       "min    1.260000e+04     450.000000   1799.000000      0.000000      0.000000   \n",
       "25%    1.096000e+05    1239.000000   1948.000000      3.000000      1.000000   \n",
       "50%    1.545500e+05    1632.000000   1960.000000      3.000000      2.000000   \n",
       "75%    2.780000e+05    2212.000000   1983.000000      3.000000      2.000000   \n",
       "max    1.394040e+07  197988.000000   2017.000000     11.000000     10.000000   \n",
       "\n",
       "          Half Bath  \n",
       "count  24160.000000  \n",
       "mean       0.283692  \n",
       "std        0.487756  \n",
       "min        0.000000  \n",
       "25%        0.000000  \n",
       "50%        0.000000  \n",
       "75%        1.000000  \n",
       "max        3.000000  "
      ]
     },
     "execution_count": 59,
     "metadata": {},
     "output_type": "execute_result"
    }
   ],
   "source": [
    "df.describe()"
   ]
  },
  {
   "cell_type": "code",
   "execution_count": 60,
   "metadata": {
    "slideshow": {
     "slide_type": "fragment"
    }
   },
   "outputs": [],
   "source": [
    "correlation  = df.corr()"
   ]
  },
  {
   "cell_type": "code",
   "execution_count": 61,
   "metadata": {
    "slideshow": {
     "slide_type": "slide"
    }
   },
   "outputs": [
    {
     "data": {
      "text/plain": [
       "<AxesSubplot:>"
      ]
     },
     "execution_count": 61,
     "metadata": {},
     "output_type": "execute_result"
    },
    {
     "data": {
      "image/png": "[encoded data removed]",
      "text/plain": [
       "<Figure size 720x720 with 2 Axes>"
      ]
     },
     "metadata": {
      "needs_background": "light"
     },
     "output_type": "display_data"
    }
   ],
   "source": [
    "plt.figure(figsize = (10,10))\n",
    "sns.heatmap(correlation, cbar = True, square = True, fmt = '.1f', annot = True, annot_kws={'size':8}, cmap = 'Blues')"
   ]
  },
  {
   "cell_type": "markdown",
   "metadata": {
    "slideshow": {
     "slide_type": "fragment"
    }
   },
   "source": [
    "As it can be seen from the heatmap, There is a very strong correlation between Total Value and Building Value. We don't want erronous results. "
   ]
  },
  {
   "cell_type": "code",
   "execution_count": 62,
   "metadata": {
    "slideshow": {
     "slide_type": "slide"
    }
   },
   "outputs": [],
   "source": [
    "df.drop(columns = 'Building Value', axis = 1, inplace = True)"
   ]
  },
  {
   "cell_type": "code",
   "execution_count": 63,
   "metadata": {
    "slideshow": {
     "slide_type": "fragment"
    }
   },
   "outputs": [],
   "source": [
    "df.drop(columns = 'Total Value', axis = 1, inplace = True)"
   ]
  },
  {
   "cell_type": "code",
   "execution_count": 64,
   "metadata": {
    "slideshow": {
     "slide_type": "fragment"
    }
   },
   "outputs": [
    {
     "data": {
      "text/html": [
       "<div>\n",
       "<style scoped>\n",
       "    .dataframe tbody tr th:only-of-type {\n",
       "        vertical-align: middle;\n",
       "    }\n",
       "\n",
       "    .dataframe tbody tr th {\n",
       "        vertical-align: top;\n",
       "    }\n",
       "\n",
       "    .dataframe thead th {\n",
       "        text-align: right;\n",
       "    }\n",
       "</style>\n",
       "<table border=\"1\" class=\"dataframe\">\n",
       "  <thead>\n",
       "    <tr style=\"text-align: right;\">\n",
       "      <th></th>\n",
       "      <th>Land Use</th>\n",
       "      <th>Sale Date</th>\n",
       "      <th>Sale Price</th>\n",
       "      <th>Sold As Vacant</th>\n",
       "      <th>Multiple Parcels Involved in Sale</th>\n",
       "      <th>Address</th>\n",
       "      <th>City</th>\n",
       "      <th>Acreage</th>\n",
       "      <th>Tax District</th>\n",
       "      <th>Neighborhood</th>\n",
       "      <th>Land Value</th>\n",
       "      <th>Finished Area</th>\n",
       "      <th>Foundation Type</th>\n",
       "      <th>Year Built</th>\n",
       "      <th>Exterior Wall</th>\n",
       "      <th>Grade</th>\n",
       "      <th>Bedrooms</th>\n",
       "      <th>Full Bath</th>\n",
       "      <th>Half Bath</th>\n",
       "    </tr>\n",
       "  </thead>\n",
       "  <tbody>\n",
       "    <tr>\n",
       "      <th>1</th>\n",
       "      <td>SINGLE FAMILY</td>\n",
       "      <td>1/11/13</td>\n",
       "      <td>191500</td>\n",
       "      <td>No</td>\n",
       "      <td>No</td>\n",
       "      <td>1802  STEWART PL</td>\n",
       "      <td>NASHVILLE</td>\n",
       "      <td>0.17</td>\n",
       "      <td>URBAN SERVICES DISTRICT</td>\n",
       "      <td>3127.0</td>\n",
       "      <td>32000.0</td>\n",
       "      <td>1149.00000</td>\n",
       "      <td>PT BSMT</td>\n",
       "      <td>1941.0</td>\n",
       "      <td>BRICK</td>\n",
       "      <td>C</td>\n",
       "      <td>2.0</td>\n",
       "      <td>1.0</td>\n",
       "      <td>0.0</td>\n",
       "    </tr>\n",
       "    <tr>\n",
       "      <th>2</th>\n",
       "      <td>SINGLE FAMILY</td>\n",
       "      <td>1/18/13</td>\n",
       "      <td>202000</td>\n",
       "      <td>No</td>\n",
       "      <td>No</td>\n",
       "      <td>2761  ROSEDALE PL</td>\n",
       "      <td>NASHVILLE</td>\n",
       "      <td>0.11</td>\n",
       "      <td>CITY OF BERRY HILL</td>\n",
       "      <td>9126.0</td>\n",
       "      <td>34000.0</td>\n",
       "      <td>2090.82495</td>\n",
       "      <td>SLAB</td>\n",
       "      <td>2000.0</td>\n",
       "      <td>BRICK/FRAME</td>\n",
       "      <td>C</td>\n",
       "      <td>3.0</td>\n",
       "      <td>2.0</td>\n",
       "      <td>1.0</td>\n",
       "    </tr>\n",
       "    <tr>\n",
       "      <th>3</th>\n",
       "      <td>SINGLE FAMILY</td>\n",
       "      <td>1/18/13</td>\n",
       "      <td>32000</td>\n",
       "      <td>No</td>\n",
       "      <td>No</td>\n",
       "      <td>224  PEACHTREE ST</td>\n",
       "      <td>NASHVILLE</td>\n",
       "      <td>0.17</td>\n",
       "      <td>URBAN SERVICES DISTRICT</td>\n",
       "      <td>3130.0</td>\n",
       "      <td>25000.0</td>\n",
       "      <td>2145.60001</td>\n",
       "      <td>FULL BSMT</td>\n",
       "      <td>1948.0</td>\n",
       "      <td>BRICK/FRAME</td>\n",
       "      <td>B</td>\n",
       "      <td>4.0</td>\n",
       "      <td>2.0</td>\n",
       "      <td>0.0</td>\n",
       "    </tr>\n",
       "    <tr>\n",
       "      <th>4</th>\n",
       "      <td>SINGLE FAMILY</td>\n",
       "      <td>1/23/13</td>\n",
       "      <td>102000</td>\n",
       "      <td>No</td>\n",
       "      <td>No</td>\n",
       "      <td>316  LUTIE ST</td>\n",
       "      <td>NASHVILLE</td>\n",
       "      <td>0.34</td>\n",
       "      <td>URBAN SERVICES DISTRICT</td>\n",
       "      <td>3130.0</td>\n",
       "      <td>25000.0</td>\n",
       "      <td>1969.00000</td>\n",
       "      <td>CRAWL</td>\n",
       "      <td>1910.0</td>\n",
       "      <td>FRAME</td>\n",
       "      <td>C</td>\n",
       "      <td>2.0</td>\n",
       "      <td>1.0</td>\n",
       "      <td>0.0</td>\n",
       "    </tr>\n",
       "    <tr>\n",
       "      <th>5</th>\n",
       "      <td>SINGLE FAMILY</td>\n",
       "      <td>1/4/13</td>\n",
       "      <td>93736</td>\n",
       "      <td>No</td>\n",
       "      <td>No</td>\n",
       "      <td>2626  FOSTER AVE</td>\n",
       "      <td>NASHVILLE</td>\n",
       "      <td>0.17</td>\n",
       "      <td>URBAN SERVICES DISTRICT</td>\n",
       "      <td>3130.0</td>\n",
       "      <td>25000.0</td>\n",
       "      <td>1037.00000</td>\n",
       "      <td>CRAWL</td>\n",
       "      <td>1945.0</td>\n",
       "      <td>FRAME</td>\n",
       "      <td>C</td>\n",
       "      <td>2.0</td>\n",
       "      <td>1.0</td>\n",
       "      <td>0.0</td>\n",
       "    </tr>\n",
       "  </tbody>\n",
       "</table>\n",
       "</div>"
      ],
      "text/plain": [
       "        Land Use Sale Date  Sale Price Sold As Vacant  \\\n",
       "1  SINGLE FAMILY   1/11/13      191500             No   \n",
       "2  SINGLE FAMILY   1/18/13      202000             No   \n",
       "3  SINGLE FAMILY   1/18/13       32000             No   \n",
       "4  SINGLE FAMILY   1/23/13      102000             No   \n",
       "5  SINGLE FAMILY    1/4/13       93736             No   \n",
       "\n",
       "  Multiple Parcels Involved in Sale            Address       City  Acreage  \\\n",
       "1                                No   1802  STEWART PL  NASHVILLE     0.17   \n",
       "2                                No  2761  ROSEDALE PL  NASHVILLE     0.11   \n",
       "3                                No  224  PEACHTREE ST  NASHVILLE     0.17   \n",
       "4                                No      316  LUTIE ST  NASHVILLE     0.34   \n",
       "5                                No   2626  FOSTER AVE  NASHVILLE     0.17   \n",
       "\n",
       "              Tax District  Neighborhood  Land Value  Finished Area  \\\n",
       "1  URBAN SERVICES DISTRICT        3127.0     32000.0     1149.00000   \n",
       "2       CITY OF BERRY HILL        9126.0     34000.0     2090.82495   \n",
       "3  URBAN SERVICES DISTRICT        3130.0     25000.0     2145.60001   \n",
       "4  URBAN SERVICES DISTRICT        3130.0     25000.0     1969.00000   \n",
       "5  URBAN SERVICES DISTRICT        3130.0     25000.0     1037.00000   \n",
       "\n",
       "  Foundation Type  Year Built Exterior Wall Grade  Bedrooms  Full Bath  \\\n",
       "1         PT BSMT      1941.0         BRICK  C          2.0        1.0   \n",
       "2            SLAB      2000.0   BRICK/FRAME  C          3.0        2.0   \n",
       "3       FULL BSMT      1948.0   BRICK/FRAME  B          4.0        2.0   \n",
       "4           CRAWL      1910.0         FRAME  C          2.0        1.0   \n",
       "5           CRAWL      1945.0         FRAME  C          2.0        1.0   \n",
       "\n",
       "   Half Bath  \n",
       "1        0.0  \n",
       "2        1.0  \n",
       "3        0.0  \n",
       "4        0.0  \n",
       "5        0.0  "
      ]
     },
     "execution_count": 64,
     "metadata": {},
     "output_type": "execute_result"
    }
   ],
   "source": [
    "df.head()"
   ]
  },
  {
   "cell_type": "code",
   "execution_count": 65,
   "metadata": {
    "slideshow": {
     "slide_type": "fragment"
    }
   },
   "outputs": [],
   "source": [
    "# Address is not a determining factor.\n",
    "df.drop(columns = 'Address', axis = 1, inplace = True)"
   ]
  },
  {
   "cell_type": "markdown",
   "metadata": {
    "slideshow": {
     "slide_type": "slide"
    }
   },
   "source": [
    "### Converting Sale Date\n",
    "We would like to extract the year from the 'Sale Date' column to include in our analysis."
   ]
  },
  {
   "cell_type": "code",
   "execution_count": 66,
   "metadata": {
    "slideshow": {
     "slide_type": "fragment"
    }
   },
   "outputs": [
    {
     "data": {
      "text/plain": [
       "1    1/11/13\n",
       "2    1/18/13\n",
       "3    1/18/13\n",
       "4    1/23/13\n",
       "5     1/4/13\n",
       "Name: Sale Date, dtype: object"
      ]
     },
     "execution_count": 66,
     "metadata": {},
     "output_type": "execute_result"
    }
   ],
   "source": [
    "df['Sale Date'].head()"
   ]
  },
  {
   "cell_type": "code",
   "execution_count": 67,
   "metadata": {
    "slideshow": {
     "slide_type": "fragment"
    }
   },
   "outputs": [
    {
     "name": "stdout",
     "output_type": "stream",
     "text": [
      "1        13\n",
      "2        13\n",
      "3        13\n",
      "4        13\n",
      "5        13\n",
      "         ..\n",
      "56605    16\n",
      "56607    16\n",
      "56614    16\n",
      "56615    16\n",
      "56616    16\n",
      "Name: Sale Year, Length: 24160, dtype: object\n",
      "2\n"
     ]
    }
   ],
   "source": [
    "df['Sale Year'] = df['Sale Date'].str[-2:]\n",
    "print(df['Sale Year'])\n",
    "print(len(df['Sale Year'][4]))"
   ]
  },
  {
   "cell_type": "code",
   "execution_count": 68,
   "metadata": {
    "slideshow": {
     "slide_type": "fragment"
    }
   },
   "outputs": [],
   "source": [
    "df.drop(columns = 'Sale Date', axis = 1, inplace = True)"
   ]
  },
  {
   "cell_type": "markdown",
   "metadata": {
    "slideshow": {
     "slide_type": "skip"
    }
   },
   "source": [
    "### Sale Price Analysis"
   ]
  },
  {
   "cell_type": "code",
   "execution_count": 69,
   "metadata": {
    "slideshow": {
     "slide_type": "skip"
    }
   },
   "outputs": [
    {
     "data": {
      "text/html": [
       "<div>\n",
       "<style scoped>\n",
       "    .dataframe tbody tr th:only-of-type {\n",
       "        vertical-align: middle;\n",
       "    }\n",
       "\n",
       "    .dataframe tbody tr th {\n",
       "        vertical-align: top;\n",
       "    }\n",
       "\n",
       "    .dataframe thead th {\n",
       "        text-align: right;\n",
       "    }\n",
       "</style>\n",
       "<table border=\"1\" class=\"dataframe\">\n",
       "  <thead>\n",
       "    <tr style=\"text-align: right;\">\n",
       "      <th></th>\n",
       "      <th>Land Use</th>\n",
       "      <th>Sale Price</th>\n",
       "      <th>Sold As Vacant</th>\n",
       "      <th>Multiple Parcels Involved in Sale</th>\n",
       "      <th>City</th>\n",
       "      <th>Acreage</th>\n",
       "      <th>Tax District</th>\n",
       "      <th>Neighborhood</th>\n",
       "      <th>Land Value</th>\n",
       "      <th>Finished Area</th>\n",
       "      <th>Foundation Type</th>\n",
       "      <th>Year Built</th>\n",
       "      <th>Exterior Wall</th>\n",
       "      <th>Grade</th>\n",
       "      <th>Bedrooms</th>\n",
       "      <th>Full Bath</th>\n",
       "      <th>Half Bath</th>\n",
       "      <th>Sale Year</th>\n",
       "    </tr>\n",
       "  </thead>\n",
       "  <tbody>\n",
       "    <tr>\n",
       "      <th>20137</th>\n",
       "      <td>CHURCH</td>\n",
       "      <td>12350000</td>\n",
       "      <td>No</td>\n",
       "      <td>Yes</td>\n",
       "      <td>NASHVILLE</td>\n",
       "      <td>34.64</td>\n",
       "      <td>URBAN SERVICES DISTRICT</td>\n",
       "      <td>4126.0</td>\n",
       "      <td>386400.0</td>\n",
       "      <td>197988.00000</td>\n",
       "      <td>TYPICAL</td>\n",
       "      <td>1980.0</td>\n",
       "      <td>BRICK</td>\n",
       "      <td>TCB</td>\n",
       "      <td>3.0</td>\n",
       "      <td>0.0</td>\n",
       "      <td>0.0</td>\n",
       "      <td>14</td>\n",
       "    </tr>\n",
       "    <tr>\n",
       "      <th>4179</th>\n",
       "      <td>SINGLE FAMILY</td>\n",
       "      <td>10750000</td>\n",
       "      <td>No</td>\n",
       "      <td>No</td>\n",
       "      <td>NASHVILLE</td>\n",
       "      <td>0.46</td>\n",
       "      <td>URBAN SERVICES DISTRICT</td>\n",
       "      <td>3727.0</td>\n",
       "      <td>220000.0</td>\n",
       "      <td>4381.79999</td>\n",
       "      <td>PT BSMT</td>\n",
       "      <td>1953.0</td>\n",
       "      <td>BRICK</td>\n",
       "      <td>A</td>\n",
       "      <td>4.0</td>\n",
       "      <td>3.0</td>\n",
       "      <td>1.0</td>\n",
       "      <td>13</td>\n",
       "    </tr>\n",
       "    <tr>\n",
       "      <th>1099</th>\n",
       "      <td>SINGLE FAMILY</td>\n",
       "      <td>7200000</td>\n",
       "      <td>No</td>\n",
       "      <td>No</td>\n",
       "      <td>NASHVILLE</td>\n",
       "      <td>7.88</td>\n",
       "      <td>CITY OF BELLE MEADE</td>\n",
       "      <td>9026.0</td>\n",
       "      <td>1830700.0</td>\n",
       "      <td>10519.29993</td>\n",
       "      <td>PT BSMT</td>\n",
       "      <td>1990.0</td>\n",
       "      <td>STONE</td>\n",
       "      <td>X</td>\n",
       "      <td>5.0</td>\n",
       "      <td>8.0</td>\n",
       "      <td>0.0</td>\n",
       "      <td>13</td>\n",
       "    </tr>\n",
       "    <tr>\n",
       "      <th>28003</th>\n",
       "      <td>SINGLE FAMILY</td>\n",
       "      <td>5000000</td>\n",
       "      <td>No</td>\n",
       "      <td>Yes</td>\n",
       "      <td>NASHVILLE</td>\n",
       "      <td>2.49</td>\n",
       "      <td>CITY OF FOREST HILLS</td>\n",
       "      <td>4440.0</td>\n",
       "      <td>386800.0</td>\n",
       "      <td>11221.00000</td>\n",
       "      <td>PT BSMT</td>\n",
       "      <td>2005.0</td>\n",
       "      <td>STUCCO</td>\n",
       "      <td>X</td>\n",
       "      <td>5.0</td>\n",
       "      <td>4.0</td>\n",
       "      <td>3.0</td>\n",
       "      <td>15</td>\n",
       "    </tr>\n",
       "    <tr>\n",
       "      <th>54377</th>\n",
       "      <td>SINGLE FAMILY</td>\n",
       "      <td>5000000</td>\n",
       "      <td>No</td>\n",
       "      <td>No</td>\n",
       "      <td>NASHVILLE</td>\n",
       "      <td>4.86</td>\n",
       "      <td>CITY OF BELLE MEADE</td>\n",
       "      <td>9026.0</td>\n",
       "      <td>1603800.0</td>\n",
       "      <td>5167.00000</td>\n",
       "      <td>PT BSMT</td>\n",
       "      <td>1929.0</td>\n",
       "      <td>BRICK</td>\n",
       "      <td>X</td>\n",
       "      <td>6.0</td>\n",
       "      <td>4.0</td>\n",
       "      <td>0.0</td>\n",
       "      <td>16</td>\n",
       "    </tr>\n",
       "    <tr>\n",
       "      <th>37921</th>\n",
       "      <td>SINGLE FAMILY</td>\n",
       "      <td>4500000</td>\n",
       "      <td>No</td>\n",
       "      <td>No</td>\n",
       "      <td>NASHVILLE</td>\n",
       "      <td>3.53</td>\n",
       "      <td>CITY OF FOREST HILLS</td>\n",
       "      <td>9226.0</td>\n",
       "      <td>500400.0</td>\n",
       "      <td>19728.24988</td>\n",
       "      <td>FULL BSMT</td>\n",
       "      <td>1996.0</td>\n",
       "      <td>BRICK</td>\n",
       "      <td>X</td>\n",
       "      <td>7.0</td>\n",
       "      <td>10.0</td>\n",
       "      <td>0.0</td>\n",
       "      <td>15</td>\n",
       "    </tr>\n",
       "    <tr>\n",
       "      <th>30819</th>\n",
       "      <td>SINGLE FAMILY</td>\n",
       "      <td>4450000</td>\n",
       "      <td>No</td>\n",
       "      <td>No</td>\n",
       "      <td>NASHVILLE</td>\n",
       "      <td>5.00</td>\n",
       "      <td>CITY OF OAK HILL</td>\n",
       "      <td>9527.0</td>\n",
       "      <td>625000.0</td>\n",
       "      <td>7894.00000</td>\n",
       "      <td>PT BSMT</td>\n",
       "      <td>1935.0</td>\n",
       "      <td>BRICK</td>\n",
       "      <td>X</td>\n",
       "      <td>5.0</td>\n",
       "      <td>4.0</td>\n",
       "      <td>3.0</td>\n",
       "      <td>15</td>\n",
       "    </tr>\n",
       "    <tr>\n",
       "      <th>37569</th>\n",
       "      <td>SINGLE FAMILY</td>\n",
       "      <td>4400000</td>\n",
       "      <td>No</td>\n",
       "      <td>Yes</td>\n",
       "      <td>NASHVILLE</td>\n",
       "      <td>0.14</td>\n",
       "      <td>URBAN SERVICES DISTRICT</td>\n",
       "      <td>1126.0</td>\n",
       "      <td>20000.0</td>\n",
       "      <td>960.00000</td>\n",
       "      <td>CRAWL</td>\n",
       "      <td>1967.0</td>\n",
       "      <td>FRAME</td>\n",
       "      <td>D</td>\n",
       "      <td>3.0</td>\n",
       "      <td>1.0</td>\n",
       "      <td>0.0</td>\n",
       "      <td>15</td>\n",
       "    </tr>\n",
       "    <tr>\n",
       "      <th>37570</th>\n",
       "      <td>SINGLE FAMILY</td>\n",
       "      <td>4400000</td>\n",
       "      <td>No</td>\n",
       "      <td>Yes</td>\n",
       "      <td>NASHVILLE</td>\n",
       "      <td>0.14</td>\n",
       "      <td>URBAN SERVICES DISTRICT</td>\n",
       "      <td>1126.0</td>\n",
       "      <td>20000.0</td>\n",
       "      <td>1828.00000</td>\n",
       "      <td>PT BSMT</td>\n",
       "      <td>1967.0</td>\n",
       "      <td>BRICK</td>\n",
       "      <td>C</td>\n",
       "      <td>3.0</td>\n",
       "      <td>1.0</td>\n",
       "      <td>1.0</td>\n",
       "      <td>15</td>\n",
       "    </tr>\n",
       "    <tr>\n",
       "      <th>37577</th>\n",
       "      <td>SINGLE FAMILY</td>\n",
       "      <td>4400000</td>\n",
       "      <td>No</td>\n",
       "      <td>Yes</td>\n",
       "      <td>NASHVILLE</td>\n",
       "      <td>0.21</td>\n",
       "      <td>URBAN SERVICES DISTRICT</td>\n",
       "      <td>1126.0</td>\n",
       "      <td>20000.0</td>\n",
       "      <td>2594.00000</td>\n",
       "      <td>FULL BSMT</td>\n",
       "      <td>1963.0</td>\n",
       "      <td>STONE</td>\n",
       "      <td>D</td>\n",
       "      <td>2.0</td>\n",
       "      <td>1.0</td>\n",
       "      <td>1.0</td>\n",
       "      <td>15</td>\n",
       "    </tr>\n",
       "  </tbody>\n",
       "</table>\n",
       "</div>"
      ],
      "text/plain": [
       "            Land Use  Sale Price Sold As Vacant  \\\n",
       "20137         CHURCH    12350000             No   \n",
       "4179   SINGLE FAMILY    10750000             No   \n",
       "1099   SINGLE FAMILY     7200000             No   \n",
       "28003  SINGLE FAMILY     5000000             No   \n",
       "54377  SINGLE FAMILY     5000000             No   \n",
       "37921  SINGLE FAMILY     4500000             No   \n",
       "30819  SINGLE FAMILY     4450000             No   \n",
       "37569  SINGLE FAMILY     4400000             No   \n",
       "37570  SINGLE FAMILY     4400000             No   \n",
       "37577  SINGLE FAMILY     4400000             No   \n",
       "\n",
       "      Multiple Parcels Involved in Sale       City  Acreage  \\\n",
       "20137                               Yes  NASHVILLE    34.64   \n",
       "4179                                 No  NASHVILLE     0.46   \n",
       "1099                                 No  NASHVILLE     7.88   \n",
       "28003                               Yes  NASHVILLE     2.49   \n",
       "54377                                No  NASHVILLE     4.86   \n",
       "37921                                No  NASHVILLE     3.53   \n",
       "30819                                No  NASHVILLE     5.00   \n",
       "37569                               Yes  NASHVILLE     0.14   \n",
       "37570                               Yes  NASHVILLE     0.14   \n",
       "37577                               Yes  NASHVILLE     0.21   \n",
       "\n",
       "                  Tax District  Neighborhood  Land Value  Finished Area  \\\n",
       "20137  URBAN SERVICES DISTRICT        4126.0    386400.0   197988.00000   \n",
       "4179   URBAN SERVICES DISTRICT        3727.0    220000.0     4381.79999   \n",
       "1099       CITY OF BELLE MEADE        9026.0   1830700.0    10519.29993   \n",
       "28003     CITY OF FOREST HILLS        4440.0    386800.0    11221.00000   \n",
       "54377      CITY OF BELLE MEADE        9026.0   1603800.0     5167.00000   \n",
       "37921     CITY OF FOREST HILLS        9226.0    500400.0    19728.24988   \n",
       "30819         CITY OF OAK HILL        9527.0    625000.0     7894.00000   \n",
       "37569  URBAN SERVICES DISTRICT        1126.0     20000.0      960.00000   \n",
       "37570  URBAN SERVICES DISTRICT        1126.0     20000.0     1828.00000   \n",
       "37577  URBAN SERVICES DISTRICT        1126.0     20000.0     2594.00000   \n",
       "\n",
       "      Foundation Type  Year Built Exterior Wall Grade  Bedrooms  Full Bath  \\\n",
       "20137         TYPICAL      1980.0         BRICK  TCB        3.0        0.0   \n",
       "4179          PT BSMT      1953.0         BRICK  A          4.0        3.0   \n",
       "1099          PT BSMT      1990.0         STONE  X          5.0        8.0   \n",
       "28003         PT BSMT      2005.0        STUCCO  X          5.0        4.0   \n",
       "54377         PT BSMT      1929.0         BRICK  X          6.0        4.0   \n",
       "37921       FULL BSMT      1996.0         BRICK  X          7.0       10.0   \n",
       "30819         PT BSMT      1935.0         BRICK  X          5.0        4.0   \n",
       "37569           CRAWL      1967.0         FRAME  D          3.0        1.0   \n",
       "37570         PT BSMT      1967.0         BRICK  C          3.0        1.0   \n",
       "37577       FULL BSMT      1963.0         STONE  D          2.0        1.0   \n",
       "\n",
       "       Half Bath Sale Year  \n",
       "20137        0.0        14  \n",
       "4179         1.0        13  \n",
       "1099         0.0        13  \n",
       "28003        3.0        15  \n",
       "54377        0.0        16  \n",
       "37921        0.0        15  \n",
       "30819        3.0        15  \n",
       "37569        0.0        15  \n",
       "37570        1.0        15  \n",
       "37577        1.0        15  "
      ]
     },
     "execution_count": 69,
     "metadata": {},
     "output_type": "execute_result"
    }
   ],
   "source": [
    "df.nlargest(10, ['Sale Price'])"
   ]
  },
  {
   "cell_type": "code",
   "execution_count": 85,
   "metadata": {},
   "outputs": [
    {
     "name": "stdout",
     "output_type": "stream",
     "text": [
      "193\n"
     ]
    }
   ],
   "source": [
    "print(df['Neighborhood'].value_counts().count())"
   ]
  },
  {
   "cell_type": "markdown",
   "metadata": {},
   "source": [
    "Although 'Neighborhood' looks like a numerical value, it is actually a categorical variable. But there are 193 categories. If the number of categories goes too many, we simply cannot use it. Therefore, we will remove that feature as well."
   ]
  },
  {
   "cell_type": "code",
   "execution_count": 86,
   "metadata": {},
   "outputs": [],
   "source": [
    "df.drop(columns = 'Neighborhood', axis = 1, inplace = True)"
   ]
  },
  {
   "cell_type": "markdown",
   "metadata": {
    "slideshow": {
     "slide_type": "slide"
    }
   },
   "source": [
    "### Numerical and discrete variables"
   ]
  },
  {
   "cell_type": "code",
   "execution_count": 87,
   "metadata": {
    "slideshow": {
     "slide_type": "fragment"
    }
   },
   "outputs": [
    {
     "data": {
      "text/plain": [
       "Land Use                              object\n",
       "Sale Price                             int64\n",
       "Sold As Vacant                        object\n",
       "Multiple Parcels Involved in Sale     object\n",
       "City                                  object\n",
       "Acreage                              float64\n",
       "Tax District                          object\n",
       "Land Value                           float64\n",
       "Finished Area                        float64\n",
       "Foundation Type                       object\n",
       "Year Built                           float64\n",
       "Exterior Wall                         object\n",
       "Grade                                 object\n",
       "Bedrooms                             float64\n",
       "Full Bath                            float64\n",
       "Half Bath                            float64\n",
       "Sale Year                             object\n",
       "dtype: object"
      ]
     },
     "execution_count": 87,
     "metadata": {},
     "output_type": "execute_result"
    }
   ],
   "source": [
    "df.dtypes"
   ]
  },
  {
   "cell_type": "code",
   "execution_count": 88,
   "metadata": {
    "slideshow": {
     "slide_type": "fragment"
    }
   },
   "outputs": [
    {
     "data": {
      "text/html": [
       "<div>\n",
       "<style scoped>\n",
       "    .dataframe tbody tr th:only-of-type {\n",
       "        vertical-align: middle;\n",
       "    }\n",
       "\n",
       "    .dataframe tbody tr th {\n",
       "        vertical-align: top;\n",
       "    }\n",
       "\n",
       "    .dataframe thead th {\n",
       "        text-align: right;\n",
       "    }\n",
       "</style>\n",
       "<table border=\"1\" class=\"dataframe\">\n",
       "  <thead>\n",
       "    <tr style=\"text-align: right;\">\n",
       "      <th></th>\n",
       "      <th>Land Use</th>\n",
       "      <th>Sale Price</th>\n",
       "      <th>Sold As Vacant</th>\n",
       "      <th>Multiple Parcels Involved in Sale</th>\n",
       "      <th>City</th>\n",
       "      <th>Acreage</th>\n",
       "      <th>Tax District</th>\n",
       "      <th>Land Value</th>\n",
       "      <th>Finished Area</th>\n",
       "      <th>Foundation Type</th>\n",
       "      <th>Year Built</th>\n",
       "      <th>Exterior Wall</th>\n",
       "      <th>Grade</th>\n",
       "      <th>Bedrooms</th>\n",
       "      <th>Full Bath</th>\n",
       "      <th>Half Bath</th>\n",
       "      <th>Sale Year</th>\n",
       "    </tr>\n",
       "  </thead>\n",
       "  <tbody>\n",
       "    <tr>\n",
       "      <th>1</th>\n",
       "      <td>SINGLE FAMILY</td>\n",
       "      <td>191500</td>\n",
       "      <td>No</td>\n",
       "      <td>No</td>\n",
       "      <td>NASHVILLE</td>\n",
       "      <td>0.17</td>\n",
       "      <td>URBAN SERVICES DISTRICT</td>\n",
       "      <td>32000.0</td>\n",
       "      <td>1149.00000</td>\n",
       "      <td>PT BSMT</td>\n",
       "      <td>1941.0</td>\n",
       "      <td>BRICK</td>\n",
       "      <td>C</td>\n",
       "      <td>2.0</td>\n",
       "      <td>1.0</td>\n",
       "      <td>0.0</td>\n",
       "      <td>13</td>\n",
       "    </tr>\n",
       "    <tr>\n",
       "      <th>2</th>\n",
       "      <td>SINGLE FAMILY</td>\n",
       "      <td>202000</td>\n",
       "      <td>No</td>\n",
       "      <td>No</td>\n",
       "      <td>NASHVILLE</td>\n",
       "      <td>0.11</td>\n",
       "      <td>CITY OF BERRY HILL</td>\n",
       "      <td>34000.0</td>\n",
       "      <td>2090.82495</td>\n",
       "      <td>SLAB</td>\n",
       "      <td>2000.0</td>\n",
       "      <td>BRICK/FRAME</td>\n",
       "      <td>C</td>\n",
       "      <td>3.0</td>\n",
       "      <td>2.0</td>\n",
       "      <td>1.0</td>\n",
       "      <td>13</td>\n",
       "    </tr>\n",
       "    <tr>\n",
       "      <th>3</th>\n",
       "      <td>SINGLE FAMILY</td>\n",
       "      <td>32000</td>\n",
       "      <td>No</td>\n",
       "      <td>No</td>\n",
       "      <td>NASHVILLE</td>\n",
       "      <td>0.17</td>\n",
       "      <td>URBAN SERVICES DISTRICT</td>\n",
       "      <td>25000.0</td>\n",
       "      <td>2145.60001</td>\n",
       "      <td>FULL BSMT</td>\n",
       "      <td>1948.0</td>\n",
       "      <td>BRICK/FRAME</td>\n",
       "      <td>B</td>\n",
       "      <td>4.0</td>\n",
       "      <td>2.0</td>\n",
       "      <td>0.0</td>\n",
       "      <td>13</td>\n",
       "    </tr>\n",
       "    <tr>\n",
       "      <th>4</th>\n",
       "      <td>SINGLE FAMILY</td>\n",
       "      <td>102000</td>\n",
       "      <td>No</td>\n",
       "      <td>No</td>\n",
       "      <td>NASHVILLE</td>\n",
       "      <td>0.34</td>\n",
       "      <td>URBAN SERVICES DISTRICT</td>\n",
       "      <td>25000.0</td>\n",
       "      <td>1969.00000</td>\n",
       "      <td>CRAWL</td>\n",
       "      <td>1910.0</td>\n",
       "      <td>FRAME</td>\n",
       "      <td>C</td>\n",
       "      <td>2.0</td>\n",
       "      <td>1.0</td>\n",
       "      <td>0.0</td>\n",
       "      <td>13</td>\n",
       "    </tr>\n",
       "    <tr>\n",
       "      <th>5</th>\n",
       "      <td>SINGLE FAMILY</td>\n",
       "      <td>93736</td>\n",
       "      <td>No</td>\n",
       "      <td>No</td>\n",
       "      <td>NASHVILLE</td>\n",
       "      <td>0.17</td>\n",
       "      <td>URBAN SERVICES DISTRICT</td>\n",
       "      <td>25000.0</td>\n",
       "      <td>1037.00000</td>\n",
       "      <td>CRAWL</td>\n",
       "      <td>1945.0</td>\n",
       "      <td>FRAME</td>\n",
       "      <td>C</td>\n",
       "      <td>2.0</td>\n",
       "      <td>1.0</td>\n",
       "      <td>0.0</td>\n",
       "      <td>13</td>\n",
       "    </tr>\n",
       "  </tbody>\n",
       "</table>\n",
       "</div>"
      ],
      "text/plain": [
       "        Land Use  Sale Price Sold As Vacant Multiple Parcels Involved in Sale  \\\n",
       "1  SINGLE FAMILY      191500             No                                No   \n",
       "2  SINGLE FAMILY      202000             No                                No   \n",
       "3  SINGLE FAMILY       32000             No                                No   \n",
       "4  SINGLE FAMILY      102000             No                                No   \n",
       "5  SINGLE FAMILY       93736             No                                No   \n",
       "\n",
       "        City  Acreage             Tax District  Land Value  Finished Area  \\\n",
       "1  NASHVILLE     0.17  URBAN SERVICES DISTRICT     32000.0     1149.00000   \n",
       "2  NASHVILLE     0.11       CITY OF BERRY HILL     34000.0     2090.82495   \n",
       "3  NASHVILLE     0.17  URBAN SERVICES DISTRICT     25000.0     2145.60001   \n",
       "4  NASHVILLE     0.34  URBAN SERVICES DISTRICT     25000.0     1969.00000   \n",
       "5  NASHVILLE     0.17  URBAN SERVICES DISTRICT     25000.0     1037.00000   \n",
       "\n",
       "  Foundation Type  Year Built Exterior Wall Grade  Bedrooms  Full Bath  \\\n",
       "1         PT BSMT      1941.0         BRICK  C          2.0        1.0   \n",
       "2            SLAB      2000.0   BRICK/FRAME  C          3.0        2.0   \n",
       "3       FULL BSMT      1948.0   BRICK/FRAME  B          4.0        2.0   \n",
       "4           CRAWL      1910.0         FRAME  C          2.0        1.0   \n",
       "5           CRAWL      1945.0         FRAME  C          2.0        1.0   \n",
       "\n",
       "   Half Bath Sale Year  \n",
       "1        0.0        13  \n",
       "2        1.0        13  \n",
       "3        0.0        13  \n",
       "4        0.0        13  \n",
       "5        0.0        13  "
      ]
     },
     "execution_count": 88,
     "metadata": {},
     "output_type": "execute_result"
    }
   ],
   "source": [
    "df.head()"
   ]
  },
  {
   "cell_type": "code",
   "execution_count": 89,
   "metadata": {
    "scrolled": true,
    "slideshow": {
     "slide_type": "slide"
    }
   },
   "outputs": [
    {
     "data": {
      "text/plain": [
       "['Sale Price',\n",
       " 'Acreage',\n",
       " 'Land Value',\n",
       " 'Finished Area',\n",
       " 'Year Built',\n",
       " 'Bedrooms',\n",
       " 'Full Bath',\n",
       " 'Half Bath']"
      ]
     },
     "execution_count": 89,
     "metadata": {},
     "output_type": "execute_result"
    }
   ],
   "source": [
    "numerical_features = [feature for feature in df.columns if df[feature].dtypes == int or df[feature].dtypes == float]\n",
    "numerical_features"
   ]
  },
  {
   "cell_type": "code",
   "execution_count": 90,
   "metadata": {
    "slideshow": {
     "slide_type": "fragment"
    }
   },
   "outputs": [
    {
     "name": "stdout",
     "output_type": "stream",
     "text": [
      "Discrete Variables Count: 8\n"
     ]
    }
   ],
   "source": [
    "discrete_feature=[feature for feature in df.columns if len(df[feature].unique())<25 and feature not in numerical_features]\n",
    "print(\"Discrete Variables Count: {}\".format(len(discrete_feature)))"
   ]
  },
  {
   "cell_type": "code",
   "execution_count": 91,
   "metadata": {
    "slideshow": {
     "slide_type": "fragment"
    }
   },
   "outputs": [
    {
     "data": {
      "text/plain": [
       "['Land Use',\n",
       " 'Sold As Vacant',\n",
       " 'Multiple Parcels Involved in Sale',\n",
       " 'City',\n",
       " 'Tax District',\n",
       " 'Foundation Type',\n",
       " 'Exterior Wall',\n",
       " 'Grade',\n",
       " 'Sale Year']"
      ]
     },
     "execution_count": 91,
     "metadata": {},
     "output_type": "execute_result"
    }
   ],
   "source": [
    "discrete_features = [feature for feature in df.columns if feature not in numerical_features]\n",
    "discrete_features"
   ]
  },
  {
   "cell_type": "code",
   "execution_count": 92,
   "metadata": {
    "slideshow": {
     "slide_type": "skip"
    }
   },
   "outputs": [
    {
     "data": {
      "text/plain": [
       "C       17260\n",
       "B        3695\n",
       "D        1984\n",
       "A         598\n",
       "X         523\n",
       "E          60\n",
       "TCC        20\n",
       "IDC         3\n",
       "AAB         3\n",
       "AAC         3\n",
       "OFC         2\n",
       "SRC         1\n",
       "SSC         1\n",
       "SRD         1\n",
       "TFC         1\n",
       "TCB         1\n",
       "TAC         1\n",
       "OMB         1\n",
       "OFB         1\n",
       "TCD         1\n",
       "Name: Grade, dtype: int64"
      ]
     },
     "execution_count": 92,
     "metadata": {},
     "output_type": "execute_result"
    }
   ],
   "source": [
    "df['Grade'].value_counts()"
   ]
  },
  {
   "cell_type": "code",
   "execution_count": 93,
   "metadata": {
    "slideshow": {
     "slide_type": "skip"
    }
   },
   "outputs": [
    {
     "name": "stdout",
     "output_type": "stream",
     "text": [
      "7\n"
     ]
    }
   ],
   "source": [
    "print(df['Tax District'].value_counts().count())"
   ]
  },
  {
   "cell_type": "code",
   "execution_count": 94,
   "metadata": {
    "slideshow": {
     "slide_type": "slide"
    }
   },
   "outputs": [
    {
     "data": {
      "image/png": "[encoded data removed]",
      "text/plain": [
       "<Figure size 720x720 with 4 Axes>"
      ]
     },
     "metadata": {
      "needs_background": "light"
     },
     "output_type": "display_data"
    }
   ],
   "source": [
    "fig_g, axes_g = plt.subplots(2, 2, figsize=(10,10))\n",
    "\n",
    "df.groupby('City')['Sale Price'].mean().sort_values().plot(kind='bar', ax=axes_g[0,0])\n",
    "axes_g[0,0].set_title('Average Home Price by City')\n",
    "axes_g[0,0].set_ylabel('Average Price')\n",
    "\n",
    "df.groupby('Tax District')['Sale Price'].mean().sort_values().plot(kind='bar', ax=axes_g[0,1])\n",
    "axes_g[0,1].set_title('Average Home Price by Tax District')\n",
    "axes_g[0,1].set_ylabel('Average Price')\n",
    "\n",
    "df.groupby('Grade')['Sale Price'].mean().sort_values()[:12].plot(kind='bar', ax=axes_g[1,0])\n",
    "axes_g[1,0].set_title('Average Home Price by Grade')\n",
    "axes_g[1,0].set_ylabel('Average Price')\n",
    "\n",
    "df.groupby('Sale Year')['Sale Price'].mean().sort_values()[:12].plot(kind='bar', ax=axes_g[1,1])\n",
    "axes_g[1,1].set_title('Average Home Price by Sale Year')\n",
    "axes_g[1,1].set_ylabel('Average Price')\n",
    "\n",
    "plt.tight_layout();"
   ]
  },
  {
   "cell_type": "code",
   "execution_count": 95,
   "metadata": {
    "slideshow": {
     "slide_type": "slide"
    }
   },
   "outputs": [],
   "source": [
    "df.to_csv('preprocessed_data.csv', index = False)"
   ]
  },
  {
   "cell_type": "code",
   "execution_count": 96,
   "metadata": {
    "slideshow": {
     "slide_type": "slide"
    }
   },
   "outputs": [
    {
     "name": "stdout",
     "output_type": "stream",
     "text": [
      "(24160, 17)\n",
      "Number of numerical features is 8\n",
      "Number of discreate features is 9\n"
     ]
    }
   ],
   "source": [
    "print(df.shape)\n",
    "print('Number of numerical features is ' + str(len(numerical_features)))\n",
    "print('Number of discreate features is ' + str(len(discrete_features)))"
   ]
  },
  {
   "cell_type": "code",
   "execution_count": 97,
   "metadata": {},
   "outputs": [
    {
     "data": {
      "text/plain": [
       "['Sale Price',\n",
       " 'Acreage',\n",
       " 'Land Value',\n",
       " 'Finished Area',\n",
       " 'Year Built',\n",
       " 'Bedrooms',\n",
       " 'Full Bath',\n",
       " 'Half Bath']"
      ]
     },
     "execution_count": 97,
     "metadata": {},
     "output_type": "execute_result"
    }
   ],
   "source": [
    "numerical_features"
   ]
  },
  {
   "cell_type": "code",
   "execution_count": 98,
   "metadata": {},
   "outputs": [
    {
     "data": {
      "text/plain": [
       "<AxesSubplot:>"
      ]
     },
     "execution_count": 98,
     "metadata": {},
     "output_type": "execute_result"
    },
    {
     "data": {
      "image/png": "[encoded data removed]",
      "text/plain": [
       "<Figure size 720x720 with 4 Axes>"
      ]
     },
     "metadata": {
      "needs_background": "light"
     },
     "output_type": "display_data"
    }
   ],
   "source": [
    "fig_b, axes_b = plt.subplots(2, 2, figsize=(10,10))\n",
    "\n",
    "df['Sale Price'].plot(kind='box', ax=axes_b[0,0])\n",
    "df['Acreage'].plot(kind='box', ax=axes_b[0,1])\n",
    "df['Land Value'].plot(kind='box', ax=axes_b[1,0])\n",
    "df['Finished Area'].plot(kind='box', ax=axes_b[1,1])"
   ]
  },
  {
   "cell_type": "code",
   "execution_count": 99,
   "metadata": {},
   "outputs": [
    {
     "data": {
      "text/html": [
       "<div>\n",
       "<style scoped>\n",
       "    .dataframe tbody tr th:only-of-type {\n",
       "        vertical-align: middle;\n",
       "    }\n",
       "\n",
       "    .dataframe tbody tr th {\n",
       "        vertical-align: top;\n",
       "    }\n",
       "\n",
       "    .dataframe thead th {\n",
       "        text-align: right;\n",
       "    }\n",
       "</style>\n",
       "<table border=\"1\" class=\"dataframe\">\n",
       "  <thead>\n",
       "    <tr style=\"text-align: right;\">\n",
       "      <th></th>\n",
       "      <th>Sale Price</th>\n",
       "      <th>Acreage</th>\n",
       "      <th>Land Value</th>\n",
       "      <th>Finished Area</th>\n",
       "      <th>Year Built</th>\n",
       "      <th>Bedrooms</th>\n",
       "      <th>Full Bath</th>\n",
       "      <th>Half Bath</th>\n",
       "    </tr>\n",
       "  </thead>\n",
       "  <tbody>\n",
       "    <tr>\n",
       "      <th>count</th>\n",
       "      <td>2.416000e+04</td>\n",
       "      <td>24160.000000</td>\n",
       "      <td>2.416000e+04</td>\n",
       "      <td>24160.000000</td>\n",
       "      <td>24160.000000</td>\n",
       "      <td>24160.000000</td>\n",
       "      <td>24160.000000</td>\n",
       "      <td>24160.000000</td>\n",
       "    </tr>\n",
       "    <tr>\n",
       "      <th>mean</th>\n",
       "      <td>2.754375e+05</td>\n",
       "      <td>0.454973</td>\n",
       "      <td>6.889078e+04</td>\n",
       "      <td>1926.928961</td>\n",
       "      <td>1963.743212</td>\n",
       "      <td>3.091432</td>\n",
       "      <td>1.895033</td>\n",
       "      <td>0.283692</td>\n",
       "    </tr>\n",
       "    <tr>\n",
       "      <th>std</th>\n",
       "      <td>3.128183e+05</td>\n",
       "      <td>0.818273</td>\n",
       "      <td>1.017926e+05</td>\n",
       "      <td>1687.017271</td>\n",
       "      <td>26.542779</td>\n",
       "      <td>0.850004</td>\n",
       "      <td>0.954874</td>\n",
       "      <td>0.487756</td>\n",
       "    </tr>\n",
       "    <tr>\n",
       "      <th>min</th>\n",
       "      <td>1.000000e+02</td>\n",
       "      <td>0.040000</td>\n",
       "      <td>1.000000e+02</td>\n",
       "      <td>450.000000</td>\n",
       "      <td>1799.000000</td>\n",
       "      <td>0.000000</td>\n",
       "      <td>0.000000</td>\n",
       "      <td>0.000000</td>\n",
       "    </tr>\n",
       "    <tr>\n",
       "      <th>25%</th>\n",
       "      <td>1.250000e+05</td>\n",
       "      <td>0.190000</td>\n",
       "      <td>2.160000e+04</td>\n",
       "      <td>1239.000000</td>\n",
       "      <td>1948.000000</td>\n",
       "      <td>3.000000</td>\n",
       "      <td>1.000000</td>\n",
       "      <td>0.000000</td>\n",
       "    </tr>\n",
       "    <tr>\n",
       "      <th>50%</th>\n",
       "      <td>1.850000e+05</td>\n",
       "      <td>0.270000</td>\n",
       "      <td>2.990000e+04</td>\n",
       "      <td>1632.000000</td>\n",
       "      <td>1960.000000</td>\n",
       "      <td>3.000000</td>\n",
       "      <td>2.000000</td>\n",
       "      <td>0.000000</td>\n",
       "    </tr>\n",
       "    <tr>\n",
       "      <th>75%</th>\n",
       "      <td>3.250000e+05</td>\n",
       "      <td>0.450000</td>\n",
       "      <td>6.030000e+04</td>\n",
       "      <td>2212.000000</td>\n",
       "      <td>1983.000000</td>\n",
       "      <td>3.000000</td>\n",
       "      <td>2.000000</td>\n",
       "      <td>1.000000</td>\n",
       "    </tr>\n",
       "    <tr>\n",
       "      <th>max</th>\n",
       "      <td>1.235000e+07</td>\n",
       "      <td>47.500000</td>\n",
       "      <td>1.869000e+06</td>\n",
       "      <td>197988.000000</td>\n",
       "      <td>2017.000000</td>\n",
       "      <td>11.000000</td>\n",
       "      <td>10.000000</td>\n",
       "      <td>3.000000</td>\n",
       "    </tr>\n",
       "  </tbody>\n",
       "</table>\n",
       "</div>"
      ],
      "text/plain": [
       "         Sale Price       Acreage    Land Value  Finished Area    Year Built  \\\n",
       "count  2.416000e+04  24160.000000  2.416000e+04   24160.000000  24160.000000   \n",
       "mean   2.754375e+05      0.454973  6.889078e+04    1926.928961   1963.743212   \n",
       "std    3.128183e+05      0.818273  1.017926e+05    1687.017271     26.542779   \n",
       "min    1.000000e+02      0.040000  1.000000e+02     450.000000   1799.000000   \n",
       "25%    1.250000e+05      0.190000  2.160000e+04    1239.000000   1948.000000   \n",
       "50%    1.850000e+05      0.270000  2.990000e+04    1632.000000   1960.000000   \n",
       "75%    3.250000e+05      0.450000  6.030000e+04    2212.000000   1983.000000   \n",
       "max    1.235000e+07     47.500000  1.869000e+06  197988.000000   2017.000000   \n",
       "\n",
       "           Bedrooms     Full Bath     Half Bath  \n",
       "count  24160.000000  24160.000000  24160.000000  \n",
       "mean       3.091432      1.895033      0.283692  \n",
       "std        0.850004      0.954874      0.487756  \n",
       "min        0.000000      0.000000      0.000000  \n",
       "25%        3.000000      1.000000      0.000000  \n",
       "50%        3.000000      2.000000      0.000000  \n",
       "75%        3.000000      2.000000      1.000000  \n",
       "max       11.000000     10.000000      3.000000  "
      ]
     },
     "execution_count": 99,
     "metadata": {},
     "output_type": "execute_result"
    }
   ],
   "source": [
    "df.describe()"
   ]
  },
  {
   "cell_type": "markdown",
   "metadata": {
    "slideshow": {
     "slide_type": "slide"
    }
   },
   "source": [
    "## Some Graphs"
   ]
  },
  {
   "cell_type": "code",
   "execution_count": 100,
   "metadata": {
    "slideshow": {
     "slide_type": "slide"
    }
   },
   "outputs": [
    {
     "data": {
      "image/png": "[encoded data removed]",
      "text/plain": [
       "<Figure size 720x360 with 2 Axes>"
      ]
     },
     "metadata": {
      "needs_background": "light"
     },
     "output_type": "display_data"
    }
   ],
   "source": [
    "fig, axes = plt.subplots(1, 2, figsize=(10,5))\n",
    "df['City'].value_counts().plot(kind='bar', ax=axes[0])\n",
    "axes[0].set_title('Cities')\n",
    "axes[0].set_ylabel('Count of Houses Sold')\n",
    "df['Land Use'].value_counts()[:10].plot(kind='bar', ax=axes[1])\n",
    "axes[1].set_title('Land Uses')\n",
    "axes[1].set_ylabel('Count of Land Uses')\n",
    "plt.tight_layout();"
   ]
  },
  {
   "cell_type": "code",
   "execution_count": 101,
   "metadata": {
    "slideshow": {
     "slide_type": "skip"
    }
   },
   "outputs": [
    {
     "data": {
      "text/plain": [
       "1    191500\n",
       "2    202000\n",
       "3     32000\n",
       "4    102000\n",
       "5     93736\n",
       "Name: Sale Price, dtype: int64"
      ]
     },
     "execution_count": 101,
     "metadata": {},
     "output_type": "execute_result"
    }
   ],
   "source": [
    "df['Sale Price'].head()"
   ]
  },
  {
   "cell_type": "markdown",
   "metadata": {},
   "source": [
    "# Dealing with Outliers\n",
    "I will do the same analyses with removing the outliers"
   ]
  },
  {
   "cell_type": "code",
   "execution_count": 159,
   "metadata": {},
   "outputs": [
    {
     "data": {
      "text/html": [
       "<div>\n",
       "<style scoped>\n",
       "    .dataframe tbody tr th:only-of-type {\n",
       "        vertical-align: middle;\n",
       "    }\n",
       "\n",
       "    .dataframe tbody tr th {\n",
       "        vertical-align: top;\n",
       "    }\n",
       "\n",
       "    .dataframe thead th {\n",
       "        text-align: right;\n",
       "    }\n",
       "</style>\n",
       "<table border=\"1\" class=\"dataframe\">\n",
       "  <thead>\n",
       "    <tr style=\"text-align: right;\">\n",
       "      <th></th>\n",
       "      <th>Land Use</th>\n",
       "      <th>Sale Price</th>\n",
       "      <th>Sold As Vacant</th>\n",
       "      <th>Multiple Parcels Involved in Sale</th>\n",
       "      <th>City</th>\n",
       "      <th>Acreage</th>\n",
       "      <th>Tax District</th>\n",
       "      <th>Land Value</th>\n",
       "      <th>Finished Area</th>\n",
       "      <th>Foundation Type</th>\n",
       "      <th>Year Built</th>\n",
       "      <th>Exterior Wall</th>\n",
       "      <th>Grade</th>\n",
       "      <th>Bedrooms</th>\n",
       "      <th>Full Bath</th>\n",
       "      <th>Half Bath</th>\n",
       "      <th>Sale Year</th>\n",
       "    </tr>\n",
       "  </thead>\n",
       "  <tbody>\n",
       "    <tr>\n",
       "      <th>0</th>\n",
       "      <td>SINGLE FAMILY</td>\n",
       "      <td>191500</td>\n",
       "      <td>No</td>\n",
       "      <td>No</td>\n",
       "      <td>NASHVILLE</td>\n",
       "      <td>0.17</td>\n",
       "      <td>URBAN SERVICES DISTRICT</td>\n",
       "      <td>32000.0</td>\n",
       "      <td>1149.00000</td>\n",
       "      <td>PT BSMT</td>\n",
       "      <td>1941.0</td>\n",
       "      <td>BRICK</td>\n",
       "      <td>C</td>\n",
       "      <td>2.0</td>\n",
       "      <td>1.0</td>\n",
       "      <td>0.0</td>\n",
       "      <td>13</td>\n",
       "    </tr>\n",
       "    <tr>\n",
       "      <th>1</th>\n",
       "      <td>SINGLE FAMILY</td>\n",
       "      <td>202000</td>\n",
       "      <td>No</td>\n",
       "      <td>No</td>\n",
       "      <td>NASHVILLE</td>\n",
       "      <td>0.11</td>\n",
       "      <td>CITY OF BERRY HILL</td>\n",
       "      <td>34000.0</td>\n",
       "      <td>2090.82495</td>\n",
       "      <td>SLAB</td>\n",
       "      <td>2000.0</td>\n",
       "      <td>BRICK/FRAME</td>\n",
       "      <td>C</td>\n",
       "      <td>3.0</td>\n",
       "      <td>2.0</td>\n",
       "      <td>1.0</td>\n",
       "      <td>13</td>\n",
       "    </tr>\n",
       "    <tr>\n",
       "      <th>2</th>\n",
       "      <td>SINGLE FAMILY</td>\n",
       "      <td>32000</td>\n",
       "      <td>No</td>\n",
       "      <td>No</td>\n",
       "      <td>NASHVILLE</td>\n",
       "      <td>0.17</td>\n",
       "      <td>URBAN SERVICES DISTRICT</td>\n",
       "      <td>25000.0</td>\n",
       "      <td>2145.60001</td>\n",
       "      <td>FULL BSMT</td>\n",
       "      <td>1948.0</td>\n",
       "      <td>BRICK/FRAME</td>\n",
       "      <td>B</td>\n",
       "      <td>4.0</td>\n",
       "      <td>2.0</td>\n",
       "      <td>0.0</td>\n",
       "      <td>13</td>\n",
       "    </tr>\n",
       "    <tr>\n",
       "      <th>3</th>\n",
       "      <td>SINGLE FAMILY</td>\n",
       "      <td>102000</td>\n",
       "      <td>No</td>\n",
       "      <td>No</td>\n",
       "      <td>NASHVILLE</td>\n",
       "      <td>0.34</td>\n",
       "      <td>URBAN SERVICES DISTRICT</td>\n",
       "      <td>25000.0</td>\n",
       "      <td>1969.00000</td>\n",
       "      <td>CRAWL</td>\n",
       "      <td>1910.0</td>\n",
       "      <td>FRAME</td>\n",
       "      <td>C</td>\n",
       "      <td>2.0</td>\n",
       "      <td>1.0</td>\n",
       "      <td>0.0</td>\n",
       "      <td>13</td>\n",
       "    </tr>\n",
       "    <tr>\n",
       "      <th>4</th>\n",
       "      <td>SINGLE FAMILY</td>\n",
       "      <td>93736</td>\n",
       "      <td>No</td>\n",
       "      <td>No</td>\n",
       "      <td>NASHVILLE</td>\n",
       "      <td>0.17</td>\n",
       "      <td>URBAN SERVICES DISTRICT</td>\n",
       "      <td>25000.0</td>\n",
       "      <td>1037.00000</td>\n",
       "      <td>CRAWL</td>\n",
       "      <td>1945.0</td>\n",
       "      <td>FRAME</td>\n",
       "      <td>C</td>\n",
       "      <td>2.0</td>\n",
       "      <td>1.0</td>\n",
       "      <td>0.0</td>\n",
       "      <td>13</td>\n",
       "    </tr>\n",
       "  </tbody>\n",
       "</table>\n",
       "</div>"
      ],
      "text/plain": [
       "        Land Use  Sale Price Sold As Vacant Multiple Parcels Involved in Sale  \\\n",
       "0  SINGLE FAMILY      191500             No                                No   \n",
       "1  SINGLE FAMILY      202000             No                                No   \n",
       "2  SINGLE FAMILY       32000             No                                No   \n",
       "3  SINGLE FAMILY      102000             No                                No   \n",
       "4  SINGLE FAMILY       93736             No                                No   \n",
       "\n",
       "        City  Acreage             Tax District  Land Value  Finished Area  \\\n",
       "0  NASHVILLE     0.17  URBAN SERVICES DISTRICT     32000.0     1149.00000   \n",
       "1  NASHVILLE     0.11       CITY OF BERRY HILL     34000.0     2090.82495   \n",
       "2  NASHVILLE     0.17  URBAN SERVICES DISTRICT     25000.0     2145.60001   \n",
       "3  NASHVILLE     0.34  URBAN SERVICES DISTRICT     25000.0     1969.00000   \n",
       "4  NASHVILLE     0.17  URBAN SERVICES DISTRICT     25000.0     1037.00000   \n",
       "\n",
       "  Foundation Type  Year Built Exterior Wall Grade  Bedrooms  Full Bath  \\\n",
       "0         PT BSMT      1941.0         BRICK  C          2.0        1.0   \n",
       "1            SLAB      2000.0   BRICK/FRAME  C          3.0        2.0   \n",
       "2       FULL BSMT      1948.0   BRICK/FRAME  B          4.0        2.0   \n",
       "3           CRAWL      1910.0         FRAME  C          2.0        1.0   \n",
       "4           CRAWL      1945.0         FRAME  C          2.0        1.0   \n",
       "\n",
       "   Half Bath  Sale Year  \n",
       "0        0.0         13  \n",
       "1        1.0         13  \n",
       "2        0.0         13  \n",
       "3        0.0         13  \n",
       "4        0.0         13  "
      ]
     },
     "execution_count": 159,
     "metadata": {},
     "output_type": "execute_result"
    }
   ],
   "source": [
    "df2 = pd.read_csv('preprocessed_data.csv')\n",
    "df2.head()"
   ]
  },
  {
   "cell_type": "code",
   "execution_count": 173,
   "metadata": {},
   "outputs": [
    {
     "name": "stdout",
     "output_type": "stream",
     "text": [
      "353\n",
      "630\n",
      "1138\n",
      "128\n",
      "0\n",
      "6031\n",
      "13\n",
      "0\n"
     ]
    }
   ],
   "source": [
    "'''\n",
    "Q1=df2['Sale Price'].quantile(0.25)\n",
    "Q3=df2['Sale Price'].quantile(0.75)\n",
    "IQR=Q3 - Q1\n",
    "print(Q1)\n",
    "print(Q3)\n",
    "print(IQR)\n",
    "Lower_Whisker = Q1 - 1.5*IQR\n",
    "Upper_Whisker = Q3 + 5*IQR\n",
    "print(Lower_Whisker, Upper_Whisker)\n",
    "'''\n",
    "# I would like to count the outliers in all numerical features\n",
    "\n",
    "for i in numerical_features:\n",
    "    Q1=df2[i].quantile(0.25)\n",
    "    Q3=df2[i].quantile(0.75)\n",
    "    IQR=Q3 - Q1\n",
    "    Lower_Whisker = Q1 - 1.5*IQR\n",
    "    Upper_Whisker = Q3 + 5*IQR\n",
    "    filt3 = df2[i] > Upper_Whisker\n",
    "    print(df2[i][filt3].count())"
   ]
  },
  {
   "cell_type": "code",
   "execution_count": 174,
   "metadata": {},
   "outputs": [
    {
     "name": "stdout",
     "output_type": "stream",
     "text": [
      "(24160, 17)\n",
      "(23802, 17)\n"
     ]
    }
   ],
   "source": [
    "print(df2.shape)\n",
    "Q1=df2['Sale Price'].quantile(0.25)\n",
    "Q3=df2['Sale Price'].quantile(0.75)\n",
    "IQR=Q3 - Q1\n",
    "Upper_Whisker = Q3 + 5*IQR\n",
    "\n",
    "df2 = df2[df2['Sale Price']< Upper_Whisker]\n",
    "\n",
    "print(df2.shape)"
   ]
  },
  {
   "cell_type": "code",
   "execution_count": 176,
   "metadata": {},
   "outputs": [],
   "source": [
    "df2[discrete_features] = df2[discrete_features].apply(lambda col:df_encoder.fit_transform(col))\n",
    "df2[numerical_features] = scaler.fit_transform(df2[numerical_features])\n",
    "X2 = df2.drop(['Sale Price'], axis = 1)\n",
    "y2 = df2['Sale Price']\n",
    "X_train2, X_test2, y_train2, y_test2 = train_test_split(X2, y2, test_size = 0.2, random_state = 2)"
   ]
  },
  {
   "cell_type": "code",
   "execution_count": 178,
   "metadata": {},
   "outputs": [],
   "source": [
    "model_XG2 = XGBRegressor(**params)"
   ]
  },
  {
   "cell_type": "code",
   "execution_count": 179,
   "metadata": {},
   "outputs": [
    {
     "name": "stdout",
     "output_type": "stream",
     "text": [
      "0.9518629721321892\n",
      "0.8328875614005419\n"
     ]
    }
   ],
   "source": [
    "model_XG2.fit(X_train2, y_train2)\n",
    "predictions_train2 = model_XG2.predict(X_train2)\n",
    "score_a = metrics.r2_score(y_train2, predictions_train2)\n",
    "predictions_test2 = model_XG2.predict(X_test2)\n",
    "score_b = metrics.r2_score(y_test2, predictions_test2)\n",
    "print(score_a)\n",
    "print(score_b)"
   ]
  },
  {
   "cell_type": "markdown",
   "metadata": {},
   "source": [
    "The values above are for the dataset with removing outliers."
   ]
  },
  {
   "cell_type": "code",
   "execution_count": 181,
   "metadata": {},
   "outputs": [
    {
     "data": {
      "image/png": "[encoded data removed]",
      "text/plain": [
       "<Figure size 432x288 with 1 Axes>"
      ]
     },
     "metadata": {
      "needs_background": "light"
     },
     "output_type": "display_data"
    }
   ],
   "source": [
    "plt.scatter(y_test2, predictions_test2)\n",
    "plt.xlabel('Actual Price')\n",
    "plt.ylabel('Predicted Price')\n",
    "plt.title('Actual vs Predicted on Testing Data after Removing Outliers')\n",
    "plt.xlim([0,0.6])\n",
    "plt.ylim([0,0.6])\n",
    "plt.show()"
   ]
  },
  {
   "cell_type": "markdown",
   "metadata": {
    "slideshow": {
     "slide_type": "slide"
    }
   },
   "source": [
    "## LabelEncoder"
   ]
  },
  {
   "cell_type": "code",
   "execution_count": 102,
   "metadata": {
    "slideshow": {
     "slide_type": "fragment"
    }
   },
   "outputs": [],
   "source": [
    "from sklearn.preprocessing import LabelEncoder"
   ]
  },
  {
   "cell_type": "code",
   "execution_count": 103,
   "metadata": {
    "slideshow": {
     "slide_type": "fragment"
    }
   },
   "outputs": [
    {
     "data": {
      "text/plain": [
       "Land Use                              object\n",
       "Sale Price                             int64\n",
       "Sold As Vacant                        object\n",
       "Multiple Parcels Involved in Sale     object\n",
       "City                                  object\n",
       "Acreage                              float64\n",
       "Tax District                          object\n",
       "Land Value                           float64\n",
       "Finished Area                        float64\n",
       "Foundation Type                       object\n",
       "Year Built                           float64\n",
       "Exterior Wall                         object\n",
       "Grade                                 object\n",
       "Bedrooms                             float64\n",
       "Full Bath                            float64\n",
       "Half Bath                            float64\n",
       "Sale Year                             object\n",
       "dtype: object"
      ]
     },
     "execution_count": 103,
     "metadata": {},
     "output_type": "execute_result"
    }
   ],
   "source": [
    "df.dtypes"
   ]
  },
  {
   "cell_type": "code",
   "execution_count": 104,
   "metadata": {
    "slideshow": {
     "slide_type": "slide"
    }
   },
   "outputs": [],
   "source": [
    "df_encoder = LabelEncoder()"
   ]
  },
  {
   "cell_type": "code",
   "execution_count": 105,
   "metadata": {
    "slideshow": {
     "slide_type": "fragment"
    }
   },
   "outputs": [],
   "source": [
    "df[discrete_features] = df[discrete_features].apply(lambda col:df_encoder.fit_transform(col))"
   ]
  },
  {
   "cell_type": "code",
   "execution_count": 106,
   "metadata": {
    "slideshow": {
     "slide_type": "fragment"
    }
   },
   "outputs": [
    {
     "data": {
      "text/html": [
       "<div>\n",
       "<style scoped>\n",
       "    .dataframe tbody tr th:only-of-type {\n",
       "        vertical-align: middle;\n",
       "    }\n",
       "\n",
       "    .dataframe tbody tr th {\n",
       "        vertical-align: top;\n",
       "    }\n",
       "\n",
       "    .dataframe thead th {\n",
       "        text-align: right;\n",
       "    }\n",
       "</style>\n",
       "<table border=\"1\" class=\"dataframe\">\n",
       "  <thead>\n",
       "    <tr style=\"text-align: right;\">\n",
       "      <th></th>\n",
       "      <th>Land Use</th>\n",
       "      <th>Sold As Vacant</th>\n",
       "      <th>Multiple Parcels Involved in Sale</th>\n",
       "      <th>City</th>\n",
       "      <th>Tax District</th>\n",
       "      <th>Foundation Type</th>\n",
       "      <th>Exterior Wall</th>\n",
       "      <th>Grade</th>\n",
       "      <th>Sale Year</th>\n",
       "    </tr>\n",
       "  </thead>\n",
       "  <tbody>\n",
       "    <tr>\n",
       "      <th>1</th>\n",
       "      <td>18</td>\n",
       "      <td>0</td>\n",
       "      <td>0</td>\n",
       "      <td>7</td>\n",
       "      <td>6</td>\n",
       "      <td>3</td>\n",
       "      <td>0</td>\n",
       "      <td>4</td>\n",
       "      <td>0</td>\n",
       "    </tr>\n",
       "    <tr>\n",
       "      <th>2</th>\n",
       "      <td>18</td>\n",
       "      <td>0</td>\n",
       "      <td>0</td>\n",
       "      <td>7</td>\n",
       "      <td>1</td>\n",
       "      <td>4</td>\n",
       "      <td>1</td>\n",
       "      <td>4</td>\n",
       "      <td>0</td>\n",
       "    </tr>\n",
       "    <tr>\n",
       "      <th>3</th>\n",
       "      <td>18</td>\n",
       "      <td>0</td>\n",
       "      <td>0</td>\n",
       "      <td>7</td>\n",
       "      <td>6</td>\n",
       "      <td>1</td>\n",
       "      <td>1</td>\n",
       "      <td>3</td>\n",
       "      <td>0</td>\n",
       "    </tr>\n",
       "    <tr>\n",
       "      <th>4</th>\n",
       "      <td>18</td>\n",
       "      <td>0</td>\n",
       "      <td>0</td>\n",
       "      <td>7</td>\n",
       "      <td>6</td>\n",
       "      <td>0</td>\n",
       "      <td>3</td>\n",
       "      <td>4</td>\n",
       "      <td>0</td>\n",
       "    </tr>\n",
       "    <tr>\n",
       "      <th>5</th>\n",
       "      <td>18</td>\n",
       "      <td>0</td>\n",
       "      <td>0</td>\n",
       "      <td>7</td>\n",
       "      <td>6</td>\n",
       "      <td>0</td>\n",
       "      <td>3</td>\n",
       "      <td>4</td>\n",
       "      <td>0</td>\n",
       "    </tr>\n",
       "  </tbody>\n",
       "</table>\n",
       "</div>"
      ],
      "text/plain": [
       "   Land Use  Sold As Vacant  Multiple Parcels Involved in Sale  City  \\\n",
       "1        18               0                                  0     7   \n",
       "2        18               0                                  0     7   \n",
       "3        18               0                                  0     7   \n",
       "4        18               0                                  0     7   \n",
       "5        18               0                                  0     7   \n",
       "\n",
       "   Tax District  Foundation Type  Exterior Wall  Grade  Sale Year  \n",
       "1             6                3              0      4          0  \n",
       "2             1                4              1      4          0  \n",
       "3             6                1              1      3          0  \n",
       "4             6                0              3      4          0  \n",
       "5             6                0              3      4          0  "
      ]
     },
     "execution_count": 106,
     "metadata": {},
     "output_type": "execute_result"
    }
   ],
   "source": [
    "df[discrete_features].head()"
   ]
  },
  {
   "cell_type": "code",
   "execution_count": 107,
   "metadata": {
    "slideshow": {
     "slide_type": "slide"
    }
   },
   "outputs": [],
   "source": [
    "from sklearn.preprocessing import MinMaxScaler"
   ]
  },
  {
   "cell_type": "code",
   "execution_count": 108,
   "metadata": {
    "slideshow": {
     "slide_type": "fragment"
    }
   },
   "outputs": [],
   "source": [
    "scaler = MinMaxScaler()"
   ]
  },
  {
   "cell_type": "code",
   "execution_count": 109,
   "metadata": {
    "slideshow": {
     "slide_type": "fragment"
    }
   },
   "outputs": [],
   "source": [
    "df[numerical_features] = scaler.fit_transform(df[numerical_features])"
   ]
  },
  {
   "cell_type": "code",
   "execution_count": 110,
   "metadata": {
    "slideshow": {
     "slide_type": "fragment"
    }
   },
   "outputs": [
    {
     "data": {
      "text/html": [
       "<div>\n",
       "<style scoped>\n",
       "    .dataframe tbody tr th:only-of-type {\n",
       "        vertical-align: middle;\n",
       "    }\n",
       "\n",
       "    .dataframe tbody tr th {\n",
       "        vertical-align: top;\n",
       "    }\n",
       "\n",
       "    .dataframe thead th {\n",
       "        text-align: right;\n",
       "    }\n",
       "</style>\n",
       "<table border=\"1\" class=\"dataframe\">\n",
       "  <thead>\n",
       "    <tr style=\"text-align: right;\">\n",
       "      <th></th>\n",
       "      <th>Sale Price</th>\n",
       "      <th>Acreage</th>\n",
       "      <th>Land Value</th>\n",
       "      <th>Finished Area</th>\n",
       "      <th>Year Built</th>\n",
       "      <th>Bedrooms</th>\n",
       "      <th>Full Bath</th>\n",
       "      <th>Half Bath</th>\n",
       "    </tr>\n",
       "  </thead>\n",
       "  <tbody>\n",
       "    <tr>\n",
       "      <th>1</th>\n",
       "      <td>0.015498</td>\n",
       "      <td>0.002739</td>\n",
       "      <td>0.017069</td>\n",
       "      <td>0.003539</td>\n",
       "      <td>0.651376</td>\n",
       "      <td>0.181818</td>\n",
       "      <td>0.1</td>\n",
       "      <td>0.000000</td>\n",
       "    </tr>\n",
       "    <tr>\n",
       "      <th>2</th>\n",
       "      <td>0.016348</td>\n",
       "      <td>0.001475</td>\n",
       "      <td>0.018139</td>\n",
       "      <td>0.008306</td>\n",
       "      <td>0.922018</td>\n",
       "      <td>0.272727</td>\n",
       "      <td>0.2</td>\n",
       "      <td>0.333333</td>\n",
       "    </tr>\n",
       "    <tr>\n",
       "      <th>3</th>\n",
       "      <td>0.002583</td>\n",
       "      <td>0.002739</td>\n",
       "      <td>0.013323</td>\n",
       "      <td>0.008584</td>\n",
       "      <td>0.683486</td>\n",
       "      <td>0.363636</td>\n",
       "      <td>0.2</td>\n",
       "      <td>0.000000</td>\n",
       "    </tr>\n",
       "    <tr>\n",
       "      <th>4</th>\n",
       "      <td>0.008251</td>\n",
       "      <td>0.006321</td>\n",
       "      <td>0.013323</td>\n",
       "      <td>0.007690</td>\n",
       "      <td>0.509174</td>\n",
       "      <td>0.181818</td>\n",
       "      <td>0.1</td>\n",
       "      <td>0.000000</td>\n",
       "    </tr>\n",
       "    <tr>\n",
       "      <th>5</th>\n",
       "      <td>0.007582</td>\n",
       "      <td>0.002739</td>\n",
       "      <td>0.013323</td>\n",
       "      <td>0.002972</td>\n",
       "      <td>0.669725</td>\n",
       "      <td>0.181818</td>\n",
       "      <td>0.1</td>\n",
       "      <td>0.000000</td>\n",
       "    </tr>\n",
       "  </tbody>\n",
       "</table>\n",
       "</div>"
      ],
      "text/plain": [
       "   Sale Price   Acreage  Land Value  Finished Area  Year Built  Bedrooms  \\\n",
       "1    0.015498  0.002739    0.017069       0.003539    0.651376  0.181818   \n",
       "2    0.016348  0.001475    0.018139       0.008306    0.922018  0.272727   \n",
       "3    0.002583  0.002739    0.013323       0.008584    0.683486  0.363636   \n",
       "4    0.008251  0.006321    0.013323       0.007690    0.509174  0.181818   \n",
       "5    0.007582  0.002739    0.013323       0.002972    0.669725  0.181818   \n",
       "\n",
       "   Full Bath  Half Bath  \n",
       "1        0.1   0.000000  \n",
       "2        0.2   0.333333  \n",
       "3        0.2   0.000000  \n",
       "4        0.1   0.000000  \n",
       "5        0.1   0.000000  "
      ]
     },
     "execution_count": 110,
     "metadata": {},
     "output_type": "execute_result"
    }
   ],
   "source": [
    "df[numerical_features].head()"
   ]
  },
  {
   "cell_type": "code",
   "execution_count": 111,
   "metadata": {
    "slideshow": {
     "slide_type": "slide"
    }
   },
   "outputs": [
    {
     "data": {
      "text/html": [
       "<div>\n",
       "<style scoped>\n",
       "    .dataframe tbody tr th:only-of-type {\n",
       "        vertical-align: middle;\n",
       "    }\n",
       "\n",
       "    .dataframe tbody tr th {\n",
       "        vertical-align: top;\n",
       "    }\n",
       "\n",
       "    .dataframe thead th {\n",
       "        text-align: right;\n",
       "    }\n",
       "</style>\n",
       "<table border=\"1\" class=\"dataframe\">\n",
       "  <thead>\n",
       "    <tr style=\"text-align: right;\">\n",
       "      <th></th>\n",
       "      <th>Land Use</th>\n",
       "      <th>Sale Price</th>\n",
       "      <th>Sold As Vacant</th>\n",
       "      <th>Multiple Parcels Involved in Sale</th>\n",
       "      <th>City</th>\n",
       "      <th>Acreage</th>\n",
       "      <th>Tax District</th>\n",
       "      <th>Land Value</th>\n",
       "      <th>Finished Area</th>\n",
       "      <th>Foundation Type</th>\n",
       "      <th>Year Built</th>\n",
       "      <th>Exterior Wall</th>\n",
       "      <th>Grade</th>\n",
       "      <th>Bedrooms</th>\n",
       "      <th>Full Bath</th>\n",
       "      <th>Half Bath</th>\n",
       "      <th>Sale Year</th>\n",
       "    </tr>\n",
       "  </thead>\n",
       "  <tbody>\n",
       "    <tr>\n",
       "      <th>1</th>\n",
       "      <td>18</td>\n",
       "      <td>0.015498</td>\n",
       "      <td>0</td>\n",
       "      <td>0</td>\n",
       "      <td>7</td>\n",
       "      <td>0.002739</td>\n",
       "      <td>6</td>\n",
       "      <td>0.017069</td>\n",
       "      <td>0.003539</td>\n",
       "      <td>3</td>\n",
       "      <td>0.651376</td>\n",
       "      <td>0</td>\n",
       "      <td>4</td>\n",
       "      <td>0.181818</td>\n",
       "      <td>0.1</td>\n",
       "      <td>0.000000</td>\n",
       "      <td>0</td>\n",
       "    </tr>\n",
       "    <tr>\n",
       "      <th>2</th>\n",
       "      <td>18</td>\n",
       "      <td>0.016348</td>\n",
       "      <td>0</td>\n",
       "      <td>0</td>\n",
       "      <td>7</td>\n",
       "      <td>0.001475</td>\n",
       "      <td>1</td>\n",
       "      <td>0.018139</td>\n",
       "      <td>0.008306</td>\n",
       "      <td>4</td>\n",
       "      <td>0.922018</td>\n",
       "      <td>1</td>\n",
       "      <td>4</td>\n",
       "      <td>0.272727</td>\n",
       "      <td>0.2</td>\n",
       "      <td>0.333333</td>\n",
       "      <td>0</td>\n",
       "    </tr>\n",
       "    <tr>\n",
       "      <th>3</th>\n",
       "      <td>18</td>\n",
       "      <td>0.002583</td>\n",
       "      <td>0</td>\n",
       "      <td>0</td>\n",
       "      <td>7</td>\n",
       "      <td>0.002739</td>\n",
       "      <td>6</td>\n",
       "      <td>0.013323</td>\n",
       "      <td>0.008584</td>\n",
       "      <td>1</td>\n",
       "      <td>0.683486</td>\n",
       "      <td>1</td>\n",
       "      <td>3</td>\n",
       "      <td>0.363636</td>\n",
       "      <td>0.2</td>\n",
       "      <td>0.000000</td>\n",
       "      <td>0</td>\n",
       "    </tr>\n",
       "    <tr>\n",
       "      <th>4</th>\n",
       "      <td>18</td>\n",
       "      <td>0.008251</td>\n",
       "      <td>0</td>\n",
       "      <td>0</td>\n",
       "      <td>7</td>\n",
       "      <td>0.006321</td>\n",
       "      <td>6</td>\n",
       "      <td>0.013323</td>\n",
       "      <td>0.007690</td>\n",
       "      <td>0</td>\n",
       "      <td>0.509174</td>\n",
       "      <td>3</td>\n",
       "      <td>4</td>\n",
       "      <td>0.181818</td>\n",
       "      <td>0.1</td>\n",
       "      <td>0.000000</td>\n",
       "      <td>0</td>\n",
       "    </tr>\n",
       "    <tr>\n",
       "      <th>5</th>\n",
       "      <td>18</td>\n",
       "      <td>0.007582</td>\n",
       "      <td>0</td>\n",
       "      <td>0</td>\n",
       "      <td>7</td>\n",
       "      <td>0.002739</td>\n",
       "      <td>6</td>\n",
       "      <td>0.013323</td>\n",
       "      <td>0.002972</td>\n",
       "      <td>0</td>\n",
       "      <td>0.669725</td>\n",
       "      <td>3</td>\n",
       "      <td>4</td>\n",
       "      <td>0.181818</td>\n",
       "      <td>0.1</td>\n",
       "      <td>0.000000</td>\n",
       "      <td>0</td>\n",
       "    </tr>\n",
       "    <tr>\n",
       "      <th>7</th>\n",
       "      <td>18</td>\n",
       "      <td>0.003555</td>\n",
       "      <td>0</td>\n",
       "      <td>0</td>\n",
       "      <td>7</td>\n",
       "      <td>0.003371</td>\n",
       "      <td>6</td>\n",
       "      <td>0.008508</td>\n",
       "      <td>0.003878</td>\n",
       "      <td>0</td>\n",
       "      <td>0.610092</td>\n",
       "      <td>3</td>\n",
       "      <td>5</td>\n",
       "      <td>0.181818</td>\n",
       "      <td>0.1</td>\n",
       "      <td>0.000000</td>\n",
       "      <td>0</td>\n",
       "    </tr>\n",
       "    <tr>\n",
       "      <th>8</th>\n",
       "      <td>18</td>\n",
       "      <td>0.004032</td>\n",
       "      <td>0</td>\n",
       "      <td>0</td>\n",
       "      <td>7</td>\n",
       "      <td>0.003371</td>\n",
       "      <td>6</td>\n",
       "      <td>0.008508</td>\n",
       "      <td>0.003878</td>\n",
       "      <td>0</td>\n",
       "      <td>0.610092</td>\n",
       "      <td>3</td>\n",
       "      <td>5</td>\n",
       "      <td>0.181818</td>\n",
       "      <td>0.1</td>\n",
       "      <td>0.000000</td>\n",
       "      <td>0</td>\n",
       "    </tr>\n",
       "    <tr>\n",
       "      <th>9</th>\n",
       "      <td>18</td>\n",
       "      <td>0.002016</td>\n",
       "      <td>0</td>\n",
       "      <td>0</td>\n",
       "      <td>7</td>\n",
       "      <td>0.007585</td>\n",
       "      <td>6</td>\n",
       "      <td>0.013323</td>\n",
       "      <td>0.003554</td>\n",
       "      <td>0</td>\n",
       "      <td>0.669725</td>\n",
       "      <td>3</td>\n",
       "      <td>4</td>\n",
       "      <td>0.181818</td>\n",
       "      <td>0.1</td>\n",
       "      <td>0.000000</td>\n",
       "      <td>0</td>\n",
       "    </tr>\n",
       "    <tr>\n",
       "      <th>10</th>\n",
       "      <td>18</td>\n",
       "      <td>0.007279</td>\n",
       "      <td>0</td>\n",
       "      <td>0</td>\n",
       "      <td>7</td>\n",
       "      <td>0.006321</td>\n",
       "      <td>6</td>\n",
       "      <td>0.013323</td>\n",
       "      <td>0.004303</td>\n",
       "      <td>0</td>\n",
       "      <td>0.715596</td>\n",
       "      <td>0</td>\n",
       "      <td>4</td>\n",
       "      <td>0.181818</td>\n",
       "      <td>0.1</td>\n",
       "      <td>0.000000</td>\n",
       "      <td>0</td>\n",
       "    </tr>\n",
       "    <tr>\n",
       "      <th>11</th>\n",
       "      <td>18</td>\n",
       "      <td>0.005822</td>\n",
       "      <td>0</td>\n",
       "      <td>0</td>\n",
       "      <td>7</td>\n",
       "      <td>0.004003</td>\n",
       "      <td>6</td>\n",
       "      <td>0.011451</td>\n",
       "      <td>0.003670</td>\n",
       "      <td>0</td>\n",
       "      <td>0.775229</td>\n",
       "      <td>0</td>\n",
       "      <td>4</td>\n",
       "      <td>0.272727</td>\n",
       "      <td>0.1</td>\n",
       "      <td>0.333333</td>\n",
       "      <td>0</td>\n",
       "    </tr>\n",
       "  </tbody>\n",
       "</table>\n",
       "</div>"
      ],
      "text/plain": [
       "    Land Use  Sale Price  Sold As Vacant  Multiple Parcels Involved in Sale  \\\n",
       "1         18    0.015498               0                                  0   \n",
       "2         18    0.016348               0                                  0   \n",
       "3         18    0.002583               0                                  0   \n",
       "4         18    0.008251               0                                  0   \n",
       "5         18    0.007582               0                                  0   \n",
       "7         18    0.003555               0                                  0   \n",
       "8         18    0.004032               0                                  0   \n",
       "9         18    0.002016               0                                  0   \n",
       "10        18    0.007279               0                                  0   \n",
       "11        18    0.005822               0                                  0   \n",
       "\n",
       "    City   Acreage  Tax District  Land Value  Finished Area  Foundation Type  \\\n",
       "1      7  0.002739             6    0.017069       0.003539                3   \n",
       "2      7  0.001475             1    0.018139       0.008306                4   \n",
       "3      7  0.002739             6    0.013323       0.008584                1   \n",
       "4      7  0.006321             6    0.013323       0.007690                0   \n",
       "5      7  0.002739             6    0.013323       0.002972                0   \n",
       "7      7  0.003371             6    0.008508       0.003878                0   \n",
       "8      7  0.003371             6    0.008508       0.003878                0   \n",
       "9      7  0.007585             6    0.013323       0.003554                0   \n",
       "10     7  0.006321             6    0.013323       0.004303                0   \n",
       "11     7  0.004003             6    0.011451       0.003670                0   \n",
       "\n",
       "    Year Built  Exterior Wall  Grade  Bedrooms  Full Bath  Half Bath  \\\n",
       "1     0.651376              0      4  0.181818        0.1   0.000000   \n",
       "2     0.922018              1      4  0.272727        0.2   0.333333   \n",
       "3     0.683486              1      3  0.363636        0.2   0.000000   \n",
       "4     0.509174              3      4  0.181818        0.1   0.000000   \n",
       "5     0.669725              3      4  0.181818        0.1   0.000000   \n",
       "7     0.610092              3      5  0.181818        0.1   0.000000   \n",
       "8     0.610092              3      5  0.181818        0.1   0.000000   \n",
       "9     0.669725              3      4  0.181818        0.1   0.000000   \n",
       "10    0.715596              0      4  0.181818        0.1   0.000000   \n",
       "11    0.775229              0      4  0.272727        0.1   0.333333   \n",
       "\n",
       "    Sale Year  \n",
       "1           0  \n",
       "2           0  \n",
       "3           0  \n",
       "4           0  \n",
       "5           0  \n",
       "7           0  \n",
       "8           0  \n",
       "9           0  \n",
       "10          0  \n",
       "11          0  "
      ]
     },
     "execution_count": 111,
     "metadata": {},
     "output_type": "execute_result"
    }
   ],
   "source": [
    "df.head(10)"
   ]
  },
  {
   "cell_type": "code",
   "execution_count": 112,
   "metadata": {
    "slideshow": {
     "slide_type": "slide"
    }
   },
   "outputs": [],
   "source": [
    "X = df.drop(['Sale Price'], axis = 1)\n",
    "y = df['Sale Price']"
   ]
  },
  {
   "cell_type": "code",
   "execution_count": 113,
   "metadata": {
    "slideshow": {
     "slide_type": "fragment"
    }
   },
   "outputs": [],
   "source": [
    "from sklearn.model_selection import train_test_split"
   ]
  },
  {
   "cell_type": "code",
   "execution_count": 114,
   "metadata": {
    "slideshow": {
     "slide_type": "fragment"
    }
   },
   "outputs": [],
   "source": [
    "X_train, X_test, y_train, y_test = train_test_split(X, y, test_size = 0.2, random_state = 2)"
   ]
  },
  {
   "cell_type": "code",
   "execution_count": 115,
   "metadata": {
    "slideshow": {
     "slide_type": "fragment"
    }
   },
   "outputs": [
    {
     "name": "stdout",
     "output_type": "stream",
     "text": [
      "(24160, 16) (19328, 16) (4832, 16)\n"
     ]
    }
   ],
   "source": [
    "print(X.shape, X_train.shape, X_test.shape)"
   ]
  },
  {
   "cell_type": "markdown",
   "metadata": {
    "slideshow": {
     "slide_type": "slide"
    }
   },
   "source": [
    "## XGBoost Regressor"
   ]
  },
  {
   "cell_type": "code",
   "execution_count": 116,
   "metadata": {
    "slideshow": {
     "slide_type": "fragment"
    }
   },
   "outputs": [],
   "source": [
    "from xgboost import XGBRegressor\n",
    "from sklearn.metrics import mean_squared_error\n",
    "from sklearn import metrics"
   ]
  },
  {
   "cell_type": "code",
   "execution_count": 139,
   "metadata": {},
   "outputs": [],
   "source": [
    "def algorithm_pipeline(X_train_data, X_test_data, y_train_data, y_test_data, \n",
    "                       model, param_grid, cv=10, scoring_fit='neg_mean_squared_error',\n",
    "                       do_probabilities = False):\n",
    "    gs = GridSearchCV(\n",
    "        estimator=model,\n",
    "        param_grid=param_grid, \n",
    "        cv=cv, \n",
    "        n_jobs=-1, \n",
    "        scoring=scoring_fit,\n",
    "        verbose=2\n",
    "    )\n",
    "    fitted_model = gs.fit(X_train_data, y_train_data)\n",
    "    \n",
    "    if do_probabilities:\n",
    "      pred = fitted_model.predict_proba(X_test_data)\n",
    "    else:\n",
    "      pred = fitted_model.predict(X_test_data)\n",
    "    \n",
    "    return fitted_model, pred"
   ]
  },
  {
   "cell_type": "code",
   "execution_count": 141,
   "metadata": {
    "slideshow": {
     "slide_type": "fragment"
    }
   },
   "outputs": [
    {
     "name": "stdout",
     "output_type": "stream",
     "text": [
      "Fitting 5 folds for each of 216 candidates, totalling 1080 fits\n",
      "[CV] END colsample_bytree=0.7, max_depth=15, n_estimators=400, reg_alpha=1.1, reg_lambda=1.1, subsample=0.7; total time=  13.7s\n",
      "[CV] END colsample_bytree=0.7, max_depth=15, n_estimators=400, reg_alpha=1.1, reg_lambda=1.1, subsample=0.8; total time=  14.3s\n",
      "[CV] END colsample_bytree=0.7, max_depth=15, n_estimators=400, reg_alpha=1.1, reg_lambda=1.1, subsample=0.9; total time=  15.3s\n",
      "[CV] END colsample_bytree=0.7, max_depth=15, n_estimators=400, reg_alpha=1.1, reg_lambda=1.2, subsample=0.7; total time=  18.8s\n",
      "[CV] END colsample_bytree=0.7, max_depth=15, n_estimators=400, reg_alpha=1.1, reg_lambda=1.2, subsample=0.7; total time=  16.4s\n",
      "[CV] END colsample_bytree=0.7, max_depth=15, n_estimators=400, reg_alpha=1.1, reg_lambda=1.2, subsample=0.8; total time=  17.7s\n",
      "[CV] END colsample_bytree=0.7, max_depth=15, n_estimators=400, reg_alpha=1.1, reg_lambda=1.2, subsample=0.9; total time=  18.7s\n",
      "[CV] END colsample_bytree=0.7, max_depth=15, n_estimators=400, reg_alpha=1.1, reg_lambda=1.3, subsample=0.7; total time=  17.4s\n",
      "[CV] END colsample_bytree=0.7, max_depth=15, n_estimators=400, reg_alpha=1.1, reg_lambda=1.3, subsample=0.8; total time=  18.1s\n",
      "[CV] END colsample_bytree=0.7, max_depth=15, n_estimators=400, reg_alpha=1.1, reg_lambda=1.3, subsample=0.8; total time=  15.1s\n",
      "[CV] END colsample_bytree=0.7, max_depth=15, n_estimators=400, reg_alpha=1.1, reg_lambda=1.3, subsample=0.9; total time=  15.2s\n",
      "[CV] END colsample_bytree=0.7, max_depth=15, n_estimators=400, reg_alpha=1.2, reg_lambda=1.1, subsample=0.7; total time=  16.0s\n",
      "[CV] END colsample_bytree=0.7, max_depth=15, n_estimators=400, reg_alpha=1.2, reg_lambda=1.1, subsample=0.8; total time=  14.2s\n",
      "[CV] END colsample_bytree=0.7, max_depth=15, n_estimators=400, reg_alpha=1.2, reg_lambda=1.1, subsample=0.8; total time=  12.7s\n",
      "[CV] END colsample_bytree=0.7, max_depth=15, n_estimators=400, reg_alpha=1.2, reg_lambda=1.1, subsample=0.9; total time=  13.0s\n",
      "[CV] END colsample_bytree=0.7, max_depth=15, n_estimators=400, reg_alpha=1.2, reg_lambda=1.2, subsample=0.7; total time=  17.1s\n",
      "[CV] END colsample_bytree=0.7, max_depth=15, n_estimators=400, reg_alpha=1.2, reg_lambda=1.2, subsample=0.8; total time=  14.8s\n",
      "[CV] END colsample_bytree=0.7, max_depth=15, n_estimators=400, reg_alpha=1.2, reg_lambda=1.2, subsample=0.9; total time=  12.5s\n",
      "[CV] END colsample_bytree=0.7, max_depth=15, n_estimators=400, reg_alpha=1.2, reg_lambda=1.2, subsample=0.9; total time=  10.9s\n",
      "[CV] END colsample_bytree=0.7, max_depth=15, n_estimators=400, reg_alpha=1.2, reg_lambda=1.3, subsample=0.7; total time=  16.0s\n",
      "[CV] END colsample_bytree=0.7, max_depth=15, n_estimators=400, reg_alpha=1.2, reg_lambda=1.3, subsample=0.8; total time=  17.8s\n",
      "[CV] END colsample_bytree=0.7, max_depth=15, n_estimators=400, reg_alpha=1.2, reg_lambda=1.3, subsample=0.9; total time=  10.8s\n",
      "[CV] END colsample_bytree=0.7, max_depth=15, n_estimators=400, reg_alpha=1.2, reg_lambda=1.3, subsample=0.9; total time=   9.9s\n",
      "[CV] END colsample_bytree=0.7, max_depth=15, n_estimators=400, reg_alpha=1.3, reg_lambda=1.1, subsample=0.7; total time=  12.5s\n",
      "[CV] END colsample_bytree=0.7, max_depth=15, n_estimators=400, reg_alpha=1.3, reg_lambda=1.1, subsample=0.8; total time=  12.8s\n",
      "[CV] END colsample_bytree=0.7, max_depth=15, n_estimators=400, reg_alpha=1.3, reg_lambda=1.1, subsample=0.9; total time=  10.4s\n",
      "[CV] END colsample_bytree=0.7, max_depth=15, n_estimators=400, reg_alpha=1.3, reg_lambda=1.1, subsample=0.9; total time=   9.2s\n",
      "[CV] END colsample_bytree=0.7, max_depth=15, n_estimators=400, reg_alpha=1.3, reg_lambda=1.2, subsample=0.7; total time=  12.1s\n",
      "[CV] END colsample_bytree=0.7, max_depth=15, n_estimators=400, reg_alpha=1.3, reg_lambda=1.2, subsample=0.8; total time=  12.9s\n",
      "[CV] END colsample_bytree=0.7, max_depth=15, n_estimators=400, reg_alpha=1.3, reg_lambda=1.2, subsample=0.9; total time=  11.9s\n",
      "[CV] END colsample_bytree=0.7, max_depth=15, n_estimators=400, reg_alpha=1.3, reg_lambda=1.3, subsample=0.7; total time=  16.9s\n",
      "[CV] END colsample_bytree=0.7, max_depth=15, n_estimators=400, reg_alpha=1.3, reg_lambda=1.3, subsample=0.7; total time=  13.8s\n",
      "[CV] END colsample_bytree=0.7, max_depth=15, n_estimators=400, reg_alpha=1.3, reg_lambda=1.3, subsample=0.8; total time=  16.4s\n",
      "[CV] END colsample_bytree=0.7, max_depth=15, n_estimators=400, reg_alpha=1.3, reg_lambda=1.3, subsample=0.9; total time=  11.3s\n",
      "[CV] END colsample_bytree=0.7, max_depth=15, n_estimators=700, reg_alpha=1.1, reg_lambda=1.1, subsample=0.7; total time=  25.1s\n",
      "[CV] END colsample_bytree=0.7, max_depth=15, n_estimators=700, reg_alpha=1.1, reg_lambda=1.1, subsample=0.8; total time=  23.5s\n",
      "[CV] END colsample_bytree=0.7, max_depth=15, n_estimators=700, reg_alpha=1.1, reg_lambda=1.1, subsample=0.8; total time=  20.7s\n",
      "[CV] END colsample_bytree=0.7, max_depth=15, n_estimators=700, reg_alpha=1.1, reg_lambda=1.1, subsample=0.9; total time=  19.2s\n",
      "[CV] END colsample_bytree=0.7, max_depth=15, n_estimators=700, reg_alpha=1.1, reg_lambda=1.2, subsample=0.7; total time=  30.1s\n",
      "[CV] END colsample_bytree=0.7, max_depth=15, n_estimators=700, reg_alpha=1.1, reg_lambda=1.2, subsample=0.8; total time=  30.7s\n",
      "[CV] END colsample_bytree=0.7, max_depth=15, n_estimators=700, reg_alpha=1.1, reg_lambda=1.2, subsample=0.9; total time=  22.6s\n",
      "[CV] END colsample_bytree=0.7, max_depth=15, n_estimators=700, reg_alpha=1.1, reg_lambda=1.2, subsample=0.9; total time=  17.2s\n",
      "[CV] END colsample_bytree=0.7, max_depth=15, n_estimators=700, reg_alpha=1.1, reg_lambda=1.3, subsample=0.7; total time=  30.3s\n",
      "[CV] END colsample_bytree=0.7, max_depth=15, n_estimators=700, reg_alpha=1.1, reg_lambda=1.3, subsample=0.8; total time=  28.6s\n",
      "[CV] END colsample_bytree=0.7, max_depth=15, n_estimators=700, reg_alpha=1.1, reg_lambda=1.3, subsample=0.9; total time=  22.1s\n",
      "[CV] END colsample_bytree=0.7, max_depth=15, n_estimators=700, reg_alpha=1.1, reg_lambda=1.3, subsample=0.9; total time=  16.1s\n",
      "[CV] END colsample_bytree=0.7, max_depth=15, n_estimators=700, reg_alpha=1.2, reg_lambda=1.1, subsample=0.7; total time=  25.5s\n",
      "[CV] END colsample_bytree=0.7, max_depth=15, n_estimators=700, reg_alpha=1.2, reg_lambda=1.1, subsample=0.8; total time=  25.6s\n",
      "[CV] END colsample_bytree=0.7, max_depth=15, n_estimators=700, reg_alpha=1.2, reg_lambda=1.1, subsample=0.9; total time=  20.5s\n",
      "[CV] END colsample_bytree=0.7, max_depth=15, n_estimators=700, reg_alpha=1.2, reg_lambda=1.2, subsample=0.7; total time=  26.7s\n",
      "[CV] END colsample_bytree=0.7, max_depth=15, n_estimators=700, reg_alpha=1.2, reg_lambda=1.2, subsample=0.7; total time=  20.2s\n",
      "[CV] END colsample_bytree=0.7, max_depth=15, n_estimators=700, reg_alpha=1.2, reg_lambda=1.2, subsample=0.8; total time=  23.4s\n",
      "[CV] END colsample_bytree=0.7, max_depth=15, n_estimators=700, reg_alpha=1.2, reg_lambda=1.2, subsample=0.9; total time=  16.7s\n",
      "[CV] END colsample_bytree=0.7, max_depth=15, n_estimators=700, reg_alpha=1.2, reg_lambda=1.3, subsample=0.7; total time=  22.9s\n",
      "[CV] END colsample_bytree=0.7, max_depth=15, n_estimators=700, reg_alpha=1.2, reg_lambda=1.3, subsample=0.8; total time=  21.8s\n",
      "[CV] END colsample_bytree=0.7, max_depth=15, n_estimators=700, reg_alpha=1.2, reg_lambda=1.3, subsample=0.8; total time=  17.3s\n",
      "[CV] END colsample_bytree=0.7, max_depth=15, n_estimators=700, reg_alpha=1.2, reg_lambda=1.3, subsample=0.9; total time=  17.6s\n",
      "[CV] END colsample_bytree=0.7, max_depth=15, n_estimators=700, reg_alpha=1.3, reg_lambda=1.1, subsample=0.7; total time=  21.2s\n",
      "[CV] END colsample_bytree=0.7, max_depth=15, n_estimators=700, reg_alpha=1.3, reg_lambda=1.1, subsample=0.8; total time=  19.7s\n",
      "[CV] END colsample_bytree=0.7, max_depth=15, n_estimators=700, reg_alpha=1.3, reg_lambda=1.1, subsample=0.9; total time=  14.7s\n",
      "[CV] END colsample_bytree=0.7, max_depth=15, n_estimators=700, reg_alpha=1.3, reg_lambda=1.1, subsample=0.9; total time=  12.4s\n",
      "[CV] END colsample_bytree=0.7, max_depth=15, n_estimators=700, reg_alpha=1.3, reg_lambda=1.2, subsample=0.7; total time=  18.4s\n",
      "[CV] END colsample_bytree=0.7, max_depth=15, n_estimators=700, reg_alpha=1.3, reg_lambda=1.2, subsample=0.8; total time=  17.1s\n",
      "[CV] END colsample_bytree=0.7, max_depth=15, n_estimators=700, reg_alpha=1.3, reg_lambda=1.2, subsample=0.9; total time=  15.1s\n",
      "[CV] END colsample_bytree=0.7, max_depth=15, n_estimators=700, reg_alpha=1.3, reg_lambda=1.3, subsample=0.7; total time=  19.8s\n",
      "[CV] END colsample_bytree=0.7, max_depth=15, n_estimators=700, reg_alpha=1.3, reg_lambda=1.3, subsample=0.7; total time=  16.7s\n",
      "[CV] END colsample_bytree=0.7, max_depth=15, n_estimators=700, reg_alpha=1.3, reg_lambda=1.3, subsample=0.8; total time=  17.8s\n",
      "[CV] END colsample_bytree=0.7, max_depth=15, n_estimators=700, reg_alpha=1.3, reg_lambda=1.3, subsample=0.9; total time=  17.2s\n",
      "[CV] END colsample_bytree=0.7, max_depth=20, n_estimators=400, reg_alpha=1.1, reg_lambda=1.1, subsample=0.7; total time=  20.9s\n",
      "[CV] END colsample_bytree=0.7, max_depth=20, n_estimators=400, reg_alpha=1.1, reg_lambda=1.1, subsample=0.8; total time=  16.9s\n",
      "[CV] END colsample_bytree=0.7, max_depth=20, n_estimators=400, reg_alpha=1.1, reg_lambda=1.1, subsample=0.8; total time=  16.0s\n",
      "[CV] END colsample_bytree=0.7, max_depth=20, n_estimators=400, reg_alpha=1.1, reg_lambda=1.1, subsample=0.9; total time=  12.3s\n",
      "[CV] END colsample_bytree=0.7, max_depth=20, n_estimators=400, reg_alpha=1.1, reg_lambda=1.2, subsample=0.7; total time=  14.6s\n",
      "[CV] END colsample_bytree=0.7, max_depth=20, n_estimators=400, reg_alpha=1.1, reg_lambda=1.2, subsample=0.8; total time=  14.0s\n",
      "[CV] END colsample_bytree=0.7, max_depth=20, n_estimators=400, reg_alpha=1.1, reg_lambda=1.2, subsample=0.9; total time=  13.5s\n",
      "[CV] END colsample_bytree=0.7, max_depth=20, n_estimators=400, reg_alpha=1.1, reg_lambda=1.3, subsample=0.7; total time=  17.3s\n",
      "[CV] END colsample_bytree=0.7, max_depth=20, n_estimators=400, reg_alpha=1.1, reg_lambda=1.3, subsample=0.7; total time=  13.6s\n",
      "[CV] END colsample_bytree=0.7, max_depth=20, n_estimators=400, reg_alpha=1.1, reg_lambda=1.3, subsample=0.8; total time=  13.9s\n",
      "[CV] END colsample_bytree=0.7, max_depth=20, n_estimators=400, reg_alpha=1.1, reg_lambda=1.3, subsample=0.9; total time=  13.4s\n",
      "[CV] END colsample_bytree=0.7, max_depth=20, n_estimators=400, reg_alpha=1.2, reg_lambda=1.1, subsample=0.7; total time=  14.4s\n",
      "[CV] END colsample_bytree=0.7, max_depth=20, n_estimators=400, reg_alpha=1.2, reg_lambda=1.1, subsample=0.8; total time=  16.7s\n",
      "[CV] END colsample_bytree=0.7, max_depth=20, n_estimators=400, reg_alpha=1.2, reg_lambda=1.1, subsample=0.8; total time=  13.8s\n",
      "[CV] END colsample_bytree=0.7, max_depth=20, n_estimators=400, reg_alpha=1.2, reg_lambda=1.1, subsample=0.9; total time=  11.3s\n",
      "[CV] END colsample_bytree=0.7, max_depth=20, n_estimators=400, reg_alpha=1.2, reg_lambda=1.2, subsample=0.7; total time=  13.8s\n",
      "[CV] END colsample_bytree=0.7, max_depth=20, n_estimators=400, reg_alpha=1.2, reg_lambda=1.2, subsample=0.8; total time=  15.5s\n",
      "[CV] END colsample_bytree=0.7, max_depth=20, n_estimators=400, reg_alpha=1.2, reg_lambda=1.2, subsample=0.9; total time=  10.9s\n",
      "[CV] END colsample_bytree=0.7, max_depth=20, n_estimators=400, reg_alpha=1.2, reg_lambda=1.2, subsample=0.9; total time=   9.5s\n",
      "[CV] END colsample_bytree=0.7, max_depth=20, n_estimators=400, reg_alpha=1.2, reg_lambda=1.3, subsample=0.7; total time=  13.4s\n",
      "[CV] END colsample_bytree=0.7, max_depth=20, n_estimators=400, reg_alpha=1.2, reg_lambda=1.3, subsample=0.8; total time=  13.3s\n",
      "[CV] END colsample_bytree=0.7, max_depth=20, n_estimators=400, reg_alpha=1.2, reg_lambda=1.3, subsample=0.9; total time=  10.7s\n",
      "[CV] END colsample_bytree=0.7, max_depth=20, n_estimators=400, reg_alpha=1.2, reg_lambda=1.3, subsample=0.9; total time=   9.6s\n",
      "[CV] END colsample_bytree=0.7, max_depth=20, n_estimators=400, reg_alpha=1.3, reg_lambda=1.1, subsample=0.7; total time=  14.4s\n",
      "[CV] END colsample_bytree=0.7, max_depth=20, n_estimators=400, reg_alpha=1.3, reg_lambda=1.1, subsample=0.8; total time=  13.1s\n",
      "[CV] END colsample_bytree=0.7, max_depth=20, n_estimators=400, reg_alpha=1.3, reg_lambda=1.1, subsample=0.9; total time=  12.5s\n",
      "[CV] END colsample_bytree=0.7, max_depth=20, n_estimators=400, reg_alpha=1.3, reg_lambda=1.1, subsample=0.9; total time=  10.9s\n",
      "[CV] END colsample_bytree=0.7, max_depth=20, n_estimators=400, reg_alpha=1.3, reg_lambda=1.2, subsample=0.7; total time=  14.4s\n",
      "[CV] END colsample_bytree=0.7, max_depth=20, n_estimators=400, reg_alpha=1.3, reg_lambda=1.2, subsample=0.8; total time=  16.5s\n",
      "[CV] END colsample_bytree=0.7, max_depth=20, n_estimators=400, reg_alpha=1.3, reg_lambda=1.2, subsample=0.9; total time=  11.6s\n",
      "[CV] END colsample_bytree=0.7, max_depth=20, n_estimators=400, reg_alpha=1.3, reg_lambda=1.3, subsample=0.7; total time=  13.8s\n",
      "[CV] END colsample_bytree=0.7, max_depth=20, n_estimators=400, reg_alpha=1.3, reg_lambda=1.3, subsample=0.7; total time=  11.6s\n",
      "[CV] END colsample_bytree=0.7, max_depth=20, n_estimators=400, reg_alpha=1.3, reg_lambda=1.3, subsample=0.8; total time=  12.9s\n",
      "[CV] END colsample_bytree=0.7, max_depth=20, n_estimators=400, reg_alpha=1.3, reg_lambda=1.3, subsample=0.9; total time=  13.2s\n",
      "[CV] END colsample_bytree=0.7, max_depth=20, n_estimators=700, reg_alpha=1.1, reg_lambda=1.1, subsample=0.7; total time=  24.0s\n",
      "[CV] END colsample_bytree=0.7, max_depth=20, n_estimators=700, reg_alpha=1.1, reg_lambda=1.1, subsample=0.8; total time=  20.1s\n",
      "[CV] END colsample_bytree=0.7, max_depth=20, n_estimators=700, reg_alpha=1.1, reg_lambda=1.1, subsample=0.8; total time=  17.6s\n",
      "[CV] END colsample_bytree=0.7, max_depth=20, n_estimators=700, reg_alpha=1.1, reg_lambda=1.1, subsample=0.9; total time=  16.7s\n",
      "[CV] END colsample_bytree=0.7, max_depth=20, n_estimators=700, reg_alpha=1.1, reg_lambda=1.2, subsample=0.7; total time=  23.2s\n",
      "[CV] END colsample_bytree=0.7, max_depth=20, n_estimators=700, reg_alpha=1.1, reg_lambda=1.2, subsample=0.8; total time=  22.5s\n",
      "[CV] END colsample_bytree=0.7, max_depth=20, n_estimators=700, reg_alpha=1.1, reg_lambda=1.2, subsample=0.8; total time=  17.4s\n",
      "[CV] END colsample_bytree=0.7, max_depth=20, n_estimators=700, reg_alpha=1.1, reg_lambda=1.2, subsample=0.9; total time=  14.3s\n",
      "[CV] END colsample_bytree=0.7, max_depth=20, n_estimators=700, reg_alpha=1.1, reg_lambda=1.3, subsample=0.7; total time=  23.6s\n",
      "[CV] END colsample_bytree=0.7, max_depth=20, n_estimators=700, reg_alpha=1.1, reg_lambda=1.3, subsample=0.8; total time=  23.2s\n",
      "[CV] END colsample_bytree=0.7, max_depth=20, n_estimators=700, reg_alpha=1.1, reg_lambda=1.3, subsample=0.9; total time=  18.8s\n",
      "[CV] END colsample_bytree=0.7, max_depth=20, n_estimators=700, reg_alpha=1.1, reg_lambda=1.3, subsample=0.9; total time=  15.7s\n",
      "[CV] END colsample_bytree=0.7, max_depth=20, n_estimators=700, reg_alpha=1.2, reg_lambda=1.1, subsample=0.7; total time=  23.6s\n",
      "[CV] END colsample_bytree=0.7, max_depth=20, n_estimators=700, reg_alpha=1.2, reg_lambda=1.1, subsample=0.8; total time=  22.3s\n",
      "[CV] END colsample_bytree=0.7, max_depth=20, n_estimators=700, reg_alpha=1.2, reg_lambda=1.1, subsample=0.9; total time=  17.2s\n",
      "[CV] END colsample_bytree=0.7, max_depth=20, n_estimators=700, reg_alpha=1.2, reg_lambda=1.2, subsample=0.7; total time=  24.1s\n",
      "[CV] END colsample_bytree=0.7, max_depth=20, n_estimators=700, reg_alpha=1.2, reg_lambda=1.2, subsample=0.7; total time=  20.2s\n",
      "[CV] END colsample_bytree=0.7, max_depth=20, n_estimators=700, reg_alpha=1.2, reg_lambda=1.2, subsample=0.8; total time=  22.3s\n",
      "[CV] END colsample_bytree=0.7, max_depth=20, n_estimators=700, reg_alpha=1.2, reg_lambda=1.2, subsample=0.9; total time=  17.3s\n",
      "[CV] END colsample_bytree=0.7, max_depth=20, n_estimators=700, reg_alpha=1.2, reg_lambda=1.3, subsample=0.7; total time=  21.6s\n",
      "[CV] END colsample_bytree=0.7, max_depth=20, n_estimators=700, reg_alpha=1.2, reg_lambda=1.3, subsample=0.8; total time=  20.8s\n",
      "[CV] END colsample_bytree=0.7, max_depth=20, n_estimators=700, reg_alpha=1.2, reg_lambda=1.3, subsample=0.9; total time=  15.6s\n",
      "[CV] END colsample_bytree=0.7, max_depth=20, n_estimators=700, reg_alpha=1.2, reg_lambda=1.3, subsample=0.9; total time=  14.5s\n",
      "[CV] END colsample_bytree=0.7, max_depth=20, n_estimators=700, reg_alpha=1.3, reg_lambda=1.1, subsample=0.7; total time=  20.6s\n",
      "[CV] END colsample_bytree=0.7, max_depth=20, n_estimators=700, reg_alpha=1.3, reg_lambda=1.1, subsample=0.8; total time=  22.2s\n",
      "[CV] END colsample_bytree=0.7, max_depth=20, n_estimators=700, reg_alpha=1.3, reg_lambda=1.1, subsample=0.9; total time=  15.4s\n"
     ]
    },
    {
     "name": "stdout",
     "output_type": "stream",
     "text": [
      "[CV] END colsample_bytree=0.7, max_depth=15, n_estimators=400, reg_alpha=1.1, reg_lambda=1.1, subsample=0.7; total time=  12.3s\n",
      "[CV] END colsample_bytree=0.7, max_depth=15, n_estimators=400, reg_alpha=1.1, reg_lambda=1.1, subsample=0.7; total time=  13.5s\n",
      "[CV] END colsample_bytree=0.7, max_depth=15, n_estimators=400, reg_alpha=1.1, reg_lambda=1.1, subsample=0.8; total time=  15.4s\n",
      "[CV] END colsample_bytree=0.7, max_depth=15, n_estimators=400, reg_alpha=1.1, reg_lambda=1.1, subsample=0.9; total time=  12.4s\n",
      "[CV] END colsample_bytree=0.7, max_depth=15, n_estimators=400, reg_alpha=1.1, reg_lambda=1.2, subsample=0.7; total time=  17.6s\n",
      "[CV] END colsample_bytree=0.7, max_depth=15, n_estimators=400, reg_alpha=1.1, reg_lambda=1.2, subsample=0.8; total time=  17.5s\n",
      "[CV] END colsample_bytree=0.7, max_depth=15, n_estimators=400, reg_alpha=1.1, reg_lambda=1.2, subsample=0.8; total time=  15.5s\n",
      "[CV] END colsample_bytree=0.7, max_depth=15, n_estimators=400, reg_alpha=1.1, reg_lambda=1.2, subsample=0.9; total time=  19.1s\n",
      "[CV] END colsample_bytree=0.7, max_depth=15, n_estimators=400, reg_alpha=1.1, reg_lambda=1.3, subsample=0.7; total time=  19.3s\n",
      "[CV] END colsample_bytree=0.7, max_depth=15, n_estimators=400, reg_alpha=1.1, reg_lambda=1.3, subsample=0.8; total time=  17.5s\n",
      "[CV] END colsample_bytree=0.7, max_depth=15, n_estimators=400, reg_alpha=1.1, reg_lambda=1.3, subsample=0.9; total time=  16.6s\n",
      "[CV] END colsample_bytree=0.7, max_depth=15, n_estimators=400, reg_alpha=1.2, reg_lambda=1.1, subsample=0.7; total time=  17.3s\n",
      "[CV] END colsample_bytree=0.7, max_depth=15, n_estimators=400, reg_alpha=1.2, reg_lambda=1.1, subsample=0.7; total time=  13.5s\n",
      "[CV] END colsample_bytree=0.7, max_depth=15, n_estimators=400, reg_alpha=1.2, reg_lambda=1.1, subsample=0.8; total time=  14.8s\n",
      "[CV] END colsample_bytree=0.7, max_depth=15, n_estimators=400, reg_alpha=1.2, reg_lambda=1.1, subsample=0.9; total time=  12.9s\n",
      "[CV] END colsample_bytree=0.7, max_depth=15, n_estimators=400, reg_alpha=1.2, reg_lambda=1.2, subsample=0.7; total time=  16.5s\n",
      "[CV] END colsample_bytree=0.7, max_depth=15, n_estimators=400, reg_alpha=1.2, reg_lambda=1.2, subsample=0.8; total time=  14.8s\n",
      "[CV] END colsample_bytree=0.7, max_depth=15, n_estimators=400, reg_alpha=1.2, reg_lambda=1.2, subsample=0.8; total time=  12.4s\n",
      "[CV] END colsample_bytree=0.7, max_depth=15, n_estimators=400, reg_alpha=1.2, reg_lambda=1.2, subsample=0.9; total time=  12.8s\n",
      "[CV] END colsample_bytree=0.7, max_depth=15, n_estimators=400, reg_alpha=1.2, reg_lambda=1.3, subsample=0.7; total time=  16.3s\n",
      "[CV] END colsample_bytree=0.7, max_depth=15, n_estimators=400, reg_alpha=1.2, reg_lambda=1.3, subsample=0.8; total time=  18.6s\n",
      "[CV] END colsample_bytree=0.7, max_depth=15, n_estimators=400, reg_alpha=1.2, reg_lambda=1.3, subsample=0.9; total time=  11.6s\n",
      "[CV] END colsample_bytree=0.7, max_depth=15, n_estimators=400, reg_alpha=1.3, reg_lambda=1.1, subsample=0.7; total time=  13.7s\n",
      "[CV] END colsample_bytree=0.7, max_depth=15, n_estimators=400, reg_alpha=1.3, reg_lambda=1.1, subsample=0.7; total time=  11.6s\n",
      "[CV] END colsample_bytree=0.7, max_depth=15, n_estimators=400, reg_alpha=1.3, reg_lambda=1.1, subsample=0.8; total time=  11.3s\n",
      "[CV] END colsample_bytree=0.7, max_depth=15, n_estimators=400, reg_alpha=1.3, reg_lambda=1.1, subsample=0.9; total time=  10.1s\n",
      "[CV] END colsample_bytree=0.7, max_depth=15, n_estimators=400, reg_alpha=1.3, reg_lambda=1.2, subsample=0.7; total time=  12.9s\n",
      "[CV] END colsample_bytree=0.7, max_depth=15, n_estimators=400, reg_alpha=1.3, reg_lambda=1.2, subsample=0.8; total time=  12.2s\n",
      "[CV] END colsample_bytree=0.7, max_depth=15, n_estimators=400, reg_alpha=1.3, reg_lambda=1.2, subsample=0.8; total time=  11.3s\n",
      "[CV] END colsample_bytree=0.7, max_depth=15, n_estimators=400, reg_alpha=1.3, reg_lambda=1.2, subsample=0.9; total time=  11.7s\n",
      "[CV] END colsample_bytree=0.7, max_depth=15, n_estimators=400, reg_alpha=1.3, reg_lambda=1.3, subsample=0.7; total time=  17.1s\n",
      "[CV] END colsample_bytree=0.7, max_depth=15, n_estimators=400, reg_alpha=1.3, reg_lambda=1.3, subsample=0.8; total time=  16.6s\n",
      "[CV] END colsample_bytree=0.7, max_depth=15, n_estimators=400, reg_alpha=1.3, reg_lambda=1.3, subsample=0.9; total time=  13.2s\n",
      "[CV] END colsample_bytree=0.7, max_depth=15, n_estimators=400, reg_alpha=1.3, reg_lambda=1.3, subsample=0.9; total time=  10.4s\n",
      "[CV] END colsample_bytree=0.7, max_depth=15, n_estimators=700, reg_alpha=1.1, reg_lambda=1.1, subsample=0.7; total time=  26.2s\n",
      "[CV] END colsample_bytree=0.7, max_depth=15, n_estimators=700, reg_alpha=1.1, reg_lambda=1.1, subsample=0.8; total time=  22.7s\n",
      "[CV] END colsample_bytree=0.7, max_depth=15, n_estimators=700, reg_alpha=1.1, reg_lambda=1.1, subsample=0.9; total time=  22.7s\n",
      "[CV] END colsample_bytree=0.7, max_depth=15, n_estimators=700, reg_alpha=1.1, reg_lambda=1.2, subsample=0.7; total time=  32.2s\n",
      "[CV] END colsample_bytree=0.7, max_depth=15, n_estimators=700, reg_alpha=1.1, reg_lambda=1.2, subsample=0.7; total time=  23.9s\n",
      "[CV] END colsample_bytree=0.7, max_depth=15, n_estimators=700, reg_alpha=1.1, reg_lambda=1.2, subsample=0.8; total time=  31.2s\n",
      "[CV] END colsample_bytree=0.7, max_depth=15, n_estimators=700, reg_alpha=1.1, reg_lambda=1.2, subsample=0.9; total time=  21.0s\n",
      "[CV] END colsample_bytree=0.7, max_depth=15, n_estimators=700, reg_alpha=1.1, reg_lambda=1.3, subsample=0.7; total time=  30.1s\n",
      "[CV] END colsample_bytree=0.7, max_depth=15, n_estimators=700, reg_alpha=1.1, reg_lambda=1.3, subsample=0.8; total time=  25.1s\n",
      "[CV] END colsample_bytree=0.7, max_depth=15, n_estimators=700, reg_alpha=1.1, reg_lambda=1.3, subsample=0.8; total time=  26.6s\n",
      "[CV] END colsample_bytree=0.7, max_depth=15, n_estimators=700, reg_alpha=1.1, reg_lambda=1.3, subsample=0.9; total time=  19.2s\n",
      "[CV] END colsample_bytree=0.7, max_depth=15, n_estimators=700, reg_alpha=1.2, reg_lambda=1.1, subsample=0.7; total time=  24.8s\n",
      "[CV] END colsample_bytree=0.7, max_depth=15, n_estimators=700, reg_alpha=1.2, reg_lambda=1.1, subsample=0.8; total time=  26.4s\n",
      "[CV] END colsample_bytree=0.7, max_depth=15, n_estimators=700, reg_alpha=1.2, reg_lambda=1.1, subsample=0.9; total time=  19.9s\n",
      "[CV] END colsample_bytree=0.7, max_depth=15, n_estimators=700, reg_alpha=1.2, reg_lambda=1.1, subsample=0.9; total time=  15.1s\n",
      "[CV] END colsample_bytree=0.7, max_depth=15, n_estimators=700, reg_alpha=1.2, reg_lambda=1.2, subsample=0.7; total time=  26.8s\n",
      "[CV] END colsample_bytree=0.7, max_depth=15, n_estimators=700, reg_alpha=1.2, reg_lambda=1.2, subsample=0.8; total time=  19.3s\n",
      "[CV] END colsample_bytree=0.7, max_depth=15, n_estimators=700, reg_alpha=1.2, reg_lambda=1.2, subsample=0.9; total time=  20.5s\n",
      "[CV] END colsample_bytree=0.7, max_depth=15, n_estimators=700, reg_alpha=1.2, reg_lambda=1.3, subsample=0.7; total time=  24.1s\n",
      "[CV] END colsample_bytree=0.7, max_depth=15, n_estimators=700, reg_alpha=1.2, reg_lambda=1.3, subsample=0.7; total time=  19.8s\n",
      "[CV] END colsample_bytree=0.7, max_depth=15, n_estimators=700, reg_alpha=1.2, reg_lambda=1.3, subsample=0.8; total time=  19.7s\n",
      "[CV] END colsample_bytree=0.7, max_depth=15, n_estimators=700, reg_alpha=1.2, reg_lambda=1.3, subsample=0.9; total time=  17.3s\n",
      "[CV] END colsample_bytree=0.7, max_depth=15, n_estimators=700, reg_alpha=1.3, reg_lambda=1.1, subsample=0.7; total time=  22.8s\n",
      "[CV] END colsample_bytree=0.7, max_depth=15, n_estimators=700, reg_alpha=1.3, reg_lambda=1.1, subsample=0.8; total time=  18.9s\n",
      "[CV] END colsample_bytree=0.7, max_depth=15, n_estimators=700, reg_alpha=1.3, reg_lambda=1.1, subsample=0.8; total time=  14.7s\n",
      "[CV] END colsample_bytree=0.7, max_depth=15, n_estimators=700, reg_alpha=1.3, reg_lambda=1.1, subsample=0.9; total time=  14.4s\n",
      "[CV] END colsample_bytree=0.7, max_depth=15, n_estimators=700, reg_alpha=1.3, reg_lambda=1.2, subsample=0.7; total time=  18.9s\n",
      "[CV] END colsample_bytree=0.7, max_depth=15, n_estimators=700, reg_alpha=1.3, reg_lambda=1.2, subsample=0.8; total time=  17.6s\n",
      "[CV] END colsample_bytree=0.7, max_depth=15, n_estimators=700, reg_alpha=1.3, reg_lambda=1.2, subsample=0.9; total time=  15.1s\n",
      "[CV] END colsample_bytree=0.7, max_depth=15, n_estimators=700, reg_alpha=1.3, reg_lambda=1.2, subsample=0.9; total time=  13.7s\n",
      "[CV] END colsample_bytree=0.7, max_depth=15, n_estimators=700, reg_alpha=1.3, reg_lambda=1.3, subsample=0.7; total time=  18.7s\n",
      "[CV] END colsample_bytree=0.7, max_depth=15, n_estimators=700, reg_alpha=1.3, reg_lambda=1.3, subsample=0.8; total time=  18.0s\n",
      "[CV] END colsample_bytree=0.7, max_depth=15, n_estimators=700, reg_alpha=1.3, reg_lambda=1.3, subsample=0.9; total time=  17.8s\n",
      "[CV] END colsample_bytree=0.7, max_depth=20, n_estimators=400, reg_alpha=1.1, reg_lambda=1.1, subsample=0.7; total time=  22.5s\n",
      "[CV] END colsample_bytree=0.7, max_depth=20, n_estimators=400, reg_alpha=1.1, reg_lambda=1.1, subsample=0.7; total time=  15.1s\n",
      "[CV] END colsample_bytree=0.7, max_depth=20, n_estimators=400, reg_alpha=1.1, reg_lambda=1.1, subsample=0.8; total time=  18.8s\n",
      "[CV] END colsample_bytree=0.7, max_depth=20, n_estimators=400, reg_alpha=1.1, reg_lambda=1.1, subsample=0.9; total time=  12.5s\n",
      "[CV] END colsample_bytree=0.7, max_depth=20, n_estimators=400, reg_alpha=1.1, reg_lambda=1.2, subsample=0.7; total time=  15.2s\n",
      "[CV] END colsample_bytree=0.7, max_depth=20, n_estimators=400, reg_alpha=1.1, reg_lambda=1.2, subsample=0.8; total time=  13.4s\n",
      "[CV] END colsample_bytree=0.7, max_depth=20, n_estimators=400, reg_alpha=1.1, reg_lambda=1.2, subsample=0.8; total time=  12.8s\n",
      "[CV] END colsample_bytree=0.7, max_depth=20, n_estimators=400, reg_alpha=1.1, reg_lambda=1.2, subsample=0.9; total time=  13.7s\n",
      "[CV] END colsample_bytree=0.7, max_depth=20, n_estimators=400, reg_alpha=1.1, reg_lambda=1.3, subsample=0.7; total time=  16.1s\n",
      "[CV] END colsample_bytree=0.7, max_depth=20, n_estimators=400, reg_alpha=1.1, reg_lambda=1.3, subsample=0.8; total time=  14.6s\n",
      "[CV] END colsample_bytree=0.7, max_depth=20, n_estimators=400, reg_alpha=1.1, reg_lambda=1.3, subsample=0.9; total time=  12.7s\n",
      "[CV] END colsample_bytree=0.7, max_depth=20, n_estimators=400, reg_alpha=1.1, reg_lambda=1.3, subsample=0.9; total time=  11.3s\n",
      "[CV] END colsample_bytree=0.7, max_depth=20, n_estimators=400, reg_alpha=1.2, reg_lambda=1.1, subsample=0.7; total time=  14.2s\n",
      "[CV] END colsample_bytree=0.7, max_depth=20, n_estimators=400, reg_alpha=1.2, reg_lambda=1.1, subsample=0.8; total time=  19.1s\n",
      "[CV] END colsample_bytree=0.7, max_depth=20, n_estimators=400, reg_alpha=1.2, reg_lambda=1.1, subsample=0.9; total time=  12.1s\n",
      "[CV] END colsample_bytree=0.7, max_depth=20, n_estimators=400, reg_alpha=1.2, reg_lambda=1.2, subsample=0.7; total time=  14.1s\n",
      "[CV] END colsample_bytree=0.7, max_depth=20, n_estimators=400, reg_alpha=1.2, reg_lambda=1.2, subsample=0.7; total time=  14.2s\n",
      "[CV] END colsample_bytree=0.7, max_depth=20, n_estimators=400, reg_alpha=1.2, reg_lambda=1.2, subsample=0.8; total time=  13.2s\n",
      "[CV] END colsample_bytree=0.7, max_depth=20, n_estimators=400, reg_alpha=1.2, reg_lambda=1.2, subsample=0.9; total time=  10.9s\n",
      "[CV] END colsample_bytree=0.7, max_depth=20, n_estimators=400, reg_alpha=1.2, reg_lambda=1.3, subsample=0.7; total time=  13.5s\n",
      "[CV] END colsample_bytree=0.7, max_depth=20, n_estimators=400, reg_alpha=1.2, reg_lambda=1.3, subsample=0.8; total time=  12.3s\n",
      "[CV] END colsample_bytree=0.7, max_depth=20, n_estimators=400, reg_alpha=1.2, reg_lambda=1.3, subsample=0.8; total time=  10.6s\n",
      "[CV] END colsample_bytree=0.7, max_depth=20, n_estimators=400, reg_alpha=1.2, reg_lambda=1.3, subsample=0.9; total time=  11.0s\n",
      "[CV] END colsample_bytree=0.7, max_depth=20, n_estimators=400, reg_alpha=1.3, reg_lambda=1.1, subsample=0.7; total time=  14.8s\n",
      "[CV] END colsample_bytree=0.7, max_depth=20, n_estimators=400, reg_alpha=1.3, reg_lambda=1.1, subsample=0.8; total time=  14.0s\n",
      "[CV] END colsample_bytree=0.7, max_depth=20, n_estimators=400, reg_alpha=1.3, reg_lambda=1.1, subsample=0.9; total time=  12.9s\n",
      "[CV] END colsample_bytree=0.7, max_depth=20, n_estimators=400, reg_alpha=1.3, reg_lambda=1.2, subsample=0.7; total time=  16.2s\n",
      "[CV] END colsample_bytree=0.7, max_depth=20, n_estimators=400, reg_alpha=1.3, reg_lambda=1.2, subsample=0.7; total time=  13.9s\n",
      "[CV] END colsample_bytree=0.7, max_depth=20, n_estimators=400, reg_alpha=1.3, reg_lambda=1.2, subsample=0.8; total time=  15.1s\n",
      "[CV] END colsample_bytree=0.7, max_depth=20, n_estimators=400, reg_alpha=1.3, reg_lambda=1.2, subsample=0.9; total time=  10.6s\n",
      "[CV] END colsample_bytree=0.7, max_depth=20, n_estimators=400, reg_alpha=1.3, reg_lambda=1.3, subsample=0.7; total time=  13.0s\n",
      "[CV] END colsample_bytree=0.7, max_depth=20, n_estimators=400, reg_alpha=1.3, reg_lambda=1.3, subsample=0.8; total time=  12.3s\n",
      "[CV] END colsample_bytree=0.7, max_depth=20, n_estimators=400, reg_alpha=1.3, reg_lambda=1.3, subsample=0.8; total time=  11.9s\n",
      "[CV] END colsample_bytree=0.7, max_depth=20, n_estimators=400, reg_alpha=1.3, reg_lambda=1.3, subsample=0.9; total time=  12.9s\n",
      "[CV] END colsample_bytree=0.7, max_depth=20, n_estimators=700, reg_alpha=1.1, reg_lambda=1.1, subsample=0.7; total time=  23.8s\n",
      "[CV] END colsample_bytree=0.7, max_depth=20, n_estimators=700, reg_alpha=1.1, reg_lambda=1.1, subsample=0.8; total time=  21.4s\n",
      "[CV] END colsample_bytree=0.7, max_depth=20, n_estimators=700, reg_alpha=1.1, reg_lambda=1.1, subsample=0.9; total time=  16.9s\n",
      "[CV] END colsample_bytree=0.7, max_depth=20, n_estimators=700, reg_alpha=1.1, reg_lambda=1.1, subsample=0.9; total time=  14.2s\n",
      "[CV] END colsample_bytree=0.7, max_depth=20, n_estimators=700, reg_alpha=1.1, reg_lambda=1.2, subsample=0.7; total time=  24.0s\n",
      "[CV] END colsample_bytree=0.7, max_depth=20, n_estimators=700, reg_alpha=1.1, reg_lambda=1.2, subsample=0.8; total time=  22.5s\n",
      "[CV] END colsample_bytree=0.7, max_depth=20, n_estimators=700, reg_alpha=1.1, reg_lambda=1.2, subsample=0.9; total time=  17.2s\n",
      "[CV] END colsample_bytree=0.7, max_depth=20, n_estimators=700, reg_alpha=1.1, reg_lambda=1.2, subsample=0.9; total time=  16.7s\n",
      "[CV] END colsample_bytree=0.7, max_depth=20, n_estimators=700, reg_alpha=1.1, reg_lambda=1.3, subsample=0.7; total time=  24.0s\n",
      "[CV] END colsample_bytree=0.7, max_depth=20, n_estimators=700, reg_alpha=1.1, reg_lambda=1.3, subsample=0.8; total time=  22.9s\n",
      "[CV] END colsample_bytree=0.7, max_depth=20, n_estimators=700, reg_alpha=1.1, reg_lambda=1.3, subsample=0.9; total time=  20.0s\n",
      "[CV] END colsample_bytree=0.7, max_depth=20, n_estimators=700, reg_alpha=1.2, reg_lambda=1.1, subsample=0.7; total time=  23.1s\n",
      "[CV] END colsample_bytree=0.7, max_depth=20, n_estimators=700, reg_alpha=1.2, reg_lambda=1.1, subsample=0.7; total time=  21.3s\n",
      "[CV] END colsample_bytree=0.7, max_depth=20, n_estimators=700, reg_alpha=1.2, reg_lambda=1.1, subsample=0.8; total time=  21.2s\n",
      "[CV] END colsample_bytree=0.7, max_depth=20, n_estimators=700, reg_alpha=1.2, reg_lambda=1.1, subsample=0.9; total time=  18.1s\n",
      "[CV] END colsample_bytree=0.7, max_depth=20, n_estimators=700, reg_alpha=1.2, reg_lambda=1.2, subsample=0.7; total time=  21.5s\n",
      "[CV] END colsample_bytree=0.7, max_depth=20, n_estimators=700, reg_alpha=1.2, reg_lambda=1.2, subsample=0.8; total time=  22.0s\n",
      "[CV] END colsample_bytree=0.7, max_depth=20, n_estimators=700, reg_alpha=1.2, reg_lambda=1.2, subsample=0.9; total time=  18.0s\n",
      "[CV] END colsample_bytree=0.7, max_depth=20, n_estimators=700, reg_alpha=1.2, reg_lambda=1.2, subsample=0.9; total time=  14.0s\n",
      "[CV] END colsample_bytree=0.7, max_depth=20, n_estimators=700, reg_alpha=1.2, reg_lambda=1.3, subsample=0.7; total time=  21.4s\n",
      "[CV] END colsample_bytree=0.7, max_depth=20, n_estimators=700, reg_alpha=1.2, reg_lambda=1.3, subsample=0.8; total time=  19.5s\n",
      "[CV] END colsample_bytree=0.7, max_depth=20, n_estimators=700, reg_alpha=1.2, reg_lambda=1.3, subsample=0.8; total time=  16.6s\n",
      "[CV] END colsample_bytree=0.7, max_depth=20, n_estimators=700, reg_alpha=1.2, reg_lambda=1.3, subsample=0.9; total time=  17.2s\n",
      "[CV] END colsample_bytree=0.7, max_depth=20, n_estimators=700, reg_alpha=1.3, reg_lambda=1.1, subsample=0.7; total time=  20.0s\n",
      "[CV] END colsample_bytree=0.7, max_depth=20, n_estimators=700, reg_alpha=1.3, reg_lambda=1.1, subsample=0.8; total time=  21.6s\n",
      "[CV] END colsample_bytree=0.7, max_depth=20, n_estimators=700, reg_alpha=1.3, reg_lambda=1.1, subsample=0.9; total time=  15.7s\n",
      "[CV] END colsample_bytree=0.7, max_depth=20, n_estimators=700, reg_alpha=1.3, reg_lambda=1.2, subsample=0.7; total time=  20.6s\n"
     ]
    },
    {
     "name": "stdout",
     "output_type": "stream",
     "text": [
      "[CV] END colsample_bytree=0.7, max_depth=15, n_estimators=400, reg_alpha=1.1, reg_lambda=1.1, subsample=0.7; total time=  12.4s\n",
      "[CV] END colsample_bytree=0.7, max_depth=15, n_estimators=400, reg_alpha=1.1, reg_lambda=1.1, subsample=0.8; total time=  14.5s\n",
      "[CV] END colsample_bytree=0.7, max_depth=15, n_estimators=400, reg_alpha=1.1, reg_lambda=1.1, subsample=0.8; total time=  13.8s\n",
      "[CV] END colsample_bytree=0.7, max_depth=15, n_estimators=400, reg_alpha=1.1, reg_lambda=1.1, subsample=0.9; total time=  14.2s\n",
      "[CV] END colsample_bytree=0.7, max_depth=15, n_estimators=400, reg_alpha=1.1, reg_lambda=1.2, subsample=0.7; total time=  17.9s\n",
      "[CV] END colsample_bytree=0.7, max_depth=15, n_estimators=400, reg_alpha=1.1, reg_lambda=1.2, subsample=0.8; total time=  18.6s\n",
      "[CV] END colsample_bytree=0.7, max_depth=15, n_estimators=400, reg_alpha=1.1, reg_lambda=1.2, subsample=0.9; total time=  16.9s\n",
      "[CV] END colsample_bytree=0.7, max_depth=15, n_estimators=400, reg_alpha=1.1, reg_lambda=1.3, subsample=0.7; total time=  21.8s\n",
      "[CV] END colsample_bytree=0.7, max_depth=15, n_estimators=400, reg_alpha=1.1, reg_lambda=1.3, subsample=0.7; total time=  17.8s\n",
      "[CV] END colsample_bytree=0.7, max_depth=15, n_estimators=400, reg_alpha=1.1, reg_lambda=1.3, subsample=0.8; total time=  17.9s\n",
      "[CV] END colsample_bytree=0.7, max_depth=15, n_estimators=400, reg_alpha=1.1, reg_lambda=1.3, subsample=0.9; total time=  15.3s\n",
      "[CV] END colsample_bytree=0.7, max_depth=15, n_estimators=400, reg_alpha=1.2, reg_lambda=1.1, subsample=0.7; total time=  16.4s\n",
      "[CV] END colsample_bytree=0.7, max_depth=15, n_estimators=400, reg_alpha=1.2, reg_lambda=1.1, subsample=0.8; total time=  15.8s\n",
      "[CV] END colsample_bytree=0.7, max_depth=15, n_estimators=400, reg_alpha=1.2, reg_lambda=1.1, subsample=0.9; total time=  12.4s\n",
      "[CV] END colsample_bytree=0.7, max_depth=15, n_estimators=400, reg_alpha=1.2, reg_lambda=1.1, subsample=0.9; total time=  11.3s\n",
      "[CV] END colsample_bytree=0.7, max_depth=15, n_estimators=400, reg_alpha=1.2, reg_lambda=1.2, subsample=0.7; total time=  16.4s\n",
      "[CV] END colsample_bytree=0.7, max_depth=15, n_estimators=400, reg_alpha=1.2, reg_lambda=1.2, subsample=0.8; total time=  15.4s\n",
      "[CV] END colsample_bytree=0.7, max_depth=15, n_estimators=400, reg_alpha=1.2, reg_lambda=1.2, subsample=0.9; total time=  13.1s\n",
      "[CV] END colsample_bytree=0.7, max_depth=15, n_estimators=400, reg_alpha=1.2, reg_lambda=1.3, subsample=0.7; total time=  17.2s\n",
      "[CV] END colsample_bytree=0.7, max_depth=15, n_estimators=400, reg_alpha=1.2, reg_lambda=1.3, subsample=0.7; total time=  16.2s\n",
      "[CV] END colsample_bytree=0.7, max_depth=15, n_estimators=400, reg_alpha=1.2, reg_lambda=1.3, subsample=0.8; total time=  14.3s\n",
      "[CV] END colsample_bytree=0.7, max_depth=15, n_estimators=400, reg_alpha=1.2, reg_lambda=1.3, subsample=0.9; total time=  10.8s\n",
      "[CV] END colsample_bytree=0.7, max_depth=15, n_estimators=400, reg_alpha=1.3, reg_lambda=1.1, subsample=0.7; total time=  13.4s\n",
      "[CV] END colsample_bytree=0.7, max_depth=15, n_estimators=400, reg_alpha=1.3, reg_lambda=1.1, subsample=0.8; total time=  11.7s\n",
      "[CV] END colsample_bytree=0.7, max_depth=15, n_estimators=400, reg_alpha=1.3, reg_lambda=1.1, subsample=0.8; total time=  10.0s\n",
      "[CV] END colsample_bytree=0.7, max_depth=15, n_estimators=400, reg_alpha=1.3, reg_lambda=1.1, subsample=0.9; total time=  10.4s\n",
      "[CV] END colsample_bytree=0.7, max_depth=15, n_estimators=400, reg_alpha=1.3, reg_lambda=1.2, subsample=0.7; total time=  12.7s\n",
      "[CV] END colsample_bytree=0.7, max_depth=15, n_estimators=400, reg_alpha=1.3, reg_lambda=1.2, subsample=0.8; total time=  13.0s\n",
      "[CV] END colsample_bytree=0.7, max_depth=15, n_estimators=400, reg_alpha=1.3, reg_lambda=1.2, subsample=0.9; total time=  11.9s\n",
      "[CV] END colsample_bytree=0.7, max_depth=15, n_estimators=400, reg_alpha=1.3, reg_lambda=1.2, subsample=0.9; total time=  11.9s\n",
      "[CV] END colsample_bytree=0.7, max_depth=15, n_estimators=400, reg_alpha=1.3, reg_lambda=1.3, subsample=0.7; total time=  15.7s\n",
      "[CV] END colsample_bytree=0.7, max_depth=15, n_estimators=400, reg_alpha=1.3, reg_lambda=1.3, subsample=0.8; total time=  17.2s\n",
      "[CV] END colsample_bytree=0.7, max_depth=15, n_estimators=400, reg_alpha=1.3, reg_lambda=1.3, subsample=0.9; total time=  13.6s\n",
      "[CV] END colsample_bytree=0.7, max_depth=15, n_estimators=700, reg_alpha=1.1, reg_lambda=1.1, subsample=0.7; total time=  26.4s\n",
      "[CV] END colsample_bytree=0.7, max_depth=15, n_estimators=700, reg_alpha=1.1, reg_lambda=1.1, subsample=0.7; total time=  23.0s\n",
      "[CV] END colsample_bytree=0.7, max_depth=15, n_estimators=700, reg_alpha=1.1, reg_lambda=1.1, subsample=0.8; total time=  23.1s\n",
      "[CV] END colsample_bytree=0.7, max_depth=15, n_estimators=700, reg_alpha=1.1, reg_lambda=1.1, subsample=0.9; total time=  20.6s\n",
      "[CV] END colsample_bytree=0.7, max_depth=15, n_estimators=700, reg_alpha=1.1, reg_lambda=1.2, subsample=0.7; total time=  31.4s\n",
      "[CV] END colsample_bytree=0.7, max_depth=15, n_estimators=700, reg_alpha=1.1, reg_lambda=1.2, subsample=0.8; total time=  29.4s\n",
      "[CV] END colsample_bytree=0.7, max_depth=15, n_estimators=700, reg_alpha=1.1, reg_lambda=1.2, subsample=0.9; total time=  22.7s\n",
      "[CV] END colsample_bytree=0.7, max_depth=15, n_estimators=700, reg_alpha=1.1, reg_lambda=1.3, subsample=0.7; total time=  33.1s\n",
      "[CV] END colsample_bytree=0.7, max_depth=15, n_estimators=700, reg_alpha=1.1, reg_lambda=1.3, subsample=0.7; total time=  24.4s\n",
      "[CV] END colsample_bytree=0.7, max_depth=15, n_estimators=700, reg_alpha=1.1, reg_lambda=1.3, subsample=0.8; total time=  30.7s\n",
      "[CV] END colsample_bytree=0.7, max_depth=15, n_estimators=700, reg_alpha=1.1, reg_lambda=1.3, subsample=0.9; total time=  19.5s\n",
      "[CV] END colsample_bytree=0.7, max_depth=15, n_estimators=700, reg_alpha=1.2, reg_lambda=1.1, subsample=0.7; total time=  22.5s\n",
      "[CV] END colsample_bytree=0.7, max_depth=15, n_estimators=700, reg_alpha=1.2, reg_lambda=1.1, subsample=0.8; total time=  26.4s\n",
      "[CV] END colsample_bytree=0.7, max_depth=15, n_estimators=700, reg_alpha=1.2, reg_lambda=1.1, subsample=0.8; total time=  20.1s\n",
      "[CV] END colsample_bytree=0.7, max_depth=15, n_estimators=700, reg_alpha=1.2, reg_lambda=1.1, subsample=0.9; total time=  19.6s\n",
      "[CV] END colsample_bytree=0.7, max_depth=15, n_estimators=700, reg_alpha=1.2, reg_lambda=1.2, subsample=0.7; total time=  25.9s\n",
      "[CV] END colsample_bytree=0.7, max_depth=15, n_estimators=700, reg_alpha=1.2, reg_lambda=1.2, subsample=0.8; total time=  19.7s\n",
      "[CV] END colsample_bytree=0.7, max_depth=15, n_estimators=700, reg_alpha=1.2, reg_lambda=1.2, subsample=0.9; total time=  19.3s\n",
      "[CV] END colsample_bytree=0.7, max_depth=15, n_estimators=700, reg_alpha=1.2, reg_lambda=1.2, subsample=0.9; total time=  17.0s\n",
      "[CV] END colsample_bytree=0.7, max_depth=15, n_estimators=700, reg_alpha=1.2, reg_lambda=1.3, subsample=0.7; total time=  23.0s\n",
      "[CV] END colsample_bytree=0.7, max_depth=15, n_estimators=700, reg_alpha=1.2, reg_lambda=1.3, subsample=0.8; total time=  20.4s\n",
      "[CV] END colsample_bytree=0.7, max_depth=15, n_estimators=700, reg_alpha=1.2, reg_lambda=1.3, subsample=0.9; total time=  17.5s\n",
      "[CV] END colsample_bytree=0.7, max_depth=15, n_estimators=700, reg_alpha=1.3, reg_lambda=1.1, subsample=0.7; total time=  22.7s\n",
      "[CV] END colsample_bytree=0.7, max_depth=15, n_estimators=700, reg_alpha=1.3, reg_lambda=1.1, subsample=0.7; total time=  19.7s\n",
      "[CV] END colsample_bytree=0.7, max_depth=15, n_estimators=700, reg_alpha=1.3, reg_lambda=1.1, subsample=0.8; total time=  17.0s\n",
      "[CV] END colsample_bytree=0.7, max_depth=15, n_estimators=700, reg_alpha=1.3, reg_lambda=1.1, subsample=0.9; total time=  14.7s\n",
      "[CV] END colsample_bytree=0.7, max_depth=15, n_estimators=700, reg_alpha=1.3, reg_lambda=1.2, subsample=0.7; total time=  19.1s\n",
      "[CV] END colsample_bytree=0.7, max_depth=15, n_estimators=700, reg_alpha=1.3, reg_lambda=1.2, subsample=0.8; total time=  17.0s\n",
      "[CV] END colsample_bytree=0.7, max_depth=15, n_estimators=700, reg_alpha=1.3, reg_lambda=1.2, subsample=0.8; total time=  15.0s\n",
      "[CV] END colsample_bytree=0.7, max_depth=15, n_estimators=700, reg_alpha=1.3, reg_lambda=1.2, subsample=0.9; total time=  14.8s\n",
      "[CV] END colsample_bytree=0.7, max_depth=15, n_estimators=700, reg_alpha=1.3, reg_lambda=1.3, subsample=0.7; total time=  18.8s\n",
      "[CV] END colsample_bytree=0.7, max_depth=15, n_estimators=700, reg_alpha=1.3, reg_lambda=1.3, subsample=0.8; total time=  17.8s\n",
      "[CV] END colsample_bytree=0.7, max_depth=15, n_estimators=700, reg_alpha=1.3, reg_lambda=1.3, subsample=0.9; total time=  16.1s\n",
      "[CV] END colsample_bytree=0.7, max_depth=15, n_estimators=700, reg_alpha=1.3, reg_lambda=1.3, subsample=0.9; total time=  17.1s\n",
      "[CV] END colsample_bytree=0.7, max_depth=20, n_estimators=400, reg_alpha=1.1, reg_lambda=1.1, subsample=0.7; total time=  19.2s\n",
      "[CV] END colsample_bytree=0.7, max_depth=20, n_estimators=400, reg_alpha=1.1, reg_lambda=1.1, subsample=0.8; total time=  17.1s\n",
      "[CV] END colsample_bytree=0.7, max_depth=20, n_estimators=400, reg_alpha=1.1, reg_lambda=1.1, subsample=0.9; total time=  13.7s\n",
      "[CV] END colsample_bytree=0.7, max_depth=20, n_estimators=400, reg_alpha=1.1, reg_lambda=1.1, subsample=0.9; total time=  11.0s\n",
      "[CV] END colsample_bytree=0.7, max_depth=20, n_estimators=400, reg_alpha=1.1, reg_lambda=1.2, subsample=0.7; total time=  14.2s\n",
      "[CV] END colsample_bytree=0.7, max_depth=20, n_estimators=400, reg_alpha=1.1, reg_lambda=1.2, subsample=0.8; total time=  12.8s\n",
      "[CV] END colsample_bytree=0.7, max_depth=20, n_estimators=400, reg_alpha=1.1, reg_lambda=1.2, subsample=0.9; total time=  13.2s\n",
      "[CV] END colsample_bytree=0.7, max_depth=20, n_estimators=400, reg_alpha=1.1, reg_lambda=1.2, subsample=0.9; total time=  12.0s\n",
      "[CV] END colsample_bytree=0.7, max_depth=20, n_estimators=400, reg_alpha=1.1, reg_lambda=1.3, subsample=0.7; total time=  15.8s\n",
      "[CV] END colsample_bytree=0.7, max_depth=20, n_estimators=400, reg_alpha=1.1, reg_lambda=1.3, subsample=0.8; total time=  13.8s\n",
      "[CV] END colsample_bytree=0.7, max_depth=20, n_estimators=400, reg_alpha=1.1, reg_lambda=1.3, subsample=0.9; total time=  14.6s\n",
      "[CV] END colsample_bytree=0.7, max_depth=20, n_estimators=400, reg_alpha=1.2, reg_lambda=1.1, subsample=0.7; total time=  14.8s\n",
      "[CV] END colsample_bytree=0.7, max_depth=20, n_estimators=400, reg_alpha=1.2, reg_lambda=1.1, subsample=0.7; total time=  14.8s\n",
      "[CV] END colsample_bytree=0.7, max_depth=20, n_estimators=400, reg_alpha=1.2, reg_lambda=1.1, subsample=0.8; total time=  15.9s\n",
      "[CV] END colsample_bytree=0.7, max_depth=20, n_estimators=400, reg_alpha=1.2, reg_lambda=1.1, subsample=0.9; total time=  11.4s\n",
      "[CV] END colsample_bytree=0.7, max_depth=20, n_estimators=400, reg_alpha=1.2, reg_lambda=1.2, subsample=0.7; total time=  14.3s\n",
      "[CV] END colsample_bytree=0.7, max_depth=20, n_estimators=400, reg_alpha=1.2, reg_lambda=1.2, subsample=0.8; total time=  15.0s\n",
      "[CV] END colsample_bytree=0.7, max_depth=20, n_estimators=400, reg_alpha=1.2, reg_lambda=1.2, subsample=0.8; total time=  11.0s\n",
      "[CV] END colsample_bytree=0.7, max_depth=20, n_estimators=400, reg_alpha=1.2, reg_lambda=1.2, subsample=0.9; total time=  10.6s\n",
      "[CV] END colsample_bytree=0.7, max_depth=20, n_estimators=400, reg_alpha=1.2, reg_lambda=1.3, subsample=0.7; total time=  13.3s\n",
      "[CV] END colsample_bytree=0.7, max_depth=20, n_estimators=400, reg_alpha=1.2, reg_lambda=1.3, subsample=0.8; total time=  13.6s\n",
      "[CV] END colsample_bytree=0.7, max_depth=20, n_estimators=400, reg_alpha=1.2, reg_lambda=1.3, subsample=0.9; total time=  11.6s\n",
      "[CV] END colsample_bytree=0.7, max_depth=20, n_estimators=400, reg_alpha=1.3, reg_lambda=1.1, subsample=0.7; total time=  14.8s\n",
      "[CV] END colsample_bytree=0.7, max_depth=20, n_estimators=400, reg_alpha=1.3, reg_lambda=1.1, subsample=0.7; total time=  13.0s\n",
      "[CV] END colsample_bytree=0.7, max_depth=20, n_estimators=400, reg_alpha=1.3, reg_lambda=1.1, subsample=0.8; total time=  12.2s\n",
      "[CV] END colsample_bytree=0.7, max_depth=20, n_estimators=400, reg_alpha=1.3, reg_lambda=1.1, subsample=0.9; total time=  12.5s\n",
      "[CV] END colsample_bytree=0.7, max_depth=20, n_estimators=400, reg_alpha=1.3, reg_lambda=1.2, subsample=0.7; total time=  15.3s\n",
      "[CV] END colsample_bytree=0.7, max_depth=20, n_estimators=400, reg_alpha=1.3, reg_lambda=1.2, subsample=0.8; total time=  17.3s\n",
      "[CV] END colsample_bytree=0.7, max_depth=20, n_estimators=400, reg_alpha=1.3, reg_lambda=1.2, subsample=0.8; total time=  11.0s\n",
      "[CV] END colsample_bytree=0.7, max_depth=20, n_estimators=400, reg_alpha=1.3, reg_lambda=1.2, subsample=0.9; total time=  11.2s\n",
      "[CV] END colsample_bytree=0.7, max_depth=20, n_estimators=400, reg_alpha=1.3, reg_lambda=1.3, subsample=0.7; total time=  12.7s\n",
      "[CV] END colsample_bytree=0.7, max_depth=20, n_estimators=400, reg_alpha=1.3, reg_lambda=1.3, subsample=0.8; total time=  14.3s\n",
      "[CV] END colsample_bytree=0.7, max_depth=20, n_estimators=400, reg_alpha=1.3, reg_lambda=1.3, subsample=0.9; total time=  12.0s\n",
      "[CV] END colsample_bytree=0.7, max_depth=20, n_estimators=400, reg_alpha=1.3, reg_lambda=1.3, subsample=0.9; total time=  11.2s\n",
      "[CV] END colsample_bytree=0.7, max_depth=20, n_estimators=700, reg_alpha=1.1, reg_lambda=1.1, subsample=0.7; total time=  24.0s\n",
      "[CV] END colsample_bytree=0.7, max_depth=20, n_estimators=700, reg_alpha=1.1, reg_lambda=1.1, subsample=0.8; total time=  19.7s\n",
      "[CV] END colsample_bytree=0.7, max_depth=20, n_estimators=700, reg_alpha=1.1, reg_lambda=1.1, subsample=0.9; total time=  17.5s\n",
      "[CV] END colsample_bytree=0.7, max_depth=20, n_estimators=700, reg_alpha=1.1, reg_lambda=1.2, subsample=0.7; total time=  23.4s\n",
      "[CV] END colsample_bytree=0.7, max_depth=20, n_estimators=700, reg_alpha=1.1, reg_lambda=1.2, subsample=0.7; total time=  21.8s\n",
      "[CV] END colsample_bytree=0.7, max_depth=20, n_estimators=700, reg_alpha=1.1, reg_lambda=1.2, subsample=0.8; total time=  21.0s\n",
      "[CV] END colsample_bytree=0.7, max_depth=20, n_estimators=700, reg_alpha=1.1, reg_lambda=1.2, subsample=0.9; total time=  16.6s\n",
      "[CV] END colsample_bytree=0.7, max_depth=20, n_estimators=700, reg_alpha=1.1, reg_lambda=1.3, subsample=0.7; total time=  22.2s\n",
      "[CV] END colsample_bytree=0.7, max_depth=20, n_estimators=700, reg_alpha=1.1, reg_lambda=1.3, subsample=0.8; total time=  22.3s\n",
      "[CV] END colsample_bytree=0.7, max_depth=20, n_estimators=700, reg_alpha=1.1, reg_lambda=1.3, subsample=0.8; total time=  19.5s\n",
      "[CV] END colsample_bytree=0.7, max_depth=20, n_estimators=700, reg_alpha=1.1, reg_lambda=1.3, subsample=0.9; total time=  17.9s\n",
      "[CV] END colsample_bytree=0.7, max_depth=20, n_estimators=700, reg_alpha=1.2, reg_lambda=1.1, subsample=0.7; total time=  21.5s\n",
      "[CV] END colsample_bytree=0.7, max_depth=20, n_estimators=700, reg_alpha=1.2, reg_lambda=1.1, subsample=0.8; total time=  23.5s\n",
      "[CV] END colsample_bytree=0.7, max_depth=20, n_estimators=700, reg_alpha=1.2, reg_lambda=1.1, subsample=0.9; total time=  17.4s\n",
      "[CV] END colsample_bytree=0.7, max_depth=20, n_estimators=700, reg_alpha=1.2, reg_lambda=1.1, subsample=0.9; total time=  14.7s\n",
      "[CV] END colsample_bytree=0.7, max_depth=20, n_estimators=700, reg_alpha=1.2, reg_lambda=1.2, subsample=0.7; total time=  22.7s\n",
      "[CV] END colsample_bytree=0.7, max_depth=20, n_estimators=700, reg_alpha=1.2, reg_lambda=1.2, subsample=0.8; total time=  21.7s\n",
      "[CV] END colsample_bytree=0.7, max_depth=20, n_estimators=700, reg_alpha=1.2, reg_lambda=1.2, subsample=0.8; total time=  18.4s\n",
      "[CV] END colsample_bytree=0.7, max_depth=20, n_estimators=700, reg_alpha=1.2, reg_lambda=1.2, subsample=0.9; total time=  16.4s\n",
      "[CV] END colsample_bytree=0.7, max_depth=20, n_estimators=700, reg_alpha=1.2, reg_lambda=1.3, subsample=0.7; total time=  21.4s\n",
      "[CV] END colsample_bytree=0.7, max_depth=20, n_estimators=700, reg_alpha=1.2, reg_lambda=1.3, subsample=0.8; total time=  20.3s\n",
      "[CV] END colsample_bytree=0.7, max_depth=20, n_estimators=700, reg_alpha=1.2, reg_lambda=1.3, subsample=0.9; total time=  17.0s\n",
      "[CV] END colsample_bytree=0.7, max_depth=20, n_estimators=700, reg_alpha=1.3, reg_lambda=1.1, subsample=0.7; total time=  22.1s\n",
      "[CV] END colsample_bytree=0.7, max_depth=20, n_estimators=700, reg_alpha=1.3, reg_lambda=1.1, subsample=0.7; total time=  19.6s\n",
      "[CV] END colsample_bytree=0.7, max_depth=20, n_estimators=700, reg_alpha=1.3, reg_lambda=1.1, subsample=0.8; total time=  20.5s\n",
      "[CV] END colsample_bytree=0.7, max_depth=20, n_estimators=700, reg_alpha=1.3, reg_lambda=1.1, subsample=0.9; total time=  15.6s\n",
      "[CV] END colsample_bytree=0.7, max_depth=20, n_estimators=700, reg_alpha=1.3, reg_lambda=1.2, subsample=0.7; total time=  19.7s\n"
     ]
    },
    {
     "name": "stdout",
     "output_type": "stream",
     "text": [
      "[CV] END colsample_bytree=0.7, max_depth=15, n_estimators=400, reg_alpha=1.1, reg_lambda=1.1, subsample=0.7; total time=  12.7s\n",
      "[CV] END colsample_bytree=0.7, max_depth=15, n_estimators=400, reg_alpha=1.1, reg_lambda=1.1, subsample=0.8; total time=  15.1s\n",
      "[CV] END colsample_bytree=0.7, max_depth=15, n_estimators=400, reg_alpha=1.1, reg_lambda=1.1, subsample=0.9; total time=  12.9s\n",
      "[CV] END colsample_bytree=0.7, max_depth=15, n_estimators=400, reg_alpha=1.1, reg_lambda=1.1, subsample=0.9; total time=  13.1s\n",
      "[CV] END colsample_bytree=0.7, max_depth=15, n_estimators=400, reg_alpha=1.1, reg_lambda=1.2, subsample=0.7; total time=  17.4s\n",
      "[CV] END colsample_bytree=0.7, max_depth=15, n_estimators=400, reg_alpha=1.1, reg_lambda=1.2, subsample=0.8; total time=  19.7s\n",
      "[CV] END colsample_bytree=0.7, max_depth=15, n_estimators=400, reg_alpha=1.1, reg_lambda=1.2, subsample=0.9; total time=  14.9s\n",
      "[CV] END colsample_bytree=0.7, max_depth=15, n_estimators=400, reg_alpha=1.1, reg_lambda=1.2, subsample=0.9; total time=  16.2s\n",
      "[CV] END colsample_bytree=0.7, max_depth=15, n_estimators=400, reg_alpha=1.1, reg_lambda=1.3, subsample=0.7; total time=  18.9s\n",
      "[CV] END colsample_bytree=0.7, max_depth=15, n_estimators=400, reg_alpha=1.1, reg_lambda=1.3, subsample=0.8; total time=  18.2s\n",
      "[CV] END colsample_bytree=0.7, max_depth=15, n_estimators=400, reg_alpha=1.1, reg_lambda=1.3, subsample=0.9; total time=  15.5s\n",
      "[CV] END colsample_bytree=0.7, max_depth=15, n_estimators=400, reg_alpha=1.1, reg_lambda=1.3, subsample=0.9; total time=  12.5s\n",
      "[CV] END colsample_bytree=0.7, max_depth=15, n_estimators=400, reg_alpha=1.2, reg_lambda=1.1, subsample=0.7; total time=  15.6s\n",
      "[CV] END colsample_bytree=0.7, max_depth=15, n_estimators=400, reg_alpha=1.2, reg_lambda=1.1, subsample=0.8; total time=  15.0s\n",
      "[CV] END colsample_bytree=0.7, max_depth=15, n_estimators=400, reg_alpha=1.2, reg_lambda=1.1, subsample=0.9; total time=  13.8s\n",
      "[CV] END colsample_bytree=0.7, max_depth=15, n_estimators=400, reg_alpha=1.2, reg_lambda=1.2, subsample=0.7; total time=  17.0s\n",
      "[CV] END colsample_bytree=0.7, max_depth=15, n_estimators=400, reg_alpha=1.2, reg_lambda=1.2, subsample=0.7; total time=  14.2s\n",
      "[CV] END colsample_bytree=0.7, max_depth=15, n_estimators=400, reg_alpha=1.2, reg_lambda=1.2, subsample=0.8; total time=  14.3s\n",
      "[CV] END colsample_bytree=0.7, max_depth=15, n_estimators=400, reg_alpha=1.2, reg_lambda=1.2, subsample=0.9; total time=  12.1s\n",
      "[CV] END colsample_bytree=0.7, max_depth=15, n_estimators=400, reg_alpha=1.2, reg_lambda=1.3, subsample=0.7; total time=  16.5s\n",
      "[CV] END colsample_bytree=0.7, max_depth=15, n_estimators=400, reg_alpha=1.2, reg_lambda=1.3, subsample=0.8; total time=  18.1s\n",
      "[CV] END colsample_bytree=0.7, max_depth=15, n_estimators=400, reg_alpha=1.2, reg_lambda=1.3, subsample=0.8; total time=  11.3s\n",
      "[CV] END colsample_bytree=0.7, max_depth=15, n_estimators=400, reg_alpha=1.2, reg_lambda=1.3, subsample=0.9; total time=  11.2s\n",
      "[CV] END colsample_bytree=0.7, max_depth=15, n_estimators=400, reg_alpha=1.3, reg_lambda=1.1, subsample=0.7; total time=  13.0s\n",
      "[CV] END colsample_bytree=0.7, max_depth=15, n_estimators=400, reg_alpha=1.3, reg_lambda=1.1, subsample=0.8; total time=  12.4s\n",
      "[CV] END colsample_bytree=0.7, max_depth=15, n_estimators=400, reg_alpha=1.3, reg_lambda=1.1, subsample=0.9; total time=  11.1s\n",
      "[CV] END colsample_bytree=0.7, max_depth=15, n_estimators=400, reg_alpha=1.3, reg_lambda=1.2, subsample=0.7; total time=  13.3s\n",
      "[CV] END colsample_bytree=0.7, max_depth=15, n_estimators=400, reg_alpha=1.3, reg_lambda=1.2, subsample=0.7; total time=  11.3s\n",
      "[CV] END colsample_bytree=0.7, max_depth=15, n_estimators=400, reg_alpha=1.3, reg_lambda=1.2, subsample=0.8; total time=  12.3s\n",
      "[CV] END colsample_bytree=0.7, max_depth=15, n_estimators=400, reg_alpha=1.3, reg_lambda=1.2, subsample=0.9; total time=  11.9s\n",
      "[CV] END colsample_bytree=0.7, max_depth=15, n_estimators=400, reg_alpha=1.3, reg_lambda=1.3, subsample=0.7; total time=  17.2s\n",
      "[CV] END colsample_bytree=0.7, max_depth=15, n_estimators=400, reg_alpha=1.3, reg_lambda=1.3, subsample=0.8; total time=  15.2s\n",
      "[CV] END colsample_bytree=0.7, max_depth=15, n_estimators=400, reg_alpha=1.3, reg_lambda=1.3, subsample=0.8; total time=  13.9s\n",
      "[CV] END colsample_bytree=0.7, max_depth=15, n_estimators=400, reg_alpha=1.3, reg_lambda=1.3, subsample=0.9; total time=  11.5s\n",
      "[CV] END colsample_bytree=0.7, max_depth=15, n_estimators=700, reg_alpha=1.1, reg_lambda=1.1, subsample=0.7; total time=  24.9s\n",
      "[CV] END colsample_bytree=0.7, max_depth=15, n_estimators=700, reg_alpha=1.1, reg_lambda=1.1, subsample=0.8; total time=  23.4s\n",
      "[CV] END colsample_bytree=0.7, max_depth=15, n_estimators=700, reg_alpha=1.1, reg_lambda=1.1, subsample=0.9; total time=  20.8s\n",
      "[CV] END colsample_bytree=0.7, max_depth=15, n_estimators=700, reg_alpha=1.1, reg_lambda=1.1, subsample=0.9; total time=  16.3s\n",
      "[CV] END colsample_bytree=0.7, max_depth=15, n_estimators=700, reg_alpha=1.1, reg_lambda=1.2, subsample=0.7; total time=  29.9s\n",
      "[CV] END colsample_bytree=0.7, max_depth=15, n_estimators=700, reg_alpha=1.1, reg_lambda=1.2, subsample=0.8; total time=  28.9s\n",
      "[CV] END colsample_bytree=0.7, max_depth=15, n_estimators=700, reg_alpha=1.1, reg_lambda=1.2, subsample=0.8; total time=  23.7s\n",
      "[CV] END colsample_bytree=0.7, max_depth=15, n_estimators=700, reg_alpha=1.1, reg_lambda=1.2, subsample=0.9; total time=  22.5s\n",
      "[CV] END colsample_bytree=0.7, max_depth=15, n_estimators=700, reg_alpha=1.1, reg_lambda=1.3, subsample=0.7; total time=  30.9s\n",
      "[CV] END colsample_bytree=0.7, max_depth=15, n_estimators=700, reg_alpha=1.1, reg_lambda=1.3, subsample=0.8; total time=  29.5s\n",
      "[CV] END colsample_bytree=0.7, max_depth=15, n_estimators=700, reg_alpha=1.1, reg_lambda=1.3, subsample=0.9; total time=  22.0s\n",
      "[CV] END colsample_bytree=0.7, max_depth=15, n_estimators=700, reg_alpha=1.2, reg_lambda=1.1, subsample=0.7; total time=  23.8s\n",
      "[CV] END colsample_bytree=0.7, max_depth=15, n_estimators=700, reg_alpha=1.2, reg_lambda=1.1, subsample=0.7; total time=  24.8s\n",
      "[CV] END colsample_bytree=0.7, max_depth=15, n_estimators=700, reg_alpha=1.2, reg_lambda=1.1, subsample=0.8; total time=  24.5s\n",
      "[CV] END colsample_bytree=0.7, max_depth=15, n_estimators=700, reg_alpha=1.2, reg_lambda=1.1, subsample=0.9; total time=  18.8s\n",
      "[CV] END colsample_bytree=0.7, max_depth=15, n_estimators=700, reg_alpha=1.2, reg_lambda=1.2, subsample=0.7; total time=  26.2s\n",
      "[CV] END colsample_bytree=0.7, max_depth=15, n_estimators=700, reg_alpha=1.2, reg_lambda=1.2, subsample=0.8; total time=  19.4s\n",
      "[CV] END colsample_bytree=0.7, max_depth=15, n_estimators=700, reg_alpha=1.2, reg_lambda=1.2, subsample=0.8; total time=  20.3s\n",
      "[CV] END colsample_bytree=0.7, max_depth=15, n_estimators=700, reg_alpha=1.2, reg_lambda=1.2, subsample=0.9; total time=  14.1s\n",
      "[CV] END colsample_bytree=0.7, max_depth=15, n_estimators=700, reg_alpha=1.2, reg_lambda=1.3, subsample=0.7; total time=  22.7s\n",
      "[CV] END colsample_bytree=0.7, max_depth=15, n_estimators=700, reg_alpha=1.2, reg_lambda=1.3, subsample=0.8; total time=  22.0s\n",
      "[CV] END colsample_bytree=0.7, max_depth=15, n_estimators=700, reg_alpha=1.2, reg_lambda=1.3, subsample=0.9; total time=  17.0s\n",
      "[CV] END colsample_bytree=0.7, max_depth=15, n_estimators=700, reg_alpha=1.2, reg_lambda=1.3, subsample=0.9; total time=  15.1s\n",
      "[CV] END colsample_bytree=0.7, max_depth=15, n_estimators=700, reg_alpha=1.3, reg_lambda=1.1, subsample=0.7; total time=  21.0s\n",
      "[CV] END colsample_bytree=0.7, max_depth=15, n_estimators=700, reg_alpha=1.3, reg_lambda=1.1, subsample=0.8; total time=  19.5s\n",
      "[CV] END colsample_bytree=0.7, max_depth=15, n_estimators=700, reg_alpha=1.3, reg_lambda=1.1, subsample=0.9; total time=  15.8s\n",
      "[CV] END colsample_bytree=0.7, max_depth=15, n_estimators=700, reg_alpha=1.3, reg_lambda=1.2, subsample=0.7; total time=  19.8s\n",
      "[CV] END colsample_bytree=0.7, max_depth=15, n_estimators=700, reg_alpha=1.3, reg_lambda=1.2, subsample=0.7; total time=  16.6s\n",
      "[CV] END colsample_bytree=0.7, max_depth=15, n_estimators=700, reg_alpha=1.3, reg_lambda=1.2, subsample=0.8; total time=  16.5s\n",
      "[CV] END colsample_bytree=0.7, max_depth=15, n_estimators=700, reg_alpha=1.3, reg_lambda=1.2, subsample=0.9; total time=  15.6s\n",
      "[CV] END colsample_bytree=0.7, max_depth=15, n_estimators=700, reg_alpha=1.3, reg_lambda=1.3, subsample=0.7; total time=  18.8s\n",
      "[CV] END colsample_bytree=0.7, max_depth=15, n_estimators=700, reg_alpha=1.3, reg_lambda=1.3, subsample=0.8; total time=  17.2s\n",
      "[CV] END colsample_bytree=0.7, max_depth=15, n_estimators=700, reg_alpha=1.3, reg_lambda=1.3, subsample=0.8; total time=  16.2s\n",
      "[CV] END colsample_bytree=0.7, max_depth=15, n_estimators=700, reg_alpha=1.3, reg_lambda=1.3, subsample=0.9; total time=  19.4s\n",
      "[CV] END colsample_bytree=0.7, max_depth=20, n_estimators=400, reg_alpha=1.1, reg_lambda=1.1, subsample=0.7; total time=  18.5s\n",
      "[CV] END colsample_bytree=0.7, max_depth=20, n_estimators=400, reg_alpha=1.1, reg_lambda=1.1, subsample=0.8; total time=  19.0s\n",
      "[CV] END colsample_bytree=0.7, max_depth=20, n_estimators=400, reg_alpha=1.1, reg_lambda=1.1, subsample=0.9; total time=  15.0s\n",
      "[CV] END colsample_bytree=0.7, max_depth=20, n_estimators=400, reg_alpha=1.1, reg_lambda=1.2, subsample=0.7; total time=  16.0s\n",
      "[CV] END colsample_bytree=0.7, max_depth=20, n_estimators=400, reg_alpha=1.1, reg_lambda=1.2, subsample=0.7; total time=  12.8s\n",
      "[CV] END colsample_bytree=0.7, max_depth=20, n_estimators=400, reg_alpha=1.1, reg_lambda=1.2, subsample=0.8; total time=  13.5s\n",
      "[CV] END colsample_bytree=0.7, max_depth=20, n_estimators=400, reg_alpha=1.1, reg_lambda=1.2, subsample=0.9; total time=  13.4s\n",
      "[CV] END colsample_bytree=0.7, max_depth=20, n_estimators=400, reg_alpha=1.1, reg_lambda=1.3, subsample=0.7; total time=  16.0s\n",
      "[CV] END colsample_bytree=0.7, max_depth=20, n_estimators=400, reg_alpha=1.1, reg_lambda=1.3, subsample=0.8; total time=  13.4s\n",
      "[CV] END colsample_bytree=0.7, max_depth=20, n_estimators=400, reg_alpha=1.1, reg_lambda=1.3, subsample=0.8; total time=  12.7s\n",
      "[CV] END colsample_bytree=0.7, max_depth=20, n_estimators=400, reg_alpha=1.1, reg_lambda=1.3, subsample=0.9; total time=  12.8s\n",
      "[CV] END colsample_bytree=0.7, max_depth=20, n_estimators=400, reg_alpha=1.2, reg_lambda=1.1, subsample=0.7; total time=  13.6s\n",
      "[CV] END colsample_bytree=0.7, max_depth=20, n_estimators=400, reg_alpha=1.2, reg_lambda=1.1, subsample=0.8; total time=  19.2s\n",
      "[CV] END colsample_bytree=0.7, max_depth=20, n_estimators=400, reg_alpha=1.2, reg_lambda=1.1, subsample=0.9; total time=  11.3s\n",
      "[CV] END colsample_bytree=0.7, max_depth=20, n_estimators=400, reg_alpha=1.2, reg_lambda=1.1, subsample=0.9; total time=  10.1s\n",
      "[CV] END colsample_bytree=0.7, max_depth=20, n_estimators=400, reg_alpha=1.2, reg_lambda=1.2, subsample=0.7; total time=  14.3s\n",
      "[CV] END colsample_bytree=0.7, max_depth=20, n_estimators=400, reg_alpha=1.2, reg_lambda=1.2, subsample=0.8; total time=  15.2s\n",
      "[CV] END colsample_bytree=0.7, max_depth=20, n_estimators=400, reg_alpha=1.2, reg_lambda=1.2, subsample=0.9; total time=  12.0s\n",
      "[CV] END colsample_bytree=0.7, max_depth=20, n_estimators=400, reg_alpha=1.2, reg_lambda=1.3, subsample=0.7; total time=  13.7s\n",
      "[CV] END colsample_bytree=0.7, max_depth=20, n_estimators=400, reg_alpha=1.2, reg_lambda=1.3, subsample=0.7; total time=  11.9s\n",
      "[CV] END colsample_bytree=0.7, max_depth=20, n_estimators=400, reg_alpha=1.2, reg_lambda=1.3, subsample=0.8; total time=  12.8s\n",
      "[CV] END colsample_bytree=0.7, max_depth=20, n_estimators=400, reg_alpha=1.2, reg_lambda=1.3, subsample=0.9; total time=  10.9s\n",
      "[CV] END colsample_bytree=0.7, max_depth=20, n_estimators=400, reg_alpha=1.3, reg_lambda=1.1, subsample=0.7; total time=  14.9s\n",
      "[CV] END colsample_bytree=0.7, max_depth=20, n_estimators=400, reg_alpha=1.3, reg_lambda=1.1, subsample=0.8; total time=  13.0s\n",
      "[CV] END colsample_bytree=0.7, max_depth=20, n_estimators=400, reg_alpha=1.3, reg_lambda=1.1, subsample=0.8; total time=  10.8s\n",
      "[CV] END colsample_bytree=0.7, max_depth=20, n_estimators=400, reg_alpha=1.3, reg_lambda=1.1, subsample=0.9; total time=  13.4s\n",
      "[CV] END colsample_bytree=0.7, max_depth=20, n_estimators=400, reg_alpha=1.3, reg_lambda=1.2, subsample=0.7; total time=  14.3s\n",
      "[CV] END colsample_bytree=0.7, max_depth=20, n_estimators=400, reg_alpha=1.3, reg_lambda=1.2, subsample=0.8; total time=  18.2s\n",
      "[CV] END colsample_bytree=0.7, max_depth=20, n_estimators=400, reg_alpha=1.3, reg_lambda=1.2, subsample=0.9; total time=  11.5s\n",
      "[CV] END colsample_bytree=0.7, max_depth=20, n_estimators=400, reg_alpha=1.3, reg_lambda=1.2, subsample=0.9; total time=   9.9s\n",
      "[CV] END colsample_bytree=0.7, max_depth=20, n_estimators=400, reg_alpha=1.3, reg_lambda=1.3, subsample=0.7; total time=  12.9s\n",
      "[CV] END colsample_bytree=0.7, max_depth=20, n_estimators=400, reg_alpha=1.3, reg_lambda=1.3, subsample=0.8; total time=  13.1s\n",
      "[CV] END colsample_bytree=0.7, max_depth=20, n_estimators=400, reg_alpha=1.3, reg_lambda=1.3, subsample=0.9; total time=  13.8s\n",
      "[CV] END colsample_bytree=0.7, max_depth=20, n_estimators=700, reg_alpha=1.1, reg_lambda=1.1, subsample=0.7; total time=  26.0s\n",
      "[CV] END colsample_bytree=0.7, max_depth=20, n_estimators=700, reg_alpha=1.1, reg_lambda=1.1, subsample=0.7; total time=  19.3s\n",
      "[CV] END colsample_bytree=0.7, max_depth=20, n_estimators=700, reg_alpha=1.1, reg_lambda=1.1, subsample=0.8; total time=  21.0s\n",
      "[CV] END colsample_bytree=0.7, max_depth=20, n_estimators=700, reg_alpha=1.1, reg_lambda=1.1, subsample=0.9; total time=  16.2s\n",
      "[CV] END colsample_bytree=0.7, max_depth=20, n_estimators=700, reg_alpha=1.1, reg_lambda=1.2, subsample=0.7; total time=  24.4s\n",
      "[CV] END colsample_bytree=0.7, max_depth=20, n_estimators=700, reg_alpha=1.1, reg_lambda=1.2, subsample=0.8; total time=  21.6s\n",
      "[CV] END colsample_bytree=0.7, max_depth=20, n_estimators=700, reg_alpha=1.1, reg_lambda=1.2, subsample=0.9; total time=  17.0s\n",
      "[CV] END colsample_bytree=0.7, max_depth=20, n_estimators=700, reg_alpha=1.1, reg_lambda=1.3, subsample=0.7; total time=  23.2s\n",
      "[CV] END colsample_bytree=0.7, max_depth=20, n_estimators=700, reg_alpha=1.1, reg_lambda=1.3, subsample=0.7; total time=  22.1s\n",
      "[CV] END colsample_bytree=0.7, max_depth=20, n_estimators=700, reg_alpha=1.1, reg_lambda=1.3, subsample=0.8; total time=  22.3s\n",
      "[CV] END colsample_bytree=0.7, max_depth=20, n_estimators=700, reg_alpha=1.1, reg_lambda=1.3, subsample=0.9; total time=  18.4s\n",
      "[CV] END colsample_bytree=0.7, max_depth=20, n_estimators=700, reg_alpha=1.2, reg_lambda=1.1, subsample=0.7; total time=  22.9s\n",
      "[CV] END colsample_bytree=0.7, max_depth=20, n_estimators=700, reg_alpha=1.2, reg_lambda=1.1, subsample=0.8; total time=  22.6s\n",
      "[CV] END colsample_bytree=0.7, max_depth=20, n_estimators=700, reg_alpha=1.2, reg_lambda=1.1, subsample=0.8; total time=  18.0s\n",
      "[CV] END colsample_bytree=0.7, max_depth=20, n_estimators=700, reg_alpha=1.2, reg_lambda=1.1, subsample=0.9; total time=  17.7s\n",
      "[CV] END colsample_bytree=0.7, max_depth=20, n_estimators=700, reg_alpha=1.2, reg_lambda=1.2, subsample=0.7; total time=  22.9s\n",
      "[CV] END colsample_bytree=0.7, max_depth=20, n_estimators=700, reg_alpha=1.2, reg_lambda=1.2, subsample=0.8; total time=  22.5s\n",
      "[CV] END colsample_bytree=0.7, max_depth=20, n_estimators=700, reg_alpha=1.2, reg_lambda=1.2, subsample=0.9; total time=  19.5s\n",
      "[CV] END colsample_bytree=0.7, max_depth=20, n_estimators=700, reg_alpha=1.2, reg_lambda=1.3, subsample=0.7; total time=  21.3s\n",
      "[CV] END colsample_bytree=0.7, max_depth=20, n_estimators=700, reg_alpha=1.2, reg_lambda=1.3, subsample=0.7; total time=  19.7s\n",
      "[CV] END colsample_bytree=0.7, max_depth=20, n_estimators=700, reg_alpha=1.2, reg_lambda=1.3, subsample=0.8; total time=  19.8s\n",
      "[CV] END colsample_bytree=0.7, max_depth=20, n_estimators=700, reg_alpha=1.2, reg_lambda=1.3, subsample=0.9; total time=  17.1s\n",
      "[CV] END colsample_bytree=0.7, max_depth=20, n_estimators=700, reg_alpha=1.3, reg_lambda=1.1, subsample=0.7; total time=  21.0s\n",
      "[CV] END colsample_bytree=0.7, max_depth=20, n_estimators=700, reg_alpha=1.3, reg_lambda=1.1, subsample=0.8; total time=  21.9s\n",
      "[CV] END colsample_bytree=0.7, max_depth=20, n_estimators=700, reg_alpha=1.3, reg_lambda=1.1, subsample=0.8; total time=  16.1s\n",
      "[CV] END colsample_bytree=0.7, max_depth=20, n_estimators=700, reg_alpha=1.3, reg_lambda=1.1, subsample=0.9; total time=  15.6s\n",
      "[CV] END colsample_bytree=0.7, max_depth=20, n_estimators=700, reg_alpha=1.3, reg_lambda=1.2, subsample=0.7; total time=  18.3s\n"
     ]
    },
    {
     "name": "stdout",
     "output_type": "stream",
     "text": [
      "0.013392193644006487\n",
      "{'colsample_bytree': 0.7, 'max_depth': 20, 'n_estimators': 700, 'reg_alpha': 1.1, 'reg_lambda': 1.3, 'subsample': 0.9}\n",
      "[CV] END colsample_bytree=0.7, max_depth=20, n_estimators=700, reg_alpha=1.3, reg_lambda=1.2, subsample=0.7; total time=  17.0s\n",
      "[CV] END colsample_bytree=0.7, max_depth=20, n_estimators=700, reg_alpha=1.3, reg_lambda=1.2, subsample=0.8; total time=  16.9s\n",
      "[CV] END colsample_bytree=0.7, max_depth=20, n_estimators=700, reg_alpha=1.3, reg_lambda=1.2, subsample=0.9; total time=  15.1s\n",
      "[CV] END colsample_bytree=0.7, max_depth=20, n_estimators=700, reg_alpha=1.3, reg_lambda=1.3, subsample=0.7; total time=  18.8s\n",
      "[CV] END colsample_bytree=0.7, max_depth=20, n_estimators=700, reg_alpha=1.3, reg_lambda=1.3, subsample=0.8; total time=  17.3s\n",
      "[CV] END colsample_bytree=0.7, max_depth=20, n_estimators=700, reg_alpha=1.3, reg_lambda=1.3, subsample=0.8; total time=  15.3s\n",
      "[CV] END colsample_bytree=0.7, max_depth=20, n_estimators=700, reg_alpha=1.3, reg_lambda=1.3, subsample=0.9; total time=  14.3s\n",
      "[CV] END colsample_bytree=0.8, max_depth=15, n_estimators=400, reg_alpha=1.1, reg_lambda=1.1, subsample=0.7; total time=  14.9s\n",
      "[CV] END colsample_bytree=0.8, max_depth=15, n_estimators=400, reg_alpha=1.1, reg_lambda=1.1, subsample=0.8; total time=  14.7s\n",
      "[CV] END colsample_bytree=0.8, max_depth=15, n_estimators=400, reg_alpha=1.1, reg_lambda=1.1, subsample=0.9; total time=  12.6s\n",
      "[CV] END colsample_bytree=0.8, max_depth=15, n_estimators=400, reg_alpha=1.1, reg_lambda=1.1, subsample=0.9; total time=  10.5s\n",
      "[CV] END colsample_bytree=0.8, max_depth=15, n_estimators=400, reg_alpha=1.1, reg_lambda=1.2, subsample=0.7; total time=  15.8s\n",
      "[CV] END colsample_bytree=0.8, max_depth=15, n_estimators=400, reg_alpha=1.1, reg_lambda=1.2, subsample=0.8; total time=  14.5s\n",
      "[CV] END colsample_bytree=0.8, max_depth=15, n_estimators=400, reg_alpha=1.1, reg_lambda=1.2, subsample=0.9; total time=  12.5s\n",
      "[CV] END colsample_bytree=0.8, max_depth=15, n_estimators=400, reg_alpha=1.1, reg_lambda=1.3, subsample=0.7; total time=  15.6s\n",
      "[CV] END colsample_bytree=0.8, max_depth=15, n_estimators=400, reg_alpha=1.1, reg_lambda=1.3, subsample=0.7; total time=  14.8s\n",
      "[CV] END colsample_bytree=0.8, max_depth=15, n_estimators=400, reg_alpha=1.1, reg_lambda=1.3, subsample=0.8; total time=  14.5s\n",
      "[CV] END colsample_bytree=0.8, max_depth=15, n_estimators=400, reg_alpha=1.1, reg_lambda=1.3, subsample=0.9; total time=  11.9s\n",
      "[CV] END colsample_bytree=0.8, max_depth=15, n_estimators=400, reg_alpha=1.2, reg_lambda=1.1, subsample=0.7; total time=  15.1s\n",
      "[CV] END colsample_bytree=0.8, max_depth=15, n_estimators=400, reg_alpha=1.2, reg_lambda=1.1, subsample=0.8; total time=  13.7s\n",
      "[CV] END colsample_bytree=0.8, max_depth=15, n_estimators=400, reg_alpha=1.2, reg_lambda=1.1, subsample=0.8; total time=  11.3s\n",
      "[CV] END colsample_bytree=0.8, max_depth=15, n_estimators=400, reg_alpha=1.2, reg_lambda=1.1, subsample=0.9; total time=  11.6s\n",
      "[CV] END colsample_bytree=0.8, max_depth=15, n_estimators=400, reg_alpha=1.2, reg_lambda=1.2, subsample=0.7; total time=  16.0s\n",
      "[CV] END colsample_bytree=0.8, max_depth=15, n_estimators=400, reg_alpha=1.2, reg_lambda=1.2, subsample=0.8; total time=  15.6s\n",
      "[CV] END colsample_bytree=0.8, max_depth=15, n_estimators=400, reg_alpha=1.2, reg_lambda=1.2, subsample=0.9; total time=  14.2s\n",
      "[CV] END colsample_bytree=0.8, max_depth=15, n_estimators=400, reg_alpha=1.2, reg_lambda=1.2, subsample=0.9; total time=  10.6s\n",
      "[CV] END colsample_bytree=0.8, max_depth=15, n_estimators=400, reg_alpha=1.2, reg_lambda=1.3, subsample=0.7; total time=  14.8s\n",
      "[CV] END colsample_bytree=0.8, max_depth=15, n_estimators=400, reg_alpha=1.2, reg_lambda=1.3, subsample=0.8; total time=  14.6s\n",
      "[CV] END colsample_bytree=0.8, max_depth=15, n_estimators=400, reg_alpha=1.2, reg_lambda=1.3, subsample=0.9; total time=  14.3s\n",
      "[CV] END colsample_bytree=0.8, max_depth=15, n_estimators=400, reg_alpha=1.3, reg_lambda=1.1, subsample=0.7; total time=  14.4s\n",
      "[CV] END colsample_bytree=0.8, max_depth=15, n_estimators=400, reg_alpha=1.3, reg_lambda=1.1, subsample=0.7; total time=  12.6s\n",
      "[CV] END colsample_bytree=0.8, max_depth=15, n_estimators=400, reg_alpha=1.3, reg_lambda=1.1, subsample=0.8; total time=  12.0s\n",
      "[CV] END colsample_bytree=0.8, max_depth=15, n_estimators=400, reg_alpha=1.3, reg_lambda=1.1, subsample=0.9; total time=  11.9s\n",
      "[CV] END colsample_bytree=0.8, max_depth=15, n_estimators=400, reg_alpha=1.3, reg_lambda=1.2, subsample=0.7; total time=  14.2s\n",
      "[CV] END colsample_bytree=0.8, max_depth=15, n_estimators=400, reg_alpha=1.3, reg_lambda=1.2, subsample=0.8; total time=  13.6s\n",
      "[CV] END colsample_bytree=0.8, max_depth=15, n_estimators=400, reg_alpha=1.3, reg_lambda=1.2, subsample=0.8; total time=  14.2s\n",
      "[CV] END colsample_bytree=0.8, max_depth=15, n_estimators=400, reg_alpha=1.3, reg_lambda=1.2, subsample=0.9; total time=  12.5s\n",
      "[CV] END colsample_bytree=0.8, max_depth=15, n_estimators=400, reg_alpha=1.3, reg_lambda=1.3, subsample=0.7; total time=  16.8s\n",
      "[CV] END colsample_bytree=0.8, max_depth=15, n_estimators=400, reg_alpha=1.3, reg_lambda=1.3, subsample=0.8; total time=  16.3s\n",
      "[CV] END colsample_bytree=0.8, max_depth=15, n_estimators=400, reg_alpha=1.3, reg_lambda=1.3, subsample=0.9; total time=  11.7s\n",
      "[CV] END colsample_bytree=0.8, max_depth=15, n_estimators=400, reg_alpha=1.3, reg_lambda=1.3, subsample=0.9; total time=  10.1s\n",
      "[CV] END colsample_bytree=0.8, max_depth=15, n_estimators=700, reg_alpha=1.1, reg_lambda=1.1, subsample=0.7; total time=  24.2s\n",
      "[CV] END colsample_bytree=0.8, max_depth=15, n_estimators=700, reg_alpha=1.1, reg_lambda=1.1, subsample=0.8; total time=  22.0s\n",
      "[CV] END colsample_bytree=0.8, max_depth=15, n_estimators=700, reg_alpha=1.1, reg_lambda=1.1, subsample=0.9; total time=  17.9s\n",
      "[CV] END colsample_bytree=0.8, max_depth=15, n_estimators=700, reg_alpha=1.1, reg_lambda=1.2, subsample=0.7; total time=  24.3s\n",
      "[CV] END colsample_bytree=0.8, max_depth=15, n_estimators=700, reg_alpha=1.1, reg_lambda=1.2, subsample=0.7; total time=  21.8s\n",
      "[CV] END colsample_bytree=0.8, max_depth=15, n_estimators=700, reg_alpha=1.1, reg_lambda=1.2, subsample=0.8; total time=  24.7s\n",
      "[CV] END colsample_bytree=0.8, max_depth=15, n_estimators=700, reg_alpha=1.1, reg_lambda=1.2, subsample=0.9; total time=  18.0s\n",
      "[CV] END colsample_bytree=0.8, max_depth=15, n_estimators=700, reg_alpha=1.1, reg_lambda=1.3, subsample=0.7; total time=  27.5s\n",
      "[CV] END colsample_bytree=0.8, max_depth=15, n_estimators=700, reg_alpha=1.1, reg_lambda=1.3, subsample=0.8; total time=  25.4s\n",
      "[CV] END colsample_bytree=0.8, max_depth=15, n_estimators=700, reg_alpha=1.1, reg_lambda=1.3, subsample=0.8; total time=  19.1s\n",
      "[CV] END colsample_bytree=0.8, max_depth=15, n_estimators=700, reg_alpha=1.1, reg_lambda=1.3, subsample=0.9; total time=  20.7s\n",
      "[CV] END colsample_bytree=0.8, max_depth=15, n_estimators=700, reg_alpha=1.2, reg_lambda=1.1, subsample=0.7; total time=  24.0s\n",
      "[CV] END colsample_bytree=0.8, max_depth=15, n_estimators=700, reg_alpha=1.2, reg_lambda=1.1, subsample=0.8; total time=  23.0s\n",
      "[CV] END colsample_bytree=0.8, max_depth=15, n_estimators=700, reg_alpha=1.2, reg_lambda=1.1, subsample=0.9; total time=  21.1s\n",
      "[CV] END colsample_bytree=0.8, max_depth=15, n_estimators=700, reg_alpha=1.2, reg_lambda=1.1, subsample=0.9; total time=  15.9s\n",
      "[CV] END colsample_bytree=0.8, max_depth=15, n_estimators=700, reg_alpha=1.2, reg_lambda=1.2, subsample=0.7; total time=  25.1s\n",
      "[CV] END colsample_bytree=0.8, max_depth=15, n_estimators=700, reg_alpha=1.2, reg_lambda=1.2, subsample=0.8; total time=  23.3s\n",
      "[CV] END colsample_bytree=0.8, max_depth=15, n_estimators=700, reg_alpha=1.2, reg_lambda=1.2, subsample=0.9; total time=  20.9s\n",
      "[CV] END colsample_bytree=0.8, max_depth=15, n_estimators=700, reg_alpha=1.2, reg_lambda=1.3, subsample=0.7; total time=  23.5s\n",
      "[CV] END colsample_bytree=0.8, max_depth=15, n_estimators=700, reg_alpha=1.2, reg_lambda=1.3, subsample=0.7; total time=  21.7s\n",
      "[CV] END colsample_bytree=0.8, max_depth=15, n_estimators=700, reg_alpha=1.2, reg_lambda=1.3, subsample=0.8; total time=  21.6s\n",
      "[CV] END colsample_bytree=0.8, max_depth=15, n_estimators=700, reg_alpha=1.2, reg_lambda=1.3, subsample=0.9; total time=  18.9s\n",
      "[CV] END colsample_bytree=0.8, max_depth=15, n_estimators=700, reg_alpha=1.3, reg_lambda=1.1, subsample=0.7; total time=  21.5s\n",
      "[CV] END colsample_bytree=0.8, max_depth=15, n_estimators=700, reg_alpha=1.3, reg_lambda=1.1, subsample=0.8; total time=  22.0s\n",
      "[CV] END colsample_bytree=0.8, max_depth=15, n_estimators=700, reg_alpha=1.3, reg_lambda=1.1, subsample=0.8; total time=  17.6s\n",
      "[CV] END colsample_bytree=0.8, max_depth=15, n_estimators=700, reg_alpha=1.3, reg_lambda=1.1, subsample=0.9; total time=  18.6s\n",
      "[CV] END colsample_bytree=0.8, max_depth=15, n_estimators=700, reg_alpha=1.3, reg_lambda=1.2, subsample=0.7; total time=  22.6s\n",
      "[CV] END colsample_bytree=0.8, max_depth=15, n_estimators=700, reg_alpha=1.3, reg_lambda=1.2, subsample=0.8; total time=  22.0s\n",
      "[CV] END colsample_bytree=0.8, max_depth=15, n_estimators=700, reg_alpha=1.3, reg_lambda=1.2, subsample=0.9; total time=  18.9s\n",
      "[CV] END colsample_bytree=0.8, max_depth=15, n_estimators=700, reg_alpha=1.3, reg_lambda=1.2, subsample=0.9; total time=  15.5s\n",
      "[CV] END colsample_bytree=0.8, max_depth=15, n_estimators=700, reg_alpha=1.3, reg_lambda=1.3, subsample=0.7; total time=  21.3s\n",
      "[CV] END colsample_bytree=0.8, max_depth=15, n_estimators=700, reg_alpha=1.3, reg_lambda=1.3, subsample=0.8; total time=  21.4s\n",
      "[CV] END colsample_bytree=0.8, max_depth=15, n_estimators=700, reg_alpha=1.3, reg_lambda=1.3, subsample=0.9; total time=  17.3s\n",
      "[CV] END colsample_bytree=0.8, max_depth=20, n_estimators=400, reg_alpha=1.1, reg_lambda=1.1, subsample=0.7; total time=  16.5s\n",
      "[CV] END colsample_bytree=0.8, max_depth=20, n_estimators=400, reg_alpha=1.1, reg_lambda=1.1, subsample=0.7; total time=  13.6s\n",
      "[CV] END colsample_bytree=0.8, max_depth=20, n_estimators=400, reg_alpha=1.1, reg_lambda=1.1, subsample=0.8; total time=  14.2s\n",
      "[CV] END colsample_bytree=0.8, max_depth=20, n_estimators=400, reg_alpha=1.1, reg_lambda=1.1, subsample=0.9; total time=  11.3s\n",
      "[CV] END colsample_bytree=0.8, max_depth=20, n_estimators=400, reg_alpha=1.1, reg_lambda=1.2, subsample=0.7; total time=  15.4s\n",
      "[CV] END colsample_bytree=0.8, max_depth=20, n_estimators=400, reg_alpha=1.1, reg_lambda=1.2, subsample=0.8; total time=  15.0s\n",
      "[CV] END colsample_bytree=0.8, max_depth=20, n_estimators=400, reg_alpha=1.1, reg_lambda=1.2, subsample=0.8; total time=  14.0s\n",
      "[CV] END colsample_bytree=0.8, max_depth=20, n_estimators=400, reg_alpha=1.1, reg_lambda=1.2, subsample=0.9; total time=  12.8s\n",
      "[CV] END colsample_bytree=0.8, max_depth=20, n_estimators=400, reg_alpha=1.1, reg_lambda=1.3, subsample=0.7; total time=  16.1s\n",
      "[CV] END colsample_bytree=0.8, max_depth=20, n_estimators=400, reg_alpha=1.1, reg_lambda=1.3, subsample=0.8; total time=  16.6s\n",
      "[CV] END colsample_bytree=0.8, max_depth=20, n_estimators=400, reg_alpha=1.1, reg_lambda=1.3, subsample=0.9; total time=  13.1s\n",
      "[CV] END colsample_bytree=0.8, max_depth=20, n_estimators=400, reg_alpha=1.1, reg_lambda=1.3, subsample=0.9; total time=  11.0s\n",
      "[CV] END colsample_bytree=0.8, max_depth=20, n_estimators=400, reg_alpha=1.2, reg_lambda=1.1, subsample=0.7; total time=  14.4s\n",
      "[CV] END colsample_bytree=0.8, max_depth=20, n_estimators=400, reg_alpha=1.2, reg_lambda=1.1, subsample=0.8; total time=  14.7s\n",
      "[CV] END colsample_bytree=0.8, max_depth=20, n_estimators=400, reg_alpha=1.2, reg_lambda=1.1, subsample=0.9; total time=  12.2s\n",
      "[CV] END colsample_bytree=0.8, max_depth=20, n_estimators=400, reg_alpha=1.2, reg_lambda=1.2, subsample=0.7; total time=  18.6s\n",
      "[CV] END colsample_bytree=0.8, max_depth=20, n_estimators=400, reg_alpha=1.2, reg_lambda=1.2, subsample=0.7; total time=  14.3s\n",
      "[CV] END colsample_bytree=0.8, max_depth=20, n_estimators=400, reg_alpha=1.2, reg_lambda=1.2, subsample=0.8; total time=  14.1s\n",
      "[CV] END colsample_bytree=0.8, max_depth=20, n_estimators=400, reg_alpha=1.2, reg_lambda=1.2, subsample=0.9; total time=  12.0s\n",
      "[CV] END colsample_bytree=0.8, max_depth=20, n_estimators=400, reg_alpha=1.2, reg_lambda=1.3, subsample=0.7; total time=  14.9s\n",
      "[CV] END colsample_bytree=0.8, max_depth=20, n_estimators=400, reg_alpha=1.2, reg_lambda=1.3, subsample=0.8; total time=  14.0s\n",
      "[CV] END colsample_bytree=0.8, max_depth=20, n_estimators=400, reg_alpha=1.2, reg_lambda=1.3, subsample=0.8; total time=  11.2s\n",
      "[CV] END colsample_bytree=0.8, max_depth=20, n_estimators=400, reg_alpha=1.2, reg_lambda=1.3, subsample=0.9; total time=  11.8s\n",
      "[CV] END colsample_bytree=0.8, max_depth=20, n_estimators=400, reg_alpha=1.3, reg_lambda=1.1, subsample=0.7; total time=  13.8s\n",
      "[CV] END colsample_bytree=0.8, max_depth=20, n_estimators=400, reg_alpha=1.3, reg_lambda=1.1, subsample=0.8; total time=  17.9s\n",
      "[CV] END colsample_bytree=0.8, max_depth=20, n_estimators=400, reg_alpha=1.3, reg_lambda=1.1, subsample=0.9; total time=  14.7s\n",
      "[CV] END colsample_bytree=0.8, max_depth=20, n_estimators=400, reg_alpha=1.3, reg_lambda=1.1, subsample=0.9; total time=  16.0s\n",
      "[CV] END colsample_bytree=0.8, max_depth=20, n_estimators=400, reg_alpha=1.3, reg_lambda=1.2, subsample=0.7; total time=  16.3s\n",
      "[CV] END colsample_bytree=0.8, max_depth=20, n_estimators=400, reg_alpha=1.3, reg_lambda=1.2, subsample=0.8; total time=  14.2s\n",
      "[CV] END colsample_bytree=0.8, max_depth=20, n_estimators=400, reg_alpha=1.3, reg_lambda=1.2, subsample=0.9; total time=  13.5s\n",
      "[CV] END colsample_bytree=0.8, max_depth=20, n_estimators=400, reg_alpha=1.3, reg_lambda=1.3, subsample=0.7; total time=  15.5s\n",
      "[CV] END colsample_bytree=0.8, max_depth=20, n_estimators=400, reg_alpha=1.3, reg_lambda=1.3, subsample=0.7; total time=  13.7s\n",
      "[CV] END colsample_bytree=0.8, max_depth=20, n_estimators=400, reg_alpha=1.3, reg_lambda=1.3, subsample=0.8; total time=  14.2s\n",
      "[CV] END colsample_bytree=0.8, max_depth=20, n_estimators=400, reg_alpha=1.3, reg_lambda=1.3, subsample=0.9; total time=  11.7s\n",
      "[CV] END colsample_bytree=0.8, max_depth=20, n_estimators=700, reg_alpha=1.1, reg_lambda=1.1, subsample=0.7; total time=  26.7s\n",
      "[CV] END colsample_bytree=0.8, max_depth=20, n_estimators=700, reg_alpha=1.1, reg_lambda=1.1, subsample=0.8; total time=  25.6s\n",
      "[CV] END colsample_bytree=0.8, max_depth=20, n_estimators=700, reg_alpha=1.1, reg_lambda=1.1, subsample=0.8; total time=  22.5s\n",
      "[CV] END colsample_bytree=0.8, max_depth=20, n_estimators=700, reg_alpha=1.1, reg_lambda=1.1, subsample=0.9; total time=  21.7s\n",
      "[CV] END colsample_bytree=0.8, max_depth=20, n_estimators=700, reg_alpha=1.1, reg_lambda=1.2, subsample=0.7; total time=  28.5s\n",
      "[CV] END colsample_bytree=0.8, max_depth=20, n_estimators=700, reg_alpha=1.1, reg_lambda=1.2, subsample=0.8; total time=  24.4s\n",
      "[CV] END colsample_bytree=0.8, max_depth=20, n_estimators=700, reg_alpha=1.1, reg_lambda=1.2, subsample=0.9; total time=  20.5s\n",
      "[CV] END colsample_bytree=0.8, max_depth=20, n_estimators=700, reg_alpha=1.1, reg_lambda=1.2, subsample=0.9; total time=  15.5s\n",
      "[CV] END colsample_bytree=0.8, max_depth=20, n_estimators=700, reg_alpha=1.1, reg_lambda=1.3, subsample=0.7; total time=  28.1s\n",
      "[CV] END colsample_bytree=0.8, max_depth=20, n_estimators=700, reg_alpha=1.1, reg_lambda=1.3, subsample=0.8; total time=  25.1s\n",
      "[CV] END colsample_bytree=0.8, max_depth=20, n_estimators=700, reg_alpha=1.1, reg_lambda=1.3, subsample=0.9; total time=  19.1s\n",
      "[CV] END colsample_bytree=0.8, max_depth=20, n_estimators=700, reg_alpha=1.1, reg_lambda=1.3, subsample=0.9; total time=  16.1s\n",
      "[CV] END colsample_bytree=0.8, max_depth=20, n_estimators=700, reg_alpha=1.2, reg_lambda=1.1, subsample=0.7; total time=  25.7s\n",
      "[CV] END colsample_bytree=0.8, max_depth=20, n_estimators=700, reg_alpha=1.2, reg_lambda=1.1, subsample=0.8; total time=  21.6s\n",
      "[CV] END colsample_bytree=0.8, max_depth=20, n_estimators=700, reg_alpha=1.2, reg_lambda=1.1, subsample=0.9; total time=  18.4s\n",
      "[CV] END colsample_bytree=0.8, max_depth=20, n_estimators=700, reg_alpha=1.2, reg_lambda=1.1, subsample=0.9; total time=  15.8s\n",
      "[CV] END colsample_bytree=0.8, max_depth=20, n_estimators=700, reg_alpha=1.2, reg_lambda=1.2, subsample=0.7; total time=  24.4s\n",
      "[CV] END colsample_bytree=0.8, max_depth=20, n_estimators=700, reg_alpha=1.2, reg_lambda=1.2, subsample=0.8; total time=  21.9s\n",
      "[CV] END colsample_bytree=0.8, max_depth=20, n_estimators=700, reg_alpha=1.2, reg_lambda=1.2, subsample=0.9; total time=  20.2s\n",
      "[CV] END colsample_bytree=0.8, max_depth=20, n_estimators=700, reg_alpha=1.2, reg_lambda=1.3, subsample=0.7; total time=  24.5s\n",
      "[CV] END colsample_bytree=0.8, max_depth=20, n_estimators=700, reg_alpha=1.2, reg_lambda=1.3, subsample=0.7; total time=  23.7s\n",
      "[CV] END colsample_bytree=0.8, max_depth=20, n_estimators=700, reg_alpha=1.2, reg_lambda=1.3, subsample=0.8; total time=  20.9s\n",
      "[CV] END colsample_bytree=0.8, max_depth=20, n_estimators=700, reg_alpha=1.2, reg_lambda=1.3, subsample=0.9; total time=  19.6s\n",
      "[CV] END colsample_bytree=0.8, max_depth=20, n_estimators=700, reg_alpha=1.3, reg_lambda=1.1, subsample=0.7; total time=  21.7s\n",
      "[CV] END colsample_bytree=0.8, max_depth=20, n_estimators=700, reg_alpha=1.3, reg_lambda=1.1, subsample=0.8; total time=  20.6s\n",
      "[CV] END colsample_bytree=0.8, max_depth=20, n_estimators=700, reg_alpha=1.3, reg_lambda=1.1, subsample=0.8; total time=  16.3s\n",
      "[CV] END colsample_bytree=0.8, max_depth=20, n_estimators=700, reg_alpha=1.3, reg_lambda=1.1, subsample=0.9; total time=  17.5s\n",
      "[CV] END colsample_bytree=0.8, max_depth=20, n_estimators=700, reg_alpha=1.3, reg_lambda=1.2, subsample=0.7; total time=  21.3s\n",
      "[CV] END colsample_bytree=0.8, max_depth=20, n_estimators=700, reg_alpha=1.3, reg_lambda=1.2, subsample=0.8; total time=  21.2s\n",
      "[CV] END colsample_bytree=0.8, max_depth=20, n_estimators=700, reg_alpha=1.3, reg_lambda=1.2, subsample=0.9; total time=  18.3s\n",
      "[CV] END colsample_bytree=0.8, max_depth=20, n_estimators=700, reg_alpha=1.3, reg_lambda=1.2, subsample=0.9; total time=  15.5s\n",
      "[CV] END colsample_bytree=0.8, max_depth=20, n_estimators=700, reg_alpha=1.3, reg_lambda=1.3, subsample=0.7; total time=  20.2s\n",
      "[CV] END colsample_bytree=0.8, max_depth=20, n_estimators=700, reg_alpha=1.3, reg_lambda=1.3, subsample=0.8; total time=  20.7s\n",
      "[CV] END colsample_bytree=0.8, max_depth=20, n_estimators=700, reg_alpha=1.3, reg_lambda=1.3, subsample=0.9; total time=  18.1s\n"
     ]
    },
    {
     "name": "stdout",
     "output_type": "stream",
     "text": [
      "[CV] END colsample_bytree=0.7, max_depth=20, n_estimators=700, reg_alpha=1.3, reg_lambda=1.1, subsample=0.9; total time=  13.3s\n",
      "[CV] END colsample_bytree=0.7, max_depth=20, n_estimators=700, reg_alpha=1.3, reg_lambda=1.2, subsample=0.7; total time=  18.5s\n",
      "[CV] END colsample_bytree=0.7, max_depth=20, n_estimators=700, reg_alpha=1.3, reg_lambda=1.2, subsample=0.8; total time=  17.8s\n",
      "[CV] END colsample_bytree=0.7, max_depth=20, n_estimators=700, reg_alpha=1.3, reg_lambda=1.2, subsample=0.9; total time=  15.1s\n",
      "[CV] END colsample_bytree=0.7, max_depth=20, n_estimators=700, reg_alpha=1.3, reg_lambda=1.3, subsample=0.7; total time=  19.8s\n",
      "[CV] END colsample_bytree=0.7, max_depth=20, n_estimators=700, reg_alpha=1.3, reg_lambda=1.3, subsample=0.7; total time=  17.4s\n",
      "[CV] END colsample_bytree=0.7, max_depth=20, n_estimators=700, reg_alpha=1.3, reg_lambda=1.3, subsample=0.8; total time=  16.9s\n",
      "[CV] END colsample_bytree=0.7, max_depth=20, n_estimators=700, reg_alpha=1.3, reg_lambda=1.3, subsample=0.9; total time=  15.0s\n",
      "[CV] END colsample_bytree=0.8, max_depth=15, n_estimators=400, reg_alpha=1.1, reg_lambda=1.1, subsample=0.7; total time=  14.9s\n",
      "[CV] END colsample_bytree=0.8, max_depth=15, n_estimators=400, reg_alpha=1.1, reg_lambda=1.1, subsample=0.8; total time=  14.2s\n",
      "[CV] END colsample_bytree=0.8, max_depth=15, n_estimators=400, reg_alpha=1.1, reg_lambda=1.1, subsample=0.8; total time=  12.7s\n",
      "[CV] END colsample_bytree=0.8, max_depth=15, n_estimators=400, reg_alpha=1.1, reg_lambda=1.1, subsample=0.9; total time=  11.8s\n",
      "[CV] END colsample_bytree=0.8, max_depth=15, n_estimators=400, reg_alpha=1.1, reg_lambda=1.2, subsample=0.7; total time=  15.9s\n",
      "[CV] END colsample_bytree=0.8, max_depth=15, n_estimators=400, reg_alpha=1.1, reg_lambda=1.2, subsample=0.8; total time=  14.8s\n",
      "[CV] END colsample_bytree=0.8, max_depth=15, n_estimators=400, reg_alpha=1.1, reg_lambda=1.2, subsample=0.9; total time=  12.4s\n",
      "[CV] END colsample_bytree=0.8, max_depth=15, n_estimators=400, reg_alpha=1.1, reg_lambda=1.2, subsample=0.9; total time=  10.5s\n",
      "[CV] END colsample_bytree=0.8, max_depth=15, n_estimators=400, reg_alpha=1.1, reg_lambda=1.3, subsample=0.7; total time=  15.9s\n",
      "[CV] END colsample_bytree=0.8, max_depth=15, n_estimators=400, reg_alpha=1.1, reg_lambda=1.3, subsample=0.8; total time=  15.4s\n",
      "[CV] END colsample_bytree=0.8, max_depth=15, n_estimators=400, reg_alpha=1.1, reg_lambda=1.3, subsample=0.9; total time=  13.0s\n",
      "[CV] END colsample_bytree=0.8, max_depth=15, n_estimators=400, reg_alpha=1.2, reg_lambda=1.1, subsample=0.7; total time=  15.0s\n",
      "[CV] END colsample_bytree=0.8, max_depth=15, n_estimators=400, reg_alpha=1.2, reg_lambda=1.1, subsample=0.7; total time=  12.7s\n",
      "[CV] END colsample_bytree=0.8, max_depth=15, n_estimators=400, reg_alpha=1.2, reg_lambda=1.1, subsample=0.8; total time=  12.7s\n",
      "[CV] END colsample_bytree=0.8, max_depth=15, n_estimators=400, reg_alpha=1.2, reg_lambda=1.1, subsample=0.9; total time=  11.5s\n",
      "[CV] END colsample_bytree=0.8, max_depth=15, n_estimators=400, reg_alpha=1.2, reg_lambda=1.2, subsample=0.7; total time=  15.1s\n",
      "[CV] END colsample_bytree=0.8, max_depth=15, n_estimators=400, reg_alpha=1.2, reg_lambda=1.2, subsample=0.8; total time=  14.9s\n",
      "[CV] END colsample_bytree=0.8, max_depth=15, n_estimators=400, reg_alpha=1.2, reg_lambda=1.2, subsample=0.8; total time=  14.3s\n",
      "[CV] END colsample_bytree=0.8, max_depth=15, n_estimators=400, reg_alpha=1.2, reg_lambda=1.2, subsample=0.9; total time=  11.3s\n",
      "[CV] END colsample_bytree=0.8, max_depth=15, n_estimators=400, reg_alpha=1.2, reg_lambda=1.3, subsample=0.7; total time=  15.1s\n",
      "[CV] END colsample_bytree=0.8, max_depth=15, n_estimators=400, reg_alpha=1.2, reg_lambda=1.3, subsample=0.8; total time=  15.3s\n",
      "[CV] END colsample_bytree=0.8, max_depth=15, n_estimators=400, reg_alpha=1.2, reg_lambda=1.3, subsample=0.9; total time=  14.0s\n",
      "[CV] END colsample_bytree=0.8, max_depth=15, n_estimators=400, reg_alpha=1.2, reg_lambda=1.3, subsample=0.9; total time=  11.1s\n",
      "[CV] END colsample_bytree=0.8, max_depth=15, n_estimators=400, reg_alpha=1.3, reg_lambda=1.1, subsample=0.7; total time=  14.8s\n",
      "[CV] END colsample_bytree=0.8, max_depth=15, n_estimators=400, reg_alpha=1.3, reg_lambda=1.1, subsample=0.8; total time=  12.7s\n",
      "[CV] END colsample_bytree=0.8, max_depth=15, n_estimators=400, reg_alpha=1.3, reg_lambda=1.1, subsample=0.9; total time=  13.2s\n",
      "[CV] END colsample_bytree=0.8, max_depth=15, n_estimators=400, reg_alpha=1.3, reg_lambda=1.2, subsample=0.7; total time=  14.9s\n",
      "[CV] END colsample_bytree=0.8, max_depth=15, n_estimators=400, reg_alpha=1.3, reg_lambda=1.2, subsample=0.7; total time=  12.7s\n",
      "[CV] END colsample_bytree=0.8, max_depth=15, n_estimators=400, reg_alpha=1.3, reg_lambda=1.2, subsample=0.8; total time=  13.8s\n",
      "[CV] END colsample_bytree=0.8, max_depth=15, n_estimators=400, reg_alpha=1.3, reg_lambda=1.2, subsample=0.9; total time=  12.6s\n",
      "[CV] END colsample_bytree=0.8, max_depth=15, n_estimators=400, reg_alpha=1.3, reg_lambda=1.3, subsample=0.7; total time=  16.5s\n",
      "[CV] END colsample_bytree=0.8, max_depth=15, n_estimators=400, reg_alpha=1.3, reg_lambda=1.3, subsample=0.8; total time=  15.6s\n",
      "[CV] END colsample_bytree=0.8, max_depth=15, n_estimators=400, reg_alpha=1.3, reg_lambda=1.3, subsample=0.8; total time=  11.6s\n",
      "[CV] END colsample_bytree=0.8, max_depth=15, n_estimators=400, reg_alpha=1.3, reg_lambda=1.3, subsample=0.9; total time=  11.3s\n",
      "[CV] END colsample_bytree=0.8, max_depth=15, n_estimators=700, reg_alpha=1.1, reg_lambda=1.1, subsample=0.7; total time=  23.5s\n",
      "[CV] END colsample_bytree=0.8, max_depth=15, n_estimators=700, reg_alpha=1.1, reg_lambda=1.1, subsample=0.8; total time=  21.8s\n",
      "[CV] END colsample_bytree=0.8, max_depth=15, n_estimators=700, reg_alpha=1.1, reg_lambda=1.1, subsample=0.9; total time=  17.6s\n",
      "[CV] END colsample_bytree=0.8, max_depth=15, n_estimators=700, reg_alpha=1.1, reg_lambda=1.1, subsample=0.9; total time=  17.0s\n",
      "[CV] END colsample_bytree=0.8, max_depth=15, n_estimators=700, reg_alpha=1.1, reg_lambda=1.2, subsample=0.7; total time=  24.3s\n",
      "[CV] END colsample_bytree=0.8, max_depth=15, n_estimators=700, reg_alpha=1.1, reg_lambda=1.2, subsample=0.8; total time=  25.2s\n",
      "[CV] END colsample_bytree=0.8, max_depth=15, n_estimators=700, reg_alpha=1.1, reg_lambda=1.2, subsample=0.9; total time=  17.7s\n",
      "[CV] END colsample_bytree=0.8, max_depth=15, n_estimators=700, reg_alpha=1.1, reg_lambda=1.2, subsample=0.9; total time=  15.0s\n",
      "[CV] END colsample_bytree=0.8, max_depth=15, n_estimators=700, reg_alpha=1.1, reg_lambda=1.3, subsample=0.7; total time=  26.9s\n",
      "[CV] END colsample_bytree=0.8, max_depth=15, n_estimators=700, reg_alpha=1.1, reg_lambda=1.3, subsample=0.8; total time=  25.3s\n",
      "[CV] END colsample_bytree=0.8, max_depth=15, n_estimators=700, reg_alpha=1.1, reg_lambda=1.3, subsample=0.9; total time=  20.7s\n",
      "[CV] END colsample_bytree=0.8, max_depth=15, n_estimators=700, reg_alpha=1.1, reg_lambda=1.3, subsample=0.9; total time=  16.8s\n",
      "[CV] END colsample_bytree=0.8, max_depth=15, n_estimators=700, reg_alpha=1.2, reg_lambda=1.1, subsample=0.7; total time=  23.3s\n",
      "[CV] END colsample_bytree=0.8, max_depth=15, n_estimators=700, reg_alpha=1.2, reg_lambda=1.1, subsample=0.8; total time=  22.5s\n",
      "[CV] END colsample_bytree=0.8, max_depth=15, n_estimators=700, reg_alpha=1.2, reg_lambda=1.1, subsample=0.9; total time=  21.0s\n",
      "[CV] END colsample_bytree=0.8, max_depth=15, n_estimators=700, reg_alpha=1.2, reg_lambda=1.2, subsample=0.7; total time=  26.4s\n",
      "[CV] END colsample_bytree=0.8, max_depth=15, n_estimators=700, reg_alpha=1.2, reg_lambda=1.2, subsample=0.7; total time=  21.9s\n",
      "[CV] END colsample_bytree=0.8, max_depth=15, n_estimators=700, reg_alpha=1.2, reg_lambda=1.2, subsample=0.8; total time=  22.2s\n",
      "[CV] END colsample_bytree=0.8, max_depth=15, n_estimators=700, reg_alpha=1.2, reg_lambda=1.2, subsample=0.9; total time=  19.2s\n",
      "[CV] END colsample_bytree=0.8, max_depth=15, n_estimators=700, reg_alpha=1.2, reg_lambda=1.3, subsample=0.7; total time=  23.1s\n",
      "[CV] END colsample_bytree=0.8, max_depth=15, n_estimators=700, reg_alpha=1.2, reg_lambda=1.3, subsample=0.8; total time=  23.2s\n",
      "[CV] END colsample_bytree=0.8, max_depth=15, n_estimators=700, reg_alpha=1.2, reg_lambda=1.3, subsample=0.8; total time=  19.0s\n",
      "[CV] END colsample_bytree=0.8, max_depth=15, n_estimators=700, reg_alpha=1.2, reg_lambda=1.3, subsample=0.9; total time=  18.5s\n",
      "[CV] END colsample_bytree=0.8, max_depth=15, n_estimators=700, reg_alpha=1.3, reg_lambda=1.1, subsample=0.7; total time=  21.5s\n",
      "[CV] END colsample_bytree=0.8, max_depth=15, n_estimators=700, reg_alpha=1.3, reg_lambda=1.1, subsample=0.8; total time=  23.4s\n",
      "[CV] END colsample_bytree=0.8, max_depth=15, n_estimators=700, reg_alpha=1.3, reg_lambda=1.1, subsample=0.9; total time=  18.3s\n",
      "[CV] END colsample_bytree=0.8, max_depth=15, n_estimators=700, reg_alpha=1.3, reg_lambda=1.2, subsample=0.7; total time=  23.2s\n",
      "[CV] END colsample_bytree=0.8, max_depth=15, n_estimators=700, reg_alpha=1.3, reg_lambda=1.2, subsample=0.7; total time=  20.7s\n",
      "[CV] END colsample_bytree=0.8, max_depth=15, n_estimators=700, reg_alpha=1.3, reg_lambda=1.2, subsample=0.8; total time=  18.5s\n",
      "[CV] END colsample_bytree=0.8, max_depth=15, n_estimators=700, reg_alpha=1.3, reg_lambda=1.2, subsample=0.9; total time=  19.6s\n",
      "[CV] END colsample_bytree=0.8, max_depth=15, n_estimators=700, reg_alpha=1.3, reg_lambda=1.3, subsample=0.7; total time=  22.7s\n",
      "[CV] END colsample_bytree=0.8, max_depth=15, n_estimators=700, reg_alpha=1.3, reg_lambda=1.3, subsample=0.8; total time=  21.2s\n",
      "[CV] END colsample_bytree=0.8, max_depth=15, n_estimators=700, reg_alpha=1.3, reg_lambda=1.3, subsample=0.8; total time=  17.2s\n",
      "[CV] END colsample_bytree=0.8, max_depth=15, n_estimators=700, reg_alpha=1.3, reg_lambda=1.3, subsample=0.9; total time=  16.2s\n",
      "[CV] END colsample_bytree=0.8, max_depth=20, n_estimators=400, reg_alpha=1.1, reg_lambda=1.1, subsample=0.7; total time=  15.7s\n",
      "[CV] END colsample_bytree=0.8, max_depth=20, n_estimators=400, reg_alpha=1.1, reg_lambda=1.1, subsample=0.8; total time=  14.0s\n",
      "[CV] END colsample_bytree=0.8, max_depth=20, n_estimators=400, reg_alpha=1.1, reg_lambda=1.1, subsample=0.9; total time=  12.7s\n",
      "[CV] END colsample_bytree=0.8, max_depth=20, n_estimators=400, reg_alpha=1.1, reg_lambda=1.2, subsample=0.7; total time=  15.8s\n",
      "[CV] END colsample_bytree=0.8, max_depth=20, n_estimators=400, reg_alpha=1.1, reg_lambda=1.2, subsample=0.7; total time=  14.6s\n",
      "[CV] END colsample_bytree=0.8, max_depth=20, n_estimators=400, reg_alpha=1.1, reg_lambda=1.2, subsample=0.8; total time=  14.4s\n",
      "[CV] END colsample_bytree=0.8, max_depth=20, n_estimators=400, reg_alpha=1.1, reg_lambda=1.2, subsample=0.9; total time=  13.0s\n",
      "[CV] END colsample_bytree=0.8, max_depth=20, n_estimators=400, reg_alpha=1.1, reg_lambda=1.3, subsample=0.7; total time=  16.5s\n",
      "[CV] END colsample_bytree=0.8, max_depth=20, n_estimators=400, reg_alpha=1.1, reg_lambda=1.3, subsample=0.8; total time=  15.8s\n",
      "[CV] END colsample_bytree=0.8, max_depth=20, n_estimators=400, reg_alpha=1.1, reg_lambda=1.3, subsample=0.8; total time=  14.1s\n",
      "[CV] END colsample_bytree=0.8, max_depth=20, n_estimators=400, reg_alpha=1.1, reg_lambda=1.3, subsample=0.9; total time=  12.0s\n",
      "[CV] END colsample_bytree=0.8, max_depth=20, n_estimators=400, reg_alpha=1.2, reg_lambda=1.1, subsample=0.7; total time=  14.9s\n",
      "[CV] END colsample_bytree=0.8, max_depth=20, n_estimators=400, reg_alpha=1.2, reg_lambda=1.1, subsample=0.8; total time=  15.5s\n",
      "[CV] END colsample_bytree=0.8, max_depth=20, n_estimators=400, reg_alpha=1.2, reg_lambda=1.1, subsample=0.9; total time=  12.4s\n",
      "[CV] END colsample_bytree=0.8, max_depth=20, n_estimators=400, reg_alpha=1.2, reg_lambda=1.1, subsample=0.9; total time=  13.6s\n",
      "[CV] END colsample_bytree=0.8, max_depth=20, n_estimators=400, reg_alpha=1.2, reg_lambda=1.2, subsample=0.7; total time=  15.7s\n",
      "[CV] END colsample_bytree=0.8, max_depth=20, n_estimators=400, reg_alpha=1.2, reg_lambda=1.2, subsample=0.8; total time=  14.6s\n",
      "[CV] END colsample_bytree=0.8, max_depth=20, n_estimators=400, reg_alpha=1.2, reg_lambda=1.2, subsample=0.9; total time=  12.2s\n",
      "[CV] END colsample_bytree=0.8, max_depth=20, n_estimators=400, reg_alpha=1.2, reg_lambda=1.3, subsample=0.7; total time=  15.5s\n",
      "[CV] END colsample_bytree=0.8, max_depth=20, n_estimators=400, reg_alpha=1.2, reg_lambda=1.3, subsample=0.7; total time=  12.8s\n",
      "[CV] END colsample_bytree=0.8, max_depth=20, n_estimators=400, reg_alpha=1.2, reg_lambda=1.3, subsample=0.8; total time=  12.9s\n",
      "[CV] END colsample_bytree=0.8, max_depth=20, n_estimators=400, reg_alpha=1.2, reg_lambda=1.3, subsample=0.9; total time=  11.5s\n",
      "[CV] END colsample_bytree=0.8, max_depth=20, n_estimators=400, reg_alpha=1.3, reg_lambda=1.1, subsample=0.7; total time=  13.8s\n",
      "[CV] END colsample_bytree=0.8, max_depth=20, n_estimators=400, reg_alpha=1.3, reg_lambda=1.1, subsample=0.8; total time=  17.0s\n",
      "[CV] END colsample_bytree=0.8, max_depth=20, n_estimators=400, reg_alpha=1.3, reg_lambda=1.1, subsample=0.8; total time=  12.3s\n",
      "[CV] END colsample_bytree=0.8, max_depth=20, n_estimators=400, reg_alpha=1.3, reg_lambda=1.1, subsample=0.9; total time=  19.4s\n",
      "[CV] END colsample_bytree=0.8, max_depth=20, n_estimators=400, reg_alpha=1.3, reg_lambda=1.2, subsample=0.7; total time=  17.8s\n",
      "[CV] END colsample_bytree=0.8, max_depth=20, n_estimators=400, reg_alpha=1.3, reg_lambda=1.2, subsample=0.8; total time=  14.7s\n",
      "[CV] END colsample_bytree=0.8, max_depth=20, n_estimators=400, reg_alpha=1.3, reg_lambda=1.2, subsample=0.9; total time=  13.1s\n",
      "[CV] END colsample_bytree=0.8, max_depth=20, n_estimators=400, reg_alpha=1.3, reg_lambda=1.2, subsample=0.9; total time=  10.6s\n",
      "[CV] END colsample_bytree=0.8, max_depth=20, n_estimators=400, reg_alpha=1.3, reg_lambda=1.3, subsample=0.7; total time=  14.6s\n",
      "[CV] END colsample_bytree=0.8, max_depth=20, n_estimators=400, reg_alpha=1.3, reg_lambda=1.3, subsample=0.8; total time=  15.3s\n",
      "[CV] END colsample_bytree=0.8, max_depth=20, n_estimators=400, reg_alpha=1.3, reg_lambda=1.3, subsample=0.9; total time=  13.3s\n",
      "[CV] END colsample_bytree=0.8, max_depth=20, n_estimators=700, reg_alpha=1.1, reg_lambda=1.1, subsample=0.7; total time=  28.1s\n",
      "[CV] END colsample_bytree=0.8, max_depth=20, n_estimators=700, reg_alpha=1.1, reg_lambda=1.1, subsample=0.7; total time=  24.0s\n",
      "[CV] END colsample_bytree=0.8, max_depth=20, n_estimators=700, reg_alpha=1.1, reg_lambda=1.1, subsample=0.8; total time=  26.1s\n",
      "[CV] END colsample_bytree=0.8, max_depth=20, n_estimators=700, reg_alpha=1.1, reg_lambda=1.1, subsample=0.9; total time=  20.9s\n",
      "[CV] END colsample_bytree=0.8, max_depth=20, n_estimators=700, reg_alpha=1.1, reg_lambda=1.2, subsample=0.7; total time=  28.3s\n",
      "[CV] END colsample_bytree=0.8, max_depth=20, n_estimators=700, reg_alpha=1.1, reg_lambda=1.2, subsample=0.8; total time=  25.4s\n",
      "[CV] END colsample_bytree=0.8, max_depth=20, n_estimators=700, reg_alpha=1.1, reg_lambda=1.2, subsample=0.9; total time=  20.9s\n",
      "[CV] END colsample_bytree=0.8, max_depth=20, n_estimators=700, reg_alpha=1.1, reg_lambda=1.3, subsample=0.7; total time=  28.8s\n",
      "[CV] END colsample_bytree=0.8, max_depth=20, n_estimators=700, reg_alpha=1.1, reg_lambda=1.3, subsample=0.7; total time=  24.6s\n",
      "[CV] END colsample_bytree=0.8, max_depth=20, n_estimators=700, reg_alpha=1.1, reg_lambda=1.3, subsample=0.8; total time=  22.3s\n",
      "[CV] END colsample_bytree=0.8, max_depth=20, n_estimators=700, reg_alpha=1.1, reg_lambda=1.3, subsample=0.9; total time=  19.7s\n",
      "[CV] END colsample_bytree=0.8, max_depth=20, n_estimators=700, reg_alpha=1.2, reg_lambda=1.1, subsample=0.7; total time=  23.4s\n",
      "[CV] END colsample_bytree=0.8, max_depth=20, n_estimators=700, reg_alpha=1.2, reg_lambda=1.1, subsample=0.8; total time=  25.4s\n",
      "[CV] END colsample_bytree=0.8, max_depth=20, n_estimators=700, reg_alpha=1.2, reg_lambda=1.1, subsample=0.8; total time=  18.5s\n",
      "[CV] END colsample_bytree=0.8, max_depth=20, n_estimators=700, reg_alpha=1.2, reg_lambda=1.1, subsample=0.9; total time=  17.9s\n",
      "[CV] END colsample_bytree=0.8, max_depth=20, n_estimators=700, reg_alpha=1.2, reg_lambda=1.2, subsample=0.7; total time=  24.0s\n",
      "[CV] END colsample_bytree=0.8, max_depth=20, n_estimators=700, reg_alpha=1.2, reg_lambda=1.2, subsample=0.8; total time=  23.2s\n",
      "[CV] END colsample_bytree=0.8, max_depth=20, n_estimators=700, reg_alpha=1.2, reg_lambda=1.2, subsample=0.9; total time=  19.2s\n",
      "[CV] END colsample_bytree=0.8, max_depth=20, n_estimators=700, reg_alpha=1.2, reg_lambda=1.2, subsample=0.9; total time=  15.8s\n",
      "[CV] END colsample_bytree=0.8, max_depth=20, n_estimators=700, reg_alpha=1.2, reg_lambda=1.3, subsample=0.7; total time=  27.0s\n",
      "[CV] END colsample_bytree=0.8, max_depth=20, n_estimators=700, reg_alpha=1.2, reg_lambda=1.3, subsample=0.8; total time=  21.9s\n",
      "[CV] END colsample_bytree=0.8, max_depth=20, n_estimators=700, reg_alpha=1.2, reg_lambda=1.3, subsample=0.9; total time=  18.8s\n",
      "[CV] END colsample_bytree=0.8, max_depth=20, n_estimators=700, reg_alpha=1.2, reg_lambda=1.3, subsample=0.9; total time=  16.2s\n",
      "[CV] END colsample_bytree=0.8, max_depth=20, n_estimators=700, reg_alpha=1.3, reg_lambda=1.1, subsample=0.7; total time=  20.1s\n",
      "[CV] END colsample_bytree=0.8, max_depth=20, n_estimators=700, reg_alpha=1.3, reg_lambda=1.1, subsample=0.8; total time=  20.3s\n",
      "[CV] END colsample_bytree=0.8, max_depth=20, n_estimators=700, reg_alpha=1.3, reg_lambda=1.1, subsample=0.9; total time=  16.4s\n",
      "[CV] END colsample_bytree=0.8, max_depth=20, n_estimators=700, reg_alpha=1.3, reg_lambda=1.1, subsample=0.9; total time=  14.8s\n",
      "[CV] END colsample_bytree=0.8, max_depth=20, n_estimators=700, reg_alpha=1.3, reg_lambda=1.2, subsample=0.7; total time=  21.0s\n",
      "[CV] END colsample_bytree=0.8, max_depth=20, n_estimators=700, reg_alpha=1.3, reg_lambda=1.2, subsample=0.8; total time=  20.9s\n",
      "[CV] END colsample_bytree=0.8, max_depth=20, n_estimators=700, reg_alpha=1.3, reg_lambda=1.2, subsample=0.9; total time=  19.2s\n",
      "[CV] END colsample_bytree=0.8, max_depth=20, n_estimators=700, reg_alpha=1.3, reg_lambda=1.3, subsample=0.7; total time=  22.6s\n",
      "[CV] END colsample_bytree=0.8, max_depth=20, n_estimators=700, reg_alpha=1.3, reg_lambda=1.3, subsample=0.7; total time=  18.2s\n",
      "[CV] END colsample_bytree=0.8, max_depth=20, n_estimators=700, reg_alpha=1.3, reg_lambda=1.3, subsample=0.8; total time=  19.4s\n",
      "[CV] END colsample_bytree=0.8, max_depth=20, n_estimators=700, reg_alpha=1.3, reg_lambda=1.3, subsample=0.9; total time=  15.5s\n"
     ]
    },
    {
     "name": "stdout",
     "output_type": "stream",
     "text": [
      "[CV] END colsample_bytree=0.7, max_depth=20, n_estimators=700, reg_alpha=1.3, reg_lambda=1.2, subsample=0.8; total time=  18.4s\n",
      "[CV] END colsample_bytree=0.7, max_depth=20, n_estimators=700, reg_alpha=1.3, reg_lambda=1.2, subsample=0.9; total time=  15.2s\n",
      "[CV] END colsample_bytree=0.7, max_depth=20, n_estimators=700, reg_alpha=1.3, reg_lambda=1.2, subsample=0.9; total time=  13.2s\n",
      "[CV] END colsample_bytree=0.7, max_depth=20, n_estimators=700, reg_alpha=1.3, reg_lambda=1.3, subsample=0.7; total time=  19.3s\n",
      "[CV] END colsample_bytree=0.7, max_depth=20, n_estimators=700, reg_alpha=1.3, reg_lambda=1.3, subsample=0.8; total time=  17.9s\n",
      "[CV] END colsample_bytree=0.7, max_depth=20, n_estimators=700, reg_alpha=1.3, reg_lambda=1.3, subsample=0.9; total time=  15.3s\n",
      "[CV] END colsample_bytree=0.8, max_depth=15, n_estimators=400, reg_alpha=1.1, reg_lambda=1.1, subsample=0.7; total time=  16.2s\n",
      "[CV] END colsample_bytree=0.8, max_depth=15, n_estimators=400, reg_alpha=1.1, reg_lambda=1.1, subsample=0.7; total time=  13.0s\n",
      "[CV] END colsample_bytree=0.8, max_depth=15, n_estimators=400, reg_alpha=1.1, reg_lambda=1.1, subsample=0.8; total time=  14.1s\n",
      "[CV] END colsample_bytree=0.8, max_depth=15, n_estimators=400, reg_alpha=1.1, reg_lambda=1.1, subsample=0.9; total time=  11.5s\n",
      "[CV] END colsample_bytree=0.8, max_depth=15, n_estimators=400, reg_alpha=1.1, reg_lambda=1.2, subsample=0.7; total time=  15.4s\n",
      "[CV] END colsample_bytree=0.8, max_depth=15, n_estimators=400, reg_alpha=1.1, reg_lambda=1.2, subsample=0.8; total time=  14.5s\n",
      "[CV] END colsample_bytree=0.8, max_depth=15, n_estimators=400, reg_alpha=1.1, reg_lambda=1.2, subsample=0.8; total time=  12.8s\n",
      "[CV] END colsample_bytree=0.8, max_depth=15, n_estimators=400, reg_alpha=1.1, reg_lambda=1.2, subsample=0.9; total time=  11.7s\n",
      "[CV] END colsample_bytree=0.8, max_depth=15, n_estimators=400, reg_alpha=1.1, reg_lambda=1.3, subsample=0.7; total time=  15.4s\n",
      "[CV] END colsample_bytree=0.8, max_depth=15, n_estimators=400, reg_alpha=1.1, reg_lambda=1.3, subsample=0.8; total time=  16.5s\n",
      "[CV] END colsample_bytree=0.8, max_depth=15, n_estimators=400, reg_alpha=1.1, reg_lambda=1.3, subsample=0.9; total time=  12.9s\n",
      "[CV] END colsample_bytree=0.8, max_depth=15, n_estimators=400, reg_alpha=1.1, reg_lambda=1.3, subsample=0.9; total time=  10.5s\n",
      "[CV] END colsample_bytree=0.8, max_depth=15, n_estimators=400, reg_alpha=1.2, reg_lambda=1.1, subsample=0.7; total time=  14.2s\n",
      "[CV] END colsample_bytree=0.8, max_depth=15, n_estimators=400, reg_alpha=1.2, reg_lambda=1.1, subsample=0.8; total time=  13.6s\n",
      "[CV] END colsample_bytree=0.8, max_depth=15, n_estimators=400, reg_alpha=1.2, reg_lambda=1.1, subsample=0.9; total time=  11.6s\n",
      "[CV] END colsample_bytree=0.8, max_depth=15, n_estimators=400, reg_alpha=1.2, reg_lambda=1.1, subsample=0.9; total time=  10.0s\n",
      "[CV] END colsample_bytree=0.8, max_depth=15, n_estimators=400, reg_alpha=1.2, reg_lambda=1.2, subsample=0.7; total time=  15.7s\n",
      "[CV] END colsample_bytree=0.8, max_depth=15, n_estimators=400, reg_alpha=1.2, reg_lambda=1.2, subsample=0.8; total time=  14.8s\n",
      "[CV] END colsample_bytree=0.8, max_depth=15, n_estimators=400, reg_alpha=1.2, reg_lambda=1.2, subsample=0.9; total time=  14.5s\n",
      "[CV] END colsample_bytree=0.8, max_depth=15, n_estimators=400, reg_alpha=1.2, reg_lambda=1.3, subsample=0.7; total time=  15.1s\n",
      "[CV] END colsample_bytree=0.8, max_depth=15, n_estimators=400, reg_alpha=1.2, reg_lambda=1.3, subsample=0.7; total time=  13.1s\n",
      "[CV] END colsample_bytree=0.8, max_depth=15, n_estimators=400, reg_alpha=1.2, reg_lambda=1.3, subsample=0.8; total time=  14.7s\n",
      "[CV] END colsample_bytree=0.8, max_depth=15, n_estimators=400, reg_alpha=1.2, reg_lambda=1.3, subsample=0.9; total time=  13.1s\n",
      "[CV] END colsample_bytree=0.8, max_depth=15, n_estimators=400, reg_alpha=1.3, reg_lambda=1.1, subsample=0.7; total time=  14.8s\n",
      "[CV] END colsample_bytree=0.8, max_depth=15, n_estimators=400, reg_alpha=1.3, reg_lambda=1.1, subsample=0.8; total time=  13.0s\n",
      "[CV] END colsample_bytree=0.8, max_depth=15, n_estimators=400, reg_alpha=1.3, reg_lambda=1.1, subsample=0.8; total time=  11.7s\n",
      "[CV] END colsample_bytree=0.8, max_depth=15, n_estimators=400, reg_alpha=1.3, reg_lambda=1.1, subsample=0.9; total time=  12.3s\n",
      "[CV] END colsample_bytree=0.8, max_depth=15, n_estimators=400, reg_alpha=1.3, reg_lambda=1.2, subsample=0.7; total time=  14.7s\n",
      "[CV] END colsample_bytree=0.8, max_depth=15, n_estimators=400, reg_alpha=1.3, reg_lambda=1.2, subsample=0.8; total time=  14.3s\n",
      "[CV] END colsample_bytree=0.8, max_depth=15, n_estimators=400, reg_alpha=1.3, reg_lambda=1.2, subsample=0.9; total time=  14.6s\n",
      "[CV] END colsample_bytree=0.8, max_depth=15, n_estimators=400, reg_alpha=1.3, reg_lambda=1.2, subsample=0.9; total time=  11.6s\n",
      "[CV] END colsample_bytree=0.8, max_depth=15, n_estimators=400, reg_alpha=1.3, reg_lambda=1.3, subsample=0.7; total time=  15.4s\n",
      "[CV] END colsample_bytree=0.8, max_depth=15, n_estimators=400, reg_alpha=1.3, reg_lambda=1.3, subsample=0.8; total time=  14.8s\n",
      "[CV] END colsample_bytree=0.8, max_depth=15, n_estimators=400, reg_alpha=1.3, reg_lambda=1.3, subsample=0.9; total time=  12.8s\n",
      "[CV] END colsample_bytree=0.8, max_depth=15, n_estimators=700, reg_alpha=1.1, reg_lambda=1.1, subsample=0.7; total time=  25.2s\n",
      "[CV] END colsample_bytree=0.8, max_depth=15, n_estimators=700, reg_alpha=1.1, reg_lambda=1.1, subsample=0.7; total time=  20.1s\n",
      "[CV] END colsample_bytree=0.8, max_depth=15, n_estimators=700, reg_alpha=1.1, reg_lambda=1.1, subsample=0.8; total time=  21.0s\n",
      "[CV] END colsample_bytree=0.8, max_depth=15, n_estimators=700, reg_alpha=1.1, reg_lambda=1.1, subsample=0.9; total time=  17.0s\n",
      "[CV] END colsample_bytree=0.8, max_depth=15, n_estimators=700, reg_alpha=1.1, reg_lambda=1.2, subsample=0.7; total time=  24.1s\n",
      "[CV] END colsample_bytree=0.8, max_depth=15, n_estimators=700, reg_alpha=1.1, reg_lambda=1.2, subsample=0.8; total time=  25.8s\n",
      "[CV] END colsample_bytree=0.8, max_depth=15, n_estimators=700, reg_alpha=1.1, reg_lambda=1.2, subsample=0.9; total time=  18.1s\n",
      "[CV] END colsample_bytree=0.8, max_depth=15, n_estimators=700, reg_alpha=1.1, reg_lambda=1.3, subsample=0.7; total time=  27.3s\n",
      "[CV] END colsample_bytree=0.8, max_depth=15, n_estimators=700, reg_alpha=1.1, reg_lambda=1.3, subsample=0.7; total time=  23.6s\n",
      "[CV] END colsample_bytree=0.8, max_depth=15, n_estimators=700, reg_alpha=1.1, reg_lambda=1.3, subsample=0.8; total time=  22.6s\n",
      "[CV] END colsample_bytree=0.8, max_depth=15, n_estimators=700, reg_alpha=1.1, reg_lambda=1.3, subsample=0.9; total time=  20.1s\n",
      "[CV] END colsample_bytree=0.8, max_depth=15, n_estimators=700, reg_alpha=1.2, reg_lambda=1.1, subsample=0.7; total time=  25.6s\n",
      "[CV] END colsample_bytree=0.8, max_depth=15, n_estimators=700, reg_alpha=1.2, reg_lambda=1.1, subsample=0.8; total time=  21.2s\n",
      "[CV] END colsample_bytree=0.8, max_depth=15, n_estimators=700, reg_alpha=1.2, reg_lambda=1.1, subsample=0.8; total time=  21.2s\n",
      "[CV] END colsample_bytree=0.8, max_depth=15, n_estimators=700, reg_alpha=1.2, reg_lambda=1.1, subsample=0.9; total time=  19.0s\n",
      "[CV] END colsample_bytree=0.8, max_depth=15, n_estimators=700, reg_alpha=1.2, reg_lambda=1.2, subsample=0.7; total time=  25.4s\n",
      "[CV] END colsample_bytree=0.8, max_depth=15, n_estimators=700, reg_alpha=1.2, reg_lambda=1.2, subsample=0.8; total time=  23.6s\n",
      "[CV] END colsample_bytree=0.8, max_depth=15, n_estimators=700, reg_alpha=1.2, reg_lambda=1.2, subsample=0.9; total time=  20.0s\n",
      "[CV] END colsample_bytree=0.8, max_depth=15, n_estimators=700, reg_alpha=1.2, reg_lambda=1.2, subsample=0.9; total time=  15.9s\n",
      "[CV] END colsample_bytree=0.8, max_depth=15, n_estimators=700, reg_alpha=1.2, reg_lambda=1.3, subsample=0.7; total time=  23.8s\n",
      "[CV] END colsample_bytree=0.8, max_depth=15, n_estimators=700, reg_alpha=1.2, reg_lambda=1.3, subsample=0.8; total time=  22.6s\n",
      "[CV] END colsample_bytree=0.8, max_depth=15, n_estimators=700, reg_alpha=1.2, reg_lambda=1.3, subsample=0.9; total time=  18.8s\n",
      "[CV] END colsample_bytree=0.8, max_depth=15, n_estimators=700, reg_alpha=1.3, reg_lambda=1.1, subsample=0.7; total time=  21.1s\n",
      "[CV] END colsample_bytree=0.8, max_depth=15, n_estimators=700, reg_alpha=1.3, reg_lambda=1.1, subsample=0.7; total time=  19.8s\n",
      "[CV] END colsample_bytree=0.8, max_depth=15, n_estimators=700, reg_alpha=1.3, reg_lambda=1.1, subsample=0.8; total time=  21.1s\n",
      "[CV] END colsample_bytree=0.8, max_depth=15, n_estimators=700, reg_alpha=1.3, reg_lambda=1.1, subsample=0.9; total time=  17.9s\n",
      "[CV] END colsample_bytree=0.8, max_depth=15, n_estimators=700, reg_alpha=1.3, reg_lambda=1.2, subsample=0.7; total time=  22.2s\n",
      "[CV] END colsample_bytree=0.8, max_depth=15, n_estimators=700, reg_alpha=1.3, reg_lambda=1.2, subsample=0.8; total time=  21.0s\n",
      "[CV] END colsample_bytree=0.8, max_depth=15, n_estimators=700, reg_alpha=1.3, reg_lambda=1.2, subsample=0.8; total time=  17.5s\n",
      "[CV] END colsample_bytree=0.8, max_depth=15, n_estimators=700, reg_alpha=1.3, reg_lambda=1.2, subsample=0.9; total time=  19.2s\n",
      "[CV] END colsample_bytree=0.8, max_depth=15, n_estimators=700, reg_alpha=1.3, reg_lambda=1.3, subsample=0.7; total time=  22.0s\n",
      "[CV] END colsample_bytree=0.8, max_depth=15, n_estimators=700, reg_alpha=1.3, reg_lambda=1.3, subsample=0.8; total time=  22.4s\n",
      "[CV] END colsample_bytree=0.8, max_depth=15, n_estimators=700, reg_alpha=1.3, reg_lambda=1.3, subsample=0.9; total time=  16.7s\n",
      "[CV] END colsample_bytree=0.8, max_depth=15, n_estimators=700, reg_alpha=1.3, reg_lambda=1.3, subsample=0.9; total time=  14.0s\n",
      "[CV] END colsample_bytree=0.8, max_depth=20, n_estimators=400, reg_alpha=1.1, reg_lambda=1.1, subsample=0.7; total time=  15.2s\n",
      "[CV] END colsample_bytree=0.8, max_depth=20, n_estimators=400, reg_alpha=1.1, reg_lambda=1.1, subsample=0.8; total time=  14.8s\n",
      "[CV] END colsample_bytree=0.8, max_depth=20, n_estimators=400, reg_alpha=1.1, reg_lambda=1.1, subsample=0.9; total time=  12.6s\n",
      "[CV] END colsample_bytree=0.8, max_depth=20, n_estimators=400, reg_alpha=1.1, reg_lambda=1.1, subsample=0.9; total time=   9.7s\n",
      "[CV] END colsample_bytree=0.8, max_depth=20, n_estimators=400, reg_alpha=1.1, reg_lambda=1.2, subsample=0.7; total time=  15.4s\n",
      "[CV] END colsample_bytree=0.8, max_depth=20, n_estimators=400, reg_alpha=1.1, reg_lambda=1.2, subsample=0.8; total time=  15.7s\n",
      "[CV] END colsample_bytree=0.8, max_depth=20, n_estimators=400, reg_alpha=1.1, reg_lambda=1.2, subsample=0.9; total time=  14.2s\n",
      "[CV] END colsample_bytree=0.8, max_depth=20, n_estimators=400, reg_alpha=1.1, reg_lambda=1.3, subsample=0.7; total time=  17.4s\n",
      "[CV] END colsample_bytree=0.8, max_depth=20, n_estimators=400, reg_alpha=1.1, reg_lambda=1.3, subsample=0.7; total time=  14.8s\n",
      "[CV] END colsample_bytree=0.8, max_depth=20, n_estimators=400, reg_alpha=1.1, reg_lambda=1.3, subsample=0.8; total time=  15.2s\n",
      "[CV] END colsample_bytree=0.8, max_depth=20, n_estimators=400, reg_alpha=1.1, reg_lambda=1.3, subsample=0.9; total time=  12.0s\n",
      "[CV] END colsample_bytree=0.8, max_depth=20, n_estimators=400, reg_alpha=1.2, reg_lambda=1.1, subsample=0.7; total time=  14.9s\n",
      "[CV] END colsample_bytree=0.8, max_depth=20, n_estimators=400, reg_alpha=1.2, reg_lambda=1.1, subsample=0.8; total time=  14.8s\n",
      "[CV] END colsample_bytree=0.8, max_depth=20, n_estimators=400, reg_alpha=1.2, reg_lambda=1.1, subsample=0.8; total time=  11.7s\n",
      "[CV] END colsample_bytree=0.8, max_depth=20, n_estimators=400, reg_alpha=1.2, reg_lambda=1.1, subsample=0.9; total time=  15.0s\n",
      "[CV] END colsample_bytree=0.8, max_depth=20, n_estimators=400, reg_alpha=1.2, reg_lambda=1.2, subsample=0.7; total time=  15.6s\n",
      "[CV] END colsample_bytree=0.8, max_depth=20, n_estimators=400, reg_alpha=1.2, reg_lambda=1.2, subsample=0.8; total time=  15.3s\n",
      "[CV] END colsample_bytree=0.8, max_depth=20, n_estimators=400, reg_alpha=1.2, reg_lambda=1.2, subsample=0.9; total time=  12.2s\n",
      "[CV] END colsample_bytree=0.8, max_depth=20, n_estimators=400, reg_alpha=1.2, reg_lambda=1.2, subsample=0.9; total time=  11.1s\n",
      "[CV] END colsample_bytree=0.8, max_depth=20, n_estimators=400, reg_alpha=1.2, reg_lambda=1.3, subsample=0.7; total time=  14.1s\n",
      "[CV] END colsample_bytree=0.8, max_depth=20, n_estimators=400, reg_alpha=1.2, reg_lambda=1.3, subsample=0.8; total time=  13.8s\n",
      "[CV] END colsample_bytree=0.8, max_depth=20, n_estimators=400, reg_alpha=1.2, reg_lambda=1.3, subsample=0.9; total time=  12.8s\n",
      "[CV] END colsample_bytree=0.8, max_depth=20, n_estimators=400, reg_alpha=1.3, reg_lambda=1.1, subsample=0.7; total time=  14.2s\n",
      "[CV] END colsample_bytree=0.8, max_depth=20, n_estimators=400, reg_alpha=1.3, reg_lambda=1.1, subsample=0.7; total time=  14.1s\n",
      "[CV] END colsample_bytree=0.8, max_depth=20, n_estimators=400, reg_alpha=1.3, reg_lambda=1.1, subsample=0.8; total time=  14.6s\n",
      "[CV] END colsample_bytree=0.8, max_depth=20, n_estimators=400, reg_alpha=1.3, reg_lambda=1.1, subsample=0.9; total time=  19.5s\n",
      "[CV] END colsample_bytree=0.8, max_depth=20, n_estimators=400, reg_alpha=1.3, reg_lambda=1.2, subsample=0.7; total time=  17.6s\n",
      "[CV] END colsample_bytree=0.8, max_depth=20, n_estimators=400, reg_alpha=1.3, reg_lambda=1.2, subsample=0.8; total time=  14.6s\n",
      "[CV] END colsample_bytree=0.8, max_depth=20, n_estimators=400, reg_alpha=1.3, reg_lambda=1.2, subsample=0.8; total time=  12.4s\n",
      "[CV] END colsample_bytree=0.8, max_depth=20, n_estimators=400, reg_alpha=1.3, reg_lambda=1.2, subsample=0.9; total time=  11.8s\n",
      "[CV] END colsample_bytree=0.8, max_depth=20, n_estimators=400, reg_alpha=1.3, reg_lambda=1.3, subsample=0.7; total time=  15.5s\n",
      "[CV] END colsample_bytree=0.8, max_depth=20, n_estimators=400, reg_alpha=1.3, reg_lambda=1.3, subsample=0.8; total time=  16.0s\n",
      "[CV] END colsample_bytree=0.8, max_depth=20, n_estimators=400, reg_alpha=1.3, reg_lambda=1.3, subsample=0.9; total time=  12.0s\n",
      "[CV] END colsample_bytree=0.8, max_depth=20, n_estimators=400, reg_alpha=1.3, reg_lambda=1.3, subsample=0.9; total time=  11.0s\n",
      "[CV] END colsample_bytree=0.8, max_depth=20, n_estimators=700, reg_alpha=1.1, reg_lambda=1.1, subsample=0.7; total time=  27.8s\n",
      "[CV] END colsample_bytree=0.8, max_depth=20, n_estimators=700, reg_alpha=1.1, reg_lambda=1.1, subsample=0.8; total time=  25.7s\n",
      "[CV] END colsample_bytree=0.8, max_depth=20, n_estimators=700, reg_alpha=1.1, reg_lambda=1.1, subsample=0.9; total time=  21.5s\n",
      "[CV] END colsample_bytree=0.8, max_depth=20, n_estimators=700, reg_alpha=1.1, reg_lambda=1.2, subsample=0.7; total time=  31.1s\n",
      "[CV] END colsample_bytree=0.8, max_depth=20, n_estimators=700, reg_alpha=1.1, reg_lambda=1.2, subsample=0.7; total time=  23.9s\n",
      "[CV] END colsample_bytree=0.8, max_depth=20, n_estimators=700, reg_alpha=1.1, reg_lambda=1.2, subsample=0.8; total time=  25.0s\n",
      "[CV] END colsample_bytree=0.8, max_depth=20, n_estimators=700, reg_alpha=1.1, reg_lambda=1.2, subsample=0.9; total time=  19.2s\n",
      "[CV] END colsample_bytree=0.8, max_depth=20, n_estimators=700, reg_alpha=1.1, reg_lambda=1.3, subsample=0.7; total time=  27.3s\n",
      "[CV] END colsample_bytree=0.8, max_depth=20, n_estimators=700, reg_alpha=1.1, reg_lambda=1.3, subsample=0.8; total time=  26.2s\n",
      "[CV] END colsample_bytree=0.8, max_depth=20, n_estimators=700, reg_alpha=1.1, reg_lambda=1.3, subsample=0.8; total time=  20.7s\n",
      "[CV] END colsample_bytree=0.8, max_depth=20, n_estimators=700, reg_alpha=1.1, reg_lambda=1.3, subsample=0.9; total time=  19.5s\n",
      "[CV] END colsample_bytree=0.8, max_depth=20, n_estimators=700, reg_alpha=1.2, reg_lambda=1.1, subsample=0.7; total time=  25.5s\n",
      "[CV] END colsample_bytree=0.8, max_depth=20, n_estimators=700, reg_alpha=1.2, reg_lambda=1.1, subsample=0.8; total time=  23.3s\n",
      "[CV] END colsample_bytree=0.8, max_depth=20, n_estimators=700, reg_alpha=1.2, reg_lambda=1.1, subsample=0.9; total time=  18.7s\n",
      "[CV] END colsample_bytree=0.8, max_depth=20, n_estimators=700, reg_alpha=1.2, reg_lambda=1.2, subsample=0.7; total time=  24.5s\n",
      "[CV] END colsample_bytree=0.8, max_depth=20, n_estimators=700, reg_alpha=1.2, reg_lambda=1.2, subsample=0.7; total time=  22.5s\n",
      "[CV] END colsample_bytree=0.8, max_depth=20, n_estimators=700, reg_alpha=1.2, reg_lambda=1.2, subsample=0.8; total time=  21.7s\n",
      "[CV] END colsample_bytree=0.8, max_depth=20, n_estimators=700, reg_alpha=1.2, reg_lambda=1.2, subsample=0.9; total time=  19.7s\n",
      "[CV] END colsample_bytree=0.8, max_depth=20, n_estimators=700, reg_alpha=1.2, reg_lambda=1.3, subsample=0.7; total time=  26.0s\n",
      "[CV] END colsample_bytree=0.8, max_depth=20, n_estimators=700, reg_alpha=1.2, reg_lambda=1.3, subsample=0.8; total time=  23.0s\n",
      "[CV] END colsample_bytree=0.8, max_depth=20, n_estimators=700, reg_alpha=1.2, reg_lambda=1.3, subsample=0.8; total time=  19.6s\n",
      "[CV] END colsample_bytree=0.8, max_depth=20, n_estimators=700, reg_alpha=1.2, reg_lambda=1.3, subsample=0.9; total time=  18.1s\n",
      "[CV] END colsample_bytree=0.8, max_depth=20, n_estimators=700, reg_alpha=1.3, reg_lambda=1.1, subsample=0.7; total time=  20.7s\n",
      "[CV] END colsample_bytree=0.8, max_depth=20, n_estimators=700, reg_alpha=1.3, reg_lambda=1.1, subsample=0.8; total time=  21.5s\n",
      "[CV] END colsample_bytree=0.8, max_depth=20, n_estimators=700, reg_alpha=1.3, reg_lambda=1.1, subsample=0.9; total time=  18.4s\n",
      "[CV] END colsample_bytree=0.8, max_depth=20, n_estimators=700, reg_alpha=1.3, reg_lambda=1.2, subsample=0.7; total time=  22.4s\n",
      "[CV] END colsample_bytree=0.8, max_depth=20, n_estimators=700, reg_alpha=1.3, reg_lambda=1.2, subsample=0.7; total time=  19.3s\n",
      "[CV] END colsample_bytree=0.8, max_depth=20, n_estimators=700, reg_alpha=1.3, reg_lambda=1.2, subsample=0.8; total time=  20.0s\n",
      "[CV] END colsample_bytree=0.8, max_depth=20, n_estimators=700, reg_alpha=1.3, reg_lambda=1.2, subsample=0.9; total time=  19.4s\n",
      "[CV] END colsample_bytree=0.8, max_depth=20, n_estimators=700, reg_alpha=1.3, reg_lambda=1.3, subsample=0.7; total time=  21.2s\n",
      "[CV] END colsample_bytree=0.8, max_depth=20, n_estimators=700, reg_alpha=1.3, reg_lambda=1.3, subsample=0.8; total time=  19.6s\n",
      "[CV] END colsample_bytree=0.8, max_depth=20, n_estimators=700, reg_alpha=1.3, reg_lambda=1.3, subsample=0.8; total time=  17.2s\n",
      "[CV] END colsample_bytree=0.8, max_depth=20, n_estimators=700, reg_alpha=1.3, reg_lambda=1.3, subsample=0.9; total time=  12.5s\n"
     ]
    },
    {
     "name": "stdout",
     "output_type": "stream",
     "text": [
      "[CV] END colsample_bytree=0.7, max_depth=20, n_estimators=700, reg_alpha=1.3, reg_lambda=1.2, subsample=0.8; total time=  17.3s\n",
      "[CV] END colsample_bytree=0.7, max_depth=20, n_estimators=700, reg_alpha=1.3, reg_lambda=1.2, subsample=0.8; total time=  14.9s\n",
      "[CV] END colsample_bytree=0.7, max_depth=20, n_estimators=700, reg_alpha=1.3, reg_lambda=1.2, subsample=0.9; total time=  14.6s\n",
      "[CV] END colsample_bytree=0.7, max_depth=20, n_estimators=700, reg_alpha=1.3, reg_lambda=1.3, subsample=0.7; total time=  18.4s\n",
      "[CV] END colsample_bytree=0.7, max_depth=20, n_estimators=700, reg_alpha=1.3, reg_lambda=1.3, subsample=0.8; total time=  18.5s\n",
      "[CV] END colsample_bytree=0.7, max_depth=20, n_estimators=700, reg_alpha=1.3, reg_lambda=1.3, subsample=0.9; total time=  14.9s\n",
      "[CV] END colsample_bytree=0.7, max_depth=20, n_estimators=700, reg_alpha=1.3, reg_lambda=1.3, subsample=0.9; total time=  12.8s\n",
      "[CV] END colsample_bytree=0.8, max_depth=15, n_estimators=400, reg_alpha=1.1, reg_lambda=1.1, subsample=0.7; total time=  15.1s\n",
      "[CV] END colsample_bytree=0.8, max_depth=15, n_estimators=400, reg_alpha=1.1, reg_lambda=1.1, subsample=0.8; total time=  14.4s\n",
      "[CV] END colsample_bytree=0.8, max_depth=15, n_estimators=400, reg_alpha=1.1, reg_lambda=1.1, subsample=0.9; total time=  13.0s\n",
      "[CV] END colsample_bytree=0.8, max_depth=15, n_estimators=400, reg_alpha=1.1, reg_lambda=1.2, subsample=0.7; total time=  15.8s\n",
      "[CV] END colsample_bytree=0.8, max_depth=15, n_estimators=400, reg_alpha=1.1, reg_lambda=1.2, subsample=0.7; total time=  14.3s\n",
      "[CV] END colsample_bytree=0.8, max_depth=15, n_estimators=400, reg_alpha=1.1, reg_lambda=1.2, subsample=0.8; total time=  14.1s\n",
      "[CV] END colsample_bytree=0.8, max_depth=15, n_estimators=400, reg_alpha=1.1, reg_lambda=1.2, subsample=0.9; total time=  11.9s\n",
      "[CV] END colsample_bytree=0.8, max_depth=15, n_estimators=400, reg_alpha=1.1, reg_lambda=1.3, subsample=0.7; total time=  15.4s\n",
      "[CV] END colsample_bytree=0.8, max_depth=15, n_estimators=400, reg_alpha=1.1, reg_lambda=1.3, subsample=0.8; total time=  15.9s\n",
      "[CV] END colsample_bytree=0.8, max_depth=15, n_estimators=400, reg_alpha=1.1, reg_lambda=1.3, subsample=0.8; total time=  12.2s\n",
      "[CV] END colsample_bytree=0.8, max_depth=15, n_estimators=400, reg_alpha=1.1, reg_lambda=1.3, subsample=0.9; total time=  12.3s\n",
      "[CV] END colsample_bytree=0.8, max_depth=15, n_estimators=400, reg_alpha=1.2, reg_lambda=1.1, subsample=0.7; total time=  14.2s\n",
      "[CV] END colsample_bytree=0.8, max_depth=15, n_estimators=400, reg_alpha=1.2, reg_lambda=1.1, subsample=0.8; total time=  14.4s\n",
      "[CV] END colsample_bytree=0.8, max_depth=15, n_estimators=400, reg_alpha=1.2, reg_lambda=1.1, subsample=0.9; total time=  11.9s\n",
      "[CV] END colsample_bytree=0.8, max_depth=15, n_estimators=400, reg_alpha=1.2, reg_lambda=1.2, subsample=0.7; total time=  15.5s\n",
      "[CV] END colsample_bytree=0.8, max_depth=15, n_estimators=400, reg_alpha=1.2, reg_lambda=1.2, subsample=0.7; total time=  14.2s\n",
      "[CV] END colsample_bytree=0.8, max_depth=15, n_estimators=400, reg_alpha=1.2, reg_lambda=1.2, subsample=0.8; total time=  14.7s\n",
      "[CV] END colsample_bytree=0.8, max_depth=15, n_estimators=400, reg_alpha=1.2, reg_lambda=1.2, subsample=0.9; total time=  12.0s\n",
      "[CV] END colsample_bytree=0.8, max_depth=15, n_estimators=400, reg_alpha=1.2, reg_lambda=1.3, subsample=0.7; total time=  15.0s\n",
      "[CV] END colsample_bytree=0.8, max_depth=15, n_estimators=400, reg_alpha=1.2, reg_lambda=1.3, subsample=0.8; total time=  14.1s\n",
      "[CV] END colsample_bytree=0.8, max_depth=15, n_estimators=400, reg_alpha=1.2, reg_lambda=1.3, subsample=0.8; total time=  13.8s\n",
      "[CV] END colsample_bytree=0.8, max_depth=15, n_estimators=400, reg_alpha=1.2, reg_lambda=1.3, subsample=0.9; total time=  12.2s\n",
      "[CV] END colsample_bytree=0.8, max_depth=15, n_estimators=400, reg_alpha=1.3, reg_lambda=1.1, subsample=0.7; total time=  15.2s\n",
      "[CV] END colsample_bytree=0.8, max_depth=15, n_estimators=400, reg_alpha=1.3, reg_lambda=1.1, subsample=0.8; total time=  13.6s\n",
      "[CV] END colsample_bytree=0.8, max_depth=15, n_estimators=400, reg_alpha=1.3, reg_lambda=1.1, subsample=0.9; total time=  11.8s\n",
      "[CV] END colsample_bytree=0.8, max_depth=15, n_estimators=400, reg_alpha=1.3, reg_lambda=1.1, subsample=0.9; total time=  11.0s\n",
      "[CV] END colsample_bytree=0.8, max_depth=15, n_estimators=400, reg_alpha=1.3, reg_lambda=1.2, subsample=0.7; total time=  13.7s\n",
      "[CV] END colsample_bytree=0.8, max_depth=15, n_estimators=400, reg_alpha=1.3, reg_lambda=1.2, subsample=0.8; total time=  15.4s\n",
      "[CV] END colsample_bytree=0.8, max_depth=15, n_estimators=400, reg_alpha=1.3, reg_lambda=1.2, subsample=0.9; total time=  15.0s\n",
      "[CV] END colsample_bytree=0.8, max_depth=15, n_estimators=400, reg_alpha=1.3, reg_lambda=1.3, subsample=0.7; total time=  16.7s\n",
      "[CV] END colsample_bytree=0.8, max_depth=15, n_estimators=400, reg_alpha=1.3, reg_lambda=1.3, subsample=0.7; total time=  14.2s\n",
      "[CV] END colsample_bytree=0.8, max_depth=15, n_estimators=400, reg_alpha=1.3, reg_lambda=1.3, subsample=0.8; total time=  12.9s\n",
      "[CV] END colsample_bytree=0.8, max_depth=15, n_estimators=400, reg_alpha=1.3, reg_lambda=1.3, subsample=0.9; total time=  11.7s\n",
      "[CV] END colsample_bytree=0.8, max_depth=15, n_estimators=700, reg_alpha=1.1, reg_lambda=1.1, subsample=0.7; total time=  24.0s\n",
      "[CV] END colsample_bytree=0.8, max_depth=15, n_estimators=700, reg_alpha=1.1, reg_lambda=1.1, subsample=0.8; total time=  21.7s\n",
      "[CV] END colsample_bytree=0.8, max_depth=15, n_estimators=700, reg_alpha=1.1, reg_lambda=1.1, subsample=0.8; total time=  18.7s\n",
      "[CV] END colsample_bytree=0.8, max_depth=15, n_estimators=700, reg_alpha=1.1, reg_lambda=1.1, subsample=0.9; total time=  14.4s\n",
      "[CV] END colsample_bytree=0.8, max_depth=15, n_estimators=700, reg_alpha=1.1, reg_lambda=1.2, subsample=0.7; total time=  23.6s\n",
      "[CV] END colsample_bytree=0.8, max_depth=15, n_estimators=700, reg_alpha=1.1, reg_lambda=1.2, subsample=0.8; total time=  25.1s\n",
      "[CV] END colsample_bytree=0.8, max_depth=15, n_estimators=700, reg_alpha=1.1, reg_lambda=1.2, subsample=0.8; total time=  19.3s\n",
      "[CV] END colsample_bytree=0.8, max_depth=15, n_estimators=700, reg_alpha=1.1, reg_lambda=1.2, subsample=0.9; total time=  17.8s\n",
      "[CV] END colsample_bytree=0.8, max_depth=15, n_estimators=700, reg_alpha=1.1, reg_lambda=1.3, subsample=0.7; total time=  27.6s\n",
      "[CV] END colsample_bytree=0.8, max_depth=15, n_estimators=700, reg_alpha=1.1, reg_lambda=1.3, subsample=0.8; total time=  23.8s\n",
      "[CV] END colsample_bytree=0.8, max_depth=15, n_estimators=700, reg_alpha=1.1, reg_lambda=1.3, subsample=0.9; total time=  20.7s\n",
      "[CV] END colsample_bytree=0.8, max_depth=15, n_estimators=700, reg_alpha=1.2, reg_lambda=1.1, subsample=0.7; total time=  25.6s\n",
      "[CV] END colsample_bytree=0.8, max_depth=15, n_estimators=700, reg_alpha=1.2, reg_lambda=1.1, subsample=0.7; total time=  19.9s\n",
      "[CV] END colsample_bytree=0.8, max_depth=15, n_estimators=700, reg_alpha=1.2, reg_lambda=1.1, subsample=0.8; total time=  23.0s\n",
      "[CV] END colsample_bytree=0.8, max_depth=15, n_estimators=700, reg_alpha=1.2, reg_lambda=1.1, subsample=0.9; total time=  20.8s\n",
      "[CV] END colsample_bytree=0.8, max_depth=15, n_estimators=700, reg_alpha=1.2, reg_lambda=1.2, subsample=0.7; total time=  25.1s\n",
      "[CV] END colsample_bytree=0.8, max_depth=15, n_estimators=700, reg_alpha=1.2, reg_lambda=1.2, subsample=0.8; total time=  23.1s\n",
      "[CV] END colsample_bytree=0.8, max_depth=15, n_estimators=700, reg_alpha=1.2, reg_lambda=1.2, subsample=0.8; total time=  20.1s\n",
      "[CV] END colsample_bytree=0.8, max_depth=15, n_estimators=700, reg_alpha=1.2, reg_lambda=1.2, subsample=0.9; total time=  18.4s\n",
      "[CV] END colsample_bytree=0.8, max_depth=15, n_estimators=700, reg_alpha=1.2, reg_lambda=1.3, subsample=0.7; total time=  23.4s\n",
      "[CV] END colsample_bytree=0.8, max_depth=15, n_estimators=700, reg_alpha=1.2, reg_lambda=1.3, subsample=0.8; total time=  23.2s\n",
      "[CV] END colsample_bytree=0.8, max_depth=15, n_estimators=700, reg_alpha=1.2, reg_lambda=1.3, subsample=0.9; total time=  18.3s\n",
      "[CV] END colsample_bytree=0.8, max_depth=15, n_estimators=700, reg_alpha=1.2, reg_lambda=1.3, subsample=0.9; total time=  15.8s\n",
      "[CV] END colsample_bytree=0.8, max_depth=15, n_estimators=700, reg_alpha=1.3, reg_lambda=1.1, subsample=0.7; total time=  21.5s\n",
      "[CV] END colsample_bytree=0.8, max_depth=15, n_estimators=700, reg_alpha=1.3, reg_lambda=1.1, subsample=0.8; total time=  22.1s\n",
      "[CV] END colsample_bytree=0.8, max_depth=15, n_estimators=700, reg_alpha=1.3, reg_lambda=1.1, subsample=0.9; total time=  17.6s\n",
      "[CV] END colsample_bytree=0.8, max_depth=15, n_estimators=700, reg_alpha=1.3, reg_lambda=1.1, subsample=0.9; total time=  15.2s\n",
      "[CV] END colsample_bytree=0.8, max_depth=15, n_estimators=700, reg_alpha=1.3, reg_lambda=1.2, subsample=0.7; total time=  22.0s\n",
      "[CV] END colsample_bytree=0.8, max_depth=15, n_estimators=700, reg_alpha=1.3, reg_lambda=1.2, subsample=0.8; total time=  21.5s\n",
      "[CV] END colsample_bytree=0.8, max_depth=15, n_estimators=700, reg_alpha=1.3, reg_lambda=1.2, subsample=0.9; total time=  20.1s\n",
      "[CV] END colsample_bytree=0.8, max_depth=15, n_estimators=700, reg_alpha=1.3, reg_lambda=1.3, subsample=0.7; total time=  23.2s\n",
      "[CV] END colsample_bytree=0.8, max_depth=15, n_estimators=700, reg_alpha=1.3, reg_lambda=1.3, subsample=0.7; total time=  19.5s\n",
      "[CV] END colsample_bytree=0.8, max_depth=15, n_estimators=700, reg_alpha=1.3, reg_lambda=1.3, subsample=0.8; total time=  19.9s\n",
      "[CV] END colsample_bytree=0.8, max_depth=15, n_estimators=700, reg_alpha=1.3, reg_lambda=1.3, subsample=0.9; total time=  16.4s\n",
      "[CV] END colsample_bytree=0.8, max_depth=20, n_estimators=400, reg_alpha=1.1, reg_lambda=1.1, subsample=0.7; total time=  15.6s\n",
      "[CV] END colsample_bytree=0.8, max_depth=20, n_estimators=400, reg_alpha=1.1, reg_lambda=1.1, subsample=0.8; total time=  14.6s\n",
      "[CV] END colsample_bytree=0.8, max_depth=20, n_estimators=400, reg_alpha=1.1, reg_lambda=1.1, subsample=0.8; total time=  12.4s\n",
      "[CV] END colsample_bytree=0.8, max_depth=20, n_estimators=400, reg_alpha=1.1, reg_lambda=1.1, subsample=0.9; total time=  11.7s\n",
      "[CV] END colsample_bytree=0.8, max_depth=20, n_estimators=400, reg_alpha=1.1, reg_lambda=1.2, subsample=0.7; total time=  15.9s\n",
      "[CV] END colsample_bytree=0.8, max_depth=20, n_estimators=400, reg_alpha=1.1, reg_lambda=1.2, subsample=0.8; total time=  14.6s\n",
      "[CV] END colsample_bytree=0.8, max_depth=20, n_estimators=400, reg_alpha=1.1, reg_lambda=1.2, subsample=0.9; total time=  14.2s\n",
      "[CV] END colsample_bytree=0.8, max_depth=20, n_estimators=400, reg_alpha=1.1, reg_lambda=1.2, subsample=0.9; total time=  10.6s\n",
      "[CV] END colsample_bytree=0.8, max_depth=20, n_estimators=400, reg_alpha=1.1, reg_lambda=1.3, subsample=0.7; total time=  16.3s\n",
      "[CV] END colsample_bytree=0.8, max_depth=20, n_estimators=400, reg_alpha=1.1, reg_lambda=1.3, subsample=0.8; total time=  16.3s\n",
      "[CV] END colsample_bytree=0.8, max_depth=20, n_estimators=400, reg_alpha=1.1, reg_lambda=1.3, subsample=0.9; total time=  13.2s\n",
      "[CV] END colsample_bytree=0.8, max_depth=20, n_estimators=400, reg_alpha=1.2, reg_lambda=1.1, subsample=0.7; total time=  15.3s\n",
      "[CV] END colsample_bytree=0.8, max_depth=20, n_estimators=400, reg_alpha=1.2, reg_lambda=1.1, subsample=0.7; total time=  12.8s\n",
      "[CV] END colsample_bytree=0.8, max_depth=20, n_estimators=400, reg_alpha=1.2, reg_lambda=1.1, subsample=0.8; total time=  14.3s\n",
      "[CV] END colsample_bytree=0.8, max_depth=20, n_estimators=400, reg_alpha=1.2, reg_lambda=1.1, subsample=0.9; total time=  12.6s\n",
      "[CV] END colsample_bytree=0.8, max_depth=20, n_estimators=400, reg_alpha=1.2, reg_lambda=1.2, subsample=0.7; total time=  17.6s\n",
      "[CV] END colsample_bytree=0.8, max_depth=20, n_estimators=400, reg_alpha=1.2, reg_lambda=1.2, subsample=0.8; total time=  15.0s\n",
      "[CV] END colsample_bytree=0.8, max_depth=20, n_estimators=400, reg_alpha=1.2, reg_lambda=1.2, subsample=0.8; total time=  11.9s\n",
      "[CV] END colsample_bytree=0.8, max_depth=20, n_estimators=400, reg_alpha=1.2, reg_lambda=1.2, subsample=0.9; total time=  11.8s\n",
      "[CV] END colsample_bytree=0.8, max_depth=20, n_estimators=400, reg_alpha=1.2, reg_lambda=1.3, subsample=0.7; total time=  14.4s\n",
      "[CV] END colsample_bytree=0.8, max_depth=20, n_estimators=400, reg_alpha=1.2, reg_lambda=1.3, subsample=0.8; total time=  14.4s\n",
      "[CV] END colsample_bytree=0.8, max_depth=20, n_estimators=400, reg_alpha=1.2, reg_lambda=1.3, subsample=0.9; total time=  11.7s\n",
      "[CV] END colsample_bytree=0.8, max_depth=20, n_estimators=400, reg_alpha=1.2, reg_lambda=1.3, subsample=0.9; total time=  11.0s\n",
      "[CV] END colsample_bytree=0.8, max_depth=20, n_estimators=400, reg_alpha=1.3, reg_lambda=1.1, subsample=0.7; total time=  14.0s\n",
      "[CV] END colsample_bytree=0.8, max_depth=20, n_estimators=400, reg_alpha=1.3, reg_lambda=1.1, subsample=0.8; total time=  16.8s\n",
      "[CV] END colsample_bytree=0.8, max_depth=20, n_estimators=400, reg_alpha=1.3, reg_lambda=1.1, subsample=0.9; total time=  18.7s\n",
      "[CV] END colsample_bytree=0.8, max_depth=20, n_estimators=400, reg_alpha=1.3, reg_lambda=1.2, subsample=0.7; total time=  19.6s\n",
      "[CV] END colsample_bytree=0.8, max_depth=20, n_estimators=400, reg_alpha=1.3, reg_lambda=1.2, subsample=0.7; total time=  13.8s\n",
      "[CV] END colsample_bytree=0.8, max_depth=20, n_estimators=400, reg_alpha=1.3, reg_lambda=1.2, subsample=0.8; total time=  13.8s\n",
      "[CV] END colsample_bytree=0.8, max_depth=20, n_estimators=400, reg_alpha=1.3, reg_lambda=1.2, subsample=0.9; total time=  12.3s\n",
      "[CV] END colsample_bytree=0.8, max_depth=20, n_estimators=400, reg_alpha=1.3, reg_lambda=1.3, subsample=0.7; total time=  15.0s\n",
      "[CV] END colsample_bytree=0.8, max_depth=20, n_estimators=400, reg_alpha=1.3, reg_lambda=1.3, subsample=0.8; total time=  14.8s\n",
      "[CV] END colsample_bytree=0.8, max_depth=20, n_estimators=400, reg_alpha=1.3, reg_lambda=1.3, subsample=0.8; total time=  12.1s\n",
      "[CV] END colsample_bytree=0.8, max_depth=20, n_estimators=400, reg_alpha=1.3, reg_lambda=1.3, subsample=0.9; total time=  12.4s\n",
      "[CV] END colsample_bytree=0.8, max_depth=20, n_estimators=700, reg_alpha=1.1, reg_lambda=1.1, subsample=0.7; total time=  26.1s\n",
      "[CV] END colsample_bytree=0.8, max_depth=20, n_estimators=700, reg_alpha=1.1, reg_lambda=1.1, subsample=0.8; total time=  25.4s\n",
      "[CV] END colsample_bytree=0.8, max_depth=20, n_estimators=700, reg_alpha=1.1, reg_lambda=1.1, subsample=0.9; total time=  21.6s\n",
      "[CV] END colsample_bytree=0.8, max_depth=20, n_estimators=700, reg_alpha=1.1, reg_lambda=1.1, subsample=0.9; total time=  17.4s\n",
      "[CV] END colsample_bytree=0.8, max_depth=20, n_estimators=700, reg_alpha=1.1, reg_lambda=1.2, subsample=0.7; total time=  28.2s\n",
      "[CV] END colsample_bytree=0.8, max_depth=20, n_estimators=700, reg_alpha=1.1, reg_lambda=1.2, subsample=0.8; total time=  24.7s\n",
      "[CV] END colsample_bytree=0.8, max_depth=20, n_estimators=700, reg_alpha=1.1, reg_lambda=1.2, subsample=0.8; total time=  22.6s\n",
      "[CV] END colsample_bytree=0.8, max_depth=20, n_estimators=700, reg_alpha=1.1, reg_lambda=1.2, subsample=0.9; total time=  18.6s\n",
      "[CV] END colsample_bytree=0.8, max_depth=20, n_estimators=700, reg_alpha=1.1, reg_lambda=1.3, subsample=0.7; total time=  28.9s\n",
      "[CV] END colsample_bytree=0.8, max_depth=20, n_estimators=700, reg_alpha=1.1, reg_lambda=1.3, subsample=0.8; total time=  24.3s\n",
      "[CV] END colsample_bytree=0.8, max_depth=20, n_estimators=700, reg_alpha=1.1, reg_lambda=1.3, subsample=0.9; total time=  19.5s\n",
      "[CV] END colsample_bytree=0.8, max_depth=20, n_estimators=700, reg_alpha=1.2, reg_lambda=1.1, subsample=0.7; total time=  23.5s\n",
      "[CV] END colsample_bytree=0.8, max_depth=20, n_estimators=700, reg_alpha=1.2, reg_lambda=1.1, subsample=0.7; total time=  24.2s\n",
      "[CV] END colsample_bytree=0.8, max_depth=20, n_estimators=700, reg_alpha=1.2, reg_lambda=1.1, subsample=0.8; total time=  21.2s\n",
      "[CV] END colsample_bytree=0.8, max_depth=20, n_estimators=700, reg_alpha=1.2, reg_lambda=1.1, subsample=0.9; total time=  19.4s\n",
      "[CV] END colsample_bytree=0.8, max_depth=20, n_estimators=700, reg_alpha=1.2, reg_lambda=1.2, subsample=0.7; total time=  23.5s\n",
      "[CV] END colsample_bytree=0.8, max_depth=20, n_estimators=700, reg_alpha=1.2, reg_lambda=1.2, subsample=0.8; total time=  23.4s\n",
      "[CV] END colsample_bytree=0.8, max_depth=20, n_estimators=700, reg_alpha=1.2, reg_lambda=1.2, subsample=0.8; total time=  18.9s\n",
      "[CV] END colsample_bytree=0.8, max_depth=20, n_estimators=700, reg_alpha=1.2, reg_lambda=1.2, subsample=0.9; total time=  17.6s\n",
      "[CV] END colsample_bytree=0.8, max_depth=20, n_estimators=700, reg_alpha=1.2, reg_lambda=1.3, subsample=0.7; total time=  26.3s\n",
      "[CV] END colsample_bytree=0.8, max_depth=20, n_estimators=700, reg_alpha=1.2, reg_lambda=1.3, subsample=0.8; total time=  23.6s\n",
      "[CV] END colsample_bytree=0.8, max_depth=20, n_estimators=700, reg_alpha=1.2, reg_lambda=1.3, subsample=0.9; total time=  20.1s\n",
      "[CV] END colsample_bytree=0.8, max_depth=20, n_estimators=700, reg_alpha=1.3, reg_lambda=1.1, subsample=0.7; total time=  22.1s\n",
      "[CV] END colsample_bytree=0.8, max_depth=20, n_estimators=700, reg_alpha=1.3, reg_lambda=1.1, subsample=0.7; total time=  18.5s\n",
      "[CV] END colsample_bytree=0.8, max_depth=20, n_estimators=700, reg_alpha=1.3, reg_lambda=1.1, subsample=0.8; total time=  19.4s\n",
      "[CV] END colsample_bytree=0.8, max_depth=20, n_estimators=700, reg_alpha=1.3, reg_lambda=1.1, subsample=0.9; total time=  17.4s\n",
      "[CV] END colsample_bytree=0.8, max_depth=20, n_estimators=700, reg_alpha=1.3, reg_lambda=1.2, subsample=0.7; total time=  22.4s\n",
      "[CV] END colsample_bytree=0.8, max_depth=20, n_estimators=700, reg_alpha=1.3, reg_lambda=1.2, subsample=0.8; total time=  20.1s\n",
      "[CV] END colsample_bytree=0.8, max_depth=20, n_estimators=700, reg_alpha=1.3, reg_lambda=1.2, subsample=0.8; total time=  17.7s\n",
      "[CV] END colsample_bytree=0.8, max_depth=20, n_estimators=700, reg_alpha=1.3, reg_lambda=1.2, subsample=0.9; total time=  18.9s\n",
      "[CV] END colsample_bytree=0.8, max_depth=20, n_estimators=700, reg_alpha=1.3, reg_lambda=1.3, subsample=0.7; total time=  20.8s\n",
      "[CV] END colsample_bytree=0.8, max_depth=20, n_estimators=700, reg_alpha=1.3, reg_lambda=1.3, subsample=0.8; total time=  21.1s\n",
      "[CV] END colsample_bytree=0.8, max_depth=20, n_estimators=700, reg_alpha=1.3, reg_lambda=1.3, subsample=0.9; total time=  16.9s\n",
      "[CV] END colsample_bytree=0.8, max_depth=20, n_estimators=700, reg_alpha=1.3, reg_lambda=1.3, subsample=0.9; total time=  10.3s\n"
     ]
    }
   ],
   "source": [
    "model_XG = XGBRegressor()\n",
    "param_grid = {\n",
    "    'n_estimators': [400, 700],\n",
    "    'colsample_bytree': [0.7, 0.8],\n",
    "    'max_depth': [15,20],\n",
    "    'reg_alpha': [1.1, 1.2, 1.3],\n",
    "    'reg_lambda': [1.1, 1.2, 1.3],\n",
    "    'subsample': [0.7, 0.8, 0.9]\n",
    "}\n",
    "\n",
    "model, pred = algorithm_pipeline(X_train, X_test, y_train, y_test, model_XG, \n",
    "                                 param_grid, cv=5)\n",
    "\n",
    "# Root Mean Squared Error\n",
    "print(np.sqrt(-model.best_score_))\n",
    "print(model.best_params_)"
   ]
  },
  {
   "cell_type": "code",
   "execution_count": 142,
   "metadata": {},
   "outputs": [
    {
     "data": {
      "text/plain": [
       "{'colsample_bytree': 0.7,\n",
       " 'max_depth': 20,\n",
       " 'n_estimators': 700,\n",
       " 'reg_alpha': 1.1,\n",
       " 'reg_lambda': 1.3,\n",
       " 'subsample': 0.9}"
      ]
     },
     "execution_count": 142,
     "metadata": {},
     "output_type": "execute_result"
    }
   ],
   "source": [
    "model.best_params_"
   ]
  },
  {
   "cell_type": "code",
   "execution_count": 175,
   "metadata": {},
   "outputs": [],
   "source": [
    "params = model.best_params_"
   ]
  },
  {
   "cell_type": "code",
   "execution_count": 143,
   "metadata": {},
   "outputs": [
    {
     "name": "stdout",
     "output_type": "stream",
     "text": [
      "0.7530695518698267\n"
     ]
    }
   ],
   "source": [
    "predict_test = model.predict(X_test)\n",
    "print(metrics.r2_score(y_test, predict_test))"
   ]
  },
  {
   "cell_type": "code",
   "execution_count": 145,
   "metadata": {},
   "outputs": [
    {
     "data": {
      "image/png": "[encoded data removed]",
      "text/plain": [
       "<Figure size 432x288 with 1 Axes>"
      ]
     },
     "metadata": {
      "needs_background": "light"
     },
     "output_type": "display_data"
    }
   ],
   "source": [
    "plt.scatter(y_test, predict_test)\n",
    "plt.xlabel('Actual Price')\n",
    "plt.ylabel('Predicted Price')\n",
    "plt.title('Actual vs  Predicted on Testing Data')\n",
    "plt.xlim([0,0.4])\n",
    "plt.ylim([0,0.4])\n",
    "plt.show()"
   ]
  },
  {
   "cell_type": "markdown",
   "metadata": {},
   "source": [
    "This score is with grid search. The accuracy with default parameters is only 60%"
   ]
  },
  {
   "cell_type": "code",
   "execution_count": 144,
   "metadata": {},
   "outputs": [
    {
     "name": "stdout",
     "output_type": "stream",
     "text": [
      "0.8263645524362884\n"
     ]
    }
   ],
   "source": [
    "predict_train = model.predict(X_train)\n",
    "print(metrics.r2_score(y_train, predict_train))"
   ]
  },
  {
   "cell_type": "markdown",
   "metadata": {},
   "source": [
    "This result is also for the model with grid search."
   ]
  },
  {
   "cell_type": "code",
   "execution_count": 152,
   "metadata": {
    "slideshow": {
     "slide_type": "fragment"
    }
   },
   "outputs": [
    {
     "data": {
      "text/plain": [
       "XGBRegressor(base_score=0.5, booster='gbtree', colsample_bylevel=1,\n",
       "             colsample_bynode=1, colsample_bytree=1, enable_categorical=False,\n",
       "             gamma=0, gpu_id=-1, importance_type=None,\n",
       "             interaction_constraints='', learning_rate=0.300000012,\n",
       "             max_delta_step=0, max_depth=6, min_child_weight=1, missing=nan,\n",
       "             monotone_constraints='()', n_estimators=100, n_jobs=4,\n",
       "             num_parallel_tree=1, predictor='auto', random_state=0, reg_alpha=0,\n",
       "             reg_lambda=1, scale_pos_weight=1, subsample=1, tree_method='exact',\n",
       "             validate_parameters=1, verbosity=None)"
      ]
     },
     "execution_count": 152,
     "metadata": {},
     "output_type": "execute_result"
    }
   ],
   "source": [
    "model_XG.fit(X_train, y_train)"
   ]
  },
  {
   "cell_type": "code",
   "execution_count": 154,
   "metadata": {},
   "outputs": [
    {
     "data": {
      "image/png": "[encoded data removed]",
      "text/plain": [
       "<Figure size 432x288 with 1 Axes>"
      ]
     },
     "metadata": {
      "needs_background": "light"
     },
     "output_type": "display_data"
    }
   ],
   "source": [
    "from xgboost import plot_importance\n",
    "plot_importance(model_XG)\n",
    "plt.show()"
   ]
  },
  {
   "cell_type": "code",
   "execution_count": 119,
   "metadata": {
    "slideshow": {
     "slide_type": "slide"
    }
   },
   "outputs": [],
   "source": [
    "predictions_train = model_XG.predict(X_train)"
   ]
  },
  {
   "cell_type": "code",
   "execution_count": 120,
   "metadata": {
    "slideshow": {
     "slide_type": "fragment"
    }
   },
   "outputs": [
    {
     "data": {
      "text/plain": [
       "0.9641121366811648"
      ]
     },
     "execution_count": 120,
     "metadata": {},
     "output_type": "execute_result"
    }
   ],
   "source": [
    "score_1 = metrics.r2_score(y_train, predictions_train)\n",
    "score_1"
   ]
  },
  {
   "cell_type": "code",
   "execution_count": 121,
   "metadata": {
    "slideshow": {
     "slide_type": "fragment"
    }
   },
   "outputs": [
    {
     "data": {
      "text/plain": [
       "0.0032516524287634968"
      ]
     },
     "execution_count": 121,
     "metadata": {},
     "output_type": "execute_result"
    }
   ],
   "source": [
    "score_2 = metrics.mean_absolute_error(y_train, predictions_train)\n",
    "score_2"
   ]
  },
  {
   "cell_type": "markdown",
   "metadata": {
    "slideshow": {
     "slide_type": "slide"
    }
   },
   "source": [
    "On test date:"
   ]
  },
  {
   "cell_type": "code",
   "execution_count": 122,
   "metadata": {
    "slideshow": {
     "slide_type": "fragment"
    }
   },
   "outputs": [],
   "source": [
    "predictions_test = model_XG.predict(X_test)"
   ]
  },
  {
   "cell_type": "code",
   "execution_count": 123,
   "metadata": {
    "slideshow": {
     "slide_type": "fragment"
    }
   },
   "outputs": [
    {
     "data": {
      "text/plain": [
       "0.6042727903085662"
      ]
     },
     "execution_count": 123,
     "metadata": {},
     "output_type": "execute_result"
    }
   ],
   "source": [
    "score_3 = metrics.r2_score(y_test, predictions_test)\n",
    "score_3"
   ]
  },
  {
   "cell_type": "code",
   "execution_count": 124,
   "metadata": {
    "slideshow": {
     "slide_type": "fragment"
    }
   },
   "outputs": [
    {
     "data": {
      "text/plain": [
       "0.004952915829229679"
      ]
     },
     "execution_count": 124,
     "metadata": {},
     "output_type": "execute_result"
    }
   ],
   "source": [
    "score_4 = metrics.mean_absolute_error(y_test, predictions_test)\n",
    "score_4"
   ]
  },
  {
   "cell_type": "code",
   "execution_count": 125,
   "metadata": {
    "slideshow": {
     "slide_type": "slide"
    }
   },
   "outputs": [
    {
     "data": {
      "image/png": "[encoded data removed]",
      "text/plain": [
       "<Figure size 432x288 with 1 Axes>"
      ]
     },
     "metadata": {
      "needs_background": "light"
     },
     "output_type": "display_data"
    }
   ],
   "source": [
    "plt.scatter(y_train, predictions_train)\n",
    "plt.xlabel('Actual Price')\n",
    "plt.ylabel('Predicted Price')\n",
    "plt.title('Actual vs  Predicted on Training Data')\n",
    "plt.show()"
   ]
  },
  {
   "cell_type": "code",
   "execution_count": 128,
   "metadata": {
    "slideshow": {
     "slide_type": "slide"
    }
   },
   "outputs": [
    {
     "data": {
      "image/png": "[encoded data removed]",
      "text/plain": [
       "<Figure size 432x288 with 1 Axes>"
      ]
     },
     "metadata": {
      "needs_background": "light"
     },
     "output_type": "display_data"
    }
   ],
   "source": [
    "plt.scatter(y_test, predictions_test)\n",
    "plt.xlabel('Actual Price')\n",
    "plt.ylabel('Predicted Price')\n",
    "plt.title('Actual vs  Predicted on Testing Data')\n",
    "plt.xlim([0,0.4])\n",
    "plt.ylim([0,0.4])\n",
    "plt.show()"
   ]
  },
  {
   "cell_type": "markdown",
   "metadata": {},
   "source": [
    "## Linear Regression"
   ]
  },
  {
   "cell_type": "code",
   "execution_count": 129,
   "metadata": {},
   "outputs": [],
   "source": [
    "from sklearn.linear_model import LinearRegression"
   ]
  },
  {
   "cell_type": "code",
   "execution_count": 134,
   "metadata": {},
   "outputs": [
    {
     "data": {
      "text/plain": [
       "LinearRegression()"
      ]
     },
     "execution_count": 134,
     "metadata": {},
     "output_type": "execute_result"
    }
   ],
   "source": [
    "model_lr = LinearRegression()\n",
    "model_lr.fit(X_train, y_train)"
   ]
  },
  {
   "cell_type": "code",
   "execution_count": 135,
   "metadata": {},
   "outputs": [
    {
     "name": "stdout",
     "output_type": "stream",
     "text": [
      "0.7072792312433829\n"
     ]
    }
   ],
   "source": [
    "r_sq_train = model_lr.score(X_train, y_train)\n",
    "print(r_sq_train)"
   ]
  },
  {
   "cell_type": "code",
   "execution_count": 146,
   "metadata": {},
   "outputs": [
    {
     "name": "stdout",
     "output_type": "stream",
     "text": [
      "0.6658590893028797\n"
     ]
    }
   ],
   "source": [
    "y_pred_test = model_lr.predict(X_test)\n",
    "r_sq_test = model_lr.score(X_test, y_test)\n",
    "print(r_sq_test)"
   ]
  },
  {
   "cell_type": "code",
   "execution_count": 149,
   "metadata": {},
   "outputs": [
    {
     "data": {
      "image/png": "[encoded data removed]",
      "text/plain": [
       "<Figure size 432x288 with 1 Axes>"
      ]
     },
     "metadata": {
      "needs_background": "light"
     },
     "output_type": "display_data"
    }
   ],
   "source": [
    "## The line / model\n",
    "plt.scatter(y_test, y_pred_test)\n",
    "plt.xlabel('True Values')\n",
    "plt.ylabel('Predictions')\n",
    "plt.xlim([0,0.2])\n",
    "plt.ylim([0,0.2])\n",
    "plt.show()"
   ]
  },
  {
   "cell_type": "markdown",
   "metadata": {
    "slideshow": {
     "slide_type": "skip"
    }
   },
   "source": [
    "# Conclusion\n",
    "“What this says to me is that we need to stop over-applying technology in an effort to replace humans, and instead focus on applying technology to make humans better,” York Baur from MoxiWorks."
   ]
  },
  {
   "cell_type": "code",
   "execution_count": null,
   "metadata": {},
   "outputs": [],
   "source": []
  }
 ],
 "metadata": {
  "celltoolbar": "Slideshow",
  "kernelspec": {
   "display_name": "Python 3 (ipykernel)",
   "language": "python",
   "name": "python3"
  },
  "language_info": {
   "codemirror_mode": {
    "name": "ipython",
    "version": 3
   },
   "file_extension": ".py",
   "mimetype": "text/x-python",
   "name": "python",
   "nbconvert_exporter": "python",
   "pygments_lexer": "ipython3",
   "version": "3.9.7"
  }
 },
 "nbformat": 4,
 "nbformat_minor": 4
}
